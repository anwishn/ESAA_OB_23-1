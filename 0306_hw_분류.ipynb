{
  "cells": [
    {
      "cell_type": "markdown",
      "metadata": {
        "id": "view-in-github",
        "colab_type": "text"
      },
      "source": [
        "<a href=\"https://colab.research.google.com/github/anwishn/ESAA_OB_23-1/blob/main/0306_hw_%EB%B6%84%EB%A5%98.ipynb\" target=\"_parent\"><img src=\"https://colab.research.google.com/assets/colab-badge.svg\" alt=\"Open In Colab\"/></a>"
      ]
    },
    {
      "cell_type": "markdown",
      "metadata": {
        "id": "_bE3-beOKBGH"
      },
      "source": [
        "핸즈온 머신러닝 텐서플로 3장 분류 p.127-154"
      ]
    },
    {
      "cell_type": "markdown",
      "metadata": {
        "id": "uyrkd4F-KGVb"
      },
      "source": [
        "# Chapter 3. 분류"
      ]
    },
    {
      "cell_type": "markdown",
      "metadata": {
        "id": "kVbN0HPMKS_k"
      },
      "source": [
        "## 3.1 MNIST\n",
        "\n",
        "MNIST : 고등학생과 미국 인구조사국 직원들이 손으로 쓴 70,000개의 작은 숫자 이미지"
      ]
    },
    {
      "cell_type": "code",
      "execution_count": null,
      "metadata": {
        "colab": {
          "base_uri": "https://localhost:8080/"
        },
        "id": "ul4sR7L6J5OV",
        "outputId": "64f3c4ce-ce5d-4908-b7fa-85e3b12b747b"
      },
      "outputs": [
        {
          "output_type": "stream",
          "name": "stderr",
          "text": [
            "/usr/local/lib/python3.9/dist-packages/sklearn/datasets/_openml.py:932: FutureWarning: The default value of `parser` will change from `'liac-arff'` to `'auto'` in 1.4. You can set `parser='auto'` to silence this warning. Therefore, an `ImportError` will be raised from 1.4 if the dataset is dense and pandas is not installed. Note that the pandas parser may return different data types. See the Notes Section in fetch_openml's API doc for details.\n",
            "  warn(\n"
          ]
        },
        {
          "output_type": "execute_result",
          "data": {
            "text/plain": [
              "dict_keys(['data', 'target', 'frame', 'categories', 'feature_names', 'target_names', 'DESCR', 'details', 'url'])"
            ]
          },
          "metadata": {},
          "execution_count": 1
        }
      ],
      "source": [
        "from sklearn.datasets import fetch_openml\n",
        "mnist = fetch_openml('mnist_784', version=1, as_frame = False)\n",
        "mnist.keys()"
      ]
    },
    {
      "cell_type": "markdown",
      "metadata": {
        "id": "lDmX1dgNLSb3"
      },
      "source": [
        "=> 일반적으로 비슷한 딕셔너리 구조 가져.\n",
        "\n",
        "> * 데이터셋 설명하는 DESCR 키\n",
        "> * 샘플이 하나의 행, 특성이 하나의 열로 구성된 배열을 가진 data 키\n",
        "> * 레이블 배열을 담은 target 키\n"
      ]
    },
    {
      "cell_type": "code",
      "execution_count": null,
      "metadata": {
        "colab": {
          "base_uri": "https://localhost:8080/"
        },
        "id": "p5j_iUuqLltv",
        "outputId": "bc323bb8-349b-4a04-ab56-a18f12ce4901"
      },
      "outputs": [
        {
          "output_type": "stream",
          "name": "stdout",
          "text": [
            "(70000, 784)\n",
            "(70000,)\n"
          ]
        }
      ],
      "source": [
        "X, y = mnist[\"data\"], mnist[\"target\"]\n",
        "print(X.shape)\n",
        "print(y.shape)"
      ]
    },
    {
      "cell_type": "markdown",
      "metadata": {
        "id": "mZ98DR8FL0BH"
      },
      "source": [
        "=> 이미지 70,000개. 각 이미지에는 784개의 특성\n",
        "\n",
        "=> 이미지가 28x28 픽셀. 개개의 특성은 0(흰색)부터 255(검은색)까지의 픽셀 강도"
      ]
    },
    {
      "cell_type": "code",
      "execution_count": null,
      "metadata": {
        "colab": {
          "base_uri": "https://localhost:8080/",
          "height": 248
        },
        "id": "azQypjdbMViQ",
        "outputId": "57eb6478-b94f-4eb5-aa28-db107f0deaac"
      },
      "outputs": [
        {
          "output_type": "display_data",
          "data": {
            "text/plain": [
              "<Figure size 432x288 with 1 Axes>"
            ],
            "image/png": "[encoded data removed]"
          },
          "metadata": {
            "needs_background": "light"
          }
        }
      ],
      "source": [
        "# 데이터셋에서 이미지 하나 확인\n",
        "import matplotlib as mpl\n",
        "import matplotlib.pyplot as plt\n",
        "\n",
        "some_digit = X[0]\n",
        "some_digit_image = some_digit.reshape(28,28)\n",
        "\n",
        "plt.imshow(some_digit_image, cmap=\"binary\")\n",
        "plt.axis(\"off\")\n",
        "plt.show()"
      ]
    },
    {
      "cell_type": "code",
      "execution_count": null,
      "metadata": {
        "colab": {
          "base_uri": "https://localhost:8080/",
          "height": 36
        },
        "id": "y_JVCPHaNqkF",
        "outputId": "cec46d09-724a-493f-9706-c96e62570f10"
      },
      "outputs": [
        {
          "output_type": "execute_result",
          "data": {
            "text/plain": [
              "'5'"
            ],
            "application/vnd.google.colaboratory.intrinsic+json": {
              "type": "string"
            }
          },
          "metadata": {},
          "execution_count": 4
        }
      ],
      "source": [
        "# 실제 레이블 확인\n",
        "y[0]"
      ]
    },
    {
      "cell_type": "code",
      "execution_count": null,
      "metadata": {
        "id": "LOCwH5acOOuS"
      },
      "outputs": [],
      "source": [
        "# 대부분 머신러닝 알고리즘은 숫자 기대 -> 정수로 변환\n",
        "import numpy as np\n",
        "import pandas as pd\n",
        "\n",
        "y = y.astype(np.uint8)"
      ]
    },
    {
      "cell_type": "markdown",
      "metadata": {
        "id": "cNWLLMzbOjgT"
      },
      "source": [
        "* 항상 테스트 세트 만들고 훈련 세트와 따로 떼어놓아야해. 훈련 세트는 이미 섞여 있어 모든 교차 검증 폴드를 비슷하게 만들어줘 -> 성능 나빠지는 문제 방지"
      ]
    },
    {
      "cell_type": "code",
      "execution_count": null,
      "metadata": {
        "id": "UEpss0eFjvbj"
      },
      "outputs": [],
      "source": [
        "X_train, X_test, y_train, y_test = X[:60000], X[60000:], y[:60000], y[60000:]"
      ]
    },
    {
      "cell_type": "markdown",
      "metadata": {
        "id": "Tl0KFnrfO1H6"
      },
      "source": [
        "## 3.2 이진 분류기 훈련\n",
        "\n",
        "이진 분류기 : 두 개의 클래스 구분"
      ]
    },
    {
      "cell_type": "code",
      "execution_count": null,
      "metadata": {
        "id": "txSxNuf8PLtf"
      },
      "outputs": [],
      "source": [
        "# 타깃 벡터\n",
        "y_train_5 = (y_train == 5)\n",
        "y_test_5 = (y_test == 5)"
      ]
    },
    {
      "cell_type": "markdown",
      "metadata": {
        "id": "eb1OUNphPiw6"
      },
      "source": [
        "* 사이킷런의 **SGDClassifier** 클래스 사용해 **확률적 경사 하강법(SGD)** Stochastic Gradient Descent 분류기로 시작\n",
        " + 매우 큰 데이터셋 효율적으로 처리(한 번에 하나씩 훈련 샘플 독립적 처리)\n",
        " + 훈련하는 데 무작위성 사용 -> 결과 재현하려면 random_state 매개변수 지정"
      ]
    },
    {
      "cell_type": "code",
      "execution_count": null,
      "metadata": {
        "colab": {
          "base_uri": "https://localhost:8080/",
          "height": 74
        },
        "id": "keXD1zSQPTwr",
        "outputId": "bac37260-10c6-45b2-e117-be4509dedc01"
      },
      "outputs": [
        {
          "output_type": "execute_result",
          "data": {
            "text/plain": [
              "SGDClassifier(random_state=42)"
            ],
            "text/html": [
              "<style>#sk-container-id-1 {color: black;background-color: white;}#sk-container-id-1 pre{padding: 0;}#sk-container-id-1 div.sk-toggleable {background-color: white;}#sk-container-id-1 label.sk-toggleable__label {cursor: pointer;display: block;width: 100%;margin-bottom: 0;padding: 0.3em;box-sizing: border-box;text-align: center;}#sk-container-id-1 label.sk-toggleable__label-arrow:before {content: \"▸\";float: left;margin-right: 0.25em;color: #696969;}#sk-container-id-1 label.sk-toggleable__label-arrow:hover:before {color: black;}#sk-container-id-1 div.sk-estimator:hover label.sk-toggleable__label-arrow:before {color: black;}#sk-container-id-1 div.sk-toggleable__content {max-height: 0;max-width: 0;overflow: hidden;text-align: left;background-color: #f0f8ff;}#sk-container-id-1 div.sk-toggleable__content pre {margin: 0.2em;color: black;border-radius: 0.25em;background-color: #f0f8ff;}#sk-container-id-1 input.sk-toggleable__control:checked~div.sk-toggleable__content {max-height: 200px;max-width: 100%;overflow: auto;}#sk-container-id-1 input.sk-toggleable__control:checked~label.sk-toggleable__label-arrow:before {content: \"▾\";}#sk-container-id-1 div.sk-estimator input.sk-toggleable__control:checked~label.sk-toggleable__label {background-color: #d4ebff;}#sk-container-id-1 div.sk-label input.sk-toggleable__control:checked~label.sk-toggleable__label {background-color: #d4ebff;}#sk-container-id-1 input.sk-hidden--visually {border: 0;clip: rect(1px 1px 1px 1px);clip: rect(1px, 1px, 1px, 1px);height: 1px;margin: -1px;overflow: hidden;padding: 0;position: absolute;width: 1px;}#sk-container-id-1 div.sk-estimator {font-family: monospace;background-color: #f0f8ff;border: 1px dotted black;border-radius: 0.25em;box-sizing: border-box;margin-bottom: 0.5em;}#sk-container-id-1 div.sk-estimator:hover {background-color: #d4ebff;}#sk-container-id-1 div.sk-parallel-item::after {content: \"\";width: 100%;border-bottom: 1px solid gray;flex-grow: 1;}#sk-container-id-1 div.sk-label:hover label.sk-toggleable__label {background-color: #d4ebff;}#sk-container-id-1 div.sk-serial::before {content: \"\";position: absolute;border-left: 1px solid gray;box-sizing: border-box;top: 0;bottom: 0;left: 50%;z-index: 0;}#sk-container-id-1 div.sk-serial {display: flex;flex-direction: column;align-items: center;background-color: white;padding-right: 0.2em;padding-left: 0.2em;position: relative;}#sk-container-id-1 div.sk-item {position: relative;z-index: 1;}#sk-container-id-1 div.sk-parallel {display: flex;align-items: stretch;justify-content: center;background-color: white;position: relative;}#sk-container-id-1 div.sk-item::before, #sk-container-id-1 div.sk-parallel-item::before {content: \"\";position: absolute;border-left: 1px solid gray;box-sizing: border-box;top: 0;bottom: 0;left: 50%;z-index: -1;}#sk-container-id-1 div.sk-parallel-item {display: flex;flex-direction: column;z-index: 1;position: relative;background-color: white;}#sk-container-id-1 div.sk-parallel-item:first-child::after {align-self: flex-end;width: 50%;}#sk-container-id-1 div.sk-parallel-item:last-child::after {align-self: flex-start;width: 50%;}#sk-container-id-1 div.sk-parallel-item:only-child::after {width: 0;}#sk-container-id-1 div.sk-dashed-wrapped {border: 1px dashed gray;margin: 0 0.4em 0.5em 0.4em;box-sizing: border-box;padding-bottom: 0.4em;background-color: white;}#sk-container-id-1 div.sk-label label {font-family: monospace;font-weight: bold;display: inline-block;line-height: 1.2em;}#sk-container-id-1 div.sk-label-container {text-align: center;}#sk-container-id-1 div.sk-container {/* jupyter's `normalize.less` sets `[hidden] { display: none; }` but bootstrap.min.css set `[hidden] { display: none !important; }` so we also need the `!important` here to be able to override the default hidden behavior on the sphinx rendered scikit-learn.org. See: https://github.com/scikit-learn/scikit-learn/issues/21755 */display: inline-block !important;position: relative;}#sk-container-id-1 div.sk-text-repr-fallback {display: none;}</style><div id=\"sk-container-id-1\" class=\"sk-top-container\"><div class=\"sk-text-repr-fallback\"><pre>SGDClassifier(random_state=42)</pre><b>In a Jupyter environment, please rerun this cell to show the HTML representation or trust the notebook. <br />On GitHub, the HTML representation is unable to render, please try loading this page with nbviewer.org.</b></div><div class=\"sk-container\" hidden><div class=\"sk-item\"><div class=\"sk-estimator sk-toggleable\"><input class=\"sk-toggleable__control sk-hidden--visually\" id=\"sk-estimator-id-1\" type=\"checkbox\" checked><label for=\"sk-estimator-id-1\" class=\"sk-toggleable__label sk-toggleable__label-arrow\">SGDClassifier</label><div class=\"sk-toggleable__content\"><pre>SGDClassifier(random_state=42)</pre></div></div></div></div></div>"
            ]
          },
          "metadata": {},
          "execution_count": 8
        }
      ],
      "source": [
        "from sklearn.linear_model import SGDClassifier\n",
        "\n",
        "sgd_clf = SGDClassifier(random_state=42)\n",
        "sgd_clf.fit(X_train, y_train_5)"
      ]
    },
    {
      "cell_type": "code",
      "execution_count": null,
      "metadata": {
        "colab": {
          "base_uri": "https://localhost:8080/"
        },
        "id": "qDMTJz5GP7RM",
        "outputId": "04a1b0fb-fea9-4a30-af19-6a970de6b566"
      },
      "outputs": [
        {
          "output_type": "execute_result",
          "data": {
            "text/plain": [
              "array([ True])"
            ]
          },
          "metadata": {},
          "execution_count": 9
        }
      ],
      "source": [
        "sgd_clf.predict([some_digit])"
      ]
    },
    {
      "cell_type": "markdown",
      "metadata": {
        "id": "guKdW_BPQBxx"
      },
      "source": [
        "## 3.3 성능 측정"
      ]
    },
    {
      "cell_type": "markdown",
      "metadata": {
        "id": "oEEvQ1K2QFff"
      },
      "source": [
        "### 3.3.1 교차 검증을 사용한 정확도 측정\n",
        "\n",
        "교차 검증 => 사이킷런의 **cross_val_score()**"
      ]
    },
    {
      "cell_type": "markdown",
      "metadata": {
        "id": "B3tAIY-yRrZ_"
      },
      "source": [
        "StratifiedKFold : 클래스별 비율이 유지되도록 폴드를 만들기 위해 계층적 샘플링 수행. 매 반복에서 분류기 객체를 복제하여 훈련 폴드로 훈련시키고 테스트 폴드로 예측 만들어 -> 올바른 예측의 수를 세어 정확한 예측의 비율 출력"
      ]
    },
    {
      "cell_type": "code",
      "execution_count": null,
      "metadata": {
        "colab": {
          "base_uri": "https://localhost:8080/"
        },
        "id": "N-Fnw-8eQntR",
        "outputId": "7bf41fce-03e3-4530-8372-b05f0ba20e06"
      },
      "outputs": [
        {
          "output_type": "stream",
          "name": "stdout",
          "text": [
            "0.9669\n",
            "0.91625\n",
            "0.96785\n"
          ]
        }
      ],
      "source": [
        "from sklearn.model_selection import StratifiedKFold\n",
        "from sklearn.base import clone\n",
        "\n",
        "skfolds = StratifiedKFold(n_splits=3, random_state=42, shuffle=True)\n",
        "\n",
        "for train_index, test_index in skfolds.split(X_train, y_train_5):\n",
        "  clone_clf = clone(sgd_clf)\n",
        "  X_train_folds = X_train[train_index]\n",
        "  y_train_folds = y_train_5[train_index]\n",
        "  X_test_fold = X_train[test_index]\n",
        "  y_test_fold = y_train_5[test_index]\n",
        "\n",
        "  clone_clf.fit(X_train_folds, y_train_folds)\n",
        "  y_pred = clone_clf.predict(X_test_fold)\n",
        "  n_correct = sum(y_pred == y_test_fold)\n",
        "  print(n_correct / len(y_pred))"
      ]
    },
    {
      "cell_type": "markdown",
      "metadata": {
        "id": "7Ulw8FFFSkBK"
      },
      "source": [
        "cross_val_score() 함수로 폴드가 3개인 k-겹 교차 검증 사용해 SGDClassifier 모델 평가"
      ]
    },
    {
      "cell_type": "code",
      "execution_count": null,
      "metadata": {
        "colab": {
          "base_uri": "https://localhost:8080/"
        },
        "id": "HAM98bGnS0m1",
        "outputId": "64fe3d81-0069-48b6-ec23-fcd50cfa3a59"
      },
      "outputs": [
        {
          "output_type": "execute_result",
          "data": {
            "text/plain": [
              "array([0.95035, 0.96035, 0.9604 ])"
            ]
          },
          "metadata": {},
          "execution_count": 11
        }
      ],
      "source": [
        "from sklearn.model_selection import cross_val_score\n",
        "cross_val_score(sgd_clf, X_train, y_train_5, cv=3, scoring=\"accuracy\")"
      ]
    },
    {
      "cell_type": "markdown",
      "metadata": {
        "id": "_GgMCpbiTCKI"
      },
      "source": [
        "=> 모든 교차 검증 폴드에 대해 정확도가 95% 이상"
      ]
    },
    {
      "cell_type": "markdown",
      "metadata": {
        "id": "2_lZvU2PTFsq"
      },
      "source": [
        "모든 이미지를 '5 아님' 클래스로 분류하는 더미 분류기를 만들어 비교"
      ]
    },
    {
      "cell_type": "code",
      "execution_count": null,
      "metadata": {
        "id": "NGZxNgj3TK1F"
      },
      "outputs": [],
      "source": [
        "from sklearn.base import BaseEstimator\n",
        "\n",
        "class Never5Classifier(BaseEstimator):\n",
        "  def fit(self, X, y=None):\n",
        "    return self\n",
        "  def predict(self, X):\n",
        "    return np.zeros((len(X),1),dtype=bool)"
      ]
    },
    {
      "cell_type": "code",
      "execution_count": null,
      "metadata": {
        "colab": {
          "base_uri": "https://localhost:8080/"
        },
        "id": "L4F9LzxbTbAX",
        "outputId": "c9d37bad-7b0b-4d5d-d06e-6cc90a1b65f0"
      },
      "outputs": [
        {
          "output_type": "execute_result",
          "data": {
            "text/plain": [
              "array([0.91125, 0.90855, 0.90915])"
            ]
          },
          "metadata": {},
          "execution_count": 13
        }
      ],
      "source": [
        "never_5_clf = Never5Classifier()\n",
        "cross_val_score(never_5_clf, X_train, y_train_5, cv=3, scoring=\"accuracy\")"
      ]
    },
    {
      "cell_type": "markdown",
      "metadata": {
        "id": "qjCFAUSATz0Z"
      },
      "source": [
        "=> 정확도가 90% 이상.\n",
        "\n",
        "=> 정확도를 분류기의 성능 측정 지표로 선호하지 않는 이유 보여줘. 특히 불균형한 데이터셋 다룰 때."
      ]
    },
    {
      "cell_type": "markdown",
      "metadata": {
        "id": "K9z75ZxCT6_h"
      },
      "source": [
        "### 3.3.2 오차 행렬\n",
        "\n",
        "**오차 행렬** : 클래스 A의 샘플이 클래스 B로 분류된 횟수를 세는 것\n",
        "\n",
        "실제 타깃과 비교할 수 있도록 먼저 예측값을 만들어야해(테스트 세트 사용x) -> **cross_val_predict()** 함수 사용\n",
        "\n",
        ": k-겹 교차 검증을 수행하지만 평가 점수를 반환하지 않고 각 테스트 폴드에서 얻은 예측 반환 -> 훈련 세트의 모든 샘플에 대해 깨끗한 예측 얻어"
      ]
    },
    {
      "cell_type": "code",
      "execution_count": null,
      "metadata": {
        "id": "riQRlY1-UU6e"
      },
      "outputs": [],
      "source": [
        "from sklearn.model_selection import cross_val_predict\n",
        "\n",
        "y_train_pred = cross_val_predict(sgd_clf, X_train, y_train_5, cv=3)"
      ]
    },
    {
      "cell_type": "markdown",
      "metadata": {
        "id": "wn6x9Ye5VGSu"
      },
      "source": [
        "**confusion_matrix()** 함수 사용해 오차 행렬 만들어 : 타깃 클래스와 예측 클래스 넣고 호출."
      ]
    },
    {
      "cell_type": "code",
      "execution_count": null,
      "metadata": {
        "colab": {
          "base_uri": "https://localhost:8080/"
        },
        "id": "OE24cySFVMIr",
        "outputId": "fa971eea-a95c-44ef-d9ca-920ed411dddd"
      },
      "outputs": [
        {
          "output_type": "execute_result",
          "data": {
            "text/plain": [
              "array([[53892,   687],\n",
              "       [ 1891,  3530]])"
            ]
          },
          "metadata": {},
          "execution_count": 15
        }
      ],
      "source": [
        "from sklearn.metrics import confusion_matrix\n",
        "confusion_matrix(y_train_5, y_train_pred)"
      ]
    },
    {
      "cell_type": "markdown",
      "metadata": {
        "id": "kNhFEUySVSkh"
      },
      "source": [
        "오차 행렬의 행 = 실제 클래스. 열 = 예측한 클래스\n",
        "\n",
        "* 첫 번째 행 = 음성 클래스('5 아님' 이미지)\n",
        "  + 53892개 진짜 음성('5 아님'으로 정확 분류)\n",
        "  + 687개 거짓 양성('5'라고 잘못 분류)\n",
        "* 두 번째 행 = 양성 클래스('5' 이미지)\n",
        "  + 1891개 거짓 음성('5 아님' 잘못 분류)\n",
        "  + 3530개 진짜 양성('5'라고 정확 분류)\n",
        "\n",
        "=> 완벽한 분류기라면 진짜 양성과 진짜 음성만 가지고 있어 -> 오차 행렬의 주대각선만 0이 아닌 값"
      ]
    },
    {
      "cell_type": "code",
      "execution_count": null,
      "metadata": {
        "colab": {
          "base_uri": "https://localhost:8080/"
        },
        "id": "zmwR2dp3WTsV",
        "outputId": "9cb1ff6c-7f30-49d6-971d-516cd27fa87a"
      },
      "outputs": [
        {
          "output_type": "execute_result",
          "data": {
            "text/plain": [
              "array([[54579,     0],\n",
              "       [    0,  5421]])"
            ]
          },
          "metadata": {},
          "execution_count": 16
        }
      ],
      "source": [
        "y_train_perfect_predictions = y_train_5\n",
        "confusion_matrix(y_train_5, y_train_perfect_predictions)"
      ]
    },
    {
      "cell_type": "markdown",
      "metadata": {
        "id": "6Oz040KUW2gM"
      },
      "source": [
        "**정밀도** : 양성 예측의 정확도. TP/(TP+FP). TP : 진짜 양성 수. FP : 거짓 양성 수\n",
        "\n",
        "**재현율=민감도** : 분류기가 정확하게 감지한 양성 샘플의 비율. TP/(TP+FN). FN : 거짓 음성 수"
      ]
    },
    {
      "cell_type": "markdown",
      "metadata": {
        "id": "HsJdHksJXwnC"
      },
      "source": [
        "### 3.3.3 정밀도와 재현율"
      ]
    },
    {
      "cell_type": "code",
      "execution_count": null,
      "metadata": {
        "colab": {
          "base_uri": "https://localhost:8080/"
        },
        "id": "x_LMWbcuW2G6",
        "outputId": "40484846-6ddd-415f-906f-a84db232a97b"
      },
      "outputs": [
        {
          "output_type": "execute_result",
          "data": {
            "text/plain": [
              "0.6511713705958311"
            ]
          },
          "metadata": {},
          "execution_count": 17
        }
      ],
      "source": [
        "from sklearn.metrics import precision_score, recall_score\n",
        "precision_score(y_train_5, y_train_pred)\n",
        "recall_score(y_train_5, y_train_pred)"
      ]
    },
    {
      "cell_type": "markdown",
      "metadata": {
        "id": "1iLjVFJqYH8_"
      },
      "source": [
        "=> 5로 판별된 이미지 중 72.9%만 정확. 전체 숫자 5에서 75.6%만 감지"
      ]
    },
    {
      "cell_type": "markdown",
      "metadata": {
        "id": "1wSixmPhYNrc"
      },
      "source": [
        "**F1 점수** : 정밀도와 재현율의 조화 평균. F1 = 2/(1/정밀도+1/재현율).**f1_score()** 함수 호출."
      ]
    },
    {
      "cell_type": "code",
      "execution_count": null,
      "metadata": {
        "colab": {
          "base_uri": "https://localhost:8080/"
        },
        "id": "AXiQL4NIZUPS",
        "outputId": "299d732c-afe8-416a-a540-792e57bdda82"
      },
      "outputs": [
        {
          "output_type": "execute_result",
          "data": {
            "text/plain": [
              "0.7325171197343846"
            ]
          },
          "metadata": {},
          "execution_count": 18
        }
      ],
      "source": [
        "from sklearn.metrics import f1_score\n",
        "f1_score(y_train_5, y_train_pred)"
      ]
    },
    {
      "cell_type": "markdown",
      "metadata": {
        "id": "jMHNM14HZ-Fz"
      },
      "source": [
        "정밀도와 재현율이 비슷한 분류기에서는 F1 점수가 높다. \n",
        "\n",
        "상황에 따라 정밀도가 중요할 수도 있고, 재현율이 중요할 수도 있다. -> 정밀도/재현율 트레이드오프"
      ]
    },
    {
      "cell_type": "markdown",
      "metadata": {
        "id": "5MGwR9gPaS6a"
      },
      "source": [
        "### 3.3.4 정밀도/재현율 트레이드오프\n",
        "\n",
        "SGDClassifier는 결정 함수를 사용하여 각 샘플의 점수 계산 -> 임곗값보다 크면 샘플을 양성 클래스에 할당. 그렇지 않으면 음성 클래스에 할당.\n",
        "\n",
        "사이킷런에서 임곗값을 직접 지정할 수는 없지만 예측에 사용한 점수는 확인 가능.\n",
        "\n",
        "분류기의 **decision_function()**메서드 호출 -> 각 샘플의 점수 얻어 -> 원하는 임곗값 정해 예측 만들 수 o."
      ]
    },
    {
      "cell_type": "code",
      "execution_count": null,
      "metadata": {
        "id": "tJWwCnb7eAX4"
      },
      "outputs": [],
      "source": [
        "y_scores = sgd_clf.decision_function([some_digit])\n",
        "y_scores\n",
        "threshold = 0\n",
        "y_some_digit_pred = (y_scores > threshold)"
      ]
    },
    {
      "cell_type": "code",
      "execution_count": null,
      "metadata": {
        "colab": {
          "base_uri": "https://localhost:8080/"
        },
        "id": "XQfjif7Pwt1u",
        "outputId": "f0290532-130c-44b8-d0c5-8ba68eebf755"
      },
      "outputs": [
        {
          "output_type": "execute_result",
          "data": {
            "text/plain": [
              "array([False])"
            ]
          },
          "metadata": {},
          "execution_count": 20
        }
      ],
      "source": [
        "threshold = 8000\n",
        "y_some_digit_pred = (y_scores > threshold)\n",
        "y_some_digit_pred"
      ]
    },
    {
      "cell_type": "markdown",
      "metadata": {
        "id": "-L-cCMOfw0mX"
      },
      "source": [
        "=> 임곗값을 높이면 재현율이 줄어든다\n",
        "\n",
        "=> 적절한 임곗값을 어떻게 정할 수 있을까? \n",
        "\n",
        "**cross_val_predict()** 함수 사용해 훈련 세트에 있는 모든 샘플의 점수 구해"
      ]
    },
    {
      "cell_type": "code",
      "execution_count": null,
      "metadata": {
        "id": "TVDGcyJYxPhU"
      },
      "outputs": [],
      "source": [
        "y_scores = cross_val_predict(sgd_clf, X_train, y_train_5, cv=3, method=\"decision_function\") # 예측 결과가 아니라 결정 점수를 반환받도록 지정"
      ]
    },
    {
      "cell_type": "markdown",
      "metadata": {
        "id": "WhZLCPdtxem1"
      },
      "source": [
        "**precision_recall_curve()** 함수 사용해 가능한 모든 임곗값에 대해 정밀도와 재현율 계산"
      ]
    },
    {
      "cell_type": "code",
      "execution_count": null,
      "metadata": {
        "id": "YLy7k28oxoIb"
      },
      "outputs": [],
      "source": [
        "from sklearn.metrics import precision_recall_curve\n",
        "precisions, recalls, thresholds = precision_recall_curve(y_train_5, y_scores)"
      ]
    },
    {
      "cell_type": "code",
      "execution_count": null,
      "metadata": {
        "colab": {
          "base_uri": "https://localhost:8080/",
          "height": 265
        },
        "id": "RxQjhGvUxziz",
        "outputId": "06169488-69ba-48d2-bfa3-5ac31c7b4205"
      },
      "outputs": [
        {
          "output_type": "display_data",
          "data": {
            "text/plain": [
              "<Figure size 432x288 with 1 Axes>"
            ],
            "image/png": "[encoded data removed]"
          },
          "metadata": {
            "needs_background": "light"
          }
        }
      ],
      "source": [
        "def plot_precision_recall_vs_threshold(precisions, recalls, thresholds):\n",
        "  plt.plot(thresholds, precisions[:-1], \"b--\", label=\"정밀도\")\n",
        "  plt.plot(thresholds, recalls[:-1], \"g--\", label=\"재현율\")\n",
        "\n",
        "plot_precision_recall_vs_threshold(precisions, recalls, thresholds)\n",
        "plt.show()"
      ]
    },
    {
      "cell_type": "code",
      "execution_count": null,
      "metadata": {
        "colab": {
          "base_uri": "https://localhost:8080/"
        },
        "id": "2gmsdanx2O2F",
        "outputId": "d0edcf62-0b1f-4ecc-9946-51e86aa71d60"
      },
      "outputs": [
        {
          "output_type": "execute_result",
          "data": {
            "text/plain": [
              "0.4799852425751706"
            ]
          },
          "metadata": {},
          "execution_count": 24
        }
      ],
      "source": [
        "threshold_90_precision = thresholds[np.argmax(precisions >= 0.90)]  # ~7816\n",
        "y_train_pred_90 = (y_scores >= threshold_90_precision)\n",
        "precision_score(y_train_5, y_train_pred_90)\n",
        "recall_score(y_train_5, y_train_pred_90)"
      ]
    },
    {
      "cell_type": "markdown",
      "metadata": {
        "id": "V-tIEkdVxcnn"
      },
      "source": [
        "### 3.3.5 ROC 곡선\n",
        "\n",
        "**ROC 곡선** : 거짓 양성 비율(FPR)에 대한 진짜 양성 비율(TPR). 민감도(재현율)에 대한 1-특이도 그래프\n",
        "\n",
        "**roc_curve()** 함수 사용해 여러 임곗값에서 TPR과 FPR 계산"
      ]
    },
    {
      "cell_type": "code",
      "execution_count": null,
      "metadata": {
        "id": "RuEUIE553PF_"
      },
      "outputs": [],
      "source": [
        "from sklearn.metrics import roc_curve\n",
        "fpr, tpr, thresholds = roc_curve(y_train_5, y_scores)"
      ]
    },
    {
      "cell_type": "code",
      "execution_count": null,
      "metadata": {
        "colab": {
          "base_uri": "https://localhost:8080/",
          "height": 265
        },
        "id": "BmhmH2f23Xds",
        "outputId": "a3f6213b-6fe5-47d8-b15f-5cf378b08754"
      },
      "outputs": [
        {
          "output_type": "display_data",
          "data": {
            "text/plain": [
              "<Figure size 432x288 with 1 Axes>"
            ],
            "image/png": "[encoded data removed]"
          },
          "metadata": {
            "needs_background": "light"
          }
        }
      ],
      "source": [
        "def plot_roc_curve(fpr, tpr, label=None):\n",
        "  plt.plot(fpr, tpr, linewidth=2, label=label)\n",
        "  plt.plot([0,1], [0,1], 'k--')  # 대각 점선\n",
        "  # 축 이름, 그리드 추가\n",
        "\n",
        "plot_roc_curve(fpr, tpr)\n",
        "plt.show()"
      ]
    },
    {
      "cell_type": "markdown",
      "metadata": {
        "id": "diavD4dc3zjf"
      },
      "source": [
        "=> 재현율(TPR)이 높을수록 분류기가 만드는 거짓 양성(FPR) 늘어나. 점선은 완전한 랜덤 분류기의 ROC 곡선. 좋은 분류기는 이 점선에서 최대한 멀리 떨어져 있어야해(왼쪽 위 모서리)\n",
        "\n",
        "=> 곡선 아래의 면적(AUC) 측정해 분류기들 비교 **roc_auc_score**"
      ]
    },
    {
      "cell_type": "code",
      "execution_count": null,
      "metadata": {
        "colab": {
          "base_uri": "https://localhost:8080/"
        },
        "id": "lEvPyl-K4KyW",
        "outputId": "8fa33bb1-7567-4aa8-def0-4ef6d03acf94"
      },
      "outputs": [
        {
          "output_type": "execute_result",
          "data": {
            "text/plain": [
              "0.9604938554008616"
            ]
          },
          "metadata": {},
          "execution_count": 27
        }
      ],
      "source": [
        "from sklearn.metrics import roc_auc_score\n",
        "roc_auc_score(y_train_5, y_scores)"
      ]
    },
    {
      "cell_type": "markdown",
      "metadata": {
        "id": "ymY0GyDf4m8L"
      },
      "source": [
        "RandomForestClassifier 훈련시켜 SGDClassifier의 ROC 곡선과 ROC AUC 점수 비교 \n",
        "\n",
        "but decision_function() 메서드 없고 대신 predict_proba() 메서드 o.\n",
        "\n",
        "-> **predict_proba()**메서드 : 샘플이 행, 클래스가 열이고 샘플이 주어진 클래스에 속할 확률을 담은 배열 반환"
      ]
    },
    {
      "cell_type": "code",
      "execution_count": null,
      "metadata": {
        "id": "59hm0og645I4"
      },
      "outputs": [],
      "source": [
        "from sklearn.ensemble import RandomForestClassifier\n",
        "\n",
        "forest_clf = RandomForestClassifier(random_state=42)\n",
        "y_probas_forest = cross_val_predict(forest_clf, X_train, y_train_5, cv=3, method=\"predict_proba\")"
      ]
    },
    {
      "cell_type": "code",
      "execution_count": null,
      "metadata": {
        "id": "Mfw20hYa5Wtf"
      },
      "outputs": [],
      "source": [
        "y_scores_forest = y_probas_forest[:,1]  # 양성 클래스에 대한 확률을 점수로 사용합니다.\n",
        "fpr_forest, tpr_forest, thresholds_forest = roc_curve(y_train_5, y_scores_forest)"
      ]
    },
    {
      "cell_type": "code",
      "execution_count": null,
      "metadata": {
        "colab": {
          "base_uri": "https://localhost:8080/",
          "height": 509
        },
        "id": "6Usp0m0G5jAC",
        "outputId": "69c4cf0f-5d7b-48f8-ecba-46f85f9876b4"
      },
      "outputs": [
        {
          "output_type": "stream",
          "name": "stderr",
          "text": [
            "/usr/local/lib/python3.9/dist-packages/IPython/core/pylabtools.py:128: UserWarning: Glyph 47004 (\\N{HANGUL SYLLABLE RAEN}) missing from current font.\n",
            "  fig.canvas.print_figure(bytes_io, **kw)\n",
            "/usr/local/lib/python3.9/dist-packages/IPython/core/pylabtools.py:128: UserWarning: Glyph 45924 (\\N{HANGUL SYLLABLE DEOM}) missing from current font.\n",
            "  fig.canvas.print_figure(bytes_io, **kw)\n",
            "/usr/local/lib/python3.9/dist-packages/IPython/core/pylabtools.py:128: UserWarning: Glyph 54252 (\\N{HANGUL SYLLABLE PO}) missing from current font.\n",
            "  fig.canvas.print_figure(bytes_io, **kw)\n",
            "/usr/local/lib/python3.9/dist-packages/IPython/core/pylabtools.py:128: UserWarning: Glyph 47112 (\\N{HANGUL SYLLABLE RE}) missing from current font.\n",
            "  fig.canvas.print_figure(bytes_io, **kw)\n",
            "/usr/local/lib/python3.9/dist-packages/IPython/core/pylabtools.py:128: UserWarning: Glyph 49828 (\\N{HANGUL SYLLABLE SEU}) missing from current font.\n",
            "  fig.canvas.print_figure(bytes_io, **kw)\n",
            "/usr/local/lib/python3.9/dist-packages/IPython/core/pylabtools.py:128: UserWarning: Glyph 53944 (\\N{HANGUL SYLLABLE TEU}) missing from current font.\n",
            "  fig.canvas.print_figure(bytes_io, **kw)\n"
          ]
        },
        {
          "output_type": "display_data",
          "data": {
            "text/plain": [
              "<Figure size 432x288 with 1 Axes>"
            ],
            "image/png": "[encoded data removed]"
          },
          "metadata": {
            "needs_background": "light"
          }
        }
      ],
      "source": [
        "plt.plot(fpr, tpr, \"b:\", label=\"SGD\")\n",
        "plot_roc_curve(fpr_forest, tpr_forest, \"랜덤 포레스트\")\n",
        "plt.legend(loc=\"lower right\")\n",
        "plt.show()"
      ]
    },
    {
      "cell_type": "markdown",
      "metadata": {
        "id": "VLvfhZ_H52NT"
      },
      "source": [
        "=> RandomForestClassifier의 ROC 곡선이 왼쪽 위 모서리에 더 가까워 SGDClassifier보다 훨씬 좋아 보여. ROC AUC 점수도 훨씬 높아."
      ]
    },
    {
      "cell_type": "code",
      "execution_count": null,
      "metadata": {
        "colab": {
          "base_uri": "https://localhost:8080/"
        },
        "id": "gQYGocDP5v-Y",
        "outputId": "dca67e21-6204-44de-aa5a-dc7966082f69"
      },
      "outputs": [
        {
          "output_type": "execute_result",
          "data": {
            "text/plain": [
              "0.9983436731328145"
            ]
          },
          "metadata": {},
          "execution_count": 31
        }
      ],
      "source": [
        "roc_auc_score(y_train_5, y_scores_forest)"
      ]
    },
    {
      "cell_type": "markdown",
      "metadata": {
        "id": "i8I0FF_E5-5a"
      },
      "source": [
        "## 3.4 다중 분류\n",
        "\n",
        "일부 알고리즘(SGD 분류기, 랜덤 포레스트 분류기, 나이브 베이즈 분류기..)은 여러 개의 클래스 직접 처리 가능/ 다른 알고리즘(로지스틱 회귀나 서포트 벡터 머신 분류기..)은 이진 분류만 가능.\n",
        "\n",
        "* **OvR** 또는 **OvA** : ex) 특정 숫자 하나만 구분하는 숫자별 이진 분류기 10개(0에서부터 9까지)를 훈련시켜 클래스가 10개인 숫자 이미지 분류 시스템\n",
        "\n",
        "* **OvO** : ex) 각 숫자의 조합마다 이진 분류기를 훈련시키는 것\n",
        "  + 클래스가 N개라면 분류기는 Nx(N-1)/2개 필요\n",
        "  + 주요 장점 : 각 분류기의 훈련에 전체 훈련 세트 중 구별할 두 클래스에 해당하는 샘플만 필요하다는 것.\n",
        "\n",
        "* 일부 알고리즘(서포트 벡터 머신..)은 훈련 세트의 크기에 민감 -> 작은 훈련 세트에서 많은 분류기를 훈련시키는 쪽이 빨라 -> OvO 선호\n",
        "* 대부분의 이진 분류 알고리즘에서는 OvR 선호.\n"
      ]
    },
    {
      "cell_type": "code",
      "execution_count": null,
      "metadata": {
        "colab": {
          "base_uri": "https://localhost:8080/"
        },
        "id": "7WkQ7CA1LjfJ",
        "outputId": "e732202a-490b-493f-ba6b-be5560cd5426"
      },
      "outputs": [
        {
          "output_type": "execute_result",
          "data": {
            "text/plain": [
              "array([5], dtype=uint8)"
            ]
          },
          "metadata": {},
          "execution_count": 32
        }
      ],
      "source": [
        "# sklearn.svm.SVC 클래스 사용해 서포트 벡터 머신 분류기 테스트\n",
        "from sklearn.svm import SVC\n",
        "svm_clf = SVC()\n",
        "svm_clf.fit(X_train, y_train)  # y_train_5가 아니고 y_train을 사용합니다.\n",
        "svm_clf.predict([some_digit])"
      ]
    },
    {
      "cell_type": "markdown",
      "metadata": {
        "id": "wFkZXE7HMgnh"
      },
      "source": [
        "=> 내부에서는 사이킷런이 OvO 전략 사용해 10개의 이진 분류기를 훈련시키고 각각의 결정 점수를 얻어 점수가 가장 높은 클래스 선택할 것."
      ]
    },
    {
      "cell_type": "code",
      "execution_count": null,
      "metadata": {
        "colab": {
          "base_uri": "https://localhost:8080/"
        },
        "id": "_hpUXCUmL0bI",
        "outputId": "5be8a7d2-4076-4095-83fc-cf00e716c317"
      },
      "outputs": [
        {
          "output_type": "execute_result",
          "data": {
            "text/plain": [
              "array([[ 1.72501977,  2.72809088,  7.2510018 ,  8.3076379 , -0.31087254,\n",
              "         9.3132482 ,  1.70975103,  2.76765202,  6.23049537,  4.84771048]])"
            ]
          },
          "metadata": {},
          "execution_count": 33
        }
      ],
      "source": [
        "# decision_function() 메서드 호출하면 샘플당 10개의 점수 반환. 클래스마다 하나씩.\n",
        "some_digit_scores = svm_clf.decision_function([some_digit])\n",
        "some_digit_scores"
      ]
    },
    {
      "cell_type": "code",
      "execution_count": null,
      "metadata": {
        "colab": {
          "base_uri": "https://localhost:8080/"
        },
        "id": "S7KJf5yHMMeR",
        "outputId": "8dd7705a-bad5-4409-f61a-4af7a5e13666"
      },
      "outputs": [
        {
          "output_type": "execute_result",
          "data": {
            "text/plain": [
              "5"
            ]
          },
          "metadata": {},
          "execution_count": 34
        }
      ],
      "source": [
        "np.argmax(some_digit_scores)\n",
        "svm_clf.classes_\n",
        "svm_clf.classes_[5]"
      ]
    },
    {
      "cell_type": "markdown",
      "metadata": {
        "id": "tyAuZw-hMsvE"
      },
      "source": [
        "사이킷런에서 OvO나 OvR을 사용하도록 강제하려면 **OneVsOneClassifier**나 **OneVsRestClassifier** 사용"
      ]
    },
    {
      "cell_type": "code",
      "execution_count": null,
      "metadata": {
        "colab": {
          "base_uri": "https://localhost:8080/"
        },
        "id": "qhiF1N_NM60M",
        "outputId": "984d2688-262d-4433-e2f4-b59da5b79e78"
      },
      "outputs": [
        {
          "output_type": "execute_result",
          "data": {
            "text/plain": [
              "10"
            ]
          },
          "metadata": {},
          "execution_count": 35
        }
      ],
      "source": [
        "from sklearn.multiclass import OneVsRestClassifier\n",
        "ovr_clf = OneVsRestClassifier(SVC())\n",
        "ovr_clf.fit(X_train, y_train)\n",
        "ovr_clf.predict([some_digit])\n",
        "len(ovr_clf.estimators_)"
      ]
    },
    {
      "cell_type": "code",
      "execution_count": null,
      "metadata": {
        "id": "k2joF19yNJLb",
        "colab": {
          "base_uri": "https://localhost:8080/"
        },
        "outputId": "291830fd-e7ef-4d89-8e07-468669f90740"
      },
      "outputs": [
        {
          "output_type": "execute_result",
          "data": {
            "text/plain": [
              "array([3], dtype=uint8)"
            ]
          },
          "metadata": {},
          "execution_count": 36
        }
      ],
      "source": [
        "sgd_clf.fit(X_train, y_train)\n",
        "sgd_clf.predict([some_digit])"
      ]
    },
    {
      "cell_type": "markdown",
      "metadata": {
        "id": "3TksUg9MNXMz"
      },
      "source": [
        "=> SVD 분류기는 직접 샘플을 다중 클래스로 분류할 수 있기 때문에 별도로 사이킷런의 OvR이나 OvO 적용할 필요x.\n",
        "\n",
        "=> decision_function() 메서드는 클래스마다 하나의 값 반환."
      ]
    },
    {
      "cell_type": "code",
      "execution_count": null,
      "metadata": {
        "id": "cyD-6tbWNi4O",
        "colab": {
          "base_uri": "https://localhost:8080/"
        },
        "outputId": "957b1c92-fba3-4f0b-9c92-f215fcd9f0b8"
      },
      "outputs": [
        {
          "data": {
            "text/plain": [
              "array([[-31893.03095419, -34419.69069632,  -9530.63950739,\n",
              "          1823.73154031, -22320.14822878,  -1385.80478895,\n",
              "        -26188.91070951, -16147.51323997,  -4604.35491274,\n",
              "        -12050.767298  ]])"
            ]
          },
          "execution_count": 37,
          "metadata": {},
          "output_type": "execute_result"
        }
      ],
      "source": [
        "sgd_clf.decision_function([some_digit])"
      ]
    },
    {
      "cell_type": "markdown",
      "metadata": {
        "id": "2cvtx1dWNzkq"
      },
      "source": [
        "=> 분류기가 예측 결과에 강한 확신 보이고 있음. 대부분의 점수가 큰 음수."
      ]
    },
    {
      "cell_type": "code",
      "execution_count": null,
      "metadata": {
        "id": "5sNHHkqDN4lH",
        "colab": {
          "base_uri": "https://localhost:8080/"
        },
        "outputId": "f4ead5e9-f8d4-435c-ccff-4ddbee4be447"
      },
      "outputs": [
        {
          "output_type": "execute_result",
          "data": {
            "text/plain": [
              "array([0.87365, 0.85835, 0.8689 ])"
            ]
          },
          "metadata": {},
          "execution_count": 38
        }
      ],
      "source": [
        "cross_val_score(sgd_clf, X_train, y_train, cv=3, scoring=\"accuracy\")"
      ]
    },
    {
      "cell_type": "markdown",
      "metadata": {
        "id": "3PV0LcScN-pT"
      },
      "source": [
        "=> 모든 테스트 폴드에서 84% 이상. 성능 더 높일 여지o."
      ]
    },
    {
      "cell_type": "code",
      "execution_count": null,
      "metadata": {
        "id": "sq_eqmfROGrt",
        "colab": {
          "base_uri": "https://localhost:8080/"
        },
        "outputId": "f013a7cd-1e41-4053-83e2-abc4df209b76"
      },
      "outputs": [
        {
          "output_type": "execute_result",
          "data": {
            "text/plain": [
              "array([0.8983, 0.891 , 0.9018])"
            ]
          },
          "metadata": {},
          "execution_count": 39
        }
      ],
      "source": [
        "from sklearn.preprocessing import StandardScaler\n",
        "scaler = StandardScaler()\n",
        "X_train_scaled = scaler.fit_transform(X_train.astype(np.float64))\n",
        "cross_val_score(sgd_clf, X_train_scaled, y_train, cv=3, scoring=\"accuracy\")"
      ]
    },
    {
      "cell_type": "markdown",
      "metadata": {
        "id": "Zy43j0tfOYOI"
      },
      "source": [
        "## 3.5 에러 분석\n",
        "\n",
        "모델 성능 향상시킬 방법 -> 에러의 종류 분석\n",
        "\n",
        "cross_val_predict() 함수 사용해 예측 만들고 confusion_matrix() 함수 호출"
      ]
    },
    {
      "cell_type": "code",
      "execution_count": null,
      "metadata": {
        "id": "jIb2pi2sOwCw",
        "colab": {
          "base_uri": "https://localhost:8080/"
        },
        "outputId": "e8a2d5e8-e3db-48c1-c3bb-38704a23fb2b"
      },
      "outputs": [
        {
          "output_type": "execute_result",
          "data": {
            "text/plain": [
              "array([[5577,    0,   22,    5,    8,   43,   36,    6,  225,    1],\n",
              "       [   0, 6400,   37,   24,    4,   44,    4,    7,  212,   10],\n",
              "       [  27,   27, 5220,   92,   73,   27,   67,   36,  378,   11],\n",
              "       [  22,   17,  117, 5227,    2,  203,   27,   40,  403,   73],\n",
              "       [  12,   14,   41,    9, 5182,   12,   34,   27,  347,  164],\n",
              "       [  27,   15,   30,  168,   53, 4444,   75,   14,  535,   60],\n",
              "       [  30,   15,   42,    3,   44,   97, 5552,    3,  131,    1],\n",
              "       [  21,   10,   51,   30,   49,   12,    3, 5684,  195,  210],\n",
              "       [  17,   63,   48,   86,    3,  126,   25,   10, 5429,   44],\n",
              "       [  25,   18,   30,   64,  118,   36,    1,  179,  371, 5107]])"
            ]
          },
          "metadata": {},
          "execution_count": 40
        }
      ],
      "source": [
        "y_train_pred = cross_val_predict(sgd_clf, X_train_scaled, y_train, cv=3)\n",
        "conf_mx = confusion_matrix(y_train, y_train_pred)\n",
        "conf_mx"
      ]
    },
    {
      "cell_type": "markdown",
      "metadata": {
        "id": "FScZQP9hO_3s"
      },
      "source": [
        "오차 행렬을 맷플롯립의 matshow() 함수 사용해 이미지로 표현"
      ]
    },
    {
      "cell_type": "code",
      "execution_count": null,
      "metadata": {
        "id": "Uyfx0AHJPFaQ",
        "colab": {
          "base_uri": "https://localhost:8080/",
          "height": 275
        },
        "outputId": "8ab9b380-396d-4abb-8e99-39f3937a3283"
      },
      "outputs": [
        {
          "output_type": "display_data",
          "data": {
            "text/plain": [
              "<Figure size 288x288 with 1 Axes>"
            ],
            "image/png": "[encoded data removed]"
          },
          "metadata": {
            "needs_background": "light"
          }
        }
      ],
      "source": [
        "plt.matshow(conf_mx, cmap=plt.cm.gray)\n",
        "plt.show()"
      ]
    },
    {
      "cell_type": "markdown",
      "metadata": {
        "id": "KgR1gMpdPQa7"
      },
      "source": [
        "=> 대부분의 이미지가 올바르게 분류되었음을 나타내는 주대각선에 있어 좋아보여.\n",
        "\n",
        "=> 숫자 5는 조금 더 어두워보여. 데이터셋에 숫자 5의 이미지가 적거나 분류기가 숫자 5를 다른 숫자만큼 잘 분류하지 못하다는 뜻."
      ]
    },
    {
      "cell_type": "code",
      "execution_count": null,
      "metadata": {
        "id": "iXCTe6ATP3ZI"
      },
      "outputs": [],
      "source": [
        "# 에러 비율 비교\n",
        "row_sums = conf_mx.sum(axis=1, keepdims=True)\n",
        "norm_conf_mx = conf_mx / row_sums"
      ]
    },
    {
      "cell_type": "code",
      "execution_count": null,
      "metadata": {
        "id": "IFHF3YRvQA4R",
        "colab": {
          "base_uri": "https://localhost:8080/",
          "height": 275
        },
        "outputId": "7a8e3ada-a486-4778-a686-709c9dc6bc7e"
      },
      "outputs": [
        {
          "output_type": "display_data",
          "data": {
            "text/plain": [
              "<Figure size 288x288 with 1 Axes>"
            ],
            "image/png": "[encoded data removed]"
          },
          "metadata": {
            "needs_background": "light"
          }
        }
      ],
      "source": [
        "np.fill_diagonal(norm_conf_mx, 0)\n",
        "plt.matshow(norm_conf_mx, cmap=plt.cm.gray)\n",
        "plt.show()"
      ]
    },
    {
      "cell_type": "markdown",
      "metadata": {
        "id": "u4E0MtwdQeCh"
      },
      "source": [
        "=> 행은 실제 클래스. 열은 예측한 클래스./ 오차 행렬은 반드시 대칭인 것x.\n",
        "\n",
        "=> 오차 행렬 분석하면 분류기의 성능 향상 방안에 대한 통찰 얻을 수 있어."
      ]
    },
    {
      "cell_type": "code",
      "source": [
        "# 숫자 그림을 위한 함수\n",
        "def plot_digits(instances, images_per_row=10, **options):\n",
        "    size = 28\n",
        "    images_per_row = min(len(instances), images_per_row)\n",
        "    # n_rows = ceil(len(instances) / images_per_row) 와 동일\n",
        "    n_rows = (len(instances) - 1) // images_per_row + 1\n",
        "\n",
        "    # 필요하면 그리드 끝을 채우기 위해 빈 이미지를 추가\n",
        "    n_empty = n_rows * images_per_row - len(instances)\n",
        "    padded_instances = np.concatenate([instances, np.zeros((n_empty, size * size))], axis=0)\n",
        "\n",
        "    # 배열의 크기를 바꾸어 28×28 이미지를 담은 그리드로 구성\n",
        "    image_grid = padded_instances.reshape((n_rows, images_per_row, size, size))\n",
        "\n",
        "    # 축 0(이미지 그리드의 수직축)과 2(이미지의 수직축)를 합치고 축 1과 3(두 수평축)을 합침\n",
        "    # 먼저 transpose()를 사용해 결합하려는 축을 옆으로 이동한 다음 합침\n",
        "    big_image = image_grid.transpose(0, 2, 1, 3).reshape(n_rows * size,\n",
        "                                                         images_per_row * size)\n",
        "    # 하나의 큰 이미지를 얻었으므로 출력\n",
        "    plt.imshow(big_image, cmap = mpl.cm.binary, **options)\n",
        "    plt.axis(\"off\")"
      ],
      "metadata": {
        "id": "tJATGWZyffUd"
      },
      "execution_count": null,
      "outputs": []
    },
    {
      "cell_type": "code",
      "source": [
        "cl_a, cl_b = 3, 5\n",
        "X_aa = X_train[(y_train == cl_a) & (y_train_pred == cl_a)]\n",
        "X_ab = X_train[(y_train == cl_a) & (y_train_pred == cl_b)]\n",
        "X_ba = X_train[(y_train == cl_b) & (y_train_pred == cl_a)]\n",
        "X_bb = X_train[(y_train == cl_b) & (y_train_pred == cl_b)]\n",
        "\n",
        "plt.figure(figsize=(8,8))\n",
        "plt.subplot(221); plot_digits(X_aa[:25], images_per_row=5)\n",
        "plt.subplot(222); plot_digits(X_ab[:25], images_per_row=5)\n",
        "plt.subplot(223); plot_digits(X_ba[:25], images_per_row=5)\n",
        "plt.subplot(224); plot_digits(X_bb[:25], images_per_row=5)\n",
        "plt.show()"
      ],
      "metadata": {
        "colab": {
          "base_uri": "https://localhost:8080/",
          "height": 466
        },
        "id": "WJOLhlYmglln",
        "outputId": "c2b565d3-a031-4e2f-8eec-0289aa40aa1a"
      },
      "execution_count": null,
      "outputs": [
        {
          "output_type": "display_data",
          "data": {
            "text/plain": [
              "<Figure size 576x576 with 4 Axes>"
            ],
            "image/png": "[encoded data removed]"
          },
          "metadata": {
            "needs_background": "light"
          }
        }
      ]
    },
    {
      "cell_type": "markdown",
      "metadata": {
        "id": "mukBZn23WmxF"
      },
      "source": [
        "=> 분류기가 이미지의 위치나 회전 방향에 매우 민감 -> 이미지를 중앙에 위치시키고 회전되어 있지 않도록 전처리하는 것 -> 다른 에러도 줄어들 것."
      ]
    },
    {
      "cell_type": "markdown",
      "metadata": {
        "id": "RhhgGDm7bkra"
      },
      "source": [
        "## 3.6 다중 레이블 분류\n",
        "\n",
        "다중 레이블 분류 시스템 : 여러 개의 이진 꼬리표를 출력하는 분류 시스템"
      ]
    },
    {
      "cell_type": "code",
      "execution_count": null,
      "metadata": {
        "id": "yRKjylC5by4v",
        "colab": {
          "base_uri": "https://localhost:8080/"
        },
        "outputId": "36c263f0-9159-437a-d92f-b4817ef01c70"
      },
      "outputs": [
        {
          "output_type": "execute_result",
          "data": {
            "text/plain": [
              "array([[False,  True]])"
            ]
          },
          "metadata": {},
          "execution_count": 53
        }
      ],
      "source": [
        "from sklearn.neighbors import KNeighborsClassifier\n",
        "\n",
        "y_train_large = (y_train >= 7)\n",
        "y_train_odd = (y_train % 2 ==1)\n",
        "y_multilabel = np.c_[y_train_large, y_train_odd]\n",
        "\n",
        "knn_clf = KNeighborsClassifier()\n",
        "knn_clf.fit(X_train, y_multilabel)\n",
        "knn_clf.predict([some_digit])"
      ]
    },
    {
      "cell_type": "code",
      "execution_count": null,
      "metadata": {
        "id": "zxkXNcZZdTmW",
        "colab": {
          "base_uri": "https://localhost:8080/"
        },
        "outputId": "787fc55f-aa1d-40b0-8435-71c697dd675d"
      },
      "outputs": [
        {
          "output_type": "execute_result",
          "data": {
            "text/plain": [
              "0.976410265560605"
            ]
          },
          "metadata": {},
          "execution_count": 54
        }
      ],
      "source": [
        "# F1 점수로 다중 레이블 분류기 평가\n",
        "y_train_knn_pred = cross_val_predict(knn_clf, X_train, y_multilabel, cv=3)\n",
        "f1_score(y_multilabel, y_train_knn_pred, average=\"macro\")"
      ]
    },
    {
      "cell_type": "markdown",
      "metadata": {
        "id": "ZxFr41zodmAb"
      },
      "source": [
        "=> 모든 레이블의 가중치가 같지 않을 경우 레이블에 클래스의 지지도를 가중치로 두면 돼 average=\"weighted\"로 설정."
      ]
    },
    {
      "cell_type": "markdown",
      "metadata": {
        "id": "_PogpRoSduCL"
      },
      "source": [
        "## 3.7 다중 출력 분류\n",
        "\n",
        "다중 출력 다중 클래스 분류 : 다중 레이블 분류에서 한 레이블이 다중 클래스가 될 수 있도록 일반화한 것."
      ]
    },
    {
      "cell_type": "code",
      "execution_count": null,
      "metadata": {
        "id": "KLPnf-wyefqq"
      },
      "outputs": [],
      "source": [
        "# MNIST 이미지에 randint() 함수 사용해 픽셀 강도에 잡음 추가\n",
        "noise = np.random.randint(0, 100, (len(X_train), 784))\n",
        "X_train_mod = X_train + noise\n",
        "noise = np.random.randint(0, 100, (len(X_test), 784))\n",
        "X_test_mod = X_test + noise\n",
        "y_train_mod = X_train\n",
        "y_test_mod = X_test"
      ]
    },
    {
      "cell_type": "code",
      "source": [
        "some_index = 0\n",
        "\n",
        "# 숫자 이미지를 그리는 함수\n",
        "def plot_digit(data):\n",
        "    image = data.reshape(28, 28)\n",
        "    plt.imshow(image, cmap = mpl.cm.binary,\n",
        "               interpolation=\"nearest\")\n",
        "    plt.axis(\"off\")"
      ],
      "metadata": {
        "id": "m0sN0OuQheOI"
      },
      "execution_count": null,
      "outputs": []
    },
    {
      "cell_type": "code",
      "execution_count": null,
      "metadata": {
        "id": "_NENG7_jfEhQ",
        "colab": {
          "base_uri": "https://localhost:8080/",
          "height": 248
        },
        "outputId": "6eff8da1-c1ad-43eb-8d88-7f24e2fd5e27"
      },
      "outputs": [
        {
          "output_type": "display_data",
          "data": {
            "text/plain": [
              "<Figure size 432x288 with 1 Axes>"
            ],
            "image/png": "[encoded data removed]"
          },
          "metadata": {
            "needs_background": "light"
          }
        }
      ],
      "source": [
        "# 분류기 훈련시켜 이미지 깨끗하게\n",
        "knn_clf.fit(X_train_mod, y_train_mod)\n",
        "clean_digit = knn_clf.predict([X_test_mod[some_index]])\n",
        "plot_digit(clean_digit)"
      ]
    }
  ],
  "metadata": {
    "colab": {
      "provenance": [],
      "authorship_tag": "ABX9TyP7zIb0FyfRa1DhwbL7Otvk",
      "include_colab_link": true
    },
    "kernelspec": {
      "display_name": "Python 3",
      "name": "python3"
    },
    "language_info": {
      "name": "python"
    }
  },
  "nbformat": 4,
  "nbformat_minor": 0
}