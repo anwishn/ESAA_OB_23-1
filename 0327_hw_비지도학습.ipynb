{
  "nbformat": 4,
  "nbformat_minor": 0,
  "metadata": {
    "colab": {
      "provenance": [],
      "authorship_tag": "ABX9TyNRqty8uxREIInFJAvK62qI",
      "include_colab_link": true
    },
    "kernelspec": {
      "name": "python3",
      "display_name": "Python 3"
    },
    "language_info": {
      "name": "python"
    }
  },
  "cells": [
    {
      "cell_type": "markdown",
      "metadata": {
        "id": "view-in-github",
        "colab_type": "text"
      },
      "source": [
        "<a href=\"https://colab.research.google.com/github/anwishn/ESAA_OB_23-1/blob/main/0327_hw_%EB%B9%84%EC%A7%80%EB%8F%84%ED%95%99%EC%8A%B5.ipynb\" target=\"_parent\"><img src=\"https://colab.research.google.com/assets/colab-badge.svg\" alt=\"Open In Colab\"/></a>"
      ]
    },
    {
      "cell_type": "markdown",
      "source": [
        "핸즈온 9장 비지도학습 p. 299-345"
      ],
      "metadata": {
        "id": "-mUQuM9y8f9w"
      }
    },
    {
      "cell_type": "markdown",
      "source": [
        "# Chapter 9. 비지도 학습"
      ],
      "metadata": {
        "id": "X2Bml05O0wKB"
      }
    },
    {
      "cell_type": "markdown",
      "source": [
        "오늘날 대부분의 머신러닝 애플리케이션이 지도 학습 기반이지만 사용할 수 있는 데이터는 대부분 레이블이 없다 -> 일반적으로 사람이 모두 수동적으로 레이블 부여해야해\n",
        "\n",
        "알고리즘이 레이블 없는 데이터를 바로 사용하면 좋지 않을까? 바로 비지도 학습 필요\n",
        "\n",
        "* 군집 : 비슷한 샘플을 클러스터로 모은다\n",
        "* 이상치 탐지 : '정상'데이터가 어떻게 보이는지 학습 -> 비정상 샘플 감지하는 데 사용\n",
        "* 밀도 추정 : 데이터셋 생성 확률 과정의 확률 밀도 함수(PDF) 추정 -> 이상치 탐지에 널리 사용. 데이터 분석과 시각화에도 유용"
      ],
      "metadata": {
        "id": "oST3ZzvR1EZw"
      }
    },
    {
      "cell_type": "markdown",
      "source": [
        "## 9.1 군집"
      ],
      "metadata": {
        "id": "wdwGqi4E24f3"
      }
    },
    {
      "cell_type": "markdown",
      "source": [
        "**군집** : 비슷한 샘플을 구별해 하나의 클러스터 또는 비슷한 샘플의 그룹으로 할당하는 작업\n",
        "\n",
        "* 분류와 마찬가지로 각 샘플은 하나의 그룹에 할당 but 분류와 달리 비지도 학습 !\n",
        "* 다양한 애플리케이션에서 사용돼\n",
        "  + 고객분류 : 고객을 구매 이력이나 웹사이트 내 행동 등을 기반으로 클러스터로 모아 -> 제품 추천이나 마케팅 전략 다르게 적용\n",
        "  + 데이터 분석\n",
        "  + 차원 축소 기법 : 각 클러스터에 대한 샘플의 친화성 측정(샘플이 클러스터에 얼마나 잘 맞는지 측정)\n",
        "  + 이상치 탐지 : 모든 클러스터에 친화성이 낮은 샘플은 이상치일 가능성 높아. 제조 분야에서 결함 감지할 때 유용\n",
        "  + 준지도 학습 : 레이블된 샘플이 적다면 군집 수행하고 동일한 클러스터에 있는 모든 샘플에 레이블 전파 -> 지도 학습 알고리즘에 필요한 레이블이 크게 증가해 성능 크게 향상\n",
        "  + 검색 엔진 : 제시된 이미지와 비슷한 이미지 찾아줘\n",
        "  + 이미지 분할 : 색을 기반으로 픽셀을 클러스터로 모아\n",
        "* 클러스터에 대한 보편적 정의x. 알고리즘이 다르면 다른 종류의 클러스터 감지해"
      ],
      "metadata": {
        "id": "Uum004KV25oG"
      }
    },
    {
      "cell_type": "markdown",
      "source": [
        "### 9.1.1 k-평균"
      ],
      "metadata": {
        "id": "3APiTmBeQ5Vh"
      }
    },
    {
      "cell_type": "markdown",
      "source": [
        "**k-평균** : 반복 몇 번으로 레이블 없는 데이터셋을 빠르고 효율적으로 클러스터로 묶을 수 있는 간단한 알고리즘\n",
        "\n",
        "각 클러스터의 중심을 찾고 가장 가까운 클러스터에 샘플 할당"
      ],
      "metadata": {
        "id": "dj7_1qBVQ7bD"
      }
    },
    {
      "cell_type": "code",
      "source": [
        "from sklearn.datasets import make_blobs\n",
        "import numpy as np\n",
        "\n",
        "\n",
        "blob_centers = np.array(\n",
        "    [[ 0.2,  2.3],\n",
        "     [-1.5 ,  2.3],\n",
        "     [-2.8,  1.8],\n",
        "     [-2.8,  2.8],\n",
        "     [-2.8,  1.3]])\n",
        "blob_std = np.array([0.4, 0.3, 0.1, 0.1, 0.1])\n",
        "X, y = make_blobs(n_samples=2000, centers=blob_centers,\n",
        "                  cluster_std=blob_std, random_state=7)"
      ],
      "metadata": {
        "id": "X2sIFocGRxOH"
      },
      "execution_count": 1,
      "outputs": []
    },
    {
      "cell_type": "code",
      "execution_count": 2,
      "metadata": {
        "id": "ZQVy2Oel0b79",
        "colab": {
          "base_uri": "https://localhost:8080/"
        },
        "outputId": "1a3b69c5-ef60-494c-c6b7-8c9ba0c7a09c"
      },
      "outputs": [
        {
          "output_type": "stream",
          "name": "stderr",
          "text": [
            "/usr/local/lib/python3.9/dist-packages/sklearn/cluster/_kmeans.py:870: FutureWarning: The default value of `n_init` will change from 10 to 'auto' in 1.4. Set the value of `n_init` explicitly to suppress the warning\n",
            "  warnings.warn(\n"
          ]
        }
      ],
      "source": [
        "from sklearn.cluster import KMeans\n",
        "k=5\n",
        "kmeans = KMeans(n_clusters=k)\n",
        "y_pred = kmeans.fit_predict(X)"
      ]
    },
    {
      "cell_type": "markdown",
      "source": [
        "* 군집에서 각 샘플의 레이블은 알고리즘이 샘플에 할당한 클러스터의 인덱스\n",
        "* KMeans 클래스의 인스턴스는 **labels_** 인스턴스 변수에 훈련된 샘플의 레이블 가지고 있다"
      ],
      "metadata": {
        "id": "OO_--fr_TxLA"
      }
    },
    {
      "cell_type": "code",
      "source": [
        "y_pred"
      ],
      "metadata": {
        "colab": {
          "base_uri": "https://localhost:8080/"
        },
        "id": "RdZzYWttT8CH",
        "outputId": "4ef533c6-262c-4130-bb95-b30295f0f2c7"
      },
      "execution_count": 3,
      "outputs": [
        {
          "output_type": "execute_result",
          "data": {
            "text/plain": [
              "array([3, 0, 1, ..., 4, 1, 0], dtype=int32)"
            ]
          },
          "metadata": {},
          "execution_count": 3
        }
      ]
    },
    {
      "cell_type": "code",
      "source": [
        "y_pred is kmeans.labels_"
      ],
      "metadata": {
        "colab": {
          "base_uri": "https://localhost:8080/"
        },
        "id": "UXwan4hCT-sF",
        "outputId": "b17f7757-f62b-49fc-f6dc-bc85828e31b7"
      },
      "execution_count": 4,
      "outputs": [
        {
          "output_type": "execute_result",
          "data": {
            "text/plain": [
              "True"
            ]
          },
          "metadata": {},
          "execution_count": 4
        }
      ]
    },
    {
      "cell_type": "code",
      "source": [
        "kmeans.cluster_centers_"
      ],
      "metadata": {
        "colab": {
          "base_uri": "https://localhost:8080/"
        },
        "id": "UUqvDHhKUCPG",
        "outputId": "d38f0705-4636-463c-fd46-bf99722cbba5"
      },
      "execution_count": 5,
      "outputs": [
        {
          "output_type": "execute_result",
          "data": {
            "text/plain": [
              "array([[-2.80389616,  1.80117999],\n",
              "       [ 0.20876306,  2.25551336],\n",
              "       [-1.46679593,  2.28585348],\n",
              "       [-2.80037642,  1.30082566],\n",
              "       [-2.79290307,  2.79641063]])"
            ]
          },
          "metadata": {},
          "execution_count": 5
        }
      ]
    },
    {
      "cell_type": "code",
      "source": [
        "X_new = np.array([[0,2], [3,2], [-3,3], [-3,2.5]])\n",
        "kmeans.predict(X_new)"
      ],
      "metadata": {
        "colab": {
          "base_uri": "https://localhost:8080/"
        },
        "id": "p0Gh6DddUG0H",
        "outputId": "7ff5d5e2-ccf6-4082-de74-5ad9f4845baf"
      },
      "execution_count": 6,
      "outputs": [
        {
          "output_type": "execute_result",
          "data": {
            "text/plain": [
              "array([1, 1, 4, 4], dtype=int32)"
            ]
          },
          "metadata": {},
          "execution_count": 6
        }
      ]
    },
    {
      "cell_type": "markdown",
      "source": [
        "클러스터의 결정 경계 -> 보로노이 다이어그램\n",
        "\n",
        "샘플 대부분은 적절한 클러스터에 잘 할당. 하지만 샘플 몇 개는 레이블이 잘못 부여 -> 클러스터의 크기가 많이 다르면 잘 작동하지 않는다\n",
        "\n",
        "* **하드 군집**이라는 샘플을 하나의 클러스터에 할당하는 것보다 클러스터마다 샘플에 점수를 부여하는 것이 유용 = **소프트 군집**\n",
        "\n",
        "  + 이 점수는 샘플과 센트로이드 사이의 거리 or 유사도 점수(또는 친화성 점수) 될 수 있다\n",
        "\n",
        "  + KMeans 클래스의 **transform()**메서드는 샘플과 각 센트로이드 사이의 거리 반환"
      ],
      "metadata": {
        "id": "YIghPjwuUdLz"
      }
    },
    {
      "cell_type": "markdown",
      "source": [
        "#### k-평균 알고리즘\n",
        "\n",
        "레이블이나 센트로이드가 주어지지 않으면?\n",
        "\n",
        "센트로이드 랜덤하게 선정 -> 샘플에 레이블 할당하고 센트로이드 업데이트 -> 센트로이드에 변화가 없을 때까지 계속\n",
        "\n",
        "제한된 횟수 안에 수렴하는 것 보장 but 적절한 솔루션으로 수렴하지 못할 수도 -> 이 여부는 센트로이드 초기화에 달려있다"
      ],
      "metadata": {
        "id": "b_x1kMxKVZHw"
      }
    },
    {
      "cell_type": "markdown",
      "source": [
        "#### 센트로이드 초기화 방법\n",
        "\n",
        "* 1) 센트로이드 위치를 근사하게 알 수 있다면 init 매개변수에 센트로이드 리스트를 담은 넘파이 배열을 지정하고 n_init를 1로 설정\n",
        "\n",
        "* 2) 랜덤 초기화를 다르게 하여 여러 번 알고리즘을 실행하고 가장 좋은 솔루션 선택하는 것\n",
        "  + 랜덤 초기화 함수는 **n_init** 매개변수로 조절. 기본값은 10.\n",
        "\n",
        "사이킷런은 이 중에 최선의 솔루션 반환 -> 최선의 솔루션 어떻게 알까?\n",
        "\n",
        "* 성능 지표 => **이너셔** : 각 샘플과 가장 가까운 센트로이드 사이의 평균 제곱 거리 -> **inertia_** 인스턴스 변수로 모델의 이너셔 확인 가능\n",
        "  + KMeans 클래스는 알고리즘을 n_init번 실행하여 이너셔가 가장 낮은 모델 반환\n",
        "\n",
        "* score() 메서드 : 이너셔의 음숫값 반환\n",
        "  + 사이킷런의 '큰 값이 좋은 것이다'라는 규칙 따라야하기 때문에 음수\n",
        "\n",
        "**k-평균++**알고리즘 : 다른 센트로이드와 거리가 먼 센트로이드를 선택하는 똑똑한 초기화 단계 -> k-평균 알고리즘이 최적이 아닌 솔루션으로 수렴할 가능성 크게 낮춰\n",
        "\n",
        "> * 1) 데이터셋에서 무작위로 균등하게 하나의 센트로이드 c(1)을 선택합니다.\n",
        "> * 2) D(x(i))^2/sigma(D(x(j))^2)의 확률로 샘플 x(i)를 새로운 센트로이드 c(i)로 선택합니다. 여기에서 D(x(i))는 샘플 x(i)와 이미 선택된 가장 가까운 센트로이드까지 거리입니다. 이 확률 분포는 이미 선택한 센트로이드에서 멀리 떨어진 샘플을 다음 센트로이드로 선택할 가능성을 높입니다.\n",
        "> * 3) k개의 센트로이드가 선택될 때까지 이전 단계를 반복합니다.\n",
        "\n",
        "* KMeans 클래스는 기본적으로 이 초기화 방법 사용. (원래 방식 사용하려면 init 매개변수를 \"random\"으로 지정)\n"
      ],
      "metadata": {
        "id": "WpQNXw95WD4y"
      }
    },
    {
      "cell_type": "markdown",
      "source": [
        "#### k-평균 속도 개선과 미니배치 k-평균\n",
        "\n",
        "* 삼각 부등식 사용 + 샘플과 센트로이드 사이의 거리를 위한 하한선과 상한선 유지 -> 불필요한 거리 계산 많이 피해 알고리즘 속도 개선\n",
        "  + KMeans 클래스에서 기본으로 사용 (원래 알고리즘 사용하려면 algorithm 매개변수를 \"full\"로 지정)\n",
        "\n",
        "* 전체 데이터셋을 사용해 반복하지 않고 각 반복마다 미니배치를 사용해 센트로이드를 조금씩 이동 + 메모리에 들어가지 않는 대량의 데이터셋에 군집 알고리즘 적용 가능\n"
      ],
      "metadata": {
        "id": "KCbHZ4AtLUod"
      }
    },
    {
      "cell_type": "code",
      "source": [
        "from sklearn.cluster import MiniBatchKMeans\n",
        "\n",
        "minibatch_kmeans = MiniBatchKMeans(n_clusters=5)\n",
        "minibatch_kmeans.fit(X)"
      ],
      "metadata": {
        "colab": {
          "base_uri": "https://localhost:8080/",
          "height": 131
        },
        "id": "K1i6nqe9MRYC",
        "outputId": "6703241d-f379-4a40-cc50-4449b7136896"
      },
      "execution_count": 7,
      "outputs": [
        {
          "output_type": "stream",
          "name": "stderr",
          "text": [
            "/usr/local/lib/python3.9/dist-packages/sklearn/cluster/_kmeans.py:870: FutureWarning: The default value of `n_init` will change from 3 to 'auto' in 1.4. Set the value of `n_init` explicitly to suppress the warning\n",
            "  warnings.warn(\n"
          ]
        },
        {
          "output_type": "execute_result",
          "data": {
            "text/plain": [
              "MiniBatchKMeans(n_clusters=5)"
            ],
            "text/html": [
              "<style>#sk-container-id-1 {color: black;background-color: white;}#sk-container-id-1 pre{padding: 0;}#sk-container-id-1 div.sk-toggleable {background-color: white;}#sk-container-id-1 label.sk-toggleable__label {cursor: pointer;display: block;width: 100%;margin-bottom: 0;padding: 0.3em;box-sizing: border-box;text-align: center;}#sk-container-id-1 label.sk-toggleable__label-arrow:before {content: \"▸\";float: left;margin-right: 0.25em;color: #696969;}#sk-container-id-1 label.sk-toggleable__label-arrow:hover:before {color: black;}#sk-container-id-1 div.sk-estimator:hover label.sk-toggleable__label-arrow:before {color: black;}#sk-container-id-1 div.sk-toggleable__content {max-height: 0;max-width: 0;overflow: hidden;text-align: left;background-color: #f0f8ff;}#sk-container-id-1 div.sk-toggleable__content pre {margin: 0.2em;color: black;border-radius: 0.25em;background-color: #f0f8ff;}#sk-container-id-1 input.sk-toggleable__control:checked~div.sk-toggleable__content {max-height: 200px;max-width: 100%;overflow: auto;}#sk-container-id-1 input.sk-toggleable__control:checked~label.sk-toggleable__label-arrow:before {content: \"▾\";}#sk-container-id-1 div.sk-estimator input.sk-toggleable__control:checked~label.sk-toggleable__label {background-color: #d4ebff;}#sk-container-id-1 div.sk-label input.sk-toggleable__control:checked~label.sk-toggleable__label {background-color: #d4ebff;}#sk-container-id-1 input.sk-hidden--visually {border: 0;clip: rect(1px 1px 1px 1px);clip: rect(1px, 1px, 1px, 1px);height: 1px;margin: -1px;overflow: hidden;padding: 0;position: absolute;width: 1px;}#sk-container-id-1 div.sk-estimator {font-family: monospace;background-color: #f0f8ff;border: 1px dotted black;border-radius: 0.25em;box-sizing: border-box;margin-bottom: 0.5em;}#sk-container-id-1 div.sk-estimator:hover {background-color: #d4ebff;}#sk-container-id-1 div.sk-parallel-item::after {content: \"\";width: 100%;border-bottom: 1px solid gray;flex-grow: 1;}#sk-container-id-1 div.sk-label:hover label.sk-toggleable__label {background-color: #d4ebff;}#sk-container-id-1 div.sk-serial::before {content: \"\";position: absolute;border-left: 1px solid gray;box-sizing: border-box;top: 0;bottom: 0;left: 50%;z-index: 0;}#sk-container-id-1 div.sk-serial {display: flex;flex-direction: column;align-items: center;background-color: white;padding-right: 0.2em;padding-left: 0.2em;position: relative;}#sk-container-id-1 div.sk-item {position: relative;z-index: 1;}#sk-container-id-1 div.sk-parallel {display: flex;align-items: stretch;justify-content: center;background-color: white;position: relative;}#sk-container-id-1 div.sk-item::before, #sk-container-id-1 div.sk-parallel-item::before {content: \"\";position: absolute;border-left: 1px solid gray;box-sizing: border-box;top: 0;bottom: 0;left: 50%;z-index: -1;}#sk-container-id-1 div.sk-parallel-item {display: flex;flex-direction: column;z-index: 1;position: relative;background-color: white;}#sk-container-id-1 div.sk-parallel-item:first-child::after {align-self: flex-end;width: 50%;}#sk-container-id-1 div.sk-parallel-item:last-child::after {align-self: flex-start;width: 50%;}#sk-container-id-1 div.sk-parallel-item:only-child::after {width: 0;}#sk-container-id-1 div.sk-dashed-wrapped {border: 1px dashed gray;margin: 0 0.4em 0.5em 0.4em;box-sizing: border-box;padding-bottom: 0.4em;background-color: white;}#sk-container-id-1 div.sk-label label {font-family: monospace;font-weight: bold;display: inline-block;line-height: 1.2em;}#sk-container-id-1 div.sk-label-container {text-align: center;}#sk-container-id-1 div.sk-container {/* jupyter's `normalize.less` sets `[hidden] { display: none; }` but bootstrap.min.css set `[hidden] { display: none !important; }` so we also need the `!important` here to be able to override the default hidden behavior on the sphinx rendered scikit-learn.org. See: https://github.com/scikit-learn/scikit-learn/issues/21755 */display: inline-block !important;position: relative;}#sk-container-id-1 div.sk-text-repr-fallback {display: none;}</style><div id=\"sk-container-id-1\" class=\"sk-top-container\"><div class=\"sk-text-repr-fallback\"><pre>MiniBatchKMeans(n_clusters=5)</pre><b>In a Jupyter environment, please rerun this cell to show the HTML representation or trust the notebook. <br />On GitHub, the HTML representation is unable to render, please try loading this page with nbviewer.org.</b></div><div class=\"sk-container\" hidden><div class=\"sk-item\"><div class=\"sk-estimator sk-toggleable\"><input class=\"sk-toggleable__control sk-hidden--visually\" id=\"sk-estimator-id-1\" type=\"checkbox\" checked><label for=\"sk-estimator-id-1\" class=\"sk-toggleable__label sk-toggleable__label-arrow\">MiniBatchKMeans</label><div class=\"sk-toggleable__content\"><pre>MiniBatchKMeans(n_clusters=5)</pre></div></div></div></div></div>"
            ]
          },
          "metadata": {},
          "execution_count": 7
        }
      ]
    },
    {
      "cell_type": "markdown",
      "source": [
        "* 데이터셋이 메모리에 들어가지 않으면 가장 간단한 방법은 **memmap** 클래스 사용하는 것. 또는 MiniBatchKMeans 클래스의 **partial_fit()**메서드에 한 번에 하나의 미니배치를 전달\n",
        "\n",
        "* 미니배치 k-평균 알고리즘이 일반 k-평균 알고리즘보다 훨씬 빠르지만 이너셔는 일반적으로 조금 더 나빠(값이 더 높아). 특히 클러스터의 개수(k)가 증가할 때"
      ],
      "metadata": {
        "id": "RLLmVft4MhNC"
      }
    },
    {
      "cell_type": "markdown",
      "source": [
        "#### 최적의 클러스터 개수 찾기\n",
        "\n",
        "* 이너셔는 k가 증가함에 따라 점점 작아져 -> k를 선택할 때 좋은 성능 지표가 아니다\n",
        "  + 실제로 클러스터가 늘어날수록 각 샘플은 가까운 센트로이드에 더 가깝게 돼 -> 이너셔는 더 작아질 것\n",
        "  + 그래프로 그렸을 때 그래프가 꺾이는 지점 = 엘보 -> 정답 모른다면 좋은 선택?\n",
        "\n",
        "* 더 정확한 방법 => **실루엣 점수** : 모든 샘플에 대한 실루엣 계수의 평균\n",
        "  + 샘플의 실루엣 계수 = (b-a)/max(a,b)\n",
        "    - a : 동일한 클러스터에 있는 다른 샘플까지 평균 거리\n",
        "    - b : 가장 가까운 클러스터까지 평균 거리\n",
        "  + 실루엣 계수는 -1에서 +1까지 바뀔 수 있다\n",
        "    - +1에 가까우면 자신의 클러스터 안에 잘 속해 있고 다른 클러스터와는 멀리 떨어져 있다\n",
        "    - 0에 가까우면 클러스터 경계에 위치한다\n",
        "    - -1에 가까우면 이 샘플이 잘못된 클러스터에 할당되었다\n",
        "  * 사이킷런의 **silhouette_score()** 함수 사용 -> 데이터셋에 있는 모든 샘플과 할당된 레이블 전달"
      ],
      "metadata": {
        "id": "oVzKKGbbNI0t"
      }
    },
    {
      "cell_type": "code",
      "source": [
        "from sklearn.metrics import silhouette_score\n",
        "silhouette_score(X, kmeans.labels_)"
      ],
      "metadata": {
        "colab": {
          "base_uri": "https://localhost:8080/"
        },
        "id": "DgQEnbG9Odz4",
        "outputId": "1e719a4a-dc7a-4fb9-bc6a-092e8b58f4f8"
      },
      "execution_count": 8,
      "outputs": [
        {
          "output_type": "execute_result",
          "data": {
            "text/plain": [
              "0.655517642572828"
            ]
          },
          "metadata": {},
          "execution_count": 8
        }
      ]
    },
    {
      "cell_type": "markdown",
      "source": [
        "* 실루엣 다이어그램 : 모든 샘플의 실루엣 계수를 할당된 클러스터와 계숫값으로 정렬해 그린 그래프\n",
        "  + 높이 : 클러스터가 포함하고 있는 샘플의 개수\n",
        "  + 너비 : 이 클러스에 포함된 샘플의 정렬된 실루엣 계수. 넓을수록 좋아\n",
        "  + 수직 파선 : 각 클러스터 개수에 해당하는 실루엣 점수\n",
        "    - 한 클러스터의 샘플 대부분이 이 점수보다 낮은 계수 가지면 -> 클러스터의 샘플이 다른 클러스터랑 너무 가깝다는 것 -> 나쁜 클러스터\n",
        "    - 실루엣 점수가 조금 높더라도 비슷한 크기의 클러스터 얻을 수 있는 k 선택"
      ],
      "metadata": {
        "id": "WeYr6x10OqKY"
      }
    },
    {
      "cell_type": "markdown",
      "source": [
        "### 9.1.2 k-평균의 한계\n",
        "\n",
        "k-평균은 장점 많아(특히 속도가 빠르고 확장이 용이)\n",
        "\n",
        "* 그렇지만 한계점도 존재\n",
        "  + 최적인 아닌 솔루션 피하려면 알고리즘을 여러 번 실행해야해\n",
        "  + 클러스터 개수 지정해야해\n",
        "  + 클러스터의 크기나 밀집도가 서로 다르거나 원형이 아닐 경우 잘 작동x.\n",
        "    - 데이터에 따라서 잘 수행할 수 있는 군집 알고리즘 달라(타원형 클러스터에서는 가우시안 혼합 모델이 잘 작동)\n",
        "    - k-평균 실행하기 전에 입력 특성의 스케일 맞추는 것이 중요"
      ],
      "metadata": {
        "id": "YZ-cygrqR1S3"
      }
    },
    {
      "cell_type": "markdown",
      "source": [
        "### 9.1.3 군집을 사용한 **이미지 분할**\n",
        "\n",
        "**이미지 분할** : 이미지를 세그먼트 여러 개로 분할하는 작업\n",
        "\n",
        "**시맨틱 분할** : 동일한 종류의 물체에 속한 모든 픽셀은 같은 세그먼트에 할당\n",
        "\n",
        "* 합성곱 신경망을 사용한 복잡한 모델 대신 훨씬 쉬운 작업인 색상 분할 수행"
      ],
      "metadata": {
        "id": "maJTGNHLSjc9"
      }
    },
    {
      "cell_type": "code",
      "source": [
        "import os\n",
        "import urllib.request"
      ],
      "metadata": {
        "id": "aQo6Pw6rTSOh"
      },
      "execution_count": 9,
      "outputs": []
    },
    {
      "cell_type": "code",
      "source": [
        "# 그림을 저장할 위치\n",
        "PROJECT_ROOT_DIR = \".\"\n",
        "CHAPTER_ID = \"unsupervised_learning\"\n",
        "IMAGES_PATH = os.path.join(PROJECT_ROOT_DIR, \"images\", CHAPTER_ID)\n",
        "os.makedirs(IMAGES_PATH, exist_ok=True)"
      ],
      "metadata": {
        "id": "cq8Uf28ZTUXm"
      },
      "execution_count": 10,
      "outputs": []
    },
    {
      "cell_type": "code",
      "source": [
        "# 무당벌레 이미지를 다운로드합니다\n",
        "images_path = os.path.join(PROJECT_ROOT_DIR, \"images\", \"unsupervised_learning\")\n",
        "os.makedirs(images_path, exist_ok=True)\n",
        "DOWNLOAD_ROOT = \"https://raw.githubusercontent.com/rickiepark/handson-ml2/master/\"\n",
        "filename = \"ladybug.png\"\n",
        "print(\"Downloading\", filename)\n",
        "url = DOWNLOAD_ROOT + \"images/unsupervised_learning/\" + filename\n",
        "urllib.request.urlretrieve(url, os.path.join(images_path, filename))"
      ],
      "metadata": {
        "colab": {
          "base_uri": "https://localhost:8080/"
        },
        "id": "M926eHiOTWQi",
        "outputId": "400f568f-ee2a-42f0-c2d2-0a19fba8fac0"
      },
      "execution_count": 11,
      "outputs": [
        {
          "output_type": "stream",
          "name": "stdout",
          "text": [
            "Downloading ladybug.png\n"
          ]
        },
        {
          "output_type": "execute_result",
          "data": {
            "text/plain": [
              "('./images/unsupervised_learning/ladybug.png',\n",
              " <http.client.HTTPMessage at 0x7feac9f7f640>)"
            ]
          },
          "metadata": {},
          "execution_count": 11
        }
      ]
    },
    {
      "cell_type": "code",
      "source": [
        "from matplotlib.image import imread # or 'from imageio import imread'\n",
        "image =imread(os.path.join(\"images\", \"unsupervised_learning\", \"ladybug.png\"))\n",
        "image.shape"
      ],
      "metadata": {
        "colab": {
          "base_uri": "https://localhost:8080/"
        },
        "id": "DhkrIrQgS7ch",
        "outputId": "804ef25b-0471-433c-f092-f532495fc142"
      },
      "execution_count": 12,
      "outputs": [
        {
          "output_type": "execute_result",
          "data": {
            "text/plain": [
              "(533, 800, 3)"
            ]
          },
          "metadata": {},
          "execution_count": 12
        }
      ]
    },
    {
      "cell_type": "markdown",
      "source": [
        "=> 이 이미지는 3D 배열로 표현. (높이, 너비, 컬러 채널 개수). 0.0과 1.0 사이"
      ],
      "metadata": {
        "id": "TCEPOewsTjCF"
      }
    },
    {
      "cell_type": "code",
      "source": [
        "# 이 배열을 RGD 색상의 긴 리스트로 변환한 다음 k-평균을 사용해 이 색상을 클러스터로 모아\n",
        "X = image.reshape(-1,3)\n",
        "kmeans = KMeans(n_clusters=8).fit(X)\n",
        "segmented_img = kmeans.cluster_centers_[kmeans.labels_]\n",
        "segmented_img = segmented_img.reshape(image.shape)"
      ],
      "metadata": {
        "colab": {
          "base_uri": "https://localhost:8080/"
        },
        "id": "bMnASkA1TvRB",
        "outputId": "115142a0-d482-4c5e-de50-0c77d21416fa"
      },
      "execution_count": 13,
      "outputs": [
        {
          "output_type": "stream",
          "name": "stderr",
          "text": [
            "/usr/local/lib/python3.9/dist-packages/sklearn/cluster/_kmeans.py:870: FutureWarning: The default value of `n_init` will change from 10 to 'auto' in 1.4. Set the value of `n_init` explicitly to suppress the warning\n",
            "  warnings.warn(\n"
          ]
        }
      ]
    },
    {
      "cell_type": "markdown",
      "source": [
        "=> 8개보다 클러스터 개수를 작게 하면 무당벌레의 화려한 빨간색이 독자적인 클러스터를 만들지 못하고 주의 색에 합쳐져. k-평균이 비슷한 크기의 클러스터를 만드는 경향이 있기 때문에."
      ],
      "metadata": {
        "id": "5nYLTX_NUUp5"
      }
    },
    {
      "cell_type": "markdown",
      "source": [
        "### 9.1.4 군집을 사용한 **전처리**\n",
        "\n",
        "군집은 차원 축소에 효과적인 방법. 특히 지도 학습 알고리즘을 적용하기 전에 전처리 단계로 사용 가능\n",
        "\n",
        "* 숫자 데이터셋 : MNIST와 비슷한 데이터셋. 0에서 9까지 숫자를 나타내는 8x8크기 흑백 이미지 1797개"
      ],
      "metadata": {
        "id": "0E3Cym8dUydM"
      }
    },
    {
      "cell_type": "code",
      "source": [
        "# 데이터셋 불러오기\n",
        "from sklearn.datasets import load_digits\n",
        "\n",
        "X_digits, y_digits = load_digits(return_X_y=True)"
      ],
      "metadata": {
        "id": "-CrDz75PU-sU"
      },
      "execution_count": 14,
      "outputs": []
    },
    {
      "cell_type": "code",
      "source": [
        "# 훈련 세트와 테스트 세트로 나눠\n",
        "from sklearn.model_selection import train_test_split\n",
        "\n",
        "X_train, X_test, y_train, y_test = train_test_split(X_digits, y_digits)"
      ],
      "metadata": {
        "id": "OsMKxsfWVRf6"
      },
      "execution_count": 15,
      "outputs": []
    },
    {
      "cell_type": "code",
      "source": [
        "# 로지스틱 회귀 모델 훈련\n",
        "from sklearn.linear_model import LogisticRegression\n",
        "\n",
        "log_reg = LogisticRegression()\n",
        "log_reg.fit(X_train, y_train)"
      ],
      "metadata": {
        "colab": {
          "base_uri": "https://localhost:8080/",
          "height": 224
        },
        "id": "Tbll5_uzVcaL",
        "outputId": "5d773d47-c6cf-4121-efcf-17bebd76dd74"
      },
      "execution_count": 16,
      "outputs": [
        {
          "output_type": "stream",
          "name": "stderr",
          "text": [
            "/usr/local/lib/python3.9/dist-packages/sklearn/linear_model/_logistic.py:458: ConvergenceWarning: lbfgs failed to converge (status=1):\n",
            "STOP: TOTAL NO. of ITERATIONS REACHED LIMIT.\n",
            "\n",
            "Increase the number of iterations (max_iter) or scale the data as shown in:\n",
            "    https://scikit-learn.org/stable/modules/preprocessing.html\n",
            "Please also refer to the documentation for alternative solver options:\n",
            "    https://scikit-learn.org/stable/modules/linear_model.html#logistic-regression\n",
            "  n_iter_i = _check_optimize_result(\n"
          ]
        },
        {
          "output_type": "execute_result",
          "data": {
            "text/plain": [
              "LogisticRegression()"
            ],
            "text/html": [
              "<style>#sk-container-id-2 {color: black;background-color: white;}#sk-container-id-2 pre{padding: 0;}#sk-container-id-2 div.sk-toggleable {background-color: white;}#sk-container-id-2 label.sk-toggleable__label {cursor: pointer;display: block;width: 100%;margin-bottom: 0;padding: 0.3em;box-sizing: border-box;text-align: center;}#sk-container-id-2 label.sk-toggleable__label-arrow:before {content: \"▸\";float: left;margin-right: 0.25em;color: #696969;}#sk-container-id-2 label.sk-toggleable__label-arrow:hover:before {color: black;}#sk-container-id-2 div.sk-estimator:hover label.sk-toggleable__label-arrow:before {color: black;}#sk-container-id-2 div.sk-toggleable__content {max-height: 0;max-width: 0;overflow: hidden;text-align: left;background-color: #f0f8ff;}#sk-container-id-2 div.sk-toggleable__content pre {margin: 0.2em;color: black;border-radius: 0.25em;background-color: #f0f8ff;}#sk-container-id-2 input.sk-toggleable__control:checked~div.sk-toggleable__content {max-height: 200px;max-width: 100%;overflow: auto;}#sk-container-id-2 input.sk-toggleable__control:checked~label.sk-toggleable__label-arrow:before {content: \"▾\";}#sk-container-id-2 div.sk-estimator input.sk-toggleable__control:checked~label.sk-toggleable__label {background-color: #d4ebff;}#sk-container-id-2 div.sk-label input.sk-toggleable__control:checked~label.sk-toggleable__label {background-color: #d4ebff;}#sk-container-id-2 input.sk-hidden--visually {border: 0;clip: rect(1px 1px 1px 1px);clip: rect(1px, 1px, 1px, 1px);height: 1px;margin: -1px;overflow: hidden;padding: 0;position: absolute;width: 1px;}#sk-container-id-2 div.sk-estimator {font-family: monospace;background-color: #f0f8ff;border: 1px dotted black;border-radius: 0.25em;box-sizing: border-box;margin-bottom: 0.5em;}#sk-container-id-2 div.sk-estimator:hover {background-color: #d4ebff;}#sk-container-id-2 div.sk-parallel-item::after {content: \"\";width: 100%;border-bottom: 1px solid gray;flex-grow: 1;}#sk-container-id-2 div.sk-label:hover label.sk-toggleable__label {background-color: #d4ebff;}#sk-container-id-2 div.sk-serial::before {content: \"\";position: absolute;border-left: 1px solid gray;box-sizing: border-box;top: 0;bottom: 0;left: 50%;z-index: 0;}#sk-container-id-2 div.sk-serial {display: flex;flex-direction: column;align-items: center;background-color: white;padding-right: 0.2em;padding-left: 0.2em;position: relative;}#sk-container-id-2 div.sk-item {position: relative;z-index: 1;}#sk-container-id-2 div.sk-parallel {display: flex;align-items: stretch;justify-content: center;background-color: white;position: relative;}#sk-container-id-2 div.sk-item::before, #sk-container-id-2 div.sk-parallel-item::before {content: \"\";position: absolute;border-left: 1px solid gray;box-sizing: border-box;top: 0;bottom: 0;left: 50%;z-index: -1;}#sk-container-id-2 div.sk-parallel-item {display: flex;flex-direction: column;z-index: 1;position: relative;background-color: white;}#sk-container-id-2 div.sk-parallel-item:first-child::after {align-self: flex-end;width: 50%;}#sk-container-id-2 div.sk-parallel-item:last-child::after {align-self: flex-start;width: 50%;}#sk-container-id-2 div.sk-parallel-item:only-child::after {width: 0;}#sk-container-id-2 div.sk-dashed-wrapped {border: 1px dashed gray;margin: 0 0.4em 0.5em 0.4em;box-sizing: border-box;padding-bottom: 0.4em;background-color: white;}#sk-container-id-2 div.sk-label label {font-family: monospace;font-weight: bold;display: inline-block;line-height: 1.2em;}#sk-container-id-2 div.sk-label-container {text-align: center;}#sk-container-id-2 div.sk-container {/* jupyter's `normalize.less` sets `[hidden] { display: none; }` but bootstrap.min.css set `[hidden] { display: none !important; }` so we also need the `!important` here to be able to override the default hidden behavior on the sphinx rendered scikit-learn.org. See: https://github.com/scikit-learn/scikit-learn/issues/21755 */display: inline-block !important;position: relative;}#sk-container-id-2 div.sk-text-repr-fallback {display: none;}</style><div id=\"sk-container-id-2\" class=\"sk-top-container\"><div class=\"sk-text-repr-fallback\"><pre>LogisticRegression()</pre><b>In a Jupyter environment, please rerun this cell to show the HTML representation or trust the notebook. <br />On GitHub, the HTML representation is unable to render, please try loading this page with nbviewer.org.</b></div><div class=\"sk-container\" hidden><div class=\"sk-item\"><div class=\"sk-estimator sk-toggleable\"><input class=\"sk-toggleable__control sk-hidden--visually\" id=\"sk-estimator-id-2\" type=\"checkbox\" checked><label for=\"sk-estimator-id-2\" class=\"sk-toggleable__label sk-toggleable__label-arrow\">LogisticRegression</label><div class=\"sk-toggleable__content\"><pre>LogisticRegression()</pre></div></div></div></div></div>"
            ]
          },
          "metadata": {},
          "execution_count": 16
        }
      ]
    },
    {
      "cell_type": "code",
      "source": [
        "# 테스트 세트에서 정확도 평가\n",
        "log_reg.score(X_test, y_test)"
      ],
      "metadata": {
        "colab": {
          "base_uri": "https://localhost:8080/"
        },
        "id": "2CZvPThcVnwE",
        "outputId": "fb977bbe-17be-4db0-d1ff-596a77c2e904"
      },
      "execution_count": 17,
      "outputs": [
        {
          "output_type": "execute_result",
          "data": {
            "text/plain": [
              "0.9622222222222222"
            ]
          },
          "metadata": {},
          "execution_count": 17
        }
      ]
    },
    {
      "cell_type": "code",
      "source": [
        "# 파이프라인 만들어 훈련 세트 50개의 클러스터로 모아 -> 이미지를 50개 클러스터까지 거리로 바꿔 -> 로지스틱 회귀 모델 적용\n",
        "from sklearn.pipeline import Pipeline\n",
        "\n",
        "pipeline = Pipeline([\n",
        "    (\"kmeans\", KMeans(n_clusters=50)),\n",
        "    (\"log_reg\", LogisticRegression()),\n",
        "])\n",
        "pipeline.fit(X_train, y_train)"
      ],
      "metadata": {
        "colab": {
          "base_uri": "https://localhost:8080/",
          "height": 331
        },
        "id": "PZhljpxKVw5m",
        "outputId": "e417f4e0-ea31-4015-e3fa-b3b183f3f75b"
      },
      "execution_count": 18,
      "outputs": [
        {
          "output_type": "stream",
          "name": "stderr",
          "text": [
            "/usr/local/lib/python3.9/dist-packages/sklearn/cluster/_kmeans.py:870: FutureWarning: The default value of `n_init` will change from 10 to 'auto' in 1.4. Set the value of `n_init` explicitly to suppress the warning\n",
            "  warnings.warn(\n",
            "/usr/local/lib/python3.9/dist-packages/sklearn/linear_model/_logistic.py:458: ConvergenceWarning: lbfgs failed to converge (status=1):\n",
            "STOP: TOTAL NO. of ITERATIONS REACHED LIMIT.\n",
            "\n",
            "Increase the number of iterations (max_iter) or scale the data as shown in:\n",
            "    https://scikit-learn.org/stable/modules/preprocessing.html\n",
            "Please also refer to the documentation for alternative solver options:\n",
            "    https://scikit-learn.org/stable/modules/linear_model.html#logistic-regression\n",
            "  n_iter_i = _check_optimize_result(\n"
          ]
        },
        {
          "output_type": "execute_result",
          "data": {
            "text/plain": [
              "Pipeline(steps=[('kmeans', KMeans(n_clusters=50)),\n",
              "                ('log_reg', LogisticRegression())])"
            ],
            "text/html": [
              "<style>#sk-container-id-3 {color: black;background-color: white;}#sk-container-id-3 pre{padding: 0;}#sk-container-id-3 div.sk-toggleable {background-color: white;}#sk-container-id-3 label.sk-toggleable__label {cursor: pointer;display: block;width: 100%;margin-bottom: 0;padding: 0.3em;box-sizing: border-box;text-align: center;}#sk-container-id-3 label.sk-toggleable__label-arrow:before {content: \"▸\";float: left;margin-right: 0.25em;color: #696969;}#sk-container-id-3 label.sk-toggleable__label-arrow:hover:before {color: black;}#sk-container-id-3 div.sk-estimator:hover label.sk-toggleable__label-arrow:before {color: black;}#sk-container-id-3 div.sk-toggleable__content {max-height: 0;max-width: 0;overflow: hidden;text-align: left;background-color: #f0f8ff;}#sk-container-id-3 div.sk-toggleable__content pre {margin: 0.2em;color: black;border-radius: 0.25em;background-color: #f0f8ff;}#sk-container-id-3 input.sk-toggleable__control:checked~div.sk-toggleable__content {max-height: 200px;max-width: 100%;overflow: auto;}#sk-container-id-3 input.sk-toggleable__control:checked~label.sk-toggleable__label-arrow:before {content: \"▾\";}#sk-container-id-3 div.sk-estimator input.sk-toggleable__control:checked~label.sk-toggleable__label {background-color: #d4ebff;}#sk-container-id-3 div.sk-label input.sk-toggleable__control:checked~label.sk-toggleable__label {background-color: #d4ebff;}#sk-container-id-3 input.sk-hidden--visually {border: 0;clip: rect(1px 1px 1px 1px);clip: rect(1px, 1px, 1px, 1px);height: 1px;margin: -1px;overflow: hidden;padding: 0;position: absolute;width: 1px;}#sk-container-id-3 div.sk-estimator {font-family: monospace;background-color: #f0f8ff;border: 1px dotted black;border-radius: 0.25em;box-sizing: border-box;margin-bottom: 0.5em;}#sk-container-id-3 div.sk-estimator:hover {background-color: #d4ebff;}#sk-container-id-3 div.sk-parallel-item::after {content: \"\";width: 100%;border-bottom: 1px solid gray;flex-grow: 1;}#sk-container-id-3 div.sk-label:hover label.sk-toggleable__label {background-color: #d4ebff;}#sk-container-id-3 div.sk-serial::before {content: \"\";position: absolute;border-left: 1px solid gray;box-sizing: border-box;top: 0;bottom: 0;left: 50%;z-index: 0;}#sk-container-id-3 div.sk-serial {display: flex;flex-direction: column;align-items: center;background-color: white;padding-right: 0.2em;padding-left: 0.2em;position: relative;}#sk-container-id-3 div.sk-item {position: relative;z-index: 1;}#sk-container-id-3 div.sk-parallel {display: flex;align-items: stretch;justify-content: center;background-color: white;position: relative;}#sk-container-id-3 div.sk-item::before, #sk-container-id-3 div.sk-parallel-item::before {content: \"\";position: absolute;border-left: 1px solid gray;box-sizing: border-box;top: 0;bottom: 0;left: 50%;z-index: -1;}#sk-container-id-3 div.sk-parallel-item {display: flex;flex-direction: column;z-index: 1;position: relative;background-color: white;}#sk-container-id-3 div.sk-parallel-item:first-child::after {align-self: flex-end;width: 50%;}#sk-container-id-3 div.sk-parallel-item:last-child::after {align-self: flex-start;width: 50%;}#sk-container-id-3 div.sk-parallel-item:only-child::after {width: 0;}#sk-container-id-3 div.sk-dashed-wrapped {border: 1px dashed gray;margin: 0 0.4em 0.5em 0.4em;box-sizing: border-box;padding-bottom: 0.4em;background-color: white;}#sk-container-id-3 div.sk-label label {font-family: monospace;font-weight: bold;display: inline-block;line-height: 1.2em;}#sk-container-id-3 div.sk-label-container {text-align: center;}#sk-container-id-3 div.sk-container {/* jupyter's `normalize.less` sets `[hidden] { display: none; }` but bootstrap.min.css set `[hidden] { display: none !important; }` so we also need the `!important` here to be able to override the default hidden behavior on the sphinx rendered scikit-learn.org. See: https://github.com/scikit-learn/scikit-learn/issues/21755 */display: inline-block !important;position: relative;}#sk-container-id-3 div.sk-text-repr-fallback {display: none;}</style><div id=\"sk-container-id-3\" class=\"sk-top-container\"><div class=\"sk-text-repr-fallback\"><pre>Pipeline(steps=[(&#x27;kmeans&#x27;, KMeans(n_clusters=50)),\n",
              "                (&#x27;log_reg&#x27;, LogisticRegression())])</pre><b>In a Jupyter environment, please rerun this cell to show the HTML representation or trust the notebook. <br />On GitHub, the HTML representation is unable to render, please try loading this page with nbviewer.org.</b></div><div class=\"sk-container\" hidden><div class=\"sk-item sk-dashed-wrapped\"><div class=\"sk-label-container\"><div class=\"sk-label sk-toggleable\"><input class=\"sk-toggleable__control sk-hidden--visually\" id=\"sk-estimator-id-3\" type=\"checkbox\" ><label for=\"sk-estimator-id-3\" class=\"sk-toggleable__label sk-toggleable__label-arrow\">Pipeline</label><div class=\"sk-toggleable__content\"><pre>Pipeline(steps=[(&#x27;kmeans&#x27;, KMeans(n_clusters=50)),\n",
              "                (&#x27;log_reg&#x27;, LogisticRegression())])</pre></div></div></div><div class=\"sk-serial\"><div class=\"sk-item\"><div class=\"sk-estimator sk-toggleable\"><input class=\"sk-toggleable__control sk-hidden--visually\" id=\"sk-estimator-id-4\" type=\"checkbox\" ><label for=\"sk-estimator-id-4\" class=\"sk-toggleable__label sk-toggleable__label-arrow\">KMeans</label><div class=\"sk-toggleable__content\"><pre>KMeans(n_clusters=50)</pre></div></div></div><div class=\"sk-item\"><div class=\"sk-estimator sk-toggleable\"><input class=\"sk-toggleable__control sk-hidden--visually\" id=\"sk-estimator-id-5\" type=\"checkbox\" ><label for=\"sk-estimator-id-5\" class=\"sk-toggleable__label sk-toggleable__label-arrow\">LogisticRegression</label><div class=\"sk-toggleable__content\"><pre>LogisticRegression()</pre></div></div></div></div></div></div></div>"
            ]
          },
          "metadata": {},
          "execution_count": 18
        }
      ]
    },
    {
      "cell_type": "code",
      "source": [
        "# 이 분류 파이프라인 평가\n",
        "pipeline.score(X_test, y_test)"
      ],
      "metadata": {
        "colab": {
          "base_uri": "https://localhost:8080/"
        },
        "id": "rPMCbULMWRMI",
        "outputId": "ee173551-0c76-4d0e-ec12-c43cc6887504"
      },
      "execution_count": 19,
      "outputs": [
        {
          "output_type": "execute_result",
          "data": {
            "text/plain": [
              "0.9822222222222222"
            ]
          },
          "metadata": {},
          "execution_count": 19
        }
      ]
    },
    {
      "cell_type": "markdown",
      "source": [
        "=> 3.1%에서 약 2.2%로 오차율 줄였다"
      ],
      "metadata": {
        "id": "HiHq9_syWXHp"
      }
    },
    {
      "cell_type": "code",
      "source": [
        "# GridSearchCV 사용해 최적의 클러스터 개수 k 찾기\n",
        "from sklearn.model_selection import GridSearchCV\n",
        "\n",
        "param_grid = dict(kmeans__n_clusters = range(2,100))\n",
        "grid_clf = GridSearchCV(pipeline, param_grid, cv=3, verbose=2)\n",
        "grid_clf.fit(X_train, y_train)"
      ],
      "metadata": {
        "colab": {
          "base_uri": "https://localhost:8080/",
          "height": 1000
        },
        "id": "bDDaM0wfWi7_",
        "outputId": "ec09aa19-4618-4610-b9f0-2a09e0264e52"
      },
      "execution_count": 20,
      "outputs": [
        {
          "output_type": "stream",
          "name": "stderr",
          "text": [
            "/usr/local/lib/python3.9/dist-packages/sklearn/cluster/_kmeans.py:870: FutureWarning: The default value of `n_init` will change from 10 to 'auto' in 1.4. Set the value of `n_init` explicitly to suppress the warning\n",
            "  warnings.warn(\n"
          ]
        },
        {
          "output_type": "stream",
          "name": "stdout",
          "text": [
            "Fitting 3 folds for each of 98 candidates, totalling 294 fits\n"
          ]
        },
        {
          "output_type": "stream",
          "name": "stderr",
          "text": [
            "/usr/local/lib/python3.9/dist-packages/sklearn/linear_model/_logistic.py:458: ConvergenceWarning: lbfgs failed to converge (status=1):\n",
            "STOP: TOTAL NO. of ITERATIONS REACHED LIMIT.\n",
            "\n",
            "Increase the number of iterations (max_iter) or scale the data as shown in:\n",
            "    https://scikit-learn.org/stable/modules/preprocessing.html\n",
            "Please also refer to the documentation for alternative solver options:\n",
            "    https://scikit-learn.org/stable/modules/linear_model.html#logistic-regression\n",
            "  n_iter_i = _check_optimize_result(\n",
            "/usr/local/lib/python3.9/dist-packages/sklearn/cluster/_kmeans.py:870: FutureWarning: The default value of `n_init` will change from 10 to 'auto' in 1.4. Set the value of `n_init` explicitly to suppress the warning\n",
            "  warnings.warn(\n"
          ]
        },
        {
          "output_type": "stream",
          "name": "stdout",
          "text": [
            "[CV] END ...............................kmeans__n_clusters=2; total time=   0.5s\n"
          ]
        },
        {
          "output_type": "stream",
          "name": "stderr",
          "text": [
            "/usr/local/lib/python3.9/dist-packages/sklearn/linear_model/_logistic.py:458: ConvergenceWarning: lbfgs failed to converge (status=1):\n",
            "STOP: TOTAL NO. of ITERATIONS REACHED LIMIT.\n",
            "\n",
            "Increase the number of iterations (max_iter) or scale the data as shown in:\n",
            "    https://scikit-learn.org/stable/modules/preprocessing.html\n",
            "Please also refer to the documentation for alternative solver options:\n",
            "    https://scikit-learn.org/stable/modules/linear_model.html#logistic-regression\n",
            "  n_iter_i = _check_optimize_result(\n",
            "/usr/local/lib/python3.9/dist-packages/sklearn/cluster/_kmeans.py:870: FutureWarning: The default value of `n_init` will change from 10 to 'auto' in 1.4. Set the value of `n_init` explicitly to suppress the warning\n",
            "  warnings.warn(\n"
          ]
        },
        {
          "output_type": "stream",
          "name": "stdout",
          "text": [
            "[CV] END ...............................kmeans__n_clusters=2; total time=   0.8s\n"
          ]
        },
        {
          "output_type": "stream",
          "name": "stderr",
          "text": [
            "/usr/local/lib/python3.9/dist-packages/sklearn/linear_model/_logistic.py:458: ConvergenceWarning: lbfgs failed to converge (status=1):\n",
            "STOP: TOTAL NO. of ITERATIONS REACHED LIMIT.\n",
            "\n",
            "Increase the number of iterations (max_iter) or scale the data as shown in:\n",
            "    https://scikit-learn.org/stable/modules/preprocessing.html\n",
            "Please also refer to the documentation for alternative solver options:\n",
            "    https://scikit-learn.org/stable/modules/linear_model.html#logistic-regression\n",
            "  n_iter_i = _check_optimize_result(\n",
            "/usr/local/lib/python3.9/dist-packages/sklearn/cluster/_kmeans.py:870: FutureWarning: The default value of `n_init` will change from 10 to 'auto' in 1.4. Set the value of `n_init` explicitly to suppress the warning\n",
            "  warnings.warn(\n"
          ]
        },
        {
          "output_type": "stream",
          "name": "stdout",
          "text": [
            "[CV] END ...............................kmeans__n_clusters=2; total time=   0.6s\n"
          ]
        },
        {
          "output_type": "stream",
          "name": "stderr",
          "text": [
            "/usr/local/lib/python3.9/dist-packages/sklearn/linear_model/_logistic.py:458: ConvergenceWarning: lbfgs failed to converge (status=1):\n",
            "STOP: TOTAL NO. of ITERATIONS REACHED LIMIT.\n",
            "\n",
            "Increase the number of iterations (max_iter) or scale the data as shown in:\n",
            "    https://scikit-learn.org/stable/modules/preprocessing.html\n",
            "Please also refer to the documentation for alternative solver options:\n",
            "    https://scikit-learn.org/stable/modules/linear_model.html#logistic-regression\n",
            "  n_iter_i = _check_optimize_result(\n",
            "/usr/local/lib/python3.9/dist-packages/sklearn/cluster/_kmeans.py:870: FutureWarning: The default value of `n_init` will change from 10 to 'auto' in 1.4. Set the value of `n_init` explicitly to suppress the warning\n",
            "  warnings.warn(\n"
          ]
        },
        {
          "output_type": "stream",
          "name": "stdout",
          "text": [
            "[CV] END ...............................kmeans__n_clusters=3; total time=   0.5s\n"
          ]
        },
        {
          "output_type": "stream",
          "name": "stderr",
          "text": [
            "/usr/local/lib/python3.9/dist-packages/sklearn/linear_model/_logistic.py:458: ConvergenceWarning: lbfgs failed to converge (status=1):\n",
            "STOP: TOTAL NO. of ITERATIONS REACHED LIMIT.\n",
            "\n",
            "Increase the number of iterations (max_iter) or scale the data as shown in:\n",
            "    https://scikit-learn.org/stable/modules/preprocessing.html\n",
            "Please also refer to the documentation for alternative solver options:\n",
            "    https://scikit-learn.org/stable/modules/linear_model.html#logistic-regression\n",
            "  n_iter_i = _check_optimize_result(\n",
            "/usr/local/lib/python3.9/dist-packages/sklearn/cluster/_kmeans.py:870: FutureWarning: The default value of `n_init` will change from 10 to 'auto' in 1.4. Set the value of `n_init` explicitly to suppress the warning\n",
            "  warnings.warn(\n"
          ]
        },
        {
          "output_type": "stream",
          "name": "stdout",
          "text": [
            "[CV] END ...............................kmeans__n_clusters=3; total time=   0.8s\n"
          ]
        },
        {
          "output_type": "stream",
          "name": "stderr",
          "text": [
            "/usr/local/lib/python3.9/dist-packages/sklearn/linear_model/_logistic.py:458: ConvergenceWarning: lbfgs failed to converge (status=1):\n",
            "STOP: TOTAL NO. of ITERATIONS REACHED LIMIT.\n",
            "\n",
            "Increase the number of iterations (max_iter) or scale the data as shown in:\n",
            "    https://scikit-learn.org/stable/modules/preprocessing.html\n",
            "Please also refer to the documentation for alternative solver options:\n",
            "    https://scikit-learn.org/stable/modules/linear_model.html#logistic-regression\n",
            "  n_iter_i = _check_optimize_result(\n",
            "/usr/local/lib/python3.9/dist-packages/sklearn/cluster/_kmeans.py:870: FutureWarning: The default value of `n_init` will change from 10 to 'auto' in 1.4. Set the value of `n_init` explicitly to suppress the warning\n",
            "  warnings.warn(\n"
          ]
        },
        {
          "output_type": "stream",
          "name": "stdout",
          "text": [
            "[CV] END ...............................kmeans__n_clusters=3; total time=   1.4s\n"
          ]
        },
        {
          "output_type": "stream",
          "name": "stderr",
          "text": [
            "/usr/local/lib/python3.9/dist-packages/sklearn/linear_model/_logistic.py:458: ConvergenceWarning: lbfgs failed to converge (status=1):\n",
            "STOP: TOTAL NO. of ITERATIONS REACHED LIMIT.\n",
            "\n",
            "Increase the number of iterations (max_iter) or scale the data as shown in:\n",
            "    https://scikit-learn.org/stable/modules/preprocessing.html\n",
            "Please also refer to the documentation for alternative solver options:\n",
            "    https://scikit-learn.org/stable/modules/linear_model.html#logistic-regression\n",
            "  n_iter_i = _check_optimize_result(\n",
            "/usr/local/lib/python3.9/dist-packages/sklearn/cluster/_kmeans.py:870: FutureWarning: The default value of `n_init` will change from 10 to 'auto' in 1.4. Set the value of `n_init` explicitly to suppress the warning\n",
            "  warnings.warn(\n"
          ]
        },
        {
          "output_type": "stream",
          "name": "stdout",
          "text": [
            "[CV] END ...............................kmeans__n_clusters=4; total time=   1.0s\n"
          ]
        },
        {
          "output_type": "stream",
          "name": "stderr",
          "text": [
            "/usr/local/lib/python3.9/dist-packages/sklearn/linear_model/_logistic.py:458: ConvergenceWarning: lbfgs failed to converge (status=1):\n",
            "STOP: TOTAL NO. of ITERATIONS REACHED LIMIT.\n",
            "\n",
            "Increase the number of iterations (max_iter) or scale the data as shown in:\n",
            "    https://scikit-learn.org/stable/modules/preprocessing.html\n",
            "Please also refer to the documentation for alternative solver options:\n",
            "    https://scikit-learn.org/stable/modules/linear_model.html#logistic-regression\n",
            "  n_iter_i = _check_optimize_result(\n",
            "/usr/local/lib/python3.9/dist-packages/sklearn/cluster/_kmeans.py:870: FutureWarning: The default value of `n_init` will change from 10 to 'auto' in 1.4. Set the value of `n_init` explicitly to suppress the warning\n",
            "  warnings.warn(\n"
          ]
        },
        {
          "output_type": "stream",
          "name": "stdout",
          "text": [
            "[CV] END ...............................kmeans__n_clusters=4; total time=   0.8s\n"
          ]
        },
        {
          "output_type": "stream",
          "name": "stderr",
          "text": [
            "/usr/local/lib/python3.9/dist-packages/sklearn/linear_model/_logistic.py:458: ConvergenceWarning: lbfgs failed to converge (status=1):\n",
            "STOP: TOTAL NO. of ITERATIONS REACHED LIMIT.\n",
            "\n",
            "Increase the number of iterations (max_iter) or scale the data as shown in:\n",
            "    https://scikit-learn.org/stable/modules/preprocessing.html\n",
            "Please also refer to the documentation for alternative solver options:\n",
            "    https://scikit-learn.org/stable/modules/linear_model.html#logistic-regression\n",
            "  n_iter_i = _check_optimize_result(\n",
            "/usr/local/lib/python3.9/dist-packages/sklearn/cluster/_kmeans.py:870: FutureWarning: The default value of `n_init` will change from 10 to 'auto' in 1.4. Set the value of `n_init` explicitly to suppress the warning\n",
            "  warnings.warn(\n"
          ]
        },
        {
          "output_type": "stream",
          "name": "stdout",
          "text": [
            "[CV] END ...............................kmeans__n_clusters=4; total time=   2.4s\n"
          ]
        },
        {
          "output_type": "stream",
          "name": "stderr",
          "text": [
            "/usr/local/lib/python3.9/dist-packages/sklearn/linear_model/_logistic.py:458: ConvergenceWarning: lbfgs failed to converge (status=1):\n",
            "STOP: TOTAL NO. of ITERATIONS REACHED LIMIT.\n",
            "\n",
            "Increase the number of iterations (max_iter) or scale the data as shown in:\n",
            "    https://scikit-learn.org/stable/modules/preprocessing.html\n",
            "Please also refer to the documentation for alternative solver options:\n",
            "    https://scikit-learn.org/stable/modules/linear_model.html#logistic-regression\n",
            "  n_iter_i = _check_optimize_result(\n",
            "/usr/local/lib/python3.9/dist-packages/sklearn/cluster/_kmeans.py:870: FutureWarning: The default value of `n_init` will change from 10 to 'auto' in 1.4. Set the value of `n_init` explicitly to suppress the warning\n",
            "  warnings.warn(\n"
          ]
        },
        {
          "output_type": "stream",
          "name": "stdout",
          "text": [
            "[CV] END ...............................kmeans__n_clusters=5; total time=   1.0s\n"
          ]
        },
        {
          "output_type": "stream",
          "name": "stderr",
          "text": [
            "/usr/local/lib/python3.9/dist-packages/sklearn/linear_model/_logistic.py:458: ConvergenceWarning: lbfgs failed to converge (status=1):\n",
            "STOP: TOTAL NO. of ITERATIONS REACHED LIMIT.\n",
            "\n",
            "Increase the number of iterations (max_iter) or scale the data as shown in:\n",
            "    https://scikit-learn.org/stable/modules/preprocessing.html\n",
            "Please also refer to the documentation for alternative solver options:\n",
            "    https://scikit-learn.org/stable/modules/linear_model.html#logistic-regression\n",
            "  n_iter_i = _check_optimize_result(\n",
            "/usr/local/lib/python3.9/dist-packages/sklearn/cluster/_kmeans.py:870: FutureWarning: The default value of `n_init` will change from 10 to 'auto' in 1.4. Set the value of `n_init` explicitly to suppress the warning\n",
            "  warnings.warn(\n"
          ]
        },
        {
          "output_type": "stream",
          "name": "stdout",
          "text": [
            "[CV] END ...............................kmeans__n_clusters=5; total time=   1.0s\n"
          ]
        },
        {
          "output_type": "stream",
          "name": "stderr",
          "text": [
            "/usr/local/lib/python3.9/dist-packages/sklearn/linear_model/_logistic.py:458: ConvergenceWarning: lbfgs failed to converge (status=1):\n",
            "STOP: TOTAL NO. of ITERATIONS REACHED LIMIT.\n",
            "\n",
            "Increase the number of iterations (max_iter) or scale the data as shown in:\n",
            "    https://scikit-learn.org/stable/modules/preprocessing.html\n",
            "Please also refer to the documentation for alternative solver options:\n",
            "    https://scikit-learn.org/stable/modules/linear_model.html#logistic-regression\n",
            "  n_iter_i = _check_optimize_result(\n",
            "/usr/local/lib/python3.9/dist-packages/sklearn/cluster/_kmeans.py:870: FutureWarning: The default value of `n_init` will change from 10 to 'auto' in 1.4. Set the value of `n_init` explicitly to suppress the warning\n",
            "  warnings.warn(\n"
          ]
        },
        {
          "output_type": "stream",
          "name": "stdout",
          "text": [
            "[CV] END ...............................kmeans__n_clusters=5; total time=   0.6s\n"
          ]
        },
        {
          "output_type": "stream",
          "name": "stderr",
          "text": [
            "/usr/local/lib/python3.9/dist-packages/sklearn/linear_model/_logistic.py:458: ConvergenceWarning: lbfgs failed to converge (status=1):\n",
            "STOP: TOTAL NO. of ITERATIONS REACHED LIMIT.\n",
            "\n",
            "Increase the number of iterations (max_iter) or scale the data as shown in:\n",
            "    https://scikit-learn.org/stable/modules/preprocessing.html\n",
            "Please also refer to the documentation for alternative solver options:\n",
            "    https://scikit-learn.org/stable/modules/linear_model.html#logistic-regression\n",
            "  n_iter_i = _check_optimize_result(\n",
            "/usr/local/lib/python3.9/dist-packages/sklearn/cluster/_kmeans.py:870: FutureWarning: The default value of `n_init` will change from 10 to 'auto' in 1.4. Set the value of `n_init` explicitly to suppress the warning\n",
            "  warnings.warn(\n"
          ]
        },
        {
          "output_type": "stream",
          "name": "stdout",
          "text": [
            "[CV] END ...............................kmeans__n_clusters=6; total time=   0.7s\n"
          ]
        },
        {
          "output_type": "stream",
          "name": "stderr",
          "text": [
            "/usr/local/lib/python3.9/dist-packages/sklearn/linear_model/_logistic.py:458: ConvergenceWarning: lbfgs failed to converge (status=1):\n",
            "STOP: TOTAL NO. of ITERATIONS REACHED LIMIT.\n",
            "\n",
            "Increase the number of iterations (max_iter) or scale the data as shown in:\n",
            "    https://scikit-learn.org/stable/modules/preprocessing.html\n",
            "Please also refer to the documentation for alternative solver options:\n",
            "    https://scikit-learn.org/stable/modules/linear_model.html#logistic-regression\n",
            "  n_iter_i = _check_optimize_result(\n",
            "/usr/local/lib/python3.9/dist-packages/sklearn/cluster/_kmeans.py:870: FutureWarning: The default value of `n_init` will change from 10 to 'auto' in 1.4. Set the value of `n_init` explicitly to suppress the warning\n",
            "  warnings.warn(\n"
          ]
        },
        {
          "output_type": "stream",
          "name": "stdout",
          "text": [
            "[CV] END ...............................kmeans__n_clusters=6; total time=   0.5s\n"
          ]
        },
        {
          "output_type": "stream",
          "name": "stderr",
          "text": [
            "/usr/local/lib/python3.9/dist-packages/sklearn/linear_model/_logistic.py:458: ConvergenceWarning: lbfgs failed to converge (status=1):\n",
            "STOP: TOTAL NO. of ITERATIONS REACHED LIMIT.\n",
            "\n",
            "Increase the number of iterations (max_iter) or scale the data as shown in:\n",
            "    https://scikit-learn.org/stable/modules/preprocessing.html\n",
            "Please also refer to the documentation for alternative solver options:\n",
            "    https://scikit-learn.org/stable/modules/linear_model.html#logistic-regression\n",
            "  n_iter_i = _check_optimize_result(\n",
            "/usr/local/lib/python3.9/dist-packages/sklearn/cluster/_kmeans.py:870: FutureWarning: The default value of `n_init` will change from 10 to 'auto' in 1.4. Set the value of `n_init` explicitly to suppress the warning\n",
            "  warnings.warn(\n"
          ]
        },
        {
          "output_type": "stream",
          "name": "stdout",
          "text": [
            "[CV] END ...............................kmeans__n_clusters=6; total time=   1.0s\n"
          ]
        },
        {
          "output_type": "stream",
          "name": "stderr",
          "text": [
            "/usr/local/lib/python3.9/dist-packages/sklearn/linear_model/_logistic.py:458: ConvergenceWarning: lbfgs failed to converge (status=1):\n",
            "STOP: TOTAL NO. of ITERATIONS REACHED LIMIT.\n",
            "\n",
            "Increase the number of iterations (max_iter) or scale the data as shown in:\n",
            "    https://scikit-learn.org/stable/modules/preprocessing.html\n",
            "Please also refer to the documentation for alternative solver options:\n",
            "    https://scikit-learn.org/stable/modules/linear_model.html#logistic-regression\n",
            "  n_iter_i = _check_optimize_result(\n",
            "/usr/local/lib/python3.9/dist-packages/sklearn/cluster/_kmeans.py:870: FutureWarning: The default value of `n_init` will change from 10 to 'auto' in 1.4. Set the value of `n_init` explicitly to suppress the warning\n",
            "  warnings.warn(\n"
          ]
        },
        {
          "output_type": "stream",
          "name": "stdout",
          "text": [
            "[CV] END ...............................kmeans__n_clusters=7; total time=   1.1s\n"
          ]
        },
        {
          "output_type": "stream",
          "name": "stderr",
          "text": [
            "/usr/local/lib/python3.9/dist-packages/sklearn/linear_model/_logistic.py:458: ConvergenceWarning: lbfgs failed to converge (status=1):\n",
            "STOP: TOTAL NO. of ITERATIONS REACHED LIMIT.\n",
            "\n",
            "Increase the number of iterations (max_iter) or scale the data as shown in:\n",
            "    https://scikit-learn.org/stable/modules/preprocessing.html\n",
            "Please also refer to the documentation for alternative solver options:\n",
            "    https://scikit-learn.org/stable/modules/linear_model.html#logistic-regression\n",
            "  n_iter_i = _check_optimize_result(\n",
            "/usr/local/lib/python3.9/dist-packages/sklearn/cluster/_kmeans.py:870: FutureWarning: The default value of `n_init` will change from 10 to 'auto' in 1.4. Set the value of `n_init` explicitly to suppress the warning\n",
            "  warnings.warn(\n"
          ]
        },
        {
          "output_type": "stream",
          "name": "stdout",
          "text": [
            "[CV] END ...............................kmeans__n_clusters=7; total time=   0.5s\n"
          ]
        },
        {
          "output_type": "stream",
          "name": "stderr",
          "text": [
            "/usr/local/lib/python3.9/dist-packages/sklearn/linear_model/_logistic.py:458: ConvergenceWarning: lbfgs failed to converge (status=1):\n",
            "STOP: TOTAL NO. of ITERATIONS REACHED LIMIT.\n",
            "\n",
            "Increase the number of iterations (max_iter) or scale the data as shown in:\n",
            "    https://scikit-learn.org/stable/modules/preprocessing.html\n",
            "Please also refer to the documentation for alternative solver options:\n",
            "    https://scikit-learn.org/stable/modules/linear_model.html#logistic-regression\n",
            "  n_iter_i = _check_optimize_result(\n",
            "/usr/local/lib/python3.9/dist-packages/sklearn/cluster/_kmeans.py:870: FutureWarning: The default value of `n_init` will change from 10 to 'auto' in 1.4. Set the value of `n_init` explicitly to suppress the warning\n",
            "  warnings.warn(\n"
          ]
        },
        {
          "output_type": "stream",
          "name": "stdout",
          "text": [
            "[CV] END ...............................kmeans__n_clusters=7; total time=   0.7s\n"
          ]
        },
        {
          "output_type": "stream",
          "name": "stderr",
          "text": [
            "/usr/local/lib/python3.9/dist-packages/sklearn/linear_model/_logistic.py:458: ConvergenceWarning: lbfgs failed to converge (status=1):\n",
            "STOP: TOTAL NO. of ITERATIONS REACHED LIMIT.\n",
            "\n",
            "Increase the number of iterations (max_iter) or scale the data as shown in:\n",
            "    https://scikit-learn.org/stable/modules/preprocessing.html\n",
            "Please also refer to the documentation for alternative solver options:\n",
            "    https://scikit-learn.org/stable/modules/linear_model.html#logistic-regression\n",
            "  n_iter_i = _check_optimize_result(\n",
            "/usr/local/lib/python3.9/dist-packages/sklearn/cluster/_kmeans.py:870: FutureWarning: The default value of `n_init` will change from 10 to 'auto' in 1.4. Set the value of `n_init` explicitly to suppress the warning\n",
            "  warnings.warn(\n"
          ]
        },
        {
          "output_type": "stream",
          "name": "stdout",
          "text": [
            "[CV] END ...............................kmeans__n_clusters=8; total time=   0.6s\n"
          ]
        },
        {
          "output_type": "stream",
          "name": "stderr",
          "text": [
            "/usr/local/lib/python3.9/dist-packages/sklearn/linear_model/_logistic.py:458: ConvergenceWarning: lbfgs failed to converge (status=1):\n",
            "STOP: TOTAL NO. of ITERATIONS REACHED LIMIT.\n",
            "\n",
            "Increase the number of iterations (max_iter) or scale the data as shown in:\n",
            "    https://scikit-learn.org/stable/modules/preprocessing.html\n",
            "Please also refer to the documentation for alternative solver options:\n",
            "    https://scikit-learn.org/stable/modules/linear_model.html#logistic-regression\n",
            "  n_iter_i = _check_optimize_result(\n",
            "/usr/local/lib/python3.9/dist-packages/sklearn/cluster/_kmeans.py:870: FutureWarning: The default value of `n_init` will change from 10 to 'auto' in 1.4. Set the value of `n_init` explicitly to suppress the warning\n",
            "  warnings.warn(\n"
          ]
        },
        {
          "output_type": "stream",
          "name": "stdout",
          "text": [
            "[CV] END ...............................kmeans__n_clusters=8; total time=   1.1s\n"
          ]
        },
        {
          "output_type": "stream",
          "name": "stderr",
          "text": [
            "/usr/local/lib/python3.9/dist-packages/sklearn/linear_model/_logistic.py:458: ConvergenceWarning: lbfgs failed to converge (status=1):\n",
            "STOP: TOTAL NO. of ITERATIONS REACHED LIMIT.\n",
            "\n",
            "Increase the number of iterations (max_iter) or scale the data as shown in:\n",
            "    https://scikit-learn.org/stable/modules/preprocessing.html\n",
            "Please also refer to the documentation for alternative solver options:\n",
            "    https://scikit-learn.org/stable/modules/linear_model.html#logistic-regression\n",
            "  n_iter_i = _check_optimize_result(\n",
            "/usr/local/lib/python3.9/dist-packages/sklearn/cluster/_kmeans.py:870: FutureWarning: The default value of `n_init` will change from 10 to 'auto' in 1.4. Set the value of `n_init` explicitly to suppress the warning\n",
            "  warnings.warn(\n"
          ]
        },
        {
          "output_type": "stream",
          "name": "stdout",
          "text": [
            "[CV] END ...............................kmeans__n_clusters=8; total time=   2.3s\n"
          ]
        },
        {
          "output_type": "stream",
          "name": "stderr",
          "text": [
            "/usr/local/lib/python3.9/dist-packages/sklearn/linear_model/_logistic.py:458: ConvergenceWarning: lbfgs failed to converge (status=1):\n",
            "STOP: TOTAL NO. of ITERATIONS REACHED LIMIT.\n",
            "\n",
            "Increase the number of iterations (max_iter) or scale the data as shown in:\n",
            "    https://scikit-learn.org/stable/modules/preprocessing.html\n",
            "Please also refer to the documentation for alternative solver options:\n",
            "    https://scikit-learn.org/stable/modules/linear_model.html#logistic-regression\n",
            "  n_iter_i = _check_optimize_result(\n",
            "/usr/local/lib/python3.9/dist-packages/sklearn/cluster/_kmeans.py:870: FutureWarning: The default value of `n_init` will change from 10 to 'auto' in 1.4. Set the value of `n_init` explicitly to suppress the warning\n",
            "  warnings.warn(\n"
          ]
        },
        {
          "output_type": "stream",
          "name": "stdout",
          "text": [
            "[CV] END ...............................kmeans__n_clusters=9; total time=   2.2s\n"
          ]
        },
        {
          "output_type": "stream",
          "name": "stderr",
          "text": [
            "/usr/local/lib/python3.9/dist-packages/sklearn/linear_model/_logistic.py:458: ConvergenceWarning: lbfgs failed to converge (status=1):\n",
            "STOP: TOTAL NO. of ITERATIONS REACHED LIMIT.\n",
            "\n",
            "Increase the number of iterations (max_iter) or scale the data as shown in:\n",
            "    https://scikit-learn.org/stable/modules/preprocessing.html\n",
            "Please also refer to the documentation for alternative solver options:\n",
            "    https://scikit-learn.org/stable/modules/linear_model.html#logistic-regression\n",
            "  n_iter_i = _check_optimize_result(\n",
            "/usr/local/lib/python3.9/dist-packages/sklearn/cluster/_kmeans.py:870: FutureWarning: The default value of `n_init` will change from 10 to 'auto' in 1.4. Set the value of `n_init` explicitly to suppress the warning\n",
            "  warnings.warn(\n"
          ]
        },
        {
          "output_type": "stream",
          "name": "stdout",
          "text": [
            "[CV] END ...............................kmeans__n_clusters=9; total time=   0.7s\n"
          ]
        },
        {
          "output_type": "stream",
          "name": "stderr",
          "text": [
            "/usr/local/lib/python3.9/dist-packages/sklearn/linear_model/_logistic.py:458: ConvergenceWarning: lbfgs failed to converge (status=1):\n",
            "STOP: TOTAL NO. of ITERATIONS REACHED LIMIT.\n",
            "\n",
            "Increase the number of iterations (max_iter) or scale the data as shown in:\n",
            "    https://scikit-learn.org/stable/modules/preprocessing.html\n",
            "Please also refer to the documentation for alternative solver options:\n",
            "    https://scikit-learn.org/stable/modules/linear_model.html#logistic-regression\n",
            "  n_iter_i = _check_optimize_result(\n",
            "/usr/local/lib/python3.9/dist-packages/sklearn/cluster/_kmeans.py:870: FutureWarning: The default value of `n_init` will change from 10 to 'auto' in 1.4. Set the value of `n_init` explicitly to suppress the warning\n",
            "  warnings.warn(\n"
          ]
        },
        {
          "output_type": "stream",
          "name": "stdout",
          "text": [
            "[CV] END ...............................kmeans__n_clusters=9; total time=   0.4s\n"
          ]
        },
        {
          "output_type": "stream",
          "name": "stderr",
          "text": [
            "/usr/local/lib/python3.9/dist-packages/sklearn/linear_model/_logistic.py:458: ConvergenceWarning: lbfgs failed to converge (status=1):\n",
            "STOP: TOTAL NO. of ITERATIONS REACHED LIMIT.\n",
            "\n",
            "Increase the number of iterations (max_iter) or scale the data as shown in:\n",
            "    https://scikit-learn.org/stable/modules/preprocessing.html\n",
            "Please also refer to the documentation for alternative solver options:\n",
            "    https://scikit-learn.org/stable/modules/linear_model.html#logistic-regression\n",
            "  n_iter_i = _check_optimize_result(\n",
            "/usr/local/lib/python3.9/dist-packages/sklearn/cluster/_kmeans.py:870: FutureWarning: The default value of `n_init` will change from 10 to 'auto' in 1.4. Set the value of `n_init` explicitly to suppress the warning\n",
            "  warnings.warn(\n"
          ]
        },
        {
          "output_type": "stream",
          "name": "stdout",
          "text": [
            "[CV] END ..............................kmeans__n_clusters=10; total time=   0.4s\n"
          ]
        },
        {
          "output_type": "stream",
          "name": "stderr",
          "text": [
            "/usr/local/lib/python3.9/dist-packages/sklearn/linear_model/_logistic.py:458: ConvergenceWarning: lbfgs failed to converge (status=1):\n",
            "STOP: TOTAL NO. of ITERATIONS REACHED LIMIT.\n",
            "\n",
            "Increase the number of iterations (max_iter) or scale the data as shown in:\n",
            "    https://scikit-learn.org/stable/modules/preprocessing.html\n",
            "Please also refer to the documentation for alternative solver options:\n",
            "    https://scikit-learn.org/stable/modules/linear_model.html#logistic-regression\n",
            "  n_iter_i = _check_optimize_result(\n",
            "/usr/local/lib/python3.9/dist-packages/sklearn/cluster/_kmeans.py:870: FutureWarning: The default value of `n_init` will change from 10 to 'auto' in 1.4. Set the value of `n_init` explicitly to suppress the warning\n",
            "  warnings.warn(\n"
          ]
        },
        {
          "output_type": "stream",
          "name": "stdout",
          "text": [
            "[CV] END ..............................kmeans__n_clusters=10; total time=   0.5s\n"
          ]
        },
        {
          "output_type": "stream",
          "name": "stderr",
          "text": [
            "/usr/local/lib/python3.9/dist-packages/sklearn/linear_model/_logistic.py:458: ConvergenceWarning: lbfgs failed to converge (status=1):\n",
            "STOP: TOTAL NO. of ITERATIONS REACHED LIMIT.\n",
            "\n",
            "Increase the number of iterations (max_iter) or scale the data as shown in:\n",
            "    https://scikit-learn.org/stable/modules/preprocessing.html\n",
            "Please also refer to the documentation for alternative solver options:\n",
            "    https://scikit-learn.org/stable/modules/linear_model.html#logistic-regression\n",
            "  n_iter_i = _check_optimize_result(\n",
            "/usr/local/lib/python3.9/dist-packages/sklearn/cluster/_kmeans.py:870: FutureWarning: The default value of `n_init` will change from 10 to 'auto' in 1.4. Set the value of `n_init` explicitly to suppress the warning\n",
            "  warnings.warn(\n"
          ]
        },
        {
          "output_type": "stream",
          "name": "stdout",
          "text": [
            "[CV] END ..............................kmeans__n_clusters=10; total time=   0.7s\n"
          ]
        },
        {
          "output_type": "stream",
          "name": "stderr",
          "text": [
            "/usr/local/lib/python3.9/dist-packages/sklearn/linear_model/_logistic.py:458: ConvergenceWarning: lbfgs failed to converge (status=1):\n",
            "STOP: TOTAL NO. of ITERATIONS REACHED LIMIT.\n",
            "\n",
            "Increase the number of iterations (max_iter) or scale the data as shown in:\n",
            "    https://scikit-learn.org/stable/modules/preprocessing.html\n",
            "Please also refer to the documentation for alternative solver options:\n",
            "    https://scikit-learn.org/stable/modules/linear_model.html#logistic-regression\n",
            "  n_iter_i = _check_optimize_result(\n",
            "/usr/local/lib/python3.9/dist-packages/sklearn/cluster/_kmeans.py:870: FutureWarning: The default value of `n_init` will change from 10 to 'auto' in 1.4. Set the value of `n_init` explicitly to suppress the warning\n",
            "  warnings.warn(\n"
          ]
        },
        {
          "output_type": "stream",
          "name": "stdout",
          "text": [
            "[CV] END ..............................kmeans__n_clusters=11; total time=   0.7s\n"
          ]
        },
        {
          "output_type": "stream",
          "name": "stderr",
          "text": [
            "/usr/local/lib/python3.9/dist-packages/sklearn/linear_model/_logistic.py:458: ConvergenceWarning: lbfgs failed to converge (status=1):\n",
            "STOP: TOTAL NO. of ITERATIONS REACHED LIMIT.\n",
            "\n",
            "Increase the number of iterations (max_iter) or scale the data as shown in:\n",
            "    https://scikit-learn.org/stable/modules/preprocessing.html\n",
            "Please also refer to the documentation for alternative solver options:\n",
            "    https://scikit-learn.org/stable/modules/linear_model.html#logistic-regression\n",
            "  n_iter_i = _check_optimize_result(\n",
            "/usr/local/lib/python3.9/dist-packages/sklearn/cluster/_kmeans.py:870: FutureWarning: The default value of `n_init` will change from 10 to 'auto' in 1.4. Set the value of `n_init` explicitly to suppress the warning\n",
            "  warnings.warn(\n"
          ]
        },
        {
          "output_type": "stream",
          "name": "stdout",
          "text": [
            "[CV] END ..............................kmeans__n_clusters=11; total time=   0.4s\n"
          ]
        },
        {
          "output_type": "stream",
          "name": "stderr",
          "text": [
            "/usr/local/lib/python3.9/dist-packages/sklearn/linear_model/_logistic.py:458: ConvergenceWarning: lbfgs failed to converge (status=1):\n",
            "STOP: TOTAL NO. of ITERATIONS REACHED LIMIT.\n",
            "\n",
            "Increase the number of iterations (max_iter) or scale the data as shown in:\n",
            "    https://scikit-learn.org/stable/modules/preprocessing.html\n",
            "Please also refer to the documentation for alternative solver options:\n",
            "    https://scikit-learn.org/stable/modules/linear_model.html#logistic-regression\n",
            "  n_iter_i = _check_optimize_result(\n",
            "/usr/local/lib/python3.9/dist-packages/sklearn/cluster/_kmeans.py:870: FutureWarning: The default value of `n_init` will change from 10 to 'auto' in 1.4. Set the value of `n_init` explicitly to suppress the warning\n",
            "  warnings.warn(\n"
          ]
        },
        {
          "output_type": "stream",
          "name": "stdout",
          "text": [
            "[CV] END ..............................kmeans__n_clusters=11; total time=   0.4s\n"
          ]
        },
        {
          "output_type": "stream",
          "name": "stderr",
          "text": [
            "/usr/local/lib/python3.9/dist-packages/sklearn/linear_model/_logistic.py:458: ConvergenceWarning: lbfgs failed to converge (status=1):\n",
            "STOP: TOTAL NO. of ITERATIONS REACHED LIMIT.\n",
            "\n",
            "Increase the number of iterations (max_iter) or scale the data as shown in:\n",
            "    https://scikit-learn.org/stable/modules/preprocessing.html\n",
            "Please also refer to the documentation for alternative solver options:\n",
            "    https://scikit-learn.org/stable/modules/linear_model.html#logistic-regression\n",
            "  n_iter_i = _check_optimize_result(\n",
            "/usr/local/lib/python3.9/dist-packages/sklearn/cluster/_kmeans.py:870: FutureWarning: The default value of `n_init` will change from 10 to 'auto' in 1.4. Set the value of `n_init` explicitly to suppress the warning\n",
            "  warnings.warn(\n"
          ]
        },
        {
          "output_type": "stream",
          "name": "stdout",
          "text": [
            "[CV] END ..............................kmeans__n_clusters=12; total time=   0.5s\n"
          ]
        },
        {
          "output_type": "stream",
          "name": "stderr",
          "text": [
            "/usr/local/lib/python3.9/dist-packages/sklearn/linear_model/_logistic.py:458: ConvergenceWarning: lbfgs failed to converge (status=1):\n",
            "STOP: TOTAL NO. of ITERATIONS REACHED LIMIT.\n",
            "\n",
            "Increase the number of iterations (max_iter) or scale the data as shown in:\n",
            "    https://scikit-learn.org/stable/modules/preprocessing.html\n",
            "Please also refer to the documentation for alternative solver options:\n",
            "    https://scikit-learn.org/stable/modules/linear_model.html#logistic-regression\n",
            "  n_iter_i = _check_optimize_result(\n",
            "/usr/local/lib/python3.9/dist-packages/sklearn/cluster/_kmeans.py:870: FutureWarning: The default value of `n_init` will change from 10 to 'auto' in 1.4. Set the value of `n_init` explicitly to suppress the warning\n",
            "  warnings.warn(\n",
            "/usr/local/lib/python3.9/dist-packages/sklearn/linear_model/_logistic.py:458: ConvergenceWarning: lbfgs failed to converge (status=1):\n",
            "STOP: TOTAL NO. of ITERATIONS REACHED LIMIT.\n",
            "\n",
            "Increase the number of iterations (max_iter) or scale the data as shown in:\n",
            "    https://scikit-learn.org/stable/modules/preprocessing.html\n",
            "Please also refer to the documentation for alternative solver options:\n",
            "    https://scikit-learn.org/stable/modules/linear_model.html#logistic-regression\n",
            "  n_iter_i = _check_optimize_result(\n",
            "/usr/local/lib/python3.9/dist-packages/sklearn/cluster/_kmeans.py:870: FutureWarning: The default value of `n_init` will change from 10 to 'auto' in 1.4. Set the value of `n_init` explicitly to suppress the warning\n",
            "  warnings.warn(\n"
          ]
        },
        {
          "output_type": "stream",
          "name": "stdout",
          "text": [
            "[CV] END ..............................kmeans__n_clusters=12; total time=   0.5s\n",
            "[CV] END ..............................kmeans__n_clusters=12; total time=   0.2s\n"
          ]
        },
        {
          "output_type": "stream",
          "name": "stderr",
          "text": [
            "/usr/local/lib/python3.9/dist-packages/sklearn/linear_model/_logistic.py:458: ConvergenceWarning: lbfgs failed to converge (status=1):\n",
            "STOP: TOTAL NO. of ITERATIONS REACHED LIMIT.\n",
            "\n",
            "Increase the number of iterations (max_iter) or scale the data as shown in:\n",
            "    https://scikit-learn.org/stable/modules/preprocessing.html\n",
            "Please also refer to the documentation for alternative solver options:\n",
            "    https://scikit-learn.org/stable/modules/linear_model.html#logistic-regression\n",
            "  n_iter_i = _check_optimize_result(\n",
            "/usr/local/lib/python3.9/dist-packages/sklearn/cluster/_kmeans.py:870: FutureWarning: The default value of `n_init` will change from 10 to 'auto' in 1.4. Set the value of `n_init` explicitly to suppress the warning\n",
            "  warnings.warn(\n"
          ]
        },
        {
          "output_type": "stream",
          "name": "stdout",
          "text": [
            "[CV] END ..............................kmeans__n_clusters=13; total time=   0.5s\n"
          ]
        },
        {
          "output_type": "stream",
          "name": "stderr",
          "text": [
            "/usr/local/lib/python3.9/dist-packages/sklearn/linear_model/_logistic.py:458: ConvergenceWarning: lbfgs failed to converge (status=1):\n",
            "STOP: TOTAL NO. of ITERATIONS REACHED LIMIT.\n",
            "\n",
            "Increase the number of iterations (max_iter) or scale the data as shown in:\n",
            "    https://scikit-learn.org/stable/modules/preprocessing.html\n",
            "Please also refer to the documentation for alternative solver options:\n",
            "    https://scikit-learn.org/stable/modules/linear_model.html#logistic-regression\n",
            "  n_iter_i = _check_optimize_result(\n",
            "/usr/local/lib/python3.9/dist-packages/sklearn/cluster/_kmeans.py:870: FutureWarning: The default value of `n_init` will change from 10 to 'auto' in 1.4. Set the value of `n_init` explicitly to suppress the warning\n",
            "  warnings.warn(\n"
          ]
        },
        {
          "output_type": "stream",
          "name": "stdout",
          "text": [
            "[CV] END ..............................kmeans__n_clusters=13; total time=   0.3s\n"
          ]
        },
        {
          "output_type": "stream",
          "name": "stderr",
          "text": [
            "/usr/local/lib/python3.9/dist-packages/sklearn/linear_model/_logistic.py:458: ConvergenceWarning: lbfgs failed to converge (status=1):\n",
            "STOP: TOTAL NO. of ITERATIONS REACHED LIMIT.\n",
            "\n",
            "Increase the number of iterations (max_iter) or scale the data as shown in:\n",
            "    https://scikit-learn.org/stable/modules/preprocessing.html\n",
            "Please also refer to the documentation for alternative solver options:\n",
            "    https://scikit-learn.org/stable/modules/linear_model.html#logistic-regression\n",
            "  n_iter_i = _check_optimize_result(\n",
            "/usr/local/lib/python3.9/dist-packages/sklearn/cluster/_kmeans.py:870: FutureWarning: The default value of `n_init` will change from 10 to 'auto' in 1.4. Set the value of `n_init` explicitly to suppress the warning\n",
            "  warnings.warn(\n"
          ]
        },
        {
          "output_type": "stream",
          "name": "stdout",
          "text": [
            "[CV] END ..............................kmeans__n_clusters=13; total time=   0.6s\n"
          ]
        },
        {
          "output_type": "stream",
          "name": "stderr",
          "text": [
            "/usr/local/lib/python3.9/dist-packages/sklearn/linear_model/_logistic.py:458: ConvergenceWarning: lbfgs failed to converge (status=1):\n",
            "STOP: TOTAL NO. of ITERATIONS REACHED LIMIT.\n",
            "\n",
            "Increase the number of iterations (max_iter) or scale the data as shown in:\n",
            "    https://scikit-learn.org/stable/modules/preprocessing.html\n",
            "Please also refer to the documentation for alternative solver options:\n",
            "    https://scikit-learn.org/stable/modules/linear_model.html#logistic-regression\n",
            "  n_iter_i = _check_optimize_result(\n",
            "/usr/local/lib/python3.9/dist-packages/sklearn/cluster/_kmeans.py:870: FutureWarning: The default value of `n_init` will change from 10 to 'auto' in 1.4. Set the value of `n_init` explicitly to suppress the warning\n",
            "  warnings.warn(\n"
          ]
        },
        {
          "output_type": "stream",
          "name": "stdout",
          "text": [
            "[CV] END ..............................kmeans__n_clusters=14; total time=   0.5s\n"
          ]
        },
        {
          "output_type": "stream",
          "name": "stderr",
          "text": [
            "/usr/local/lib/python3.9/dist-packages/sklearn/linear_model/_logistic.py:458: ConvergenceWarning: lbfgs failed to converge (status=1):\n",
            "STOP: TOTAL NO. of ITERATIONS REACHED LIMIT.\n",
            "\n",
            "Increase the number of iterations (max_iter) or scale the data as shown in:\n",
            "    https://scikit-learn.org/stable/modules/preprocessing.html\n",
            "Please also refer to the documentation for alternative solver options:\n",
            "    https://scikit-learn.org/stable/modules/linear_model.html#logistic-regression\n",
            "  n_iter_i = _check_optimize_result(\n",
            "/usr/local/lib/python3.9/dist-packages/sklearn/cluster/_kmeans.py:870: FutureWarning: The default value of `n_init` will change from 10 to 'auto' in 1.4. Set the value of `n_init` explicitly to suppress the warning\n",
            "  warnings.warn(\n"
          ]
        },
        {
          "output_type": "stream",
          "name": "stdout",
          "text": [
            "[CV] END ..............................kmeans__n_clusters=14; total time=   0.7s\n"
          ]
        },
        {
          "output_type": "stream",
          "name": "stderr",
          "text": [
            "/usr/local/lib/python3.9/dist-packages/sklearn/linear_model/_logistic.py:458: ConvergenceWarning: lbfgs failed to converge (status=1):\n",
            "STOP: TOTAL NO. of ITERATIONS REACHED LIMIT.\n",
            "\n",
            "Increase the number of iterations (max_iter) or scale the data as shown in:\n",
            "    https://scikit-learn.org/stable/modules/preprocessing.html\n",
            "Please also refer to the documentation for alternative solver options:\n",
            "    https://scikit-learn.org/stable/modules/linear_model.html#logistic-regression\n",
            "  n_iter_i = _check_optimize_result(\n",
            "/usr/local/lib/python3.9/dist-packages/sklearn/cluster/_kmeans.py:870: FutureWarning: The default value of `n_init` will change from 10 to 'auto' in 1.4. Set the value of `n_init` explicitly to suppress the warning\n",
            "  warnings.warn(\n"
          ]
        },
        {
          "output_type": "stream",
          "name": "stdout",
          "text": [
            "[CV] END ..............................kmeans__n_clusters=14; total time=   0.3s\n"
          ]
        },
        {
          "output_type": "stream",
          "name": "stderr",
          "text": [
            "/usr/local/lib/python3.9/dist-packages/sklearn/linear_model/_logistic.py:458: ConvergenceWarning: lbfgs failed to converge (status=1):\n",
            "STOP: TOTAL NO. of ITERATIONS REACHED LIMIT.\n",
            "\n",
            "Increase the number of iterations (max_iter) or scale the data as shown in:\n",
            "    https://scikit-learn.org/stable/modules/preprocessing.html\n",
            "Please also refer to the documentation for alternative solver options:\n",
            "    https://scikit-learn.org/stable/modules/linear_model.html#logistic-regression\n",
            "  n_iter_i = _check_optimize_result(\n",
            "/usr/local/lib/python3.9/dist-packages/sklearn/cluster/_kmeans.py:870: FutureWarning: The default value of `n_init` will change from 10 to 'auto' in 1.4. Set the value of `n_init` explicitly to suppress the warning\n",
            "  warnings.warn(\n"
          ]
        },
        {
          "output_type": "stream",
          "name": "stdout",
          "text": [
            "[CV] END ..............................kmeans__n_clusters=15; total time=   0.6s\n"
          ]
        },
        {
          "output_type": "stream",
          "name": "stderr",
          "text": [
            "/usr/local/lib/python3.9/dist-packages/sklearn/linear_model/_logistic.py:458: ConvergenceWarning: lbfgs failed to converge (status=1):\n",
            "STOP: TOTAL NO. of ITERATIONS REACHED LIMIT.\n",
            "\n",
            "Increase the number of iterations (max_iter) or scale the data as shown in:\n",
            "    https://scikit-learn.org/stable/modules/preprocessing.html\n",
            "Please also refer to the documentation for alternative solver options:\n",
            "    https://scikit-learn.org/stable/modules/linear_model.html#logistic-regression\n",
            "  n_iter_i = _check_optimize_result(\n",
            "/usr/local/lib/python3.9/dist-packages/sklearn/cluster/_kmeans.py:870: FutureWarning: The default value of `n_init` will change from 10 to 'auto' in 1.4. Set the value of `n_init` explicitly to suppress the warning\n",
            "  warnings.warn(\n"
          ]
        },
        {
          "output_type": "stream",
          "name": "stdout",
          "text": [
            "[CV] END ..............................kmeans__n_clusters=15; total time=   0.5s\n"
          ]
        },
        {
          "output_type": "stream",
          "name": "stderr",
          "text": [
            "/usr/local/lib/python3.9/dist-packages/sklearn/linear_model/_logistic.py:458: ConvergenceWarning: lbfgs failed to converge (status=1):\n",
            "STOP: TOTAL NO. of ITERATIONS REACHED LIMIT.\n",
            "\n",
            "Increase the number of iterations (max_iter) or scale the data as shown in:\n",
            "    https://scikit-learn.org/stable/modules/preprocessing.html\n",
            "Please also refer to the documentation for alternative solver options:\n",
            "    https://scikit-learn.org/stable/modules/linear_model.html#logistic-regression\n",
            "  n_iter_i = _check_optimize_result(\n",
            "/usr/local/lib/python3.9/dist-packages/sklearn/cluster/_kmeans.py:870: FutureWarning: The default value of `n_init` will change from 10 to 'auto' in 1.4. Set the value of `n_init` explicitly to suppress the warning\n",
            "  warnings.warn(\n"
          ]
        },
        {
          "output_type": "stream",
          "name": "stdout",
          "text": [
            "[CV] END ..............................kmeans__n_clusters=15; total time=   0.5s\n"
          ]
        },
        {
          "output_type": "stream",
          "name": "stderr",
          "text": [
            "/usr/local/lib/python3.9/dist-packages/sklearn/linear_model/_logistic.py:458: ConvergenceWarning: lbfgs failed to converge (status=1):\n",
            "STOP: TOTAL NO. of ITERATIONS REACHED LIMIT.\n",
            "\n",
            "Increase the number of iterations (max_iter) or scale the data as shown in:\n",
            "    https://scikit-learn.org/stable/modules/preprocessing.html\n",
            "Please also refer to the documentation for alternative solver options:\n",
            "    https://scikit-learn.org/stable/modules/linear_model.html#logistic-regression\n",
            "  n_iter_i = _check_optimize_result(\n",
            "/usr/local/lib/python3.9/dist-packages/sklearn/cluster/_kmeans.py:870: FutureWarning: The default value of `n_init` will change from 10 to 'auto' in 1.4. Set the value of `n_init` explicitly to suppress the warning\n",
            "  warnings.warn(\n"
          ]
        },
        {
          "output_type": "stream",
          "name": "stdout",
          "text": [
            "[CV] END ..............................kmeans__n_clusters=16; total time=   0.6s\n"
          ]
        },
        {
          "output_type": "stream",
          "name": "stderr",
          "text": [
            "/usr/local/lib/python3.9/dist-packages/sklearn/linear_model/_logistic.py:458: ConvergenceWarning: lbfgs failed to converge (status=1):\n",
            "STOP: TOTAL NO. of ITERATIONS REACHED LIMIT.\n",
            "\n",
            "Increase the number of iterations (max_iter) or scale the data as shown in:\n",
            "    https://scikit-learn.org/stable/modules/preprocessing.html\n",
            "Please also refer to the documentation for alternative solver options:\n",
            "    https://scikit-learn.org/stable/modules/linear_model.html#logistic-regression\n",
            "  n_iter_i = _check_optimize_result(\n",
            "/usr/local/lib/python3.9/dist-packages/sklearn/cluster/_kmeans.py:870: FutureWarning: The default value of `n_init` will change from 10 to 'auto' in 1.4. Set the value of `n_init` explicitly to suppress the warning\n",
            "  warnings.warn(\n"
          ]
        },
        {
          "output_type": "stream",
          "name": "stdout",
          "text": [
            "[CV] END ..............................kmeans__n_clusters=16; total time=   2.1s\n"
          ]
        },
        {
          "output_type": "stream",
          "name": "stderr",
          "text": [
            "/usr/local/lib/python3.9/dist-packages/sklearn/linear_model/_logistic.py:458: ConvergenceWarning: lbfgs failed to converge (status=1):\n",
            "STOP: TOTAL NO. of ITERATIONS REACHED LIMIT.\n",
            "\n",
            "Increase the number of iterations (max_iter) or scale the data as shown in:\n",
            "    https://scikit-learn.org/stable/modules/preprocessing.html\n",
            "Please also refer to the documentation for alternative solver options:\n",
            "    https://scikit-learn.org/stable/modules/linear_model.html#logistic-regression\n",
            "  n_iter_i = _check_optimize_result(\n",
            "/usr/local/lib/python3.9/dist-packages/sklearn/cluster/_kmeans.py:870: FutureWarning: The default value of `n_init` will change from 10 to 'auto' in 1.4. Set the value of `n_init` explicitly to suppress the warning\n",
            "  warnings.warn(\n"
          ]
        },
        {
          "output_type": "stream",
          "name": "stdout",
          "text": [
            "[CV] END ..............................kmeans__n_clusters=16; total time=   0.7s\n"
          ]
        },
        {
          "output_type": "stream",
          "name": "stderr",
          "text": [
            "/usr/local/lib/python3.9/dist-packages/sklearn/linear_model/_logistic.py:458: ConvergenceWarning: lbfgs failed to converge (status=1):\n",
            "STOP: TOTAL NO. of ITERATIONS REACHED LIMIT.\n",
            "\n",
            "Increase the number of iterations (max_iter) or scale the data as shown in:\n",
            "    https://scikit-learn.org/stable/modules/preprocessing.html\n",
            "Please also refer to the documentation for alternative solver options:\n",
            "    https://scikit-learn.org/stable/modules/linear_model.html#logistic-regression\n",
            "  n_iter_i = _check_optimize_result(\n",
            "/usr/local/lib/python3.9/dist-packages/sklearn/cluster/_kmeans.py:870: FutureWarning: The default value of `n_init` will change from 10 to 'auto' in 1.4. Set the value of `n_init` explicitly to suppress the warning\n",
            "  warnings.warn(\n"
          ]
        },
        {
          "output_type": "stream",
          "name": "stdout",
          "text": [
            "[CV] END ..............................kmeans__n_clusters=17; total time=   0.6s\n"
          ]
        },
        {
          "output_type": "stream",
          "name": "stderr",
          "text": [
            "/usr/local/lib/python3.9/dist-packages/sklearn/linear_model/_logistic.py:458: ConvergenceWarning: lbfgs failed to converge (status=1):\n",
            "STOP: TOTAL NO. of ITERATIONS REACHED LIMIT.\n",
            "\n",
            "Increase the number of iterations (max_iter) or scale the data as shown in:\n",
            "    https://scikit-learn.org/stable/modules/preprocessing.html\n",
            "Please also refer to the documentation for alternative solver options:\n",
            "    https://scikit-learn.org/stable/modules/linear_model.html#logistic-regression\n",
            "  n_iter_i = _check_optimize_result(\n",
            "/usr/local/lib/python3.9/dist-packages/sklearn/cluster/_kmeans.py:870: FutureWarning: The default value of `n_init` will change from 10 to 'auto' in 1.4. Set the value of `n_init` explicitly to suppress the warning\n",
            "  warnings.warn(\n"
          ]
        },
        {
          "output_type": "stream",
          "name": "stdout",
          "text": [
            "[CV] END ..............................kmeans__n_clusters=17; total time=   0.9s\n"
          ]
        },
        {
          "output_type": "stream",
          "name": "stderr",
          "text": [
            "/usr/local/lib/python3.9/dist-packages/sklearn/linear_model/_logistic.py:458: ConvergenceWarning: lbfgs failed to converge (status=1):\n",
            "STOP: TOTAL NO. of ITERATIONS REACHED LIMIT.\n",
            "\n",
            "Increase the number of iterations (max_iter) or scale the data as shown in:\n",
            "    https://scikit-learn.org/stable/modules/preprocessing.html\n",
            "Please also refer to the documentation for alternative solver options:\n",
            "    https://scikit-learn.org/stable/modules/linear_model.html#logistic-regression\n",
            "  n_iter_i = _check_optimize_result(\n",
            "/usr/local/lib/python3.9/dist-packages/sklearn/cluster/_kmeans.py:870: FutureWarning: The default value of `n_init` will change from 10 to 'auto' in 1.4. Set the value of `n_init` explicitly to suppress the warning\n",
            "  warnings.warn(\n"
          ]
        },
        {
          "output_type": "stream",
          "name": "stdout",
          "text": [
            "[CV] END ..............................kmeans__n_clusters=17; total time=   0.8s\n"
          ]
        },
        {
          "output_type": "stream",
          "name": "stderr",
          "text": [
            "/usr/local/lib/python3.9/dist-packages/sklearn/linear_model/_logistic.py:458: ConvergenceWarning: lbfgs failed to converge (status=1):\n",
            "STOP: TOTAL NO. of ITERATIONS REACHED LIMIT.\n",
            "\n",
            "Increase the number of iterations (max_iter) or scale the data as shown in:\n",
            "    https://scikit-learn.org/stable/modules/preprocessing.html\n",
            "Please also refer to the documentation for alternative solver options:\n",
            "    https://scikit-learn.org/stable/modules/linear_model.html#logistic-regression\n",
            "  n_iter_i = _check_optimize_result(\n",
            "/usr/local/lib/python3.9/dist-packages/sklearn/cluster/_kmeans.py:870: FutureWarning: The default value of `n_init` will change from 10 to 'auto' in 1.4. Set the value of `n_init` explicitly to suppress the warning\n",
            "  warnings.warn(\n"
          ]
        },
        {
          "output_type": "stream",
          "name": "stdout",
          "text": [
            "[CV] END ..............................kmeans__n_clusters=18; total time=   0.6s\n"
          ]
        },
        {
          "output_type": "stream",
          "name": "stderr",
          "text": [
            "/usr/local/lib/python3.9/dist-packages/sklearn/linear_model/_logistic.py:458: ConvergenceWarning: lbfgs failed to converge (status=1):\n",
            "STOP: TOTAL NO. of ITERATIONS REACHED LIMIT.\n",
            "\n",
            "Increase the number of iterations (max_iter) or scale the data as shown in:\n",
            "    https://scikit-learn.org/stable/modules/preprocessing.html\n",
            "Please also refer to the documentation for alternative solver options:\n",
            "    https://scikit-learn.org/stable/modules/linear_model.html#logistic-regression\n",
            "  n_iter_i = _check_optimize_result(\n",
            "/usr/local/lib/python3.9/dist-packages/sklearn/cluster/_kmeans.py:870: FutureWarning: The default value of `n_init` will change from 10 to 'auto' in 1.4. Set the value of `n_init` explicitly to suppress the warning\n",
            "  warnings.warn(\n"
          ]
        },
        {
          "output_type": "stream",
          "name": "stdout",
          "text": [
            "[CV] END ..............................kmeans__n_clusters=18; total time=   0.7s\n"
          ]
        },
        {
          "output_type": "stream",
          "name": "stderr",
          "text": [
            "/usr/local/lib/python3.9/dist-packages/sklearn/linear_model/_logistic.py:458: ConvergenceWarning: lbfgs failed to converge (status=1):\n",
            "STOP: TOTAL NO. of ITERATIONS REACHED LIMIT.\n",
            "\n",
            "Increase the number of iterations (max_iter) or scale the data as shown in:\n",
            "    https://scikit-learn.org/stable/modules/preprocessing.html\n",
            "Please also refer to the documentation for alternative solver options:\n",
            "    https://scikit-learn.org/stable/modules/linear_model.html#logistic-regression\n",
            "  n_iter_i = _check_optimize_result(\n",
            "/usr/local/lib/python3.9/dist-packages/sklearn/cluster/_kmeans.py:870: FutureWarning: The default value of `n_init` will change from 10 to 'auto' in 1.4. Set the value of `n_init` explicitly to suppress the warning\n",
            "  warnings.warn(\n"
          ]
        },
        {
          "output_type": "stream",
          "name": "stdout",
          "text": [
            "[CV] END ..............................kmeans__n_clusters=18; total time=   0.5s\n"
          ]
        },
        {
          "output_type": "stream",
          "name": "stderr",
          "text": [
            "/usr/local/lib/python3.9/dist-packages/sklearn/linear_model/_logistic.py:458: ConvergenceWarning: lbfgs failed to converge (status=1):\n",
            "STOP: TOTAL NO. of ITERATIONS REACHED LIMIT.\n",
            "\n",
            "Increase the number of iterations (max_iter) or scale the data as shown in:\n",
            "    https://scikit-learn.org/stable/modules/preprocessing.html\n",
            "Please also refer to the documentation for alternative solver options:\n",
            "    https://scikit-learn.org/stable/modules/linear_model.html#logistic-regression\n",
            "  n_iter_i = _check_optimize_result(\n",
            "/usr/local/lib/python3.9/dist-packages/sklearn/cluster/_kmeans.py:870: FutureWarning: The default value of `n_init` will change from 10 to 'auto' in 1.4. Set the value of `n_init` explicitly to suppress the warning\n",
            "  warnings.warn(\n"
          ]
        },
        {
          "output_type": "stream",
          "name": "stdout",
          "text": [
            "[CV] END ..............................kmeans__n_clusters=19; total time=   0.9s\n"
          ]
        },
        {
          "output_type": "stream",
          "name": "stderr",
          "text": [
            "/usr/local/lib/python3.9/dist-packages/sklearn/linear_model/_logistic.py:458: ConvergenceWarning: lbfgs failed to converge (status=1):\n",
            "STOP: TOTAL NO. of ITERATIONS REACHED LIMIT.\n",
            "\n",
            "Increase the number of iterations (max_iter) or scale the data as shown in:\n",
            "    https://scikit-learn.org/stable/modules/preprocessing.html\n",
            "Please also refer to the documentation for alternative solver options:\n",
            "    https://scikit-learn.org/stable/modules/linear_model.html#logistic-regression\n",
            "  n_iter_i = _check_optimize_result(\n",
            "/usr/local/lib/python3.9/dist-packages/sklearn/cluster/_kmeans.py:870: FutureWarning: The default value of `n_init` will change from 10 to 'auto' in 1.4. Set the value of `n_init` explicitly to suppress the warning\n",
            "  warnings.warn(\n"
          ]
        },
        {
          "output_type": "stream",
          "name": "stdout",
          "text": [
            "[CV] END ..............................kmeans__n_clusters=19; total time=   0.9s\n"
          ]
        },
        {
          "output_type": "stream",
          "name": "stderr",
          "text": [
            "/usr/local/lib/python3.9/dist-packages/sklearn/linear_model/_logistic.py:458: ConvergenceWarning: lbfgs failed to converge (status=1):\n",
            "STOP: TOTAL NO. of ITERATIONS REACHED LIMIT.\n",
            "\n",
            "Increase the number of iterations (max_iter) or scale the data as shown in:\n",
            "    https://scikit-learn.org/stable/modules/preprocessing.html\n",
            "Please also refer to the documentation for alternative solver options:\n",
            "    https://scikit-learn.org/stable/modules/linear_model.html#logistic-regression\n",
            "  n_iter_i = _check_optimize_result(\n",
            "/usr/local/lib/python3.9/dist-packages/sklearn/cluster/_kmeans.py:870: FutureWarning: The default value of `n_init` will change from 10 to 'auto' in 1.4. Set the value of `n_init` explicitly to suppress the warning\n",
            "  warnings.warn(\n"
          ]
        },
        {
          "output_type": "stream",
          "name": "stdout",
          "text": [
            "[CV] END ..............................kmeans__n_clusters=19; total time=   0.6s\n"
          ]
        },
        {
          "output_type": "stream",
          "name": "stderr",
          "text": [
            "/usr/local/lib/python3.9/dist-packages/sklearn/linear_model/_logistic.py:458: ConvergenceWarning: lbfgs failed to converge (status=1):\n",
            "STOP: TOTAL NO. of ITERATIONS REACHED LIMIT.\n",
            "\n",
            "Increase the number of iterations (max_iter) or scale the data as shown in:\n",
            "    https://scikit-learn.org/stable/modules/preprocessing.html\n",
            "Please also refer to the documentation for alternative solver options:\n",
            "    https://scikit-learn.org/stable/modules/linear_model.html#logistic-regression\n",
            "  n_iter_i = _check_optimize_result(\n",
            "/usr/local/lib/python3.9/dist-packages/sklearn/cluster/_kmeans.py:870: FutureWarning: The default value of `n_init` will change from 10 to 'auto' in 1.4. Set the value of `n_init` explicitly to suppress the warning\n",
            "  warnings.warn(\n"
          ]
        },
        {
          "output_type": "stream",
          "name": "stdout",
          "text": [
            "[CV] END ..............................kmeans__n_clusters=20; total time=   0.7s\n"
          ]
        },
        {
          "output_type": "stream",
          "name": "stderr",
          "text": [
            "/usr/local/lib/python3.9/dist-packages/sklearn/linear_model/_logistic.py:458: ConvergenceWarning: lbfgs failed to converge (status=1):\n",
            "STOP: TOTAL NO. of ITERATIONS REACHED LIMIT.\n",
            "\n",
            "Increase the number of iterations (max_iter) or scale the data as shown in:\n",
            "    https://scikit-learn.org/stable/modules/preprocessing.html\n",
            "Please also refer to the documentation for alternative solver options:\n",
            "    https://scikit-learn.org/stable/modules/linear_model.html#logistic-regression\n",
            "  n_iter_i = _check_optimize_result(\n",
            "/usr/local/lib/python3.9/dist-packages/sklearn/cluster/_kmeans.py:870: FutureWarning: The default value of `n_init` will change from 10 to 'auto' in 1.4. Set the value of `n_init` explicitly to suppress the warning\n",
            "  warnings.warn(\n"
          ]
        },
        {
          "output_type": "stream",
          "name": "stdout",
          "text": [
            "[CV] END ..............................kmeans__n_clusters=20; total time=   0.7s\n"
          ]
        },
        {
          "output_type": "stream",
          "name": "stderr",
          "text": [
            "/usr/local/lib/python3.9/dist-packages/sklearn/linear_model/_logistic.py:458: ConvergenceWarning: lbfgs failed to converge (status=1):\n",
            "STOP: TOTAL NO. of ITERATIONS REACHED LIMIT.\n",
            "\n",
            "Increase the number of iterations (max_iter) or scale the data as shown in:\n",
            "    https://scikit-learn.org/stable/modules/preprocessing.html\n",
            "Please also refer to the documentation for alternative solver options:\n",
            "    https://scikit-learn.org/stable/modules/linear_model.html#logistic-regression\n",
            "  n_iter_i = _check_optimize_result(\n",
            "/usr/local/lib/python3.9/dist-packages/sklearn/cluster/_kmeans.py:870: FutureWarning: The default value of `n_init` will change from 10 to 'auto' in 1.4. Set the value of `n_init` explicitly to suppress the warning\n",
            "  warnings.warn(\n"
          ]
        },
        {
          "output_type": "stream",
          "name": "stdout",
          "text": [
            "[CV] END ..............................kmeans__n_clusters=20; total time=   0.6s\n"
          ]
        },
        {
          "output_type": "stream",
          "name": "stderr",
          "text": [
            "/usr/local/lib/python3.9/dist-packages/sklearn/linear_model/_logistic.py:458: ConvergenceWarning: lbfgs failed to converge (status=1):\n",
            "STOP: TOTAL NO. of ITERATIONS REACHED LIMIT.\n",
            "\n",
            "Increase the number of iterations (max_iter) or scale the data as shown in:\n",
            "    https://scikit-learn.org/stable/modules/preprocessing.html\n",
            "Please also refer to the documentation for alternative solver options:\n",
            "    https://scikit-learn.org/stable/modules/linear_model.html#logistic-regression\n",
            "  n_iter_i = _check_optimize_result(\n",
            "/usr/local/lib/python3.9/dist-packages/sklearn/cluster/_kmeans.py:870: FutureWarning: The default value of `n_init` will change from 10 to 'auto' in 1.4. Set the value of `n_init` explicitly to suppress the warning\n",
            "  warnings.warn(\n"
          ]
        },
        {
          "output_type": "stream",
          "name": "stdout",
          "text": [
            "[CV] END ..............................kmeans__n_clusters=21; total time=   0.6s\n"
          ]
        },
        {
          "output_type": "stream",
          "name": "stderr",
          "text": [
            "/usr/local/lib/python3.9/dist-packages/sklearn/linear_model/_logistic.py:458: ConvergenceWarning: lbfgs failed to converge (status=1):\n",
            "STOP: TOTAL NO. of ITERATIONS REACHED LIMIT.\n",
            "\n",
            "Increase the number of iterations (max_iter) or scale the data as shown in:\n",
            "    https://scikit-learn.org/stable/modules/preprocessing.html\n",
            "Please also refer to the documentation for alternative solver options:\n",
            "    https://scikit-learn.org/stable/modules/linear_model.html#logistic-regression\n",
            "  n_iter_i = _check_optimize_result(\n",
            "/usr/local/lib/python3.9/dist-packages/sklearn/cluster/_kmeans.py:870: FutureWarning: The default value of `n_init` will change from 10 to 'auto' in 1.4. Set the value of `n_init` explicitly to suppress the warning\n",
            "  warnings.warn(\n"
          ]
        },
        {
          "output_type": "stream",
          "name": "stdout",
          "text": [
            "[CV] END ..............................kmeans__n_clusters=21; total time=   2.1s\n"
          ]
        },
        {
          "output_type": "stream",
          "name": "stderr",
          "text": [
            "/usr/local/lib/python3.9/dist-packages/sklearn/linear_model/_logistic.py:458: ConvergenceWarning: lbfgs failed to converge (status=1):\n",
            "STOP: TOTAL NO. of ITERATIONS REACHED LIMIT.\n",
            "\n",
            "Increase the number of iterations (max_iter) or scale the data as shown in:\n",
            "    https://scikit-learn.org/stable/modules/preprocessing.html\n",
            "Please also refer to the documentation for alternative solver options:\n",
            "    https://scikit-learn.org/stable/modules/linear_model.html#logistic-regression\n",
            "  n_iter_i = _check_optimize_result(\n",
            "/usr/local/lib/python3.9/dist-packages/sklearn/cluster/_kmeans.py:870: FutureWarning: The default value of `n_init` will change from 10 to 'auto' in 1.4. Set the value of `n_init` explicitly to suppress the warning\n",
            "  warnings.warn(\n"
          ]
        },
        {
          "output_type": "stream",
          "name": "stdout",
          "text": [
            "[CV] END ..............................kmeans__n_clusters=21; total time=   0.4s\n"
          ]
        },
        {
          "output_type": "stream",
          "name": "stderr",
          "text": [
            "/usr/local/lib/python3.9/dist-packages/sklearn/linear_model/_logistic.py:458: ConvergenceWarning: lbfgs failed to converge (status=1):\n",
            "STOP: TOTAL NO. of ITERATIONS REACHED LIMIT.\n",
            "\n",
            "Increase the number of iterations (max_iter) or scale the data as shown in:\n",
            "    https://scikit-learn.org/stable/modules/preprocessing.html\n",
            "Please also refer to the documentation for alternative solver options:\n",
            "    https://scikit-learn.org/stable/modules/linear_model.html#logistic-regression\n",
            "  n_iter_i = _check_optimize_result(\n",
            "/usr/local/lib/python3.9/dist-packages/sklearn/cluster/_kmeans.py:870: FutureWarning: The default value of `n_init` will change from 10 to 'auto' in 1.4. Set the value of `n_init` explicitly to suppress the warning\n",
            "  warnings.warn(\n"
          ]
        },
        {
          "output_type": "stream",
          "name": "stdout",
          "text": [
            "[CV] END ..............................kmeans__n_clusters=22; total time=   0.5s\n"
          ]
        },
        {
          "output_type": "stream",
          "name": "stderr",
          "text": [
            "/usr/local/lib/python3.9/dist-packages/sklearn/linear_model/_logistic.py:458: ConvergenceWarning: lbfgs failed to converge (status=1):\n",
            "STOP: TOTAL NO. of ITERATIONS REACHED LIMIT.\n",
            "\n",
            "Increase the number of iterations (max_iter) or scale the data as shown in:\n",
            "    https://scikit-learn.org/stable/modules/preprocessing.html\n",
            "Please also refer to the documentation for alternative solver options:\n",
            "    https://scikit-learn.org/stable/modules/linear_model.html#logistic-regression\n",
            "  n_iter_i = _check_optimize_result(\n",
            "/usr/local/lib/python3.9/dist-packages/sklearn/cluster/_kmeans.py:870: FutureWarning: The default value of `n_init` will change from 10 to 'auto' in 1.4. Set the value of `n_init` explicitly to suppress the warning\n",
            "  warnings.warn(\n"
          ]
        },
        {
          "output_type": "stream",
          "name": "stdout",
          "text": [
            "[CV] END ..............................kmeans__n_clusters=22; total time=   0.6s\n"
          ]
        },
        {
          "output_type": "stream",
          "name": "stderr",
          "text": [
            "/usr/local/lib/python3.9/dist-packages/sklearn/linear_model/_logistic.py:458: ConvergenceWarning: lbfgs failed to converge (status=1):\n",
            "STOP: TOTAL NO. of ITERATIONS REACHED LIMIT.\n",
            "\n",
            "Increase the number of iterations (max_iter) or scale the data as shown in:\n",
            "    https://scikit-learn.org/stable/modules/preprocessing.html\n",
            "Please also refer to the documentation for alternative solver options:\n",
            "    https://scikit-learn.org/stable/modules/linear_model.html#logistic-regression\n",
            "  n_iter_i = _check_optimize_result(\n",
            "/usr/local/lib/python3.9/dist-packages/sklearn/cluster/_kmeans.py:870: FutureWarning: The default value of `n_init` will change from 10 to 'auto' in 1.4. Set the value of `n_init` explicitly to suppress the warning\n",
            "  warnings.warn(\n"
          ]
        },
        {
          "output_type": "stream",
          "name": "stdout",
          "text": [
            "[CV] END ..............................kmeans__n_clusters=22; total time=   0.6s\n"
          ]
        },
        {
          "output_type": "stream",
          "name": "stderr",
          "text": [
            "/usr/local/lib/python3.9/dist-packages/sklearn/linear_model/_logistic.py:458: ConvergenceWarning: lbfgs failed to converge (status=1):\n",
            "STOP: TOTAL NO. of ITERATIONS REACHED LIMIT.\n",
            "\n",
            "Increase the number of iterations (max_iter) or scale the data as shown in:\n",
            "    https://scikit-learn.org/stable/modules/preprocessing.html\n",
            "Please also refer to the documentation for alternative solver options:\n",
            "    https://scikit-learn.org/stable/modules/linear_model.html#logistic-regression\n",
            "  n_iter_i = _check_optimize_result(\n",
            "/usr/local/lib/python3.9/dist-packages/sklearn/cluster/_kmeans.py:870: FutureWarning: The default value of `n_init` will change from 10 to 'auto' in 1.4. Set the value of `n_init` explicitly to suppress the warning\n",
            "  warnings.warn(\n"
          ]
        },
        {
          "output_type": "stream",
          "name": "stdout",
          "text": [
            "[CV] END ..............................kmeans__n_clusters=23; total time=   0.7s\n"
          ]
        },
        {
          "output_type": "stream",
          "name": "stderr",
          "text": [
            "/usr/local/lib/python3.9/dist-packages/sklearn/linear_model/_logistic.py:458: ConvergenceWarning: lbfgs failed to converge (status=1):\n",
            "STOP: TOTAL NO. of ITERATIONS REACHED LIMIT.\n",
            "\n",
            "Increase the number of iterations (max_iter) or scale the data as shown in:\n",
            "    https://scikit-learn.org/stable/modules/preprocessing.html\n",
            "Please also refer to the documentation for alternative solver options:\n",
            "    https://scikit-learn.org/stable/modules/linear_model.html#logistic-regression\n",
            "  n_iter_i = _check_optimize_result(\n",
            "/usr/local/lib/python3.9/dist-packages/sklearn/cluster/_kmeans.py:870: FutureWarning: The default value of `n_init` will change from 10 to 'auto' in 1.4. Set the value of `n_init` explicitly to suppress the warning\n",
            "  warnings.warn(\n"
          ]
        },
        {
          "output_type": "stream",
          "name": "stdout",
          "text": [
            "[CV] END ..............................kmeans__n_clusters=23; total time=   0.4s\n"
          ]
        },
        {
          "output_type": "stream",
          "name": "stderr",
          "text": [
            "/usr/local/lib/python3.9/dist-packages/sklearn/linear_model/_logistic.py:458: ConvergenceWarning: lbfgs failed to converge (status=1):\n",
            "STOP: TOTAL NO. of ITERATIONS REACHED LIMIT.\n",
            "\n",
            "Increase the number of iterations (max_iter) or scale the data as shown in:\n",
            "    https://scikit-learn.org/stable/modules/preprocessing.html\n",
            "Please also refer to the documentation for alternative solver options:\n",
            "    https://scikit-learn.org/stable/modules/linear_model.html#logistic-regression\n",
            "  n_iter_i = _check_optimize_result(\n",
            "/usr/local/lib/python3.9/dist-packages/sklearn/cluster/_kmeans.py:870: FutureWarning: The default value of `n_init` will change from 10 to 'auto' in 1.4. Set the value of `n_init` explicitly to suppress the warning\n",
            "  warnings.warn(\n"
          ]
        },
        {
          "output_type": "stream",
          "name": "stdout",
          "text": [
            "[CV] END ..............................kmeans__n_clusters=23; total time=   0.5s\n"
          ]
        },
        {
          "output_type": "stream",
          "name": "stderr",
          "text": [
            "/usr/local/lib/python3.9/dist-packages/sklearn/linear_model/_logistic.py:458: ConvergenceWarning: lbfgs failed to converge (status=1):\n",
            "STOP: TOTAL NO. of ITERATIONS REACHED LIMIT.\n",
            "\n",
            "Increase the number of iterations (max_iter) or scale the data as shown in:\n",
            "    https://scikit-learn.org/stable/modules/preprocessing.html\n",
            "Please also refer to the documentation for alternative solver options:\n",
            "    https://scikit-learn.org/stable/modules/linear_model.html#logistic-regression\n",
            "  n_iter_i = _check_optimize_result(\n",
            "/usr/local/lib/python3.9/dist-packages/sklearn/cluster/_kmeans.py:870: FutureWarning: The default value of `n_init` will change from 10 to 'auto' in 1.4. Set the value of `n_init` explicitly to suppress the warning\n",
            "  warnings.warn(\n"
          ]
        },
        {
          "output_type": "stream",
          "name": "stdout",
          "text": [
            "[CV] END ..............................kmeans__n_clusters=24; total time=   0.3s\n"
          ]
        },
        {
          "output_type": "stream",
          "name": "stderr",
          "text": [
            "/usr/local/lib/python3.9/dist-packages/sklearn/linear_model/_logistic.py:458: ConvergenceWarning: lbfgs failed to converge (status=1):\n",
            "STOP: TOTAL NO. of ITERATIONS REACHED LIMIT.\n",
            "\n",
            "Increase the number of iterations (max_iter) or scale the data as shown in:\n",
            "    https://scikit-learn.org/stable/modules/preprocessing.html\n",
            "Please also refer to the documentation for alternative solver options:\n",
            "    https://scikit-learn.org/stable/modules/linear_model.html#logistic-regression\n",
            "  n_iter_i = _check_optimize_result(\n",
            "/usr/local/lib/python3.9/dist-packages/sklearn/cluster/_kmeans.py:870: FutureWarning: The default value of `n_init` will change from 10 to 'auto' in 1.4. Set the value of `n_init` explicitly to suppress the warning\n",
            "  warnings.warn(\n"
          ]
        },
        {
          "output_type": "stream",
          "name": "stdout",
          "text": [
            "[CV] END ..............................kmeans__n_clusters=24; total time=   0.3s\n"
          ]
        },
        {
          "output_type": "stream",
          "name": "stderr",
          "text": [
            "/usr/local/lib/python3.9/dist-packages/sklearn/linear_model/_logistic.py:458: ConvergenceWarning: lbfgs failed to converge (status=1):\n",
            "STOP: TOTAL NO. of ITERATIONS REACHED LIMIT.\n",
            "\n",
            "Increase the number of iterations (max_iter) or scale the data as shown in:\n",
            "    https://scikit-learn.org/stable/modules/preprocessing.html\n",
            "Please also refer to the documentation for alternative solver options:\n",
            "    https://scikit-learn.org/stable/modules/linear_model.html#logistic-regression\n",
            "  n_iter_i = _check_optimize_result(\n",
            "/usr/local/lib/python3.9/dist-packages/sklearn/cluster/_kmeans.py:870: FutureWarning: The default value of `n_init` will change from 10 to 'auto' in 1.4. Set the value of `n_init` explicitly to suppress the warning\n",
            "  warnings.warn(\n"
          ]
        },
        {
          "output_type": "stream",
          "name": "stdout",
          "text": [
            "[CV] END ..............................kmeans__n_clusters=24; total time=   0.3s\n"
          ]
        },
        {
          "output_type": "stream",
          "name": "stderr",
          "text": [
            "/usr/local/lib/python3.9/dist-packages/sklearn/linear_model/_logistic.py:458: ConvergenceWarning: lbfgs failed to converge (status=1):\n",
            "STOP: TOTAL NO. of ITERATIONS REACHED LIMIT.\n",
            "\n",
            "Increase the number of iterations (max_iter) or scale the data as shown in:\n",
            "    https://scikit-learn.org/stable/modules/preprocessing.html\n",
            "Please also refer to the documentation for alternative solver options:\n",
            "    https://scikit-learn.org/stable/modules/linear_model.html#logistic-regression\n",
            "  n_iter_i = _check_optimize_result(\n",
            "/usr/local/lib/python3.9/dist-packages/sklearn/cluster/_kmeans.py:870: FutureWarning: The default value of `n_init` will change from 10 to 'auto' in 1.4. Set the value of `n_init` explicitly to suppress the warning\n",
            "  warnings.warn(\n"
          ]
        },
        {
          "output_type": "stream",
          "name": "stdout",
          "text": [
            "[CV] END ..............................kmeans__n_clusters=25; total time=   0.4s\n"
          ]
        },
        {
          "output_type": "stream",
          "name": "stderr",
          "text": [
            "/usr/local/lib/python3.9/dist-packages/sklearn/linear_model/_logistic.py:458: ConvergenceWarning: lbfgs failed to converge (status=1):\n",
            "STOP: TOTAL NO. of ITERATIONS REACHED LIMIT.\n",
            "\n",
            "Increase the number of iterations (max_iter) or scale the data as shown in:\n",
            "    https://scikit-learn.org/stable/modules/preprocessing.html\n",
            "Please also refer to the documentation for alternative solver options:\n",
            "    https://scikit-learn.org/stable/modules/linear_model.html#logistic-regression\n",
            "  n_iter_i = _check_optimize_result(\n",
            "/usr/local/lib/python3.9/dist-packages/sklearn/cluster/_kmeans.py:870: FutureWarning: The default value of `n_init` will change from 10 to 'auto' in 1.4. Set the value of `n_init` explicitly to suppress the warning\n",
            "  warnings.warn(\n"
          ]
        },
        {
          "output_type": "stream",
          "name": "stdout",
          "text": [
            "[CV] END ..............................kmeans__n_clusters=25; total time=   0.4s\n"
          ]
        },
        {
          "output_type": "stream",
          "name": "stderr",
          "text": [
            "/usr/local/lib/python3.9/dist-packages/sklearn/linear_model/_logistic.py:458: ConvergenceWarning: lbfgs failed to converge (status=1):\n",
            "STOP: TOTAL NO. of ITERATIONS REACHED LIMIT.\n",
            "\n",
            "Increase the number of iterations (max_iter) or scale the data as shown in:\n",
            "    https://scikit-learn.org/stable/modules/preprocessing.html\n",
            "Please also refer to the documentation for alternative solver options:\n",
            "    https://scikit-learn.org/stable/modules/linear_model.html#logistic-regression\n",
            "  n_iter_i = _check_optimize_result(\n",
            "/usr/local/lib/python3.9/dist-packages/sklearn/cluster/_kmeans.py:870: FutureWarning: The default value of `n_init` will change from 10 to 'auto' in 1.4. Set the value of `n_init` explicitly to suppress the warning\n",
            "  warnings.warn(\n"
          ]
        },
        {
          "output_type": "stream",
          "name": "stdout",
          "text": [
            "[CV] END ..............................kmeans__n_clusters=25; total time=   0.3s\n"
          ]
        },
        {
          "output_type": "stream",
          "name": "stderr",
          "text": [
            "/usr/local/lib/python3.9/dist-packages/sklearn/linear_model/_logistic.py:458: ConvergenceWarning: lbfgs failed to converge (status=1):\n",
            "STOP: TOTAL NO. of ITERATIONS REACHED LIMIT.\n",
            "\n",
            "Increase the number of iterations (max_iter) or scale the data as shown in:\n",
            "    https://scikit-learn.org/stable/modules/preprocessing.html\n",
            "Please also refer to the documentation for alternative solver options:\n",
            "    https://scikit-learn.org/stable/modules/linear_model.html#logistic-regression\n",
            "  n_iter_i = _check_optimize_result(\n",
            "/usr/local/lib/python3.9/dist-packages/sklearn/cluster/_kmeans.py:870: FutureWarning: The default value of `n_init` will change from 10 to 'auto' in 1.4. Set the value of `n_init` explicitly to suppress the warning\n",
            "  warnings.warn(\n"
          ]
        },
        {
          "output_type": "stream",
          "name": "stdout",
          "text": [
            "[CV] END ..............................kmeans__n_clusters=26; total time=   0.3s\n"
          ]
        },
        {
          "output_type": "stream",
          "name": "stderr",
          "text": [
            "/usr/local/lib/python3.9/dist-packages/sklearn/linear_model/_logistic.py:458: ConvergenceWarning: lbfgs failed to converge (status=1):\n",
            "STOP: TOTAL NO. of ITERATIONS REACHED LIMIT.\n",
            "\n",
            "Increase the number of iterations (max_iter) or scale the data as shown in:\n",
            "    https://scikit-learn.org/stable/modules/preprocessing.html\n",
            "Please also refer to the documentation for alternative solver options:\n",
            "    https://scikit-learn.org/stable/modules/linear_model.html#logistic-regression\n",
            "  n_iter_i = _check_optimize_result(\n",
            "/usr/local/lib/python3.9/dist-packages/sklearn/cluster/_kmeans.py:870: FutureWarning: The default value of `n_init` will change from 10 to 'auto' in 1.4. Set the value of `n_init` explicitly to suppress the warning\n",
            "  warnings.warn(\n"
          ]
        },
        {
          "output_type": "stream",
          "name": "stdout",
          "text": [
            "[CV] END ..............................kmeans__n_clusters=26; total time=   0.5s\n"
          ]
        },
        {
          "output_type": "stream",
          "name": "stderr",
          "text": [
            "/usr/local/lib/python3.9/dist-packages/sklearn/linear_model/_logistic.py:458: ConvergenceWarning: lbfgs failed to converge (status=1):\n",
            "STOP: TOTAL NO. of ITERATIONS REACHED LIMIT.\n",
            "\n",
            "Increase the number of iterations (max_iter) or scale the data as shown in:\n",
            "    https://scikit-learn.org/stable/modules/preprocessing.html\n",
            "Please also refer to the documentation for alternative solver options:\n",
            "    https://scikit-learn.org/stable/modules/linear_model.html#logistic-regression\n",
            "  n_iter_i = _check_optimize_result(\n",
            "/usr/local/lib/python3.9/dist-packages/sklearn/cluster/_kmeans.py:870: FutureWarning: The default value of `n_init` will change from 10 to 'auto' in 1.4. Set the value of `n_init` explicitly to suppress the warning\n",
            "  warnings.warn(\n"
          ]
        },
        {
          "output_type": "stream",
          "name": "stdout",
          "text": [
            "[CV] END ..............................kmeans__n_clusters=26; total time=   0.3s\n"
          ]
        },
        {
          "output_type": "stream",
          "name": "stderr",
          "text": [
            "/usr/local/lib/python3.9/dist-packages/sklearn/linear_model/_logistic.py:458: ConvergenceWarning: lbfgs failed to converge (status=1):\n",
            "STOP: TOTAL NO. of ITERATIONS REACHED LIMIT.\n",
            "\n",
            "Increase the number of iterations (max_iter) or scale the data as shown in:\n",
            "    https://scikit-learn.org/stable/modules/preprocessing.html\n",
            "Please also refer to the documentation for alternative solver options:\n",
            "    https://scikit-learn.org/stable/modules/linear_model.html#logistic-regression\n",
            "  n_iter_i = _check_optimize_result(\n",
            "/usr/local/lib/python3.9/dist-packages/sklearn/cluster/_kmeans.py:870: FutureWarning: The default value of `n_init` will change from 10 to 'auto' in 1.4. Set the value of `n_init` explicitly to suppress the warning\n",
            "  warnings.warn(\n"
          ]
        },
        {
          "output_type": "stream",
          "name": "stdout",
          "text": [
            "[CV] END ..............................kmeans__n_clusters=27; total time=   0.3s\n"
          ]
        },
        {
          "output_type": "stream",
          "name": "stderr",
          "text": [
            "/usr/local/lib/python3.9/dist-packages/sklearn/linear_model/_logistic.py:458: ConvergenceWarning: lbfgs failed to converge (status=1):\n",
            "STOP: TOTAL NO. of ITERATIONS REACHED LIMIT.\n",
            "\n",
            "Increase the number of iterations (max_iter) or scale the data as shown in:\n",
            "    https://scikit-learn.org/stable/modules/preprocessing.html\n",
            "Please also refer to the documentation for alternative solver options:\n",
            "    https://scikit-learn.org/stable/modules/linear_model.html#logistic-regression\n",
            "  n_iter_i = _check_optimize_result(\n",
            "/usr/local/lib/python3.9/dist-packages/sklearn/cluster/_kmeans.py:870: FutureWarning: The default value of `n_init` will change from 10 to 'auto' in 1.4. Set the value of `n_init` explicitly to suppress the warning\n",
            "  warnings.warn(\n"
          ]
        },
        {
          "output_type": "stream",
          "name": "stdout",
          "text": [
            "[CV] END ..............................kmeans__n_clusters=27; total time=   0.3s\n"
          ]
        },
        {
          "output_type": "stream",
          "name": "stderr",
          "text": [
            "/usr/local/lib/python3.9/dist-packages/sklearn/linear_model/_logistic.py:458: ConvergenceWarning: lbfgs failed to converge (status=1):\n",
            "STOP: TOTAL NO. of ITERATIONS REACHED LIMIT.\n",
            "\n",
            "Increase the number of iterations (max_iter) or scale the data as shown in:\n",
            "    https://scikit-learn.org/stable/modules/preprocessing.html\n",
            "Please also refer to the documentation for alternative solver options:\n",
            "    https://scikit-learn.org/stable/modules/linear_model.html#logistic-regression\n",
            "  n_iter_i = _check_optimize_result(\n",
            "/usr/local/lib/python3.9/dist-packages/sklearn/cluster/_kmeans.py:870: FutureWarning: The default value of `n_init` will change from 10 to 'auto' in 1.4. Set the value of `n_init` explicitly to suppress the warning\n",
            "  warnings.warn(\n"
          ]
        },
        {
          "output_type": "stream",
          "name": "stdout",
          "text": [
            "[CV] END ..............................kmeans__n_clusters=27; total time=   0.3s\n"
          ]
        },
        {
          "output_type": "stream",
          "name": "stderr",
          "text": [
            "/usr/local/lib/python3.9/dist-packages/sklearn/linear_model/_logistic.py:458: ConvergenceWarning: lbfgs failed to converge (status=1):\n",
            "STOP: TOTAL NO. of ITERATIONS REACHED LIMIT.\n",
            "\n",
            "Increase the number of iterations (max_iter) or scale the data as shown in:\n",
            "    https://scikit-learn.org/stable/modules/preprocessing.html\n",
            "Please also refer to the documentation for alternative solver options:\n",
            "    https://scikit-learn.org/stable/modules/linear_model.html#logistic-regression\n",
            "  n_iter_i = _check_optimize_result(\n",
            "/usr/local/lib/python3.9/dist-packages/sklearn/cluster/_kmeans.py:870: FutureWarning: The default value of `n_init` will change from 10 to 'auto' in 1.4. Set the value of `n_init` explicitly to suppress the warning\n",
            "  warnings.warn(\n"
          ]
        },
        {
          "output_type": "stream",
          "name": "stdout",
          "text": [
            "[CV] END ..............................kmeans__n_clusters=28; total time=   0.4s\n"
          ]
        },
        {
          "output_type": "stream",
          "name": "stderr",
          "text": [
            "/usr/local/lib/python3.9/dist-packages/sklearn/linear_model/_logistic.py:458: ConvergenceWarning: lbfgs failed to converge (status=1):\n",
            "STOP: TOTAL NO. of ITERATIONS REACHED LIMIT.\n",
            "\n",
            "Increase the number of iterations (max_iter) or scale the data as shown in:\n",
            "    https://scikit-learn.org/stable/modules/preprocessing.html\n",
            "Please also refer to the documentation for alternative solver options:\n",
            "    https://scikit-learn.org/stable/modules/linear_model.html#logistic-regression\n",
            "  n_iter_i = _check_optimize_result(\n",
            "/usr/local/lib/python3.9/dist-packages/sklearn/cluster/_kmeans.py:870: FutureWarning: The default value of `n_init` will change from 10 to 'auto' in 1.4. Set the value of `n_init` explicitly to suppress the warning\n",
            "  warnings.warn(\n"
          ]
        },
        {
          "output_type": "stream",
          "name": "stdout",
          "text": [
            "[CV] END ..............................kmeans__n_clusters=28; total time=   0.3s\n"
          ]
        },
        {
          "output_type": "stream",
          "name": "stderr",
          "text": [
            "/usr/local/lib/python3.9/dist-packages/sklearn/linear_model/_logistic.py:458: ConvergenceWarning: lbfgs failed to converge (status=1):\n",
            "STOP: TOTAL NO. of ITERATIONS REACHED LIMIT.\n",
            "\n",
            "Increase the number of iterations (max_iter) or scale the data as shown in:\n",
            "    https://scikit-learn.org/stable/modules/preprocessing.html\n",
            "Please also refer to the documentation for alternative solver options:\n",
            "    https://scikit-learn.org/stable/modules/linear_model.html#logistic-regression\n",
            "  n_iter_i = _check_optimize_result(\n",
            "/usr/local/lib/python3.9/dist-packages/sklearn/cluster/_kmeans.py:870: FutureWarning: The default value of `n_init` will change from 10 to 'auto' in 1.4. Set the value of `n_init` explicitly to suppress the warning\n",
            "  warnings.warn(\n"
          ]
        },
        {
          "output_type": "stream",
          "name": "stdout",
          "text": [
            "[CV] END ..............................kmeans__n_clusters=28; total time=   0.3s\n"
          ]
        },
        {
          "output_type": "stream",
          "name": "stderr",
          "text": [
            "/usr/local/lib/python3.9/dist-packages/sklearn/linear_model/_logistic.py:458: ConvergenceWarning: lbfgs failed to converge (status=1):\n",
            "STOP: TOTAL NO. of ITERATIONS REACHED LIMIT.\n",
            "\n",
            "Increase the number of iterations (max_iter) or scale the data as shown in:\n",
            "    https://scikit-learn.org/stable/modules/preprocessing.html\n",
            "Please also refer to the documentation for alternative solver options:\n",
            "    https://scikit-learn.org/stable/modules/linear_model.html#logistic-regression\n",
            "  n_iter_i = _check_optimize_result(\n",
            "/usr/local/lib/python3.9/dist-packages/sklearn/cluster/_kmeans.py:870: FutureWarning: The default value of `n_init` will change from 10 to 'auto' in 1.4. Set the value of `n_init` explicitly to suppress the warning\n",
            "  warnings.warn(\n"
          ]
        },
        {
          "output_type": "stream",
          "name": "stdout",
          "text": [
            "[CV] END ..............................kmeans__n_clusters=29; total time=   0.3s\n"
          ]
        },
        {
          "output_type": "stream",
          "name": "stderr",
          "text": [
            "/usr/local/lib/python3.9/dist-packages/sklearn/linear_model/_logistic.py:458: ConvergenceWarning: lbfgs failed to converge (status=1):\n",
            "STOP: TOTAL NO. of ITERATIONS REACHED LIMIT.\n",
            "\n",
            "Increase the number of iterations (max_iter) or scale the data as shown in:\n",
            "    https://scikit-learn.org/stable/modules/preprocessing.html\n",
            "Please also refer to the documentation for alternative solver options:\n",
            "    https://scikit-learn.org/stable/modules/linear_model.html#logistic-regression\n",
            "  n_iter_i = _check_optimize_result(\n",
            "/usr/local/lib/python3.9/dist-packages/sklearn/cluster/_kmeans.py:870: FutureWarning: The default value of `n_init` will change from 10 to 'auto' in 1.4. Set the value of `n_init` explicitly to suppress the warning\n",
            "  warnings.warn(\n"
          ]
        },
        {
          "output_type": "stream",
          "name": "stdout",
          "text": [
            "[CV] END ..............................kmeans__n_clusters=29; total time=   0.4s\n"
          ]
        },
        {
          "output_type": "stream",
          "name": "stderr",
          "text": [
            "/usr/local/lib/python3.9/dist-packages/sklearn/linear_model/_logistic.py:458: ConvergenceWarning: lbfgs failed to converge (status=1):\n",
            "STOP: TOTAL NO. of ITERATIONS REACHED LIMIT.\n",
            "\n",
            "Increase the number of iterations (max_iter) or scale the data as shown in:\n",
            "    https://scikit-learn.org/stable/modules/preprocessing.html\n",
            "Please also refer to the documentation for alternative solver options:\n",
            "    https://scikit-learn.org/stable/modules/linear_model.html#logistic-regression\n",
            "  n_iter_i = _check_optimize_result(\n",
            "/usr/local/lib/python3.9/dist-packages/sklearn/cluster/_kmeans.py:870: FutureWarning: The default value of `n_init` will change from 10 to 'auto' in 1.4. Set the value of `n_init` explicitly to suppress the warning\n",
            "  warnings.warn(\n"
          ]
        },
        {
          "output_type": "stream",
          "name": "stdout",
          "text": [
            "[CV] END ..............................kmeans__n_clusters=29; total time=   0.4s\n"
          ]
        },
        {
          "output_type": "stream",
          "name": "stderr",
          "text": [
            "/usr/local/lib/python3.9/dist-packages/sklearn/linear_model/_logistic.py:458: ConvergenceWarning: lbfgs failed to converge (status=1):\n",
            "STOP: TOTAL NO. of ITERATIONS REACHED LIMIT.\n",
            "\n",
            "Increase the number of iterations (max_iter) or scale the data as shown in:\n",
            "    https://scikit-learn.org/stable/modules/preprocessing.html\n",
            "Please also refer to the documentation for alternative solver options:\n",
            "    https://scikit-learn.org/stable/modules/linear_model.html#logistic-regression\n",
            "  n_iter_i = _check_optimize_result(\n",
            "/usr/local/lib/python3.9/dist-packages/sklearn/cluster/_kmeans.py:870: FutureWarning: The default value of `n_init` will change from 10 to 'auto' in 1.4. Set the value of `n_init` explicitly to suppress the warning\n",
            "  warnings.warn(\n"
          ]
        },
        {
          "output_type": "stream",
          "name": "stdout",
          "text": [
            "[CV] END ..............................kmeans__n_clusters=30; total time=   2.3s\n"
          ]
        },
        {
          "output_type": "stream",
          "name": "stderr",
          "text": [
            "/usr/local/lib/python3.9/dist-packages/sklearn/linear_model/_logistic.py:458: ConvergenceWarning: lbfgs failed to converge (status=1):\n",
            "STOP: TOTAL NO. of ITERATIONS REACHED LIMIT.\n",
            "\n",
            "Increase the number of iterations (max_iter) or scale the data as shown in:\n",
            "    https://scikit-learn.org/stable/modules/preprocessing.html\n",
            "Please also refer to the documentation for alternative solver options:\n",
            "    https://scikit-learn.org/stable/modules/linear_model.html#logistic-regression\n",
            "  n_iter_i = _check_optimize_result(\n",
            "/usr/local/lib/python3.9/dist-packages/sklearn/cluster/_kmeans.py:870: FutureWarning: The default value of `n_init` will change from 10 to 'auto' in 1.4. Set the value of `n_init` explicitly to suppress the warning\n",
            "  warnings.warn(\n"
          ]
        },
        {
          "output_type": "stream",
          "name": "stdout",
          "text": [
            "[CV] END ..............................kmeans__n_clusters=30; total time=   0.5s\n"
          ]
        },
        {
          "output_type": "stream",
          "name": "stderr",
          "text": [
            "/usr/local/lib/python3.9/dist-packages/sklearn/linear_model/_logistic.py:458: ConvergenceWarning: lbfgs failed to converge (status=1):\n",
            "STOP: TOTAL NO. of ITERATIONS REACHED LIMIT.\n",
            "\n",
            "Increase the number of iterations (max_iter) or scale the data as shown in:\n",
            "    https://scikit-learn.org/stable/modules/preprocessing.html\n",
            "Please also refer to the documentation for alternative solver options:\n",
            "    https://scikit-learn.org/stable/modules/linear_model.html#logistic-regression\n",
            "  n_iter_i = _check_optimize_result(\n",
            "/usr/local/lib/python3.9/dist-packages/sklearn/cluster/_kmeans.py:870: FutureWarning: The default value of `n_init` will change from 10 to 'auto' in 1.4. Set the value of `n_init` explicitly to suppress the warning\n",
            "  warnings.warn(\n"
          ]
        },
        {
          "output_type": "stream",
          "name": "stdout",
          "text": [
            "[CV] END ..............................kmeans__n_clusters=30; total time=   0.5s\n"
          ]
        },
        {
          "output_type": "stream",
          "name": "stderr",
          "text": [
            "/usr/local/lib/python3.9/dist-packages/sklearn/linear_model/_logistic.py:458: ConvergenceWarning: lbfgs failed to converge (status=1):\n",
            "STOP: TOTAL NO. of ITERATIONS REACHED LIMIT.\n",
            "\n",
            "Increase the number of iterations (max_iter) or scale the data as shown in:\n",
            "    https://scikit-learn.org/stable/modules/preprocessing.html\n",
            "Please also refer to the documentation for alternative solver options:\n",
            "    https://scikit-learn.org/stable/modules/linear_model.html#logistic-regression\n",
            "  n_iter_i = _check_optimize_result(\n",
            "/usr/local/lib/python3.9/dist-packages/sklearn/cluster/_kmeans.py:870: FutureWarning: The default value of `n_init` will change from 10 to 'auto' in 1.4. Set the value of `n_init` explicitly to suppress the warning\n",
            "  warnings.warn(\n"
          ]
        },
        {
          "output_type": "stream",
          "name": "stdout",
          "text": [
            "[CV] END ..............................kmeans__n_clusters=31; total time=   0.6s\n"
          ]
        },
        {
          "output_type": "stream",
          "name": "stderr",
          "text": [
            "/usr/local/lib/python3.9/dist-packages/sklearn/linear_model/_logistic.py:458: ConvergenceWarning: lbfgs failed to converge (status=1):\n",
            "STOP: TOTAL NO. of ITERATIONS REACHED LIMIT.\n",
            "\n",
            "Increase the number of iterations (max_iter) or scale the data as shown in:\n",
            "    https://scikit-learn.org/stable/modules/preprocessing.html\n",
            "Please also refer to the documentation for alternative solver options:\n",
            "    https://scikit-learn.org/stable/modules/linear_model.html#logistic-regression\n",
            "  n_iter_i = _check_optimize_result(\n",
            "/usr/local/lib/python3.9/dist-packages/sklearn/cluster/_kmeans.py:870: FutureWarning: The default value of `n_init` will change from 10 to 'auto' in 1.4. Set the value of `n_init` explicitly to suppress the warning\n",
            "  warnings.warn(\n"
          ]
        },
        {
          "output_type": "stream",
          "name": "stdout",
          "text": [
            "[CV] END ..............................kmeans__n_clusters=31; total time=   0.4s\n"
          ]
        },
        {
          "output_type": "stream",
          "name": "stderr",
          "text": [
            "/usr/local/lib/python3.9/dist-packages/sklearn/linear_model/_logistic.py:458: ConvergenceWarning: lbfgs failed to converge (status=1):\n",
            "STOP: TOTAL NO. of ITERATIONS REACHED LIMIT.\n",
            "\n",
            "Increase the number of iterations (max_iter) or scale the data as shown in:\n",
            "    https://scikit-learn.org/stable/modules/preprocessing.html\n",
            "Please also refer to the documentation for alternative solver options:\n",
            "    https://scikit-learn.org/stable/modules/linear_model.html#logistic-regression\n",
            "  n_iter_i = _check_optimize_result(\n",
            "/usr/local/lib/python3.9/dist-packages/sklearn/cluster/_kmeans.py:870: FutureWarning: The default value of `n_init` will change from 10 to 'auto' in 1.4. Set the value of `n_init` explicitly to suppress the warning\n",
            "  warnings.warn(\n"
          ]
        },
        {
          "output_type": "stream",
          "name": "stdout",
          "text": [
            "[CV] END ..............................kmeans__n_clusters=31; total time=   0.3s\n"
          ]
        },
        {
          "output_type": "stream",
          "name": "stderr",
          "text": [
            "/usr/local/lib/python3.9/dist-packages/sklearn/linear_model/_logistic.py:458: ConvergenceWarning: lbfgs failed to converge (status=1):\n",
            "STOP: TOTAL NO. of ITERATIONS REACHED LIMIT.\n",
            "\n",
            "Increase the number of iterations (max_iter) or scale the data as shown in:\n",
            "    https://scikit-learn.org/stable/modules/preprocessing.html\n",
            "Please also refer to the documentation for alternative solver options:\n",
            "    https://scikit-learn.org/stable/modules/linear_model.html#logistic-regression\n",
            "  n_iter_i = _check_optimize_result(\n",
            "/usr/local/lib/python3.9/dist-packages/sklearn/cluster/_kmeans.py:870: FutureWarning: The default value of `n_init` will change from 10 to 'auto' in 1.4. Set the value of `n_init` explicitly to suppress the warning\n",
            "  warnings.warn(\n"
          ]
        },
        {
          "output_type": "stream",
          "name": "stdout",
          "text": [
            "[CV] END ..............................kmeans__n_clusters=32; total time=   0.3s\n"
          ]
        },
        {
          "output_type": "stream",
          "name": "stderr",
          "text": [
            "/usr/local/lib/python3.9/dist-packages/sklearn/linear_model/_logistic.py:458: ConvergenceWarning: lbfgs failed to converge (status=1):\n",
            "STOP: TOTAL NO. of ITERATIONS REACHED LIMIT.\n",
            "\n",
            "Increase the number of iterations (max_iter) or scale the data as shown in:\n",
            "    https://scikit-learn.org/stable/modules/preprocessing.html\n",
            "Please also refer to the documentation for alternative solver options:\n",
            "    https://scikit-learn.org/stable/modules/linear_model.html#logistic-regression\n",
            "  n_iter_i = _check_optimize_result(\n",
            "/usr/local/lib/python3.9/dist-packages/sklearn/cluster/_kmeans.py:870: FutureWarning: The default value of `n_init` will change from 10 to 'auto' in 1.4. Set the value of `n_init` explicitly to suppress the warning\n",
            "  warnings.warn(\n"
          ]
        },
        {
          "output_type": "stream",
          "name": "stdout",
          "text": [
            "[CV] END ..............................kmeans__n_clusters=32; total time=   0.3s\n"
          ]
        },
        {
          "output_type": "stream",
          "name": "stderr",
          "text": [
            "/usr/local/lib/python3.9/dist-packages/sklearn/linear_model/_logistic.py:458: ConvergenceWarning: lbfgs failed to converge (status=1):\n",
            "STOP: TOTAL NO. of ITERATIONS REACHED LIMIT.\n",
            "\n",
            "Increase the number of iterations (max_iter) or scale the data as shown in:\n",
            "    https://scikit-learn.org/stable/modules/preprocessing.html\n",
            "Please also refer to the documentation for alternative solver options:\n",
            "    https://scikit-learn.org/stable/modules/linear_model.html#logistic-regression\n",
            "  n_iter_i = _check_optimize_result(\n",
            "/usr/local/lib/python3.9/dist-packages/sklearn/cluster/_kmeans.py:870: FutureWarning: The default value of `n_init` will change from 10 to 'auto' in 1.4. Set the value of `n_init` explicitly to suppress the warning\n",
            "  warnings.warn(\n"
          ]
        },
        {
          "output_type": "stream",
          "name": "stdout",
          "text": [
            "[CV] END ..............................kmeans__n_clusters=32; total time=   0.6s\n"
          ]
        },
        {
          "output_type": "stream",
          "name": "stderr",
          "text": [
            "/usr/local/lib/python3.9/dist-packages/sklearn/linear_model/_logistic.py:458: ConvergenceWarning: lbfgs failed to converge (status=1):\n",
            "STOP: TOTAL NO. of ITERATIONS REACHED LIMIT.\n",
            "\n",
            "Increase the number of iterations (max_iter) or scale the data as shown in:\n",
            "    https://scikit-learn.org/stable/modules/preprocessing.html\n",
            "Please also refer to the documentation for alternative solver options:\n",
            "    https://scikit-learn.org/stable/modules/linear_model.html#logistic-regression\n",
            "  n_iter_i = _check_optimize_result(\n",
            "/usr/local/lib/python3.9/dist-packages/sklearn/cluster/_kmeans.py:870: FutureWarning: The default value of `n_init` will change from 10 to 'auto' in 1.4. Set the value of `n_init` explicitly to suppress the warning\n",
            "  warnings.warn(\n"
          ]
        },
        {
          "output_type": "stream",
          "name": "stdout",
          "text": [
            "[CV] END ..............................kmeans__n_clusters=33; total time=   0.6s\n"
          ]
        },
        {
          "output_type": "stream",
          "name": "stderr",
          "text": [
            "/usr/local/lib/python3.9/dist-packages/sklearn/linear_model/_logistic.py:458: ConvergenceWarning: lbfgs failed to converge (status=1):\n",
            "STOP: TOTAL NO. of ITERATIONS REACHED LIMIT.\n",
            "\n",
            "Increase the number of iterations (max_iter) or scale the data as shown in:\n",
            "    https://scikit-learn.org/stable/modules/preprocessing.html\n",
            "Please also refer to the documentation for alternative solver options:\n",
            "    https://scikit-learn.org/stable/modules/linear_model.html#logistic-regression\n",
            "  n_iter_i = _check_optimize_result(\n",
            "/usr/local/lib/python3.9/dist-packages/sklearn/cluster/_kmeans.py:870: FutureWarning: The default value of `n_init` will change from 10 to 'auto' in 1.4. Set the value of `n_init` explicitly to suppress the warning\n",
            "  warnings.warn(\n"
          ]
        },
        {
          "output_type": "stream",
          "name": "stdout",
          "text": [
            "[CV] END ..............................kmeans__n_clusters=33; total time=   0.4s\n"
          ]
        },
        {
          "output_type": "stream",
          "name": "stderr",
          "text": [
            "/usr/local/lib/python3.9/dist-packages/sklearn/linear_model/_logistic.py:458: ConvergenceWarning: lbfgs failed to converge (status=1):\n",
            "STOP: TOTAL NO. of ITERATIONS REACHED LIMIT.\n",
            "\n",
            "Increase the number of iterations (max_iter) or scale the data as shown in:\n",
            "    https://scikit-learn.org/stable/modules/preprocessing.html\n",
            "Please also refer to the documentation for alternative solver options:\n",
            "    https://scikit-learn.org/stable/modules/linear_model.html#logistic-regression\n",
            "  n_iter_i = _check_optimize_result(\n",
            "/usr/local/lib/python3.9/dist-packages/sklearn/cluster/_kmeans.py:870: FutureWarning: The default value of `n_init` will change from 10 to 'auto' in 1.4. Set the value of `n_init` explicitly to suppress the warning\n",
            "  warnings.warn(\n"
          ]
        },
        {
          "output_type": "stream",
          "name": "stdout",
          "text": [
            "[CV] END ..............................kmeans__n_clusters=33; total time=   0.6s\n"
          ]
        },
        {
          "output_type": "stream",
          "name": "stderr",
          "text": [
            "/usr/local/lib/python3.9/dist-packages/sklearn/linear_model/_logistic.py:458: ConvergenceWarning: lbfgs failed to converge (status=1):\n",
            "STOP: TOTAL NO. of ITERATIONS REACHED LIMIT.\n",
            "\n",
            "Increase the number of iterations (max_iter) or scale the data as shown in:\n",
            "    https://scikit-learn.org/stable/modules/preprocessing.html\n",
            "Please also refer to the documentation for alternative solver options:\n",
            "    https://scikit-learn.org/stable/modules/linear_model.html#logistic-regression\n",
            "  n_iter_i = _check_optimize_result(\n",
            "/usr/local/lib/python3.9/dist-packages/sklearn/cluster/_kmeans.py:870: FutureWarning: The default value of `n_init` will change from 10 to 'auto' in 1.4. Set the value of `n_init` explicitly to suppress the warning\n",
            "  warnings.warn(\n"
          ]
        },
        {
          "output_type": "stream",
          "name": "stdout",
          "text": [
            "[CV] END ..............................kmeans__n_clusters=34; total time=   0.6s\n"
          ]
        },
        {
          "output_type": "stream",
          "name": "stderr",
          "text": [
            "/usr/local/lib/python3.9/dist-packages/sklearn/linear_model/_logistic.py:458: ConvergenceWarning: lbfgs failed to converge (status=1):\n",
            "STOP: TOTAL NO. of ITERATIONS REACHED LIMIT.\n",
            "\n",
            "Increase the number of iterations (max_iter) or scale the data as shown in:\n",
            "    https://scikit-learn.org/stable/modules/preprocessing.html\n",
            "Please also refer to the documentation for alternative solver options:\n",
            "    https://scikit-learn.org/stable/modules/linear_model.html#logistic-regression\n",
            "  n_iter_i = _check_optimize_result(\n",
            "/usr/local/lib/python3.9/dist-packages/sklearn/cluster/_kmeans.py:870: FutureWarning: The default value of `n_init` will change from 10 to 'auto' in 1.4. Set the value of `n_init` explicitly to suppress the warning\n",
            "  warnings.warn(\n"
          ]
        },
        {
          "output_type": "stream",
          "name": "stdout",
          "text": [
            "[CV] END ..............................kmeans__n_clusters=34; total time=   0.4s\n"
          ]
        },
        {
          "output_type": "stream",
          "name": "stderr",
          "text": [
            "/usr/local/lib/python3.9/dist-packages/sklearn/linear_model/_logistic.py:458: ConvergenceWarning: lbfgs failed to converge (status=1):\n",
            "STOP: TOTAL NO. of ITERATIONS REACHED LIMIT.\n",
            "\n",
            "Increase the number of iterations (max_iter) or scale the data as shown in:\n",
            "    https://scikit-learn.org/stable/modules/preprocessing.html\n",
            "Please also refer to the documentation for alternative solver options:\n",
            "    https://scikit-learn.org/stable/modules/linear_model.html#logistic-regression\n",
            "  n_iter_i = _check_optimize_result(\n",
            "/usr/local/lib/python3.9/dist-packages/sklearn/cluster/_kmeans.py:870: FutureWarning: The default value of `n_init` will change from 10 to 'auto' in 1.4. Set the value of `n_init` explicitly to suppress the warning\n",
            "  warnings.warn(\n"
          ]
        },
        {
          "output_type": "stream",
          "name": "stdout",
          "text": [
            "[CV] END ..............................kmeans__n_clusters=34; total time=   0.5s\n"
          ]
        },
        {
          "output_type": "stream",
          "name": "stderr",
          "text": [
            "/usr/local/lib/python3.9/dist-packages/sklearn/linear_model/_logistic.py:458: ConvergenceWarning: lbfgs failed to converge (status=1):\n",
            "STOP: TOTAL NO. of ITERATIONS REACHED LIMIT.\n",
            "\n",
            "Increase the number of iterations (max_iter) or scale the data as shown in:\n",
            "    https://scikit-learn.org/stable/modules/preprocessing.html\n",
            "Please also refer to the documentation for alternative solver options:\n",
            "    https://scikit-learn.org/stable/modules/linear_model.html#logistic-regression\n",
            "  n_iter_i = _check_optimize_result(\n",
            "/usr/local/lib/python3.9/dist-packages/sklearn/cluster/_kmeans.py:870: FutureWarning: The default value of `n_init` will change from 10 to 'auto' in 1.4. Set the value of `n_init` explicitly to suppress the warning\n",
            "  warnings.warn(\n"
          ]
        },
        {
          "output_type": "stream",
          "name": "stdout",
          "text": [
            "[CV] END ..............................kmeans__n_clusters=35; total time=   0.5s\n"
          ]
        },
        {
          "output_type": "stream",
          "name": "stderr",
          "text": [
            "/usr/local/lib/python3.9/dist-packages/sklearn/linear_model/_logistic.py:458: ConvergenceWarning: lbfgs failed to converge (status=1):\n",
            "STOP: TOTAL NO. of ITERATIONS REACHED LIMIT.\n",
            "\n",
            "Increase the number of iterations (max_iter) or scale the data as shown in:\n",
            "    https://scikit-learn.org/stable/modules/preprocessing.html\n",
            "Please also refer to the documentation for alternative solver options:\n",
            "    https://scikit-learn.org/stable/modules/linear_model.html#logistic-regression\n",
            "  n_iter_i = _check_optimize_result(\n",
            "/usr/local/lib/python3.9/dist-packages/sklearn/cluster/_kmeans.py:870: FutureWarning: The default value of `n_init` will change from 10 to 'auto' in 1.4. Set the value of `n_init` explicitly to suppress the warning\n",
            "  warnings.warn(\n"
          ]
        },
        {
          "output_type": "stream",
          "name": "stdout",
          "text": [
            "[CV] END ..............................kmeans__n_clusters=35; total time=   0.5s\n"
          ]
        },
        {
          "output_type": "stream",
          "name": "stderr",
          "text": [
            "/usr/local/lib/python3.9/dist-packages/sklearn/linear_model/_logistic.py:458: ConvergenceWarning: lbfgs failed to converge (status=1):\n",
            "STOP: TOTAL NO. of ITERATIONS REACHED LIMIT.\n",
            "\n",
            "Increase the number of iterations (max_iter) or scale the data as shown in:\n",
            "    https://scikit-learn.org/stable/modules/preprocessing.html\n",
            "Please also refer to the documentation for alternative solver options:\n",
            "    https://scikit-learn.org/stable/modules/linear_model.html#logistic-regression\n",
            "  n_iter_i = _check_optimize_result(\n",
            "/usr/local/lib/python3.9/dist-packages/sklearn/cluster/_kmeans.py:870: FutureWarning: The default value of `n_init` will change from 10 to 'auto' in 1.4. Set the value of `n_init` explicitly to suppress the warning\n",
            "  warnings.warn(\n"
          ]
        },
        {
          "output_type": "stream",
          "name": "stdout",
          "text": [
            "[CV] END ..............................kmeans__n_clusters=35; total time=   0.4s\n"
          ]
        },
        {
          "output_type": "stream",
          "name": "stderr",
          "text": [
            "/usr/local/lib/python3.9/dist-packages/sklearn/linear_model/_logistic.py:458: ConvergenceWarning: lbfgs failed to converge (status=1):\n",
            "STOP: TOTAL NO. of ITERATIONS REACHED LIMIT.\n",
            "\n",
            "Increase the number of iterations (max_iter) or scale the data as shown in:\n",
            "    https://scikit-learn.org/stable/modules/preprocessing.html\n",
            "Please also refer to the documentation for alternative solver options:\n",
            "    https://scikit-learn.org/stable/modules/linear_model.html#logistic-regression\n",
            "  n_iter_i = _check_optimize_result(\n",
            "/usr/local/lib/python3.9/dist-packages/sklearn/cluster/_kmeans.py:870: FutureWarning: The default value of `n_init` will change from 10 to 'auto' in 1.4. Set the value of `n_init` explicitly to suppress the warning\n",
            "  warnings.warn(\n"
          ]
        },
        {
          "output_type": "stream",
          "name": "stdout",
          "text": [
            "[CV] END ..............................kmeans__n_clusters=36; total time=   0.6s\n"
          ]
        },
        {
          "output_type": "stream",
          "name": "stderr",
          "text": [
            "/usr/local/lib/python3.9/dist-packages/sklearn/linear_model/_logistic.py:458: ConvergenceWarning: lbfgs failed to converge (status=1):\n",
            "STOP: TOTAL NO. of ITERATIONS REACHED LIMIT.\n",
            "\n",
            "Increase the number of iterations (max_iter) or scale the data as shown in:\n",
            "    https://scikit-learn.org/stable/modules/preprocessing.html\n",
            "Please also refer to the documentation for alternative solver options:\n",
            "    https://scikit-learn.org/stable/modules/linear_model.html#logistic-regression\n",
            "  n_iter_i = _check_optimize_result(\n",
            "/usr/local/lib/python3.9/dist-packages/sklearn/cluster/_kmeans.py:870: FutureWarning: The default value of `n_init` will change from 10 to 'auto' in 1.4. Set the value of `n_init` explicitly to suppress the warning\n",
            "  warnings.warn(\n"
          ]
        },
        {
          "output_type": "stream",
          "name": "stdout",
          "text": [
            "[CV] END ..............................kmeans__n_clusters=36; total time=   0.4s\n"
          ]
        },
        {
          "output_type": "stream",
          "name": "stderr",
          "text": [
            "/usr/local/lib/python3.9/dist-packages/sklearn/linear_model/_logistic.py:458: ConvergenceWarning: lbfgs failed to converge (status=1):\n",
            "STOP: TOTAL NO. of ITERATIONS REACHED LIMIT.\n",
            "\n",
            "Increase the number of iterations (max_iter) or scale the data as shown in:\n",
            "    https://scikit-learn.org/stable/modules/preprocessing.html\n",
            "Please also refer to the documentation for alternative solver options:\n",
            "    https://scikit-learn.org/stable/modules/linear_model.html#logistic-regression\n",
            "  n_iter_i = _check_optimize_result(\n",
            "/usr/local/lib/python3.9/dist-packages/sklearn/cluster/_kmeans.py:870: FutureWarning: The default value of `n_init` will change from 10 to 'auto' in 1.4. Set the value of `n_init` explicitly to suppress the warning\n",
            "  warnings.warn(\n"
          ]
        },
        {
          "output_type": "stream",
          "name": "stdout",
          "text": [
            "[CV] END ..............................kmeans__n_clusters=36; total time=   0.5s\n"
          ]
        },
        {
          "output_type": "stream",
          "name": "stderr",
          "text": [
            "/usr/local/lib/python3.9/dist-packages/sklearn/linear_model/_logistic.py:458: ConvergenceWarning: lbfgs failed to converge (status=1):\n",
            "STOP: TOTAL NO. of ITERATIONS REACHED LIMIT.\n",
            "\n",
            "Increase the number of iterations (max_iter) or scale the data as shown in:\n",
            "    https://scikit-learn.org/stable/modules/preprocessing.html\n",
            "Please also refer to the documentation for alternative solver options:\n",
            "    https://scikit-learn.org/stable/modules/linear_model.html#logistic-regression\n",
            "  n_iter_i = _check_optimize_result(\n",
            "/usr/local/lib/python3.9/dist-packages/sklearn/cluster/_kmeans.py:870: FutureWarning: The default value of `n_init` will change from 10 to 'auto' in 1.4. Set the value of `n_init` explicitly to suppress the warning\n",
            "  warnings.warn(\n"
          ]
        },
        {
          "output_type": "stream",
          "name": "stdout",
          "text": [
            "[CV] END ..............................kmeans__n_clusters=37; total time=   0.8s\n"
          ]
        },
        {
          "output_type": "stream",
          "name": "stderr",
          "text": [
            "/usr/local/lib/python3.9/dist-packages/sklearn/linear_model/_logistic.py:458: ConvergenceWarning: lbfgs failed to converge (status=1):\n",
            "STOP: TOTAL NO. of ITERATIONS REACHED LIMIT.\n",
            "\n",
            "Increase the number of iterations (max_iter) or scale the data as shown in:\n",
            "    https://scikit-learn.org/stable/modules/preprocessing.html\n",
            "Please also refer to the documentation for alternative solver options:\n",
            "    https://scikit-learn.org/stable/modules/linear_model.html#logistic-regression\n",
            "  n_iter_i = _check_optimize_result(\n",
            "/usr/local/lib/python3.9/dist-packages/sklearn/cluster/_kmeans.py:870: FutureWarning: The default value of `n_init` will change from 10 to 'auto' in 1.4. Set the value of `n_init` explicitly to suppress the warning\n",
            "  warnings.warn(\n"
          ]
        },
        {
          "output_type": "stream",
          "name": "stdout",
          "text": [
            "[CV] END ..............................kmeans__n_clusters=37; total time=   1.5s\n"
          ]
        },
        {
          "output_type": "stream",
          "name": "stderr",
          "text": [
            "/usr/local/lib/python3.9/dist-packages/sklearn/linear_model/_logistic.py:458: ConvergenceWarning: lbfgs failed to converge (status=1):\n",
            "STOP: TOTAL NO. of ITERATIONS REACHED LIMIT.\n",
            "\n",
            "Increase the number of iterations (max_iter) or scale the data as shown in:\n",
            "    https://scikit-learn.org/stable/modules/preprocessing.html\n",
            "Please also refer to the documentation for alternative solver options:\n",
            "    https://scikit-learn.org/stable/modules/linear_model.html#logistic-regression\n",
            "  n_iter_i = _check_optimize_result(\n",
            "/usr/local/lib/python3.9/dist-packages/sklearn/cluster/_kmeans.py:870: FutureWarning: The default value of `n_init` will change from 10 to 'auto' in 1.4. Set the value of `n_init` explicitly to suppress the warning\n",
            "  warnings.warn(\n"
          ]
        },
        {
          "output_type": "stream",
          "name": "stdout",
          "text": [
            "[CV] END ..............................kmeans__n_clusters=37; total time=   1.0s\n"
          ]
        },
        {
          "output_type": "stream",
          "name": "stderr",
          "text": [
            "/usr/local/lib/python3.9/dist-packages/sklearn/linear_model/_logistic.py:458: ConvergenceWarning: lbfgs failed to converge (status=1):\n",
            "STOP: TOTAL NO. of ITERATIONS REACHED LIMIT.\n",
            "\n",
            "Increase the number of iterations (max_iter) or scale the data as shown in:\n",
            "    https://scikit-learn.org/stable/modules/preprocessing.html\n",
            "Please also refer to the documentation for alternative solver options:\n",
            "    https://scikit-learn.org/stable/modules/linear_model.html#logistic-regression\n",
            "  n_iter_i = _check_optimize_result(\n",
            "/usr/local/lib/python3.9/dist-packages/sklearn/cluster/_kmeans.py:870: FutureWarning: The default value of `n_init` will change from 10 to 'auto' in 1.4. Set the value of `n_init` explicitly to suppress the warning\n",
            "  warnings.warn(\n"
          ]
        },
        {
          "output_type": "stream",
          "name": "stdout",
          "text": [
            "[CV] END ..............................kmeans__n_clusters=38; total time=   0.5s\n"
          ]
        },
        {
          "output_type": "stream",
          "name": "stderr",
          "text": [
            "/usr/local/lib/python3.9/dist-packages/sklearn/linear_model/_logistic.py:458: ConvergenceWarning: lbfgs failed to converge (status=1):\n",
            "STOP: TOTAL NO. of ITERATIONS REACHED LIMIT.\n",
            "\n",
            "Increase the number of iterations (max_iter) or scale the data as shown in:\n",
            "    https://scikit-learn.org/stable/modules/preprocessing.html\n",
            "Please also refer to the documentation for alternative solver options:\n",
            "    https://scikit-learn.org/stable/modules/linear_model.html#logistic-regression\n",
            "  n_iter_i = _check_optimize_result(\n",
            "/usr/local/lib/python3.9/dist-packages/sklearn/cluster/_kmeans.py:870: FutureWarning: The default value of `n_init` will change from 10 to 'auto' in 1.4. Set the value of `n_init` explicitly to suppress the warning\n",
            "  warnings.warn(\n"
          ]
        },
        {
          "output_type": "stream",
          "name": "stdout",
          "text": [
            "[CV] END ..............................kmeans__n_clusters=38; total time=   0.4s\n"
          ]
        },
        {
          "output_type": "stream",
          "name": "stderr",
          "text": [
            "/usr/local/lib/python3.9/dist-packages/sklearn/linear_model/_logistic.py:458: ConvergenceWarning: lbfgs failed to converge (status=1):\n",
            "STOP: TOTAL NO. of ITERATIONS REACHED LIMIT.\n",
            "\n",
            "Increase the number of iterations (max_iter) or scale the data as shown in:\n",
            "    https://scikit-learn.org/stable/modules/preprocessing.html\n",
            "Please also refer to the documentation for alternative solver options:\n",
            "    https://scikit-learn.org/stable/modules/linear_model.html#logistic-regression\n",
            "  n_iter_i = _check_optimize_result(\n",
            "/usr/local/lib/python3.9/dist-packages/sklearn/cluster/_kmeans.py:870: FutureWarning: The default value of `n_init` will change from 10 to 'auto' in 1.4. Set the value of `n_init` explicitly to suppress the warning\n",
            "  warnings.warn(\n"
          ]
        },
        {
          "output_type": "stream",
          "name": "stdout",
          "text": [
            "[CV] END ..............................kmeans__n_clusters=38; total time=   0.4s\n"
          ]
        },
        {
          "output_type": "stream",
          "name": "stderr",
          "text": [
            "/usr/local/lib/python3.9/dist-packages/sklearn/linear_model/_logistic.py:458: ConvergenceWarning: lbfgs failed to converge (status=1):\n",
            "STOP: TOTAL NO. of ITERATIONS REACHED LIMIT.\n",
            "\n",
            "Increase the number of iterations (max_iter) or scale the data as shown in:\n",
            "    https://scikit-learn.org/stable/modules/preprocessing.html\n",
            "Please also refer to the documentation for alternative solver options:\n",
            "    https://scikit-learn.org/stable/modules/linear_model.html#logistic-regression\n",
            "  n_iter_i = _check_optimize_result(\n",
            "/usr/local/lib/python3.9/dist-packages/sklearn/cluster/_kmeans.py:870: FutureWarning: The default value of `n_init` will change from 10 to 'auto' in 1.4. Set the value of `n_init` explicitly to suppress the warning\n",
            "  warnings.warn(\n"
          ]
        },
        {
          "output_type": "stream",
          "name": "stdout",
          "text": [
            "[CV] END ..............................kmeans__n_clusters=39; total time=   0.4s\n"
          ]
        },
        {
          "output_type": "stream",
          "name": "stderr",
          "text": [
            "/usr/local/lib/python3.9/dist-packages/sklearn/linear_model/_logistic.py:458: ConvergenceWarning: lbfgs failed to converge (status=1):\n",
            "STOP: TOTAL NO. of ITERATIONS REACHED LIMIT.\n",
            "\n",
            "Increase the number of iterations (max_iter) or scale the data as shown in:\n",
            "    https://scikit-learn.org/stable/modules/preprocessing.html\n",
            "Please also refer to the documentation for alternative solver options:\n",
            "    https://scikit-learn.org/stable/modules/linear_model.html#logistic-regression\n",
            "  n_iter_i = _check_optimize_result(\n",
            "/usr/local/lib/python3.9/dist-packages/sklearn/cluster/_kmeans.py:870: FutureWarning: The default value of `n_init` will change from 10 to 'auto' in 1.4. Set the value of `n_init` explicitly to suppress the warning\n",
            "  warnings.warn(\n"
          ]
        },
        {
          "output_type": "stream",
          "name": "stdout",
          "text": [
            "[CV] END ..............................kmeans__n_clusters=39; total time=   0.5s\n"
          ]
        },
        {
          "output_type": "stream",
          "name": "stderr",
          "text": [
            "/usr/local/lib/python3.9/dist-packages/sklearn/linear_model/_logistic.py:458: ConvergenceWarning: lbfgs failed to converge (status=1):\n",
            "STOP: TOTAL NO. of ITERATIONS REACHED LIMIT.\n",
            "\n",
            "Increase the number of iterations (max_iter) or scale the data as shown in:\n",
            "    https://scikit-learn.org/stable/modules/preprocessing.html\n",
            "Please also refer to the documentation for alternative solver options:\n",
            "    https://scikit-learn.org/stable/modules/linear_model.html#logistic-regression\n",
            "  n_iter_i = _check_optimize_result(\n",
            "/usr/local/lib/python3.9/dist-packages/sklearn/cluster/_kmeans.py:870: FutureWarning: The default value of `n_init` will change from 10 to 'auto' in 1.4. Set the value of `n_init` explicitly to suppress the warning\n",
            "  warnings.warn(\n"
          ]
        },
        {
          "output_type": "stream",
          "name": "stdout",
          "text": [
            "[CV] END ..............................kmeans__n_clusters=39; total time=   0.4s\n"
          ]
        },
        {
          "output_type": "stream",
          "name": "stderr",
          "text": [
            "/usr/local/lib/python3.9/dist-packages/sklearn/linear_model/_logistic.py:458: ConvergenceWarning: lbfgs failed to converge (status=1):\n",
            "STOP: TOTAL NO. of ITERATIONS REACHED LIMIT.\n",
            "\n",
            "Increase the number of iterations (max_iter) or scale the data as shown in:\n",
            "    https://scikit-learn.org/stable/modules/preprocessing.html\n",
            "Please also refer to the documentation for alternative solver options:\n",
            "    https://scikit-learn.org/stable/modules/linear_model.html#logistic-regression\n",
            "  n_iter_i = _check_optimize_result(\n",
            "/usr/local/lib/python3.9/dist-packages/sklearn/cluster/_kmeans.py:870: FutureWarning: The default value of `n_init` will change from 10 to 'auto' in 1.4. Set the value of `n_init` explicitly to suppress the warning\n",
            "  warnings.warn(\n"
          ]
        },
        {
          "output_type": "stream",
          "name": "stdout",
          "text": [
            "[CV] END ..............................kmeans__n_clusters=40; total time=   0.5s\n"
          ]
        },
        {
          "output_type": "stream",
          "name": "stderr",
          "text": [
            "/usr/local/lib/python3.9/dist-packages/sklearn/linear_model/_logistic.py:458: ConvergenceWarning: lbfgs failed to converge (status=1):\n",
            "STOP: TOTAL NO. of ITERATIONS REACHED LIMIT.\n",
            "\n",
            "Increase the number of iterations (max_iter) or scale the data as shown in:\n",
            "    https://scikit-learn.org/stable/modules/preprocessing.html\n",
            "Please also refer to the documentation for alternative solver options:\n",
            "    https://scikit-learn.org/stable/modules/linear_model.html#logistic-regression\n",
            "  n_iter_i = _check_optimize_result(\n",
            "/usr/local/lib/python3.9/dist-packages/sklearn/cluster/_kmeans.py:870: FutureWarning: The default value of `n_init` will change from 10 to 'auto' in 1.4. Set the value of `n_init` explicitly to suppress the warning\n",
            "  warnings.warn(\n"
          ]
        },
        {
          "output_type": "stream",
          "name": "stdout",
          "text": [
            "[CV] END ..............................kmeans__n_clusters=40; total time=   0.4s\n"
          ]
        },
        {
          "output_type": "stream",
          "name": "stderr",
          "text": [
            "/usr/local/lib/python3.9/dist-packages/sklearn/linear_model/_logistic.py:458: ConvergenceWarning: lbfgs failed to converge (status=1):\n",
            "STOP: TOTAL NO. of ITERATIONS REACHED LIMIT.\n",
            "\n",
            "Increase the number of iterations (max_iter) or scale the data as shown in:\n",
            "    https://scikit-learn.org/stable/modules/preprocessing.html\n",
            "Please also refer to the documentation for alternative solver options:\n",
            "    https://scikit-learn.org/stable/modules/linear_model.html#logistic-regression\n",
            "  n_iter_i = _check_optimize_result(\n",
            "/usr/local/lib/python3.9/dist-packages/sklearn/cluster/_kmeans.py:870: FutureWarning: The default value of `n_init` will change from 10 to 'auto' in 1.4. Set the value of `n_init` explicitly to suppress the warning\n",
            "  warnings.warn(\n"
          ]
        },
        {
          "output_type": "stream",
          "name": "stdout",
          "text": [
            "[CV] END ..............................kmeans__n_clusters=40; total time=   0.6s\n"
          ]
        },
        {
          "output_type": "stream",
          "name": "stderr",
          "text": [
            "/usr/local/lib/python3.9/dist-packages/sklearn/linear_model/_logistic.py:458: ConvergenceWarning: lbfgs failed to converge (status=1):\n",
            "STOP: TOTAL NO. of ITERATIONS REACHED LIMIT.\n",
            "\n",
            "Increase the number of iterations (max_iter) or scale the data as shown in:\n",
            "    https://scikit-learn.org/stable/modules/preprocessing.html\n",
            "Please also refer to the documentation for alternative solver options:\n",
            "    https://scikit-learn.org/stable/modules/linear_model.html#logistic-regression\n",
            "  n_iter_i = _check_optimize_result(\n",
            "/usr/local/lib/python3.9/dist-packages/sklearn/cluster/_kmeans.py:870: FutureWarning: The default value of `n_init` will change from 10 to 'auto' in 1.4. Set the value of `n_init` explicitly to suppress the warning\n",
            "  warnings.warn(\n"
          ]
        },
        {
          "output_type": "stream",
          "name": "stdout",
          "text": [
            "[CV] END ..............................kmeans__n_clusters=41; total time=   0.7s\n"
          ]
        },
        {
          "output_type": "stream",
          "name": "stderr",
          "text": [
            "/usr/local/lib/python3.9/dist-packages/sklearn/linear_model/_logistic.py:458: ConvergenceWarning: lbfgs failed to converge (status=1):\n",
            "STOP: TOTAL NO. of ITERATIONS REACHED LIMIT.\n",
            "\n",
            "Increase the number of iterations (max_iter) or scale the data as shown in:\n",
            "    https://scikit-learn.org/stable/modules/preprocessing.html\n",
            "Please also refer to the documentation for alternative solver options:\n",
            "    https://scikit-learn.org/stable/modules/linear_model.html#logistic-regression\n",
            "  n_iter_i = _check_optimize_result(\n",
            "/usr/local/lib/python3.9/dist-packages/sklearn/cluster/_kmeans.py:870: FutureWarning: The default value of `n_init` will change from 10 to 'auto' in 1.4. Set the value of `n_init` explicitly to suppress the warning\n",
            "  warnings.warn(\n"
          ]
        },
        {
          "output_type": "stream",
          "name": "stdout",
          "text": [
            "[CV] END ..............................kmeans__n_clusters=41; total time=   0.4s\n"
          ]
        },
        {
          "output_type": "stream",
          "name": "stderr",
          "text": [
            "/usr/local/lib/python3.9/dist-packages/sklearn/linear_model/_logistic.py:458: ConvergenceWarning: lbfgs failed to converge (status=1):\n",
            "STOP: TOTAL NO. of ITERATIONS REACHED LIMIT.\n",
            "\n",
            "Increase the number of iterations (max_iter) or scale the data as shown in:\n",
            "    https://scikit-learn.org/stable/modules/preprocessing.html\n",
            "Please also refer to the documentation for alternative solver options:\n",
            "    https://scikit-learn.org/stable/modules/linear_model.html#logistic-regression\n",
            "  n_iter_i = _check_optimize_result(\n",
            "/usr/local/lib/python3.9/dist-packages/sklearn/cluster/_kmeans.py:870: FutureWarning: The default value of `n_init` will change from 10 to 'auto' in 1.4. Set the value of `n_init` explicitly to suppress the warning\n",
            "  warnings.warn(\n"
          ]
        },
        {
          "output_type": "stream",
          "name": "stdout",
          "text": [
            "[CV] END ..............................kmeans__n_clusters=41; total time=   0.5s\n"
          ]
        },
        {
          "output_type": "stream",
          "name": "stderr",
          "text": [
            "/usr/local/lib/python3.9/dist-packages/sklearn/linear_model/_logistic.py:458: ConvergenceWarning: lbfgs failed to converge (status=1):\n",
            "STOP: TOTAL NO. of ITERATIONS REACHED LIMIT.\n",
            "\n",
            "Increase the number of iterations (max_iter) or scale the data as shown in:\n",
            "    https://scikit-learn.org/stable/modules/preprocessing.html\n",
            "Please also refer to the documentation for alternative solver options:\n",
            "    https://scikit-learn.org/stable/modules/linear_model.html#logistic-regression\n",
            "  n_iter_i = _check_optimize_result(\n",
            "/usr/local/lib/python3.9/dist-packages/sklearn/cluster/_kmeans.py:870: FutureWarning: The default value of `n_init` will change from 10 to 'auto' in 1.4. Set the value of `n_init` explicitly to suppress the warning\n",
            "  warnings.warn(\n"
          ]
        },
        {
          "output_type": "stream",
          "name": "stdout",
          "text": [
            "[CV] END ..............................kmeans__n_clusters=42; total time=   0.7s\n"
          ]
        },
        {
          "output_type": "stream",
          "name": "stderr",
          "text": [
            "/usr/local/lib/python3.9/dist-packages/sklearn/linear_model/_logistic.py:458: ConvergenceWarning: lbfgs failed to converge (status=1):\n",
            "STOP: TOTAL NO. of ITERATIONS REACHED LIMIT.\n",
            "\n",
            "Increase the number of iterations (max_iter) or scale the data as shown in:\n",
            "    https://scikit-learn.org/stable/modules/preprocessing.html\n",
            "Please also refer to the documentation for alternative solver options:\n",
            "    https://scikit-learn.org/stable/modules/linear_model.html#logistic-regression\n",
            "  n_iter_i = _check_optimize_result(\n",
            "/usr/local/lib/python3.9/dist-packages/sklearn/cluster/_kmeans.py:870: FutureWarning: The default value of `n_init` will change from 10 to 'auto' in 1.4. Set the value of `n_init` explicitly to suppress the warning\n",
            "  warnings.warn(\n"
          ]
        },
        {
          "output_type": "stream",
          "name": "stdout",
          "text": [
            "[CV] END ..............................kmeans__n_clusters=42; total time=   0.6s\n"
          ]
        },
        {
          "output_type": "stream",
          "name": "stderr",
          "text": [
            "/usr/local/lib/python3.9/dist-packages/sklearn/linear_model/_logistic.py:458: ConvergenceWarning: lbfgs failed to converge (status=1):\n",
            "STOP: TOTAL NO. of ITERATIONS REACHED LIMIT.\n",
            "\n",
            "Increase the number of iterations (max_iter) or scale the data as shown in:\n",
            "    https://scikit-learn.org/stable/modules/preprocessing.html\n",
            "Please also refer to the documentation for alternative solver options:\n",
            "    https://scikit-learn.org/stable/modules/linear_model.html#logistic-regression\n",
            "  n_iter_i = _check_optimize_result(\n",
            "/usr/local/lib/python3.9/dist-packages/sklearn/cluster/_kmeans.py:870: FutureWarning: The default value of `n_init` will change from 10 to 'auto' in 1.4. Set the value of `n_init` explicitly to suppress the warning\n",
            "  warnings.warn(\n"
          ]
        },
        {
          "output_type": "stream",
          "name": "stdout",
          "text": [
            "[CV] END ..............................kmeans__n_clusters=42; total time=   0.9s\n"
          ]
        },
        {
          "output_type": "stream",
          "name": "stderr",
          "text": [
            "/usr/local/lib/python3.9/dist-packages/sklearn/linear_model/_logistic.py:458: ConvergenceWarning: lbfgs failed to converge (status=1):\n",
            "STOP: TOTAL NO. of ITERATIONS REACHED LIMIT.\n",
            "\n",
            "Increase the number of iterations (max_iter) or scale the data as shown in:\n",
            "    https://scikit-learn.org/stable/modules/preprocessing.html\n",
            "Please also refer to the documentation for alternative solver options:\n",
            "    https://scikit-learn.org/stable/modules/linear_model.html#logistic-regression\n",
            "  n_iter_i = _check_optimize_result(\n",
            "/usr/local/lib/python3.9/dist-packages/sklearn/cluster/_kmeans.py:870: FutureWarning: The default value of `n_init` will change from 10 to 'auto' in 1.4. Set the value of `n_init` explicitly to suppress the warning\n",
            "  warnings.warn(\n"
          ]
        },
        {
          "output_type": "stream",
          "name": "stdout",
          "text": [
            "[CV] END ..............................kmeans__n_clusters=43; total time=   0.5s\n"
          ]
        },
        {
          "output_type": "stream",
          "name": "stderr",
          "text": [
            "/usr/local/lib/python3.9/dist-packages/sklearn/linear_model/_logistic.py:458: ConvergenceWarning: lbfgs failed to converge (status=1):\n",
            "STOP: TOTAL NO. of ITERATIONS REACHED LIMIT.\n",
            "\n",
            "Increase the number of iterations (max_iter) or scale the data as shown in:\n",
            "    https://scikit-learn.org/stable/modules/preprocessing.html\n",
            "Please also refer to the documentation for alternative solver options:\n",
            "    https://scikit-learn.org/stable/modules/linear_model.html#logistic-regression\n",
            "  n_iter_i = _check_optimize_result(\n",
            "/usr/local/lib/python3.9/dist-packages/sklearn/cluster/_kmeans.py:870: FutureWarning: The default value of `n_init` will change from 10 to 'auto' in 1.4. Set the value of `n_init` explicitly to suppress the warning\n",
            "  warnings.warn(\n"
          ]
        },
        {
          "output_type": "stream",
          "name": "stdout",
          "text": [
            "[CV] END ..............................kmeans__n_clusters=43; total time=   0.4s\n"
          ]
        },
        {
          "output_type": "stream",
          "name": "stderr",
          "text": [
            "/usr/local/lib/python3.9/dist-packages/sklearn/linear_model/_logistic.py:458: ConvergenceWarning: lbfgs failed to converge (status=1):\n",
            "STOP: TOTAL NO. of ITERATIONS REACHED LIMIT.\n",
            "\n",
            "Increase the number of iterations (max_iter) or scale the data as shown in:\n",
            "    https://scikit-learn.org/stable/modules/preprocessing.html\n",
            "Please also refer to the documentation for alternative solver options:\n",
            "    https://scikit-learn.org/stable/modules/linear_model.html#logistic-regression\n",
            "  n_iter_i = _check_optimize_result(\n",
            "/usr/local/lib/python3.9/dist-packages/sklearn/cluster/_kmeans.py:870: FutureWarning: The default value of `n_init` will change from 10 to 'auto' in 1.4. Set the value of `n_init` explicitly to suppress the warning\n",
            "  warnings.warn(\n"
          ]
        },
        {
          "output_type": "stream",
          "name": "stdout",
          "text": [
            "[CV] END ..............................kmeans__n_clusters=43; total time=   0.4s\n"
          ]
        },
        {
          "output_type": "stream",
          "name": "stderr",
          "text": [
            "/usr/local/lib/python3.9/dist-packages/sklearn/linear_model/_logistic.py:458: ConvergenceWarning: lbfgs failed to converge (status=1):\n",
            "STOP: TOTAL NO. of ITERATIONS REACHED LIMIT.\n",
            "\n",
            "Increase the number of iterations (max_iter) or scale the data as shown in:\n",
            "    https://scikit-learn.org/stable/modules/preprocessing.html\n",
            "Please also refer to the documentation for alternative solver options:\n",
            "    https://scikit-learn.org/stable/modules/linear_model.html#logistic-regression\n",
            "  n_iter_i = _check_optimize_result(\n",
            "/usr/local/lib/python3.9/dist-packages/sklearn/cluster/_kmeans.py:870: FutureWarning: The default value of `n_init` will change from 10 to 'auto' in 1.4. Set the value of `n_init` explicitly to suppress the warning\n",
            "  warnings.warn(\n"
          ]
        },
        {
          "output_type": "stream",
          "name": "stdout",
          "text": [
            "[CV] END ..............................kmeans__n_clusters=44; total time=   0.4s\n"
          ]
        },
        {
          "output_type": "stream",
          "name": "stderr",
          "text": [
            "/usr/local/lib/python3.9/dist-packages/sklearn/linear_model/_logistic.py:458: ConvergenceWarning: lbfgs failed to converge (status=1):\n",
            "STOP: TOTAL NO. of ITERATIONS REACHED LIMIT.\n",
            "\n",
            "Increase the number of iterations (max_iter) or scale the data as shown in:\n",
            "    https://scikit-learn.org/stable/modules/preprocessing.html\n",
            "Please also refer to the documentation for alternative solver options:\n",
            "    https://scikit-learn.org/stable/modules/linear_model.html#logistic-regression\n",
            "  n_iter_i = _check_optimize_result(\n",
            "/usr/local/lib/python3.9/dist-packages/sklearn/cluster/_kmeans.py:870: FutureWarning: The default value of `n_init` will change from 10 to 'auto' in 1.4. Set the value of `n_init` explicitly to suppress the warning\n",
            "  warnings.warn(\n"
          ]
        },
        {
          "output_type": "stream",
          "name": "stdout",
          "text": [
            "[CV] END ..............................kmeans__n_clusters=44; total time=   1.8s\n"
          ]
        },
        {
          "output_type": "stream",
          "name": "stderr",
          "text": [
            "/usr/local/lib/python3.9/dist-packages/sklearn/linear_model/_logistic.py:458: ConvergenceWarning: lbfgs failed to converge (status=1):\n",
            "STOP: TOTAL NO. of ITERATIONS REACHED LIMIT.\n",
            "\n",
            "Increase the number of iterations (max_iter) or scale the data as shown in:\n",
            "    https://scikit-learn.org/stable/modules/preprocessing.html\n",
            "Please also refer to the documentation for alternative solver options:\n",
            "    https://scikit-learn.org/stable/modules/linear_model.html#logistic-regression\n",
            "  n_iter_i = _check_optimize_result(\n",
            "/usr/local/lib/python3.9/dist-packages/sklearn/cluster/_kmeans.py:870: FutureWarning: The default value of `n_init` will change from 10 to 'auto' in 1.4. Set the value of `n_init` explicitly to suppress the warning\n",
            "  warnings.warn(\n"
          ]
        },
        {
          "output_type": "stream",
          "name": "stdout",
          "text": [
            "[CV] END ..............................kmeans__n_clusters=44; total time=   1.2s\n"
          ]
        },
        {
          "output_type": "stream",
          "name": "stderr",
          "text": [
            "/usr/local/lib/python3.9/dist-packages/sklearn/linear_model/_logistic.py:458: ConvergenceWarning: lbfgs failed to converge (status=1):\n",
            "STOP: TOTAL NO. of ITERATIONS REACHED LIMIT.\n",
            "\n",
            "Increase the number of iterations (max_iter) or scale the data as shown in:\n",
            "    https://scikit-learn.org/stable/modules/preprocessing.html\n",
            "Please also refer to the documentation for alternative solver options:\n",
            "    https://scikit-learn.org/stable/modules/linear_model.html#logistic-regression\n",
            "  n_iter_i = _check_optimize_result(\n",
            "/usr/local/lib/python3.9/dist-packages/sklearn/cluster/_kmeans.py:870: FutureWarning: The default value of `n_init` will change from 10 to 'auto' in 1.4. Set the value of `n_init` explicitly to suppress the warning\n",
            "  warnings.warn(\n"
          ]
        },
        {
          "output_type": "stream",
          "name": "stdout",
          "text": [
            "[CV] END ..............................kmeans__n_clusters=45; total time=   0.7s\n"
          ]
        },
        {
          "output_type": "stream",
          "name": "stderr",
          "text": [
            "/usr/local/lib/python3.9/dist-packages/sklearn/linear_model/_logistic.py:458: ConvergenceWarning: lbfgs failed to converge (status=1):\n",
            "STOP: TOTAL NO. of ITERATIONS REACHED LIMIT.\n",
            "\n",
            "Increase the number of iterations (max_iter) or scale the data as shown in:\n",
            "    https://scikit-learn.org/stable/modules/preprocessing.html\n",
            "Please also refer to the documentation for alternative solver options:\n",
            "    https://scikit-learn.org/stable/modules/linear_model.html#logistic-regression\n",
            "  n_iter_i = _check_optimize_result(\n",
            "/usr/local/lib/python3.9/dist-packages/sklearn/cluster/_kmeans.py:870: FutureWarning: The default value of `n_init` will change from 10 to 'auto' in 1.4. Set the value of `n_init` explicitly to suppress the warning\n",
            "  warnings.warn(\n"
          ]
        },
        {
          "output_type": "stream",
          "name": "stdout",
          "text": [
            "[CV] END ..............................kmeans__n_clusters=45; total time=   0.4s\n"
          ]
        },
        {
          "output_type": "stream",
          "name": "stderr",
          "text": [
            "/usr/local/lib/python3.9/dist-packages/sklearn/linear_model/_logistic.py:458: ConvergenceWarning: lbfgs failed to converge (status=1):\n",
            "STOP: TOTAL NO. of ITERATIONS REACHED LIMIT.\n",
            "\n",
            "Increase the number of iterations (max_iter) or scale the data as shown in:\n",
            "    https://scikit-learn.org/stable/modules/preprocessing.html\n",
            "Please also refer to the documentation for alternative solver options:\n",
            "    https://scikit-learn.org/stable/modules/linear_model.html#logistic-regression\n",
            "  n_iter_i = _check_optimize_result(\n",
            "/usr/local/lib/python3.9/dist-packages/sklearn/cluster/_kmeans.py:870: FutureWarning: The default value of `n_init` will change from 10 to 'auto' in 1.4. Set the value of `n_init` explicitly to suppress the warning\n",
            "  warnings.warn(\n"
          ]
        },
        {
          "output_type": "stream",
          "name": "stdout",
          "text": [
            "[CV] END ..............................kmeans__n_clusters=45; total time=   0.7s\n"
          ]
        },
        {
          "output_type": "stream",
          "name": "stderr",
          "text": [
            "/usr/local/lib/python3.9/dist-packages/sklearn/linear_model/_logistic.py:458: ConvergenceWarning: lbfgs failed to converge (status=1):\n",
            "STOP: TOTAL NO. of ITERATIONS REACHED LIMIT.\n",
            "\n",
            "Increase the number of iterations (max_iter) or scale the data as shown in:\n",
            "    https://scikit-learn.org/stable/modules/preprocessing.html\n",
            "Please also refer to the documentation for alternative solver options:\n",
            "    https://scikit-learn.org/stable/modules/linear_model.html#logistic-regression\n",
            "  n_iter_i = _check_optimize_result(\n",
            "/usr/local/lib/python3.9/dist-packages/sklearn/cluster/_kmeans.py:870: FutureWarning: The default value of `n_init` will change from 10 to 'auto' in 1.4. Set the value of `n_init` explicitly to suppress the warning\n",
            "  warnings.warn(\n"
          ]
        },
        {
          "output_type": "stream",
          "name": "stdout",
          "text": [
            "[CV] END ..............................kmeans__n_clusters=46; total time=   0.6s\n"
          ]
        },
        {
          "output_type": "stream",
          "name": "stderr",
          "text": [
            "/usr/local/lib/python3.9/dist-packages/sklearn/linear_model/_logistic.py:458: ConvergenceWarning: lbfgs failed to converge (status=1):\n",
            "STOP: TOTAL NO. of ITERATIONS REACHED LIMIT.\n",
            "\n",
            "Increase the number of iterations (max_iter) or scale the data as shown in:\n",
            "    https://scikit-learn.org/stable/modules/preprocessing.html\n",
            "Please also refer to the documentation for alternative solver options:\n",
            "    https://scikit-learn.org/stable/modules/linear_model.html#logistic-regression\n",
            "  n_iter_i = _check_optimize_result(\n",
            "/usr/local/lib/python3.9/dist-packages/sklearn/cluster/_kmeans.py:870: FutureWarning: The default value of `n_init` will change from 10 to 'auto' in 1.4. Set the value of `n_init` explicitly to suppress the warning\n",
            "  warnings.warn(\n"
          ]
        },
        {
          "output_type": "stream",
          "name": "stdout",
          "text": [
            "[CV] END ..............................kmeans__n_clusters=46; total time=   0.5s\n"
          ]
        },
        {
          "output_type": "stream",
          "name": "stderr",
          "text": [
            "/usr/local/lib/python3.9/dist-packages/sklearn/linear_model/_logistic.py:458: ConvergenceWarning: lbfgs failed to converge (status=1):\n",
            "STOP: TOTAL NO. of ITERATIONS REACHED LIMIT.\n",
            "\n",
            "Increase the number of iterations (max_iter) or scale the data as shown in:\n",
            "    https://scikit-learn.org/stable/modules/preprocessing.html\n",
            "Please also refer to the documentation for alternative solver options:\n",
            "    https://scikit-learn.org/stable/modules/linear_model.html#logistic-regression\n",
            "  n_iter_i = _check_optimize_result(\n",
            "/usr/local/lib/python3.9/dist-packages/sklearn/cluster/_kmeans.py:870: FutureWarning: The default value of `n_init` will change from 10 to 'auto' in 1.4. Set the value of `n_init` explicitly to suppress the warning\n",
            "  warnings.warn(\n"
          ]
        },
        {
          "output_type": "stream",
          "name": "stdout",
          "text": [
            "[CV] END ..............................kmeans__n_clusters=46; total time=   0.7s\n"
          ]
        },
        {
          "output_type": "stream",
          "name": "stderr",
          "text": [
            "/usr/local/lib/python3.9/dist-packages/sklearn/linear_model/_logistic.py:458: ConvergenceWarning: lbfgs failed to converge (status=1):\n",
            "STOP: TOTAL NO. of ITERATIONS REACHED LIMIT.\n",
            "\n",
            "Increase the number of iterations (max_iter) or scale the data as shown in:\n",
            "    https://scikit-learn.org/stable/modules/preprocessing.html\n",
            "Please also refer to the documentation for alternative solver options:\n",
            "    https://scikit-learn.org/stable/modules/linear_model.html#logistic-regression\n",
            "  n_iter_i = _check_optimize_result(\n",
            "/usr/local/lib/python3.9/dist-packages/sklearn/cluster/_kmeans.py:870: FutureWarning: The default value of `n_init` will change from 10 to 'auto' in 1.4. Set the value of `n_init` explicitly to suppress the warning\n",
            "  warnings.warn(\n"
          ]
        },
        {
          "output_type": "stream",
          "name": "stdout",
          "text": [
            "[CV] END ..............................kmeans__n_clusters=47; total time=   0.7s\n"
          ]
        },
        {
          "output_type": "stream",
          "name": "stderr",
          "text": [
            "/usr/local/lib/python3.9/dist-packages/sklearn/linear_model/_logistic.py:458: ConvergenceWarning: lbfgs failed to converge (status=1):\n",
            "STOP: TOTAL NO. of ITERATIONS REACHED LIMIT.\n",
            "\n",
            "Increase the number of iterations (max_iter) or scale the data as shown in:\n",
            "    https://scikit-learn.org/stable/modules/preprocessing.html\n",
            "Please also refer to the documentation for alternative solver options:\n",
            "    https://scikit-learn.org/stable/modules/linear_model.html#logistic-regression\n",
            "  n_iter_i = _check_optimize_result(\n",
            "/usr/local/lib/python3.9/dist-packages/sklearn/cluster/_kmeans.py:870: FutureWarning: The default value of `n_init` will change from 10 to 'auto' in 1.4. Set the value of `n_init` explicitly to suppress the warning\n",
            "  warnings.warn(\n"
          ]
        },
        {
          "output_type": "stream",
          "name": "stdout",
          "text": [
            "[CV] END ..............................kmeans__n_clusters=47; total time=   0.7s\n"
          ]
        },
        {
          "output_type": "stream",
          "name": "stderr",
          "text": [
            "/usr/local/lib/python3.9/dist-packages/sklearn/linear_model/_logistic.py:458: ConvergenceWarning: lbfgs failed to converge (status=1):\n",
            "STOP: TOTAL NO. of ITERATIONS REACHED LIMIT.\n",
            "\n",
            "Increase the number of iterations (max_iter) or scale the data as shown in:\n",
            "    https://scikit-learn.org/stable/modules/preprocessing.html\n",
            "Please also refer to the documentation for alternative solver options:\n",
            "    https://scikit-learn.org/stable/modules/linear_model.html#logistic-regression\n",
            "  n_iter_i = _check_optimize_result(\n",
            "/usr/local/lib/python3.9/dist-packages/sklearn/cluster/_kmeans.py:870: FutureWarning: The default value of `n_init` will change from 10 to 'auto' in 1.4. Set the value of `n_init` explicitly to suppress the warning\n",
            "  warnings.warn(\n"
          ]
        },
        {
          "output_type": "stream",
          "name": "stdout",
          "text": [
            "[CV] END ..............................kmeans__n_clusters=47; total time=   1.2s\n"
          ]
        },
        {
          "output_type": "stream",
          "name": "stderr",
          "text": [
            "/usr/local/lib/python3.9/dist-packages/sklearn/linear_model/_logistic.py:458: ConvergenceWarning: lbfgs failed to converge (status=1):\n",
            "STOP: TOTAL NO. of ITERATIONS REACHED LIMIT.\n",
            "\n",
            "Increase the number of iterations (max_iter) or scale the data as shown in:\n",
            "    https://scikit-learn.org/stable/modules/preprocessing.html\n",
            "Please also refer to the documentation for alternative solver options:\n",
            "    https://scikit-learn.org/stable/modules/linear_model.html#logistic-regression\n",
            "  n_iter_i = _check_optimize_result(\n",
            "/usr/local/lib/python3.9/dist-packages/sklearn/cluster/_kmeans.py:870: FutureWarning: The default value of `n_init` will change from 10 to 'auto' in 1.4. Set the value of `n_init` explicitly to suppress the warning\n",
            "  warnings.warn(\n"
          ]
        },
        {
          "output_type": "stream",
          "name": "stdout",
          "text": [
            "[CV] END ..............................kmeans__n_clusters=48; total time=   0.6s\n"
          ]
        },
        {
          "output_type": "stream",
          "name": "stderr",
          "text": [
            "/usr/local/lib/python3.9/dist-packages/sklearn/linear_model/_logistic.py:458: ConvergenceWarning: lbfgs failed to converge (status=1):\n",
            "STOP: TOTAL NO. of ITERATIONS REACHED LIMIT.\n",
            "\n",
            "Increase the number of iterations (max_iter) or scale the data as shown in:\n",
            "    https://scikit-learn.org/stable/modules/preprocessing.html\n",
            "Please also refer to the documentation for alternative solver options:\n",
            "    https://scikit-learn.org/stable/modules/linear_model.html#logistic-regression\n",
            "  n_iter_i = _check_optimize_result(\n",
            "/usr/local/lib/python3.9/dist-packages/sklearn/cluster/_kmeans.py:870: FutureWarning: The default value of `n_init` will change from 10 to 'auto' in 1.4. Set the value of `n_init` explicitly to suppress the warning\n",
            "  warnings.warn(\n"
          ]
        },
        {
          "output_type": "stream",
          "name": "stdout",
          "text": [
            "[CV] END ..............................kmeans__n_clusters=48; total time=   0.7s\n"
          ]
        },
        {
          "output_type": "stream",
          "name": "stderr",
          "text": [
            "/usr/local/lib/python3.9/dist-packages/sklearn/linear_model/_logistic.py:458: ConvergenceWarning: lbfgs failed to converge (status=1):\n",
            "STOP: TOTAL NO. of ITERATIONS REACHED LIMIT.\n",
            "\n",
            "Increase the number of iterations (max_iter) or scale the data as shown in:\n",
            "    https://scikit-learn.org/stable/modules/preprocessing.html\n",
            "Please also refer to the documentation for alternative solver options:\n",
            "    https://scikit-learn.org/stable/modules/linear_model.html#logistic-regression\n",
            "  n_iter_i = _check_optimize_result(\n",
            "/usr/local/lib/python3.9/dist-packages/sklearn/cluster/_kmeans.py:870: FutureWarning: The default value of `n_init` will change from 10 to 'auto' in 1.4. Set the value of `n_init` explicitly to suppress the warning\n",
            "  warnings.warn(\n"
          ]
        },
        {
          "output_type": "stream",
          "name": "stdout",
          "text": [
            "[CV] END ..............................kmeans__n_clusters=48; total time=   0.4s\n"
          ]
        },
        {
          "output_type": "stream",
          "name": "stderr",
          "text": [
            "/usr/local/lib/python3.9/dist-packages/sklearn/linear_model/_logistic.py:458: ConvergenceWarning: lbfgs failed to converge (status=1):\n",
            "STOP: TOTAL NO. of ITERATIONS REACHED LIMIT.\n",
            "\n",
            "Increase the number of iterations (max_iter) or scale the data as shown in:\n",
            "    https://scikit-learn.org/stable/modules/preprocessing.html\n",
            "Please also refer to the documentation for alternative solver options:\n",
            "    https://scikit-learn.org/stable/modules/linear_model.html#logistic-regression\n",
            "  n_iter_i = _check_optimize_result(\n",
            "/usr/local/lib/python3.9/dist-packages/sklearn/cluster/_kmeans.py:870: FutureWarning: The default value of `n_init` will change from 10 to 'auto' in 1.4. Set the value of `n_init` explicitly to suppress the warning\n",
            "  warnings.warn(\n"
          ]
        },
        {
          "output_type": "stream",
          "name": "stdout",
          "text": [
            "[CV] END ..............................kmeans__n_clusters=49; total time=   0.7s\n"
          ]
        },
        {
          "output_type": "stream",
          "name": "stderr",
          "text": [
            "/usr/local/lib/python3.9/dist-packages/sklearn/linear_model/_logistic.py:458: ConvergenceWarning: lbfgs failed to converge (status=1):\n",
            "STOP: TOTAL NO. of ITERATIONS REACHED LIMIT.\n",
            "\n",
            "Increase the number of iterations (max_iter) or scale the data as shown in:\n",
            "    https://scikit-learn.org/stable/modules/preprocessing.html\n",
            "Please also refer to the documentation for alternative solver options:\n",
            "    https://scikit-learn.org/stable/modules/linear_model.html#logistic-regression\n",
            "  n_iter_i = _check_optimize_result(\n",
            "/usr/local/lib/python3.9/dist-packages/sklearn/cluster/_kmeans.py:870: FutureWarning: The default value of `n_init` will change from 10 to 'auto' in 1.4. Set the value of `n_init` explicitly to suppress the warning\n",
            "  warnings.warn(\n"
          ]
        },
        {
          "output_type": "stream",
          "name": "stdout",
          "text": [
            "[CV] END ..............................kmeans__n_clusters=49; total time=   0.5s\n"
          ]
        },
        {
          "output_type": "stream",
          "name": "stderr",
          "text": [
            "/usr/local/lib/python3.9/dist-packages/sklearn/linear_model/_logistic.py:458: ConvergenceWarning: lbfgs failed to converge (status=1):\n",
            "STOP: TOTAL NO. of ITERATIONS REACHED LIMIT.\n",
            "\n",
            "Increase the number of iterations (max_iter) or scale the data as shown in:\n",
            "    https://scikit-learn.org/stable/modules/preprocessing.html\n",
            "Please also refer to the documentation for alternative solver options:\n",
            "    https://scikit-learn.org/stable/modules/linear_model.html#logistic-regression\n",
            "  n_iter_i = _check_optimize_result(\n",
            "/usr/local/lib/python3.9/dist-packages/sklearn/cluster/_kmeans.py:870: FutureWarning: The default value of `n_init` will change from 10 to 'auto' in 1.4. Set the value of `n_init` explicitly to suppress the warning\n",
            "  warnings.warn(\n"
          ]
        },
        {
          "output_type": "stream",
          "name": "stdout",
          "text": [
            "[CV] END ..............................kmeans__n_clusters=49; total time=   1.4s\n"
          ]
        },
        {
          "output_type": "stream",
          "name": "stderr",
          "text": [
            "/usr/local/lib/python3.9/dist-packages/sklearn/linear_model/_logistic.py:458: ConvergenceWarning: lbfgs failed to converge (status=1):\n",
            "STOP: TOTAL NO. of ITERATIONS REACHED LIMIT.\n",
            "\n",
            "Increase the number of iterations (max_iter) or scale the data as shown in:\n",
            "    https://scikit-learn.org/stable/modules/preprocessing.html\n",
            "Please also refer to the documentation for alternative solver options:\n",
            "    https://scikit-learn.org/stable/modules/linear_model.html#logistic-regression\n",
            "  n_iter_i = _check_optimize_result(\n",
            "/usr/local/lib/python3.9/dist-packages/sklearn/cluster/_kmeans.py:870: FutureWarning: The default value of `n_init` will change from 10 to 'auto' in 1.4. Set the value of `n_init` explicitly to suppress the warning\n",
            "  warnings.warn(\n"
          ]
        },
        {
          "output_type": "stream",
          "name": "stdout",
          "text": [
            "[CV] END ..............................kmeans__n_clusters=50; total time=   1.9s\n"
          ]
        },
        {
          "output_type": "stream",
          "name": "stderr",
          "text": [
            "/usr/local/lib/python3.9/dist-packages/sklearn/linear_model/_logistic.py:458: ConvergenceWarning: lbfgs failed to converge (status=1):\n",
            "STOP: TOTAL NO. of ITERATIONS REACHED LIMIT.\n",
            "\n",
            "Increase the number of iterations (max_iter) or scale the data as shown in:\n",
            "    https://scikit-learn.org/stable/modules/preprocessing.html\n",
            "Please also refer to the documentation for alternative solver options:\n",
            "    https://scikit-learn.org/stable/modules/linear_model.html#logistic-regression\n",
            "  n_iter_i = _check_optimize_result(\n",
            "/usr/local/lib/python3.9/dist-packages/sklearn/cluster/_kmeans.py:870: FutureWarning: The default value of `n_init` will change from 10 to 'auto' in 1.4. Set the value of `n_init` explicitly to suppress the warning\n",
            "  warnings.warn(\n"
          ]
        },
        {
          "output_type": "stream",
          "name": "stdout",
          "text": [
            "[CV] END ..............................kmeans__n_clusters=50; total time=   0.7s\n"
          ]
        },
        {
          "output_type": "stream",
          "name": "stderr",
          "text": [
            "/usr/local/lib/python3.9/dist-packages/sklearn/linear_model/_logistic.py:458: ConvergenceWarning: lbfgs failed to converge (status=1):\n",
            "STOP: TOTAL NO. of ITERATIONS REACHED LIMIT.\n",
            "\n",
            "Increase the number of iterations (max_iter) or scale the data as shown in:\n",
            "    https://scikit-learn.org/stable/modules/preprocessing.html\n",
            "Please also refer to the documentation for alternative solver options:\n",
            "    https://scikit-learn.org/stable/modules/linear_model.html#logistic-regression\n",
            "  n_iter_i = _check_optimize_result(\n",
            "/usr/local/lib/python3.9/dist-packages/sklearn/cluster/_kmeans.py:870: FutureWarning: The default value of `n_init` will change from 10 to 'auto' in 1.4. Set the value of `n_init` explicitly to suppress the warning\n",
            "  warnings.warn(\n"
          ]
        },
        {
          "output_type": "stream",
          "name": "stdout",
          "text": [
            "[CV] END ..............................kmeans__n_clusters=50; total time=   0.6s\n"
          ]
        },
        {
          "output_type": "stream",
          "name": "stderr",
          "text": [
            "/usr/local/lib/python3.9/dist-packages/sklearn/linear_model/_logistic.py:458: ConvergenceWarning: lbfgs failed to converge (status=1):\n",
            "STOP: TOTAL NO. of ITERATIONS REACHED LIMIT.\n",
            "\n",
            "Increase the number of iterations (max_iter) or scale the data as shown in:\n",
            "    https://scikit-learn.org/stable/modules/preprocessing.html\n",
            "Please also refer to the documentation for alternative solver options:\n",
            "    https://scikit-learn.org/stable/modules/linear_model.html#logistic-regression\n",
            "  n_iter_i = _check_optimize_result(\n",
            "/usr/local/lib/python3.9/dist-packages/sklearn/cluster/_kmeans.py:870: FutureWarning: The default value of `n_init` will change from 10 to 'auto' in 1.4. Set the value of `n_init` explicitly to suppress the warning\n",
            "  warnings.warn(\n"
          ]
        },
        {
          "output_type": "stream",
          "name": "stdout",
          "text": [
            "[CV] END ..............................kmeans__n_clusters=51; total time=   0.6s\n"
          ]
        },
        {
          "output_type": "stream",
          "name": "stderr",
          "text": [
            "/usr/local/lib/python3.9/dist-packages/sklearn/linear_model/_logistic.py:458: ConvergenceWarning: lbfgs failed to converge (status=1):\n",
            "STOP: TOTAL NO. of ITERATIONS REACHED LIMIT.\n",
            "\n",
            "Increase the number of iterations (max_iter) or scale the data as shown in:\n",
            "    https://scikit-learn.org/stable/modules/preprocessing.html\n",
            "Please also refer to the documentation for alternative solver options:\n",
            "    https://scikit-learn.org/stable/modules/linear_model.html#logistic-regression\n",
            "  n_iter_i = _check_optimize_result(\n",
            "/usr/local/lib/python3.9/dist-packages/sklearn/cluster/_kmeans.py:870: FutureWarning: The default value of `n_init` will change from 10 to 'auto' in 1.4. Set the value of `n_init` explicitly to suppress the warning\n",
            "  warnings.warn(\n"
          ]
        },
        {
          "output_type": "stream",
          "name": "stdout",
          "text": [
            "[CV] END ..............................kmeans__n_clusters=51; total time=   0.5s\n"
          ]
        },
        {
          "output_type": "stream",
          "name": "stderr",
          "text": [
            "/usr/local/lib/python3.9/dist-packages/sklearn/linear_model/_logistic.py:458: ConvergenceWarning: lbfgs failed to converge (status=1):\n",
            "STOP: TOTAL NO. of ITERATIONS REACHED LIMIT.\n",
            "\n",
            "Increase the number of iterations (max_iter) or scale the data as shown in:\n",
            "    https://scikit-learn.org/stable/modules/preprocessing.html\n",
            "Please also refer to the documentation for alternative solver options:\n",
            "    https://scikit-learn.org/stable/modules/linear_model.html#logistic-regression\n",
            "  n_iter_i = _check_optimize_result(\n",
            "/usr/local/lib/python3.9/dist-packages/sklearn/cluster/_kmeans.py:870: FutureWarning: The default value of `n_init` will change from 10 to 'auto' in 1.4. Set the value of `n_init` explicitly to suppress the warning\n",
            "  warnings.warn(\n"
          ]
        },
        {
          "output_type": "stream",
          "name": "stdout",
          "text": [
            "[CV] END ..............................kmeans__n_clusters=51; total time=   0.8s\n"
          ]
        },
        {
          "output_type": "stream",
          "name": "stderr",
          "text": [
            "/usr/local/lib/python3.9/dist-packages/sklearn/linear_model/_logistic.py:458: ConvergenceWarning: lbfgs failed to converge (status=1):\n",
            "STOP: TOTAL NO. of ITERATIONS REACHED LIMIT.\n",
            "\n",
            "Increase the number of iterations (max_iter) or scale the data as shown in:\n",
            "    https://scikit-learn.org/stable/modules/preprocessing.html\n",
            "Please also refer to the documentation for alternative solver options:\n",
            "    https://scikit-learn.org/stable/modules/linear_model.html#logistic-regression\n",
            "  n_iter_i = _check_optimize_result(\n",
            "/usr/local/lib/python3.9/dist-packages/sklearn/cluster/_kmeans.py:870: FutureWarning: The default value of `n_init` will change from 10 to 'auto' in 1.4. Set the value of `n_init` explicitly to suppress the warning\n",
            "  warnings.warn(\n"
          ]
        },
        {
          "output_type": "stream",
          "name": "stdout",
          "text": [
            "[CV] END ..............................kmeans__n_clusters=52; total time=   0.7s\n"
          ]
        },
        {
          "output_type": "stream",
          "name": "stderr",
          "text": [
            "/usr/local/lib/python3.9/dist-packages/sklearn/linear_model/_logistic.py:458: ConvergenceWarning: lbfgs failed to converge (status=1):\n",
            "STOP: TOTAL NO. of ITERATIONS REACHED LIMIT.\n",
            "\n",
            "Increase the number of iterations (max_iter) or scale the data as shown in:\n",
            "    https://scikit-learn.org/stable/modules/preprocessing.html\n",
            "Please also refer to the documentation for alternative solver options:\n",
            "    https://scikit-learn.org/stable/modules/linear_model.html#logistic-regression\n",
            "  n_iter_i = _check_optimize_result(\n",
            "/usr/local/lib/python3.9/dist-packages/sklearn/cluster/_kmeans.py:870: FutureWarning: The default value of `n_init` will change from 10 to 'auto' in 1.4. Set the value of `n_init` explicitly to suppress the warning\n",
            "  warnings.warn(\n"
          ]
        },
        {
          "output_type": "stream",
          "name": "stdout",
          "text": [
            "[CV] END ..............................kmeans__n_clusters=52; total time=   0.9s\n"
          ]
        },
        {
          "output_type": "stream",
          "name": "stderr",
          "text": [
            "/usr/local/lib/python3.9/dist-packages/sklearn/linear_model/_logistic.py:458: ConvergenceWarning: lbfgs failed to converge (status=1):\n",
            "STOP: TOTAL NO. of ITERATIONS REACHED LIMIT.\n",
            "\n",
            "Increase the number of iterations (max_iter) or scale the data as shown in:\n",
            "    https://scikit-learn.org/stable/modules/preprocessing.html\n",
            "Please also refer to the documentation for alternative solver options:\n",
            "    https://scikit-learn.org/stable/modules/linear_model.html#logistic-regression\n",
            "  n_iter_i = _check_optimize_result(\n",
            "/usr/local/lib/python3.9/dist-packages/sklearn/cluster/_kmeans.py:870: FutureWarning: The default value of `n_init` will change from 10 to 'auto' in 1.4. Set the value of `n_init` explicitly to suppress the warning\n",
            "  warnings.warn(\n"
          ]
        },
        {
          "output_type": "stream",
          "name": "stdout",
          "text": [
            "[CV] END ..............................kmeans__n_clusters=52; total time=   0.7s\n"
          ]
        },
        {
          "output_type": "stream",
          "name": "stderr",
          "text": [
            "/usr/local/lib/python3.9/dist-packages/sklearn/linear_model/_logistic.py:458: ConvergenceWarning: lbfgs failed to converge (status=1):\n",
            "STOP: TOTAL NO. of ITERATIONS REACHED LIMIT.\n",
            "\n",
            "Increase the number of iterations (max_iter) or scale the data as shown in:\n",
            "    https://scikit-learn.org/stable/modules/preprocessing.html\n",
            "Please also refer to the documentation for alternative solver options:\n",
            "    https://scikit-learn.org/stable/modules/linear_model.html#logistic-regression\n",
            "  n_iter_i = _check_optimize_result(\n",
            "/usr/local/lib/python3.9/dist-packages/sklearn/cluster/_kmeans.py:870: FutureWarning: The default value of `n_init` will change from 10 to 'auto' in 1.4. Set the value of `n_init` explicitly to suppress the warning\n",
            "  warnings.warn(\n"
          ]
        },
        {
          "output_type": "stream",
          "name": "stdout",
          "text": [
            "[CV] END ..............................kmeans__n_clusters=53; total time=   0.7s\n"
          ]
        },
        {
          "output_type": "stream",
          "name": "stderr",
          "text": [
            "/usr/local/lib/python3.9/dist-packages/sklearn/linear_model/_logistic.py:458: ConvergenceWarning: lbfgs failed to converge (status=1):\n",
            "STOP: TOTAL NO. of ITERATIONS REACHED LIMIT.\n",
            "\n",
            "Increase the number of iterations (max_iter) or scale the data as shown in:\n",
            "    https://scikit-learn.org/stable/modules/preprocessing.html\n",
            "Please also refer to the documentation for alternative solver options:\n",
            "    https://scikit-learn.org/stable/modules/linear_model.html#logistic-regression\n",
            "  n_iter_i = _check_optimize_result(\n",
            "/usr/local/lib/python3.9/dist-packages/sklearn/cluster/_kmeans.py:870: FutureWarning: The default value of `n_init` will change from 10 to 'auto' in 1.4. Set the value of `n_init` explicitly to suppress the warning\n",
            "  warnings.warn(\n"
          ]
        },
        {
          "output_type": "stream",
          "name": "stdout",
          "text": [
            "[CV] END ..............................kmeans__n_clusters=53; total time=   0.8s\n"
          ]
        },
        {
          "output_type": "stream",
          "name": "stderr",
          "text": [
            "/usr/local/lib/python3.9/dist-packages/sklearn/linear_model/_logistic.py:458: ConvergenceWarning: lbfgs failed to converge (status=1):\n",
            "STOP: TOTAL NO. of ITERATIONS REACHED LIMIT.\n",
            "\n",
            "Increase the number of iterations (max_iter) or scale the data as shown in:\n",
            "    https://scikit-learn.org/stable/modules/preprocessing.html\n",
            "Please also refer to the documentation for alternative solver options:\n",
            "    https://scikit-learn.org/stable/modules/linear_model.html#logistic-regression\n",
            "  n_iter_i = _check_optimize_result(\n",
            "/usr/local/lib/python3.9/dist-packages/sklearn/cluster/_kmeans.py:870: FutureWarning: The default value of `n_init` will change from 10 to 'auto' in 1.4. Set the value of `n_init` explicitly to suppress the warning\n",
            "  warnings.warn(\n"
          ]
        },
        {
          "output_type": "stream",
          "name": "stdout",
          "text": [
            "[CV] END ..............................kmeans__n_clusters=53; total time=   0.6s\n"
          ]
        },
        {
          "output_type": "stream",
          "name": "stderr",
          "text": [
            "/usr/local/lib/python3.9/dist-packages/sklearn/linear_model/_logistic.py:458: ConvergenceWarning: lbfgs failed to converge (status=1):\n",
            "STOP: TOTAL NO. of ITERATIONS REACHED LIMIT.\n",
            "\n",
            "Increase the number of iterations (max_iter) or scale the data as shown in:\n",
            "    https://scikit-learn.org/stable/modules/preprocessing.html\n",
            "Please also refer to the documentation for alternative solver options:\n",
            "    https://scikit-learn.org/stable/modules/linear_model.html#logistic-regression\n",
            "  n_iter_i = _check_optimize_result(\n",
            "/usr/local/lib/python3.9/dist-packages/sklearn/cluster/_kmeans.py:870: FutureWarning: The default value of `n_init` will change from 10 to 'auto' in 1.4. Set the value of `n_init` explicitly to suppress the warning\n",
            "  warnings.warn(\n"
          ]
        },
        {
          "output_type": "stream",
          "name": "stdout",
          "text": [
            "[CV] END ..............................kmeans__n_clusters=54; total time=   0.6s\n"
          ]
        },
        {
          "output_type": "stream",
          "name": "stderr",
          "text": [
            "/usr/local/lib/python3.9/dist-packages/sklearn/linear_model/_logistic.py:458: ConvergenceWarning: lbfgs failed to converge (status=1):\n",
            "STOP: TOTAL NO. of ITERATIONS REACHED LIMIT.\n",
            "\n",
            "Increase the number of iterations (max_iter) or scale the data as shown in:\n",
            "    https://scikit-learn.org/stable/modules/preprocessing.html\n",
            "Please also refer to the documentation for alternative solver options:\n",
            "    https://scikit-learn.org/stable/modules/linear_model.html#logistic-regression\n",
            "  n_iter_i = _check_optimize_result(\n",
            "/usr/local/lib/python3.9/dist-packages/sklearn/cluster/_kmeans.py:870: FutureWarning: The default value of `n_init` will change from 10 to 'auto' in 1.4. Set the value of `n_init` explicitly to suppress the warning\n",
            "  warnings.warn(\n"
          ]
        },
        {
          "output_type": "stream",
          "name": "stdout",
          "text": [
            "[CV] END ..............................kmeans__n_clusters=54; total time=   0.6s\n"
          ]
        },
        {
          "output_type": "stream",
          "name": "stderr",
          "text": [
            "/usr/local/lib/python3.9/dist-packages/sklearn/linear_model/_logistic.py:458: ConvergenceWarning: lbfgs failed to converge (status=1):\n",
            "STOP: TOTAL NO. of ITERATIONS REACHED LIMIT.\n",
            "\n",
            "Increase the number of iterations (max_iter) or scale the data as shown in:\n",
            "    https://scikit-learn.org/stable/modules/preprocessing.html\n",
            "Please also refer to the documentation for alternative solver options:\n",
            "    https://scikit-learn.org/stable/modules/linear_model.html#logistic-regression\n",
            "  n_iter_i = _check_optimize_result(\n",
            "/usr/local/lib/python3.9/dist-packages/sklearn/cluster/_kmeans.py:870: FutureWarning: The default value of `n_init` will change from 10 to 'auto' in 1.4. Set the value of `n_init` explicitly to suppress the warning\n",
            "  warnings.warn(\n"
          ]
        },
        {
          "output_type": "stream",
          "name": "stdout",
          "text": [
            "[CV] END ..............................kmeans__n_clusters=54; total time=   1.0s\n"
          ]
        },
        {
          "output_type": "stream",
          "name": "stderr",
          "text": [
            "/usr/local/lib/python3.9/dist-packages/sklearn/linear_model/_logistic.py:458: ConvergenceWarning: lbfgs failed to converge (status=1):\n",
            "STOP: TOTAL NO. of ITERATIONS REACHED LIMIT.\n",
            "\n",
            "Increase the number of iterations (max_iter) or scale the data as shown in:\n",
            "    https://scikit-learn.org/stable/modules/preprocessing.html\n",
            "Please also refer to the documentation for alternative solver options:\n",
            "    https://scikit-learn.org/stable/modules/linear_model.html#logistic-regression\n",
            "  n_iter_i = _check_optimize_result(\n",
            "/usr/local/lib/python3.9/dist-packages/sklearn/cluster/_kmeans.py:870: FutureWarning: The default value of `n_init` will change from 10 to 'auto' in 1.4. Set the value of `n_init` explicitly to suppress the warning\n",
            "  warnings.warn(\n"
          ]
        },
        {
          "output_type": "stream",
          "name": "stdout",
          "text": [
            "[CV] END ..............................kmeans__n_clusters=55; total time=   1.9s\n"
          ]
        },
        {
          "output_type": "stream",
          "name": "stderr",
          "text": [
            "/usr/local/lib/python3.9/dist-packages/sklearn/linear_model/_logistic.py:458: ConvergenceWarning: lbfgs failed to converge (status=1):\n",
            "STOP: TOTAL NO. of ITERATIONS REACHED LIMIT.\n",
            "\n",
            "Increase the number of iterations (max_iter) or scale the data as shown in:\n",
            "    https://scikit-learn.org/stable/modules/preprocessing.html\n",
            "Please also refer to the documentation for alternative solver options:\n",
            "    https://scikit-learn.org/stable/modules/linear_model.html#logistic-regression\n",
            "  n_iter_i = _check_optimize_result(\n",
            "/usr/local/lib/python3.9/dist-packages/sklearn/cluster/_kmeans.py:870: FutureWarning: The default value of `n_init` will change from 10 to 'auto' in 1.4. Set the value of `n_init` explicitly to suppress the warning\n",
            "  warnings.warn(\n"
          ]
        },
        {
          "output_type": "stream",
          "name": "stdout",
          "text": [
            "[CV] END ..............................kmeans__n_clusters=55; total time=   1.0s\n"
          ]
        },
        {
          "output_type": "stream",
          "name": "stderr",
          "text": [
            "/usr/local/lib/python3.9/dist-packages/sklearn/linear_model/_logistic.py:458: ConvergenceWarning: lbfgs failed to converge (status=1):\n",
            "STOP: TOTAL NO. of ITERATIONS REACHED LIMIT.\n",
            "\n",
            "Increase the number of iterations (max_iter) or scale the data as shown in:\n",
            "    https://scikit-learn.org/stable/modules/preprocessing.html\n",
            "Please also refer to the documentation for alternative solver options:\n",
            "    https://scikit-learn.org/stable/modules/linear_model.html#logistic-regression\n",
            "  n_iter_i = _check_optimize_result(\n",
            "/usr/local/lib/python3.9/dist-packages/sklearn/cluster/_kmeans.py:870: FutureWarning: The default value of `n_init` will change from 10 to 'auto' in 1.4. Set the value of `n_init` explicitly to suppress the warning\n",
            "  warnings.warn(\n"
          ]
        },
        {
          "output_type": "stream",
          "name": "stdout",
          "text": [
            "[CV] END ..............................kmeans__n_clusters=55; total time=   0.8s\n"
          ]
        },
        {
          "output_type": "stream",
          "name": "stderr",
          "text": [
            "/usr/local/lib/python3.9/dist-packages/sklearn/linear_model/_logistic.py:458: ConvergenceWarning: lbfgs failed to converge (status=1):\n",
            "STOP: TOTAL NO. of ITERATIONS REACHED LIMIT.\n",
            "\n",
            "Increase the number of iterations (max_iter) or scale the data as shown in:\n",
            "    https://scikit-learn.org/stable/modules/preprocessing.html\n",
            "Please also refer to the documentation for alternative solver options:\n",
            "    https://scikit-learn.org/stable/modules/linear_model.html#logistic-regression\n",
            "  n_iter_i = _check_optimize_result(\n",
            "/usr/local/lib/python3.9/dist-packages/sklearn/cluster/_kmeans.py:870: FutureWarning: The default value of `n_init` will change from 10 to 'auto' in 1.4. Set the value of `n_init` explicitly to suppress the warning\n",
            "  warnings.warn(\n"
          ]
        },
        {
          "output_type": "stream",
          "name": "stdout",
          "text": [
            "[CV] END ..............................kmeans__n_clusters=56; total time=   0.9s\n"
          ]
        },
        {
          "output_type": "stream",
          "name": "stderr",
          "text": [
            "/usr/local/lib/python3.9/dist-packages/sklearn/linear_model/_logistic.py:458: ConvergenceWarning: lbfgs failed to converge (status=1):\n",
            "STOP: TOTAL NO. of ITERATIONS REACHED LIMIT.\n",
            "\n",
            "Increase the number of iterations (max_iter) or scale the data as shown in:\n",
            "    https://scikit-learn.org/stable/modules/preprocessing.html\n",
            "Please also refer to the documentation for alternative solver options:\n",
            "    https://scikit-learn.org/stable/modules/linear_model.html#logistic-regression\n",
            "  n_iter_i = _check_optimize_result(\n",
            "/usr/local/lib/python3.9/dist-packages/sklearn/cluster/_kmeans.py:870: FutureWarning: The default value of `n_init` will change from 10 to 'auto' in 1.4. Set the value of `n_init` explicitly to suppress the warning\n",
            "  warnings.warn(\n"
          ]
        },
        {
          "output_type": "stream",
          "name": "stdout",
          "text": [
            "[CV] END ..............................kmeans__n_clusters=56; total time=   0.7s\n"
          ]
        },
        {
          "output_type": "stream",
          "name": "stderr",
          "text": [
            "/usr/local/lib/python3.9/dist-packages/sklearn/linear_model/_logistic.py:458: ConvergenceWarning: lbfgs failed to converge (status=1):\n",
            "STOP: TOTAL NO. of ITERATIONS REACHED LIMIT.\n",
            "\n",
            "Increase the number of iterations (max_iter) or scale the data as shown in:\n",
            "    https://scikit-learn.org/stable/modules/preprocessing.html\n",
            "Please also refer to the documentation for alternative solver options:\n",
            "    https://scikit-learn.org/stable/modules/linear_model.html#logistic-regression\n",
            "  n_iter_i = _check_optimize_result(\n",
            "/usr/local/lib/python3.9/dist-packages/sklearn/cluster/_kmeans.py:870: FutureWarning: The default value of `n_init` will change from 10 to 'auto' in 1.4. Set the value of `n_init` explicitly to suppress the warning\n",
            "  warnings.warn(\n"
          ]
        },
        {
          "output_type": "stream",
          "name": "stdout",
          "text": [
            "[CV] END ..............................kmeans__n_clusters=56; total time=   0.6s\n"
          ]
        },
        {
          "output_type": "stream",
          "name": "stderr",
          "text": [
            "/usr/local/lib/python3.9/dist-packages/sklearn/linear_model/_logistic.py:458: ConvergenceWarning: lbfgs failed to converge (status=1):\n",
            "STOP: TOTAL NO. of ITERATIONS REACHED LIMIT.\n",
            "\n",
            "Increase the number of iterations (max_iter) or scale the data as shown in:\n",
            "    https://scikit-learn.org/stable/modules/preprocessing.html\n",
            "Please also refer to the documentation for alternative solver options:\n",
            "    https://scikit-learn.org/stable/modules/linear_model.html#logistic-regression\n",
            "  n_iter_i = _check_optimize_result(\n",
            "/usr/local/lib/python3.9/dist-packages/sklearn/cluster/_kmeans.py:870: FutureWarning: The default value of `n_init` will change from 10 to 'auto' in 1.4. Set the value of `n_init` explicitly to suppress the warning\n",
            "  warnings.warn(\n"
          ]
        },
        {
          "output_type": "stream",
          "name": "stdout",
          "text": [
            "[CV] END ..............................kmeans__n_clusters=57; total time=   0.7s\n"
          ]
        },
        {
          "output_type": "stream",
          "name": "stderr",
          "text": [
            "/usr/local/lib/python3.9/dist-packages/sklearn/linear_model/_logistic.py:458: ConvergenceWarning: lbfgs failed to converge (status=1):\n",
            "STOP: TOTAL NO. of ITERATIONS REACHED LIMIT.\n",
            "\n",
            "Increase the number of iterations (max_iter) or scale the data as shown in:\n",
            "    https://scikit-learn.org/stable/modules/preprocessing.html\n",
            "Please also refer to the documentation for alternative solver options:\n",
            "    https://scikit-learn.org/stable/modules/linear_model.html#logistic-regression\n",
            "  n_iter_i = _check_optimize_result(\n",
            "/usr/local/lib/python3.9/dist-packages/sklearn/cluster/_kmeans.py:870: FutureWarning: The default value of `n_init` will change from 10 to 'auto' in 1.4. Set the value of `n_init` explicitly to suppress the warning\n",
            "  warnings.warn(\n"
          ]
        },
        {
          "output_type": "stream",
          "name": "stdout",
          "text": [
            "[CV] END ..............................kmeans__n_clusters=57; total time=   0.6s\n"
          ]
        },
        {
          "output_type": "stream",
          "name": "stderr",
          "text": [
            "/usr/local/lib/python3.9/dist-packages/sklearn/linear_model/_logistic.py:458: ConvergenceWarning: lbfgs failed to converge (status=1):\n",
            "STOP: TOTAL NO. of ITERATIONS REACHED LIMIT.\n",
            "\n",
            "Increase the number of iterations (max_iter) or scale the data as shown in:\n",
            "    https://scikit-learn.org/stable/modules/preprocessing.html\n",
            "Please also refer to the documentation for alternative solver options:\n",
            "    https://scikit-learn.org/stable/modules/linear_model.html#logistic-regression\n",
            "  n_iter_i = _check_optimize_result(\n",
            "/usr/local/lib/python3.9/dist-packages/sklearn/cluster/_kmeans.py:870: FutureWarning: The default value of `n_init` will change from 10 to 'auto' in 1.4. Set the value of `n_init` explicitly to suppress the warning\n",
            "  warnings.warn(\n"
          ]
        },
        {
          "output_type": "stream",
          "name": "stdout",
          "text": [
            "[CV] END ..............................kmeans__n_clusters=57; total time=   0.6s\n"
          ]
        },
        {
          "output_type": "stream",
          "name": "stderr",
          "text": [
            "/usr/local/lib/python3.9/dist-packages/sklearn/linear_model/_logistic.py:458: ConvergenceWarning: lbfgs failed to converge (status=1):\n",
            "STOP: TOTAL NO. of ITERATIONS REACHED LIMIT.\n",
            "\n",
            "Increase the number of iterations (max_iter) or scale the data as shown in:\n",
            "    https://scikit-learn.org/stable/modules/preprocessing.html\n",
            "Please also refer to the documentation for alternative solver options:\n",
            "    https://scikit-learn.org/stable/modules/linear_model.html#logistic-regression\n",
            "  n_iter_i = _check_optimize_result(\n",
            "/usr/local/lib/python3.9/dist-packages/sklearn/cluster/_kmeans.py:870: FutureWarning: The default value of `n_init` will change from 10 to 'auto' in 1.4. Set the value of `n_init` explicitly to suppress the warning\n",
            "  warnings.warn(\n"
          ]
        },
        {
          "output_type": "stream",
          "name": "stdout",
          "text": [
            "[CV] END ..............................kmeans__n_clusters=58; total time=   0.6s\n"
          ]
        },
        {
          "output_type": "stream",
          "name": "stderr",
          "text": [
            "/usr/local/lib/python3.9/dist-packages/sklearn/linear_model/_logistic.py:458: ConvergenceWarning: lbfgs failed to converge (status=1):\n",
            "STOP: TOTAL NO. of ITERATIONS REACHED LIMIT.\n",
            "\n",
            "Increase the number of iterations (max_iter) or scale the data as shown in:\n",
            "    https://scikit-learn.org/stable/modules/preprocessing.html\n",
            "Please also refer to the documentation for alternative solver options:\n",
            "    https://scikit-learn.org/stable/modules/linear_model.html#logistic-regression\n",
            "  n_iter_i = _check_optimize_result(\n",
            "/usr/local/lib/python3.9/dist-packages/sklearn/cluster/_kmeans.py:870: FutureWarning: The default value of `n_init` will change from 10 to 'auto' in 1.4. Set the value of `n_init` explicitly to suppress the warning\n",
            "  warnings.warn(\n"
          ]
        },
        {
          "output_type": "stream",
          "name": "stdout",
          "text": [
            "[CV] END ..............................kmeans__n_clusters=58; total time=   0.7s\n"
          ]
        },
        {
          "output_type": "stream",
          "name": "stderr",
          "text": [
            "/usr/local/lib/python3.9/dist-packages/sklearn/linear_model/_logistic.py:458: ConvergenceWarning: lbfgs failed to converge (status=1):\n",
            "STOP: TOTAL NO. of ITERATIONS REACHED LIMIT.\n",
            "\n",
            "Increase the number of iterations (max_iter) or scale the data as shown in:\n",
            "    https://scikit-learn.org/stable/modules/preprocessing.html\n",
            "Please also refer to the documentation for alternative solver options:\n",
            "    https://scikit-learn.org/stable/modules/linear_model.html#logistic-regression\n",
            "  n_iter_i = _check_optimize_result(\n",
            "/usr/local/lib/python3.9/dist-packages/sklearn/cluster/_kmeans.py:870: FutureWarning: The default value of `n_init` will change from 10 to 'auto' in 1.4. Set the value of `n_init` explicitly to suppress the warning\n",
            "  warnings.warn(\n"
          ]
        },
        {
          "output_type": "stream",
          "name": "stdout",
          "text": [
            "[CV] END ..............................kmeans__n_clusters=58; total time=   0.7s\n"
          ]
        },
        {
          "output_type": "stream",
          "name": "stderr",
          "text": [
            "/usr/local/lib/python3.9/dist-packages/sklearn/linear_model/_logistic.py:458: ConvergenceWarning: lbfgs failed to converge (status=1):\n",
            "STOP: TOTAL NO. of ITERATIONS REACHED LIMIT.\n",
            "\n",
            "Increase the number of iterations (max_iter) or scale the data as shown in:\n",
            "    https://scikit-learn.org/stable/modules/preprocessing.html\n",
            "Please also refer to the documentation for alternative solver options:\n",
            "    https://scikit-learn.org/stable/modules/linear_model.html#logistic-regression\n",
            "  n_iter_i = _check_optimize_result(\n",
            "/usr/local/lib/python3.9/dist-packages/sklearn/cluster/_kmeans.py:870: FutureWarning: The default value of `n_init` will change from 10 to 'auto' in 1.4. Set the value of `n_init` explicitly to suppress the warning\n",
            "  warnings.warn(\n"
          ]
        },
        {
          "output_type": "stream",
          "name": "stdout",
          "text": [
            "[CV] END ..............................kmeans__n_clusters=59; total time=   0.8s\n"
          ]
        },
        {
          "output_type": "stream",
          "name": "stderr",
          "text": [
            "/usr/local/lib/python3.9/dist-packages/sklearn/linear_model/_logistic.py:458: ConvergenceWarning: lbfgs failed to converge (status=1):\n",
            "STOP: TOTAL NO. of ITERATIONS REACHED LIMIT.\n",
            "\n",
            "Increase the number of iterations (max_iter) or scale the data as shown in:\n",
            "    https://scikit-learn.org/stable/modules/preprocessing.html\n",
            "Please also refer to the documentation for alternative solver options:\n",
            "    https://scikit-learn.org/stable/modules/linear_model.html#logistic-regression\n",
            "  n_iter_i = _check_optimize_result(\n",
            "/usr/local/lib/python3.9/dist-packages/sklearn/cluster/_kmeans.py:870: FutureWarning: The default value of `n_init` will change from 10 to 'auto' in 1.4. Set the value of `n_init` explicitly to suppress the warning\n",
            "  warnings.warn(\n"
          ]
        },
        {
          "output_type": "stream",
          "name": "stdout",
          "text": [
            "[CV] END ..............................kmeans__n_clusters=59; total time=   0.5s\n"
          ]
        },
        {
          "output_type": "stream",
          "name": "stderr",
          "text": [
            "/usr/local/lib/python3.9/dist-packages/sklearn/linear_model/_logistic.py:458: ConvergenceWarning: lbfgs failed to converge (status=1):\n",
            "STOP: TOTAL NO. of ITERATIONS REACHED LIMIT.\n",
            "\n",
            "Increase the number of iterations (max_iter) or scale the data as shown in:\n",
            "    https://scikit-learn.org/stable/modules/preprocessing.html\n",
            "Please also refer to the documentation for alternative solver options:\n",
            "    https://scikit-learn.org/stable/modules/linear_model.html#logistic-regression\n",
            "  n_iter_i = _check_optimize_result(\n",
            "/usr/local/lib/python3.9/dist-packages/sklearn/cluster/_kmeans.py:870: FutureWarning: The default value of `n_init` will change from 10 to 'auto' in 1.4. Set the value of `n_init` explicitly to suppress the warning\n",
            "  warnings.warn(\n"
          ]
        },
        {
          "output_type": "stream",
          "name": "stdout",
          "text": [
            "[CV] END ..............................kmeans__n_clusters=59; total time=   0.5s\n"
          ]
        },
        {
          "output_type": "stream",
          "name": "stderr",
          "text": [
            "/usr/local/lib/python3.9/dist-packages/sklearn/linear_model/_logistic.py:458: ConvergenceWarning: lbfgs failed to converge (status=1):\n",
            "STOP: TOTAL NO. of ITERATIONS REACHED LIMIT.\n",
            "\n",
            "Increase the number of iterations (max_iter) or scale the data as shown in:\n",
            "    https://scikit-learn.org/stable/modules/preprocessing.html\n",
            "Please also refer to the documentation for alternative solver options:\n",
            "    https://scikit-learn.org/stable/modules/linear_model.html#logistic-regression\n",
            "  n_iter_i = _check_optimize_result(\n",
            "/usr/local/lib/python3.9/dist-packages/sklearn/cluster/_kmeans.py:870: FutureWarning: The default value of `n_init` will change from 10 to 'auto' in 1.4. Set the value of `n_init` explicitly to suppress the warning\n",
            "  warnings.warn(\n"
          ]
        },
        {
          "output_type": "stream",
          "name": "stdout",
          "text": [
            "[CV] END ..............................kmeans__n_clusters=60; total time=   1.1s\n"
          ]
        },
        {
          "output_type": "stream",
          "name": "stderr",
          "text": [
            "/usr/local/lib/python3.9/dist-packages/sklearn/linear_model/_logistic.py:458: ConvergenceWarning: lbfgs failed to converge (status=1):\n",
            "STOP: TOTAL NO. of ITERATIONS REACHED LIMIT.\n",
            "\n",
            "Increase the number of iterations (max_iter) or scale the data as shown in:\n",
            "    https://scikit-learn.org/stable/modules/preprocessing.html\n",
            "Please also refer to the documentation for alternative solver options:\n",
            "    https://scikit-learn.org/stable/modules/linear_model.html#logistic-regression\n",
            "  n_iter_i = _check_optimize_result(\n",
            "/usr/local/lib/python3.9/dist-packages/sklearn/cluster/_kmeans.py:870: FutureWarning: The default value of `n_init` will change from 10 to 'auto' in 1.4. Set the value of `n_init` explicitly to suppress the warning\n",
            "  warnings.warn(\n"
          ]
        },
        {
          "output_type": "stream",
          "name": "stdout",
          "text": [
            "[CV] END ..............................kmeans__n_clusters=60; total time=   1.8s\n"
          ]
        },
        {
          "output_type": "stream",
          "name": "stderr",
          "text": [
            "/usr/local/lib/python3.9/dist-packages/sklearn/linear_model/_logistic.py:458: ConvergenceWarning: lbfgs failed to converge (status=1):\n",
            "STOP: TOTAL NO. of ITERATIONS REACHED LIMIT.\n",
            "\n",
            "Increase the number of iterations (max_iter) or scale the data as shown in:\n",
            "    https://scikit-learn.org/stable/modules/preprocessing.html\n",
            "Please also refer to the documentation for alternative solver options:\n",
            "    https://scikit-learn.org/stable/modules/linear_model.html#logistic-regression\n",
            "  n_iter_i = _check_optimize_result(\n",
            "/usr/local/lib/python3.9/dist-packages/sklearn/cluster/_kmeans.py:870: FutureWarning: The default value of `n_init` will change from 10 to 'auto' in 1.4. Set the value of `n_init` explicitly to suppress the warning\n",
            "  warnings.warn(\n"
          ]
        },
        {
          "output_type": "stream",
          "name": "stdout",
          "text": [
            "[CV] END ..............................kmeans__n_clusters=60; total time=   0.7s\n"
          ]
        },
        {
          "output_type": "stream",
          "name": "stderr",
          "text": [
            "/usr/local/lib/python3.9/dist-packages/sklearn/linear_model/_logistic.py:458: ConvergenceWarning: lbfgs failed to converge (status=1):\n",
            "STOP: TOTAL NO. of ITERATIONS REACHED LIMIT.\n",
            "\n",
            "Increase the number of iterations (max_iter) or scale the data as shown in:\n",
            "    https://scikit-learn.org/stable/modules/preprocessing.html\n",
            "Please also refer to the documentation for alternative solver options:\n",
            "    https://scikit-learn.org/stable/modules/linear_model.html#logistic-regression\n",
            "  n_iter_i = _check_optimize_result(\n",
            "/usr/local/lib/python3.9/dist-packages/sklearn/cluster/_kmeans.py:870: FutureWarning: The default value of `n_init` will change from 10 to 'auto' in 1.4. Set the value of `n_init` explicitly to suppress the warning\n",
            "  warnings.warn(\n"
          ]
        },
        {
          "output_type": "stream",
          "name": "stdout",
          "text": [
            "[CV] END ..............................kmeans__n_clusters=61; total time=   0.5s\n"
          ]
        },
        {
          "output_type": "stream",
          "name": "stderr",
          "text": [
            "/usr/local/lib/python3.9/dist-packages/sklearn/linear_model/_logistic.py:458: ConvergenceWarning: lbfgs failed to converge (status=1):\n",
            "STOP: TOTAL NO. of ITERATIONS REACHED LIMIT.\n",
            "\n",
            "Increase the number of iterations (max_iter) or scale the data as shown in:\n",
            "    https://scikit-learn.org/stable/modules/preprocessing.html\n",
            "Please also refer to the documentation for alternative solver options:\n",
            "    https://scikit-learn.org/stable/modules/linear_model.html#logistic-regression\n",
            "  n_iter_i = _check_optimize_result(\n",
            "/usr/local/lib/python3.9/dist-packages/sklearn/cluster/_kmeans.py:870: FutureWarning: The default value of `n_init` will change from 10 to 'auto' in 1.4. Set the value of `n_init` explicitly to suppress the warning\n",
            "  warnings.warn(\n"
          ]
        },
        {
          "output_type": "stream",
          "name": "stdout",
          "text": [
            "[CV] END ..............................kmeans__n_clusters=61; total time=   0.6s\n"
          ]
        },
        {
          "output_type": "stream",
          "name": "stderr",
          "text": [
            "/usr/local/lib/python3.9/dist-packages/sklearn/linear_model/_logistic.py:458: ConvergenceWarning: lbfgs failed to converge (status=1):\n",
            "STOP: TOTAL NO. of ITERATIONS REACHED LIMIT.\n",
            "\n",
            "Increase the number of iterations (max_iter) or scale the data as shown in:\n",
            "    https://scikit-learn.org/stable/modules/preprocessing.html\n",
            "Please also refer to the documentation for alternative solver options:\n",
            "    https://scikit-learn.org/stable/modules/linear_model.html#logistic-regression\n",
            "  n_iter_i = _check_optimize_result(\n",
            "/usr/local/lib/python3.9/dist-packages/sklearn/cluster/_kmeans.py:870: FutureWarning: The default value of `n_init` will change from 10 to 'auto' in 1.4. Set the value of `n_init` explicitly to suppress the warning\n",
            "  warnings.warn(\n"
          ]
        },
        {
          "output_type": "stream",
          "name": "stdout",
          "text": [
            "[CV] END ..............................kmeans__n_clusters=61; total time=   0.5s\n"
          ]
        },
        {
          "output_type": "stream",
          "name": "stderr",
          "text": [
            "/usr/local/lib/python3.9/dist-packages/sklearn/linear_model/_logistic.py:458: ConvergenceWarning: lbfgs failed to converge (status=1):\n",
            "STOP: TOTAL NO. of ITERATIONS REACHED LIMIT.\n",
            "\n",
            "Increase the number of iterations (max_iter) or scale the data as shown in:\n",
            "    https://scikit-learn.org/stable/modules/preprocessing.html\n",
            "Please also refer to the documentation for alternative solver options:\n",
            "    https://scikit-learn.org/stable/modules/linear_model.html#logistic-regression\n",
            "  n_iter_i = _check_optimize_result(\n",
            "/usr/local/lib/python3.9/dist-packages/sklearn/cluster/_kmeans.py:870: FutureWarning: The default value of `n_init` will change from 10 to 'auto' in 1.4. Set the value of `n_init` explicitly to suppress the warning\n",
            "  warnings.warn(\n"
          ]
        },
        {
          "output_type": "stream",
          "name": "stdout",
          "text": [
            "[CV] END ..............................kmeans__n_clusters=62; total time=   0.6s\n"
          ]
        },
        {
          "output_type": "stream",
          "name": "stderr",
          "text": [
            "/usr/local/lib/python3.9/dist-packages/sklearn/linear_model/_logistic.py:458: ConvergenceWarning: lbfgs failed to converge (status=1):\n",
            "STOP: TOTAL NO. of ITERATIONS REACHED LIMIT.\n",
            "\n",
            "Increase the number of iterations (max_iter) or scale the data as shown in:\n",
            "    https://scikit-learn.org/stable/modules/preprocessing.html\n",
            "Please also refer to the documentation for alternative solver options:\n",
            "    https://scikit-learn.org/stable/modules/linear_model.html#logistic-regression\n",
            "  n_iter_i = _check_optimize_result(\n",
            "/usr/local/lib/python3.9/dist-packages/sklearn/cluster/_kmeans.py:870: FutureWarning: The default value of `n_init` will change from 10 to 'auto' in 1.4. Set the value of `n_init` explicitly to suppress the warning\n",
            "  warnings.warn(\n"
          ]
        },
        {
          "output_type": "stream",
          "name": "stdout",
          "text": [
            "[CV] END ..............................kmeans__n_clusters=62; total time=   0.6s\n"
          ]
        },
        {
          "output_type": "stream",
          "name": "stderr",
          "text": [
            "/usr/local/lib/python3.9/dist-packages/sklearn/linear_model/_logistic.py:458: ConvergenceWarning: lbfgs failed to converge (status=1):\n",
            "STOP: TOTAL NO. of ITERATIONS REACHED LIMIT.\n",
            "\n",
            "Increase the number of iterations (max_iter) or scale the data as shown in:\n",
            "    https://scikit-learn.org/stable/modules/preprocessing.html\n",
            "Please also refer to the documentation for alternative solver options:\n",
            "    https://scikit-learn.org/stable/modules/linear_model.html#logistic-regression\n",
            "  n_iter_i = _check_optimize_result(\n",
            "/usr/local/lib/python3.9/dist-packages/sklearn/cluster/_kmeans.py:870: FutureWarning: The default value of `n_init` will change from 10 to 'auto' in 1.4. Set the value of `n_init` explicitly to suppress the warning\n",
            "  warnings.warn(\n"
          ]
        },
        {
          "output_type": "stream",
          "name": "stdout",
          "text": [
            "[CV] END ..............................kmeans__n_clusters=62; total time=   0.7s\n"
          ]
        },
        {
          "output_type": "stream",
          "name": "stderr",
          "text": [
            "/usr/local/lib/python3.9/dist-packages/sklearn/linear_model/_logistic.py:458: ConvergenceWarning: lbfgs failed to converge (status=1):\n",
            "STOP: TOTAL NO. of ITERATIONS REACHED LIMIT.\n",
            "\n",
            "Increase the number of iterations (max_iter) or scale the data as shown in:\n",
            "    https://scikit-learn.org/stable/modules/preprocessing.html\n",
            "Please also refer to the documentation for alternative solver options:\n",
            "    https://scikit-learn.org/stable/modules/linear_model.html#logistic-regression\n",
            "  n_iter_i = _check_optimize_result(\n",
            "/usr/local/lib/python3.9/dist-packages/sklearn/cluster/_kmeans.py:870: FutureWarning: The default value of `n_init` will change from 10 to 'auto' in 1.4. Set the value of `n_init` explicitly to suppress the warning\n",
            "  warnings.warn(\n"
          ]
        },
        {
          "output_type": "stream",
          "name": "stdout",
          "text": [
            "[CV] END ..............................kmeans__n_clusters=63; total time=   0.6s\n"
          ]
        },
        {
          "output_type": "stream",
          "name": "stderr",
          "text": [
            "/usr/local/lib/python3.9/dist-packages/sklearn/linear_model/_logistic.py:458: ConvergenceWarning: lbfgs failed to converge (status=1):\n",
            "STOP: TOTAL NO. of ITERATIONS REACHED LIMIT.\n",
            "\n",
            "Increase the number of iterations (max_iter) or scale the data as shown in:\n",
            "    https://scikit-learn.org/stable/modules/preprocessing.html\n",
            "Please also refer to the documentation for alternative solver options:\n",
            "    https://scikit-learn.org/stable/modules/linear_model.html#logistic-regression\n",
            "  n_iter_i = _check_optimize_result(\n",
            "/usr/local/lib/python3.9/dist-packages/sklearn/cluster/_kmeans.py:870: FutureWarning: The default value of `n_init` will change from 10 to 'auto' in 1.4. Set the value of `n_init` explicitly to suppress the warning\n",
            "  warnings.warn(\n"
          ]
        },
        {
          "output_type": "stream",
          "name": "stdout",
          "text": [
            "[CV] END ..............................kmeans__n_clusters=63; total time=   0.6s\n"
          ]
        },
        {
          "output_type": "stream",
          "name": "stderr",
          "text": [
            "/usr/local/lib/python3.9/dist-packages/sklearn/linear_model/_logistic.py:458: ConvergenceWarning: lbfgs failed to converge (status=1):\n",
            "STOP: TOTAL NO. of ITERATIONS REACHED LIMIT.\n",
            "\n",
            "Increase the number of iterations (max_iter) or scale the data as shown in:\n",
            "    https://scikit-learn.org/stable/modules/preprocessing.html\n",
            "Please also refer to the documentation for alternative solver options:\n",
            "    https://scikit-learn.org/stable/modules/linear_model.html#logistic-regression\n",
            "  n_iter_i = _check_optimize_result(\n",
            "/usr/local/lib/python3.9/dist-packages/sklearn/cluster/_kmeans.py:870: FutureWarning: The default value of `n_init` will change from 10 to 'auto' in 1.4. Set the value of `n_init` explicitly to suppress the warning\n",
            "  warnings.warn(\n"
          ]
        },
        {
          "output_type": "stream",
          "name": "stdout",
          "text": [
            "[CV] END ..............................kmeans__n_clusters=63; total time=   0.8s\n"
          ]
        },
        {
          "output_type": "stream",
          "name": "stderr",
          "text": [
            "/usr/local/lib/python3.9/dist-packages/sklearn/linear_model/_logistic.py:458: ConvergenceWarning: lbfgs failed to converge (status=1):\n",
            "STOP: TOTAL NO. of ITERATIONS REACHED LIMIT.\n",
            "\n",
            "Increase the number of iterations (max_iter) or scale the data as shown in:\n",
            "    https://scikit-learn.org/stable/modules/preprocessing.html\n",
            "Please also refer to the documentation for alternative solver options:\n",
            "    https://scikit-learn.org/stable/modules/linear_model.html#logistic-regression\n",
            "  n_iter_i = _check_optimize_result(\n",
            "/usr/local/lib/python3.9/dist-packages/sklearn/cluster/_kmeans.py:870: FutureWarning: The default value of `n_init` will change from 10 to 'auto' in 1.4. Set the value of `n_init` explicitly to suppress the warning\n",
            "  warnings.warn(\n"
          ]
        },
        {
          "output_type": "stream",
          "name": "stdout",
          "text": [
            "[CV] END ..............................kmeans__n_clusters=64; total time=   0.7s\n"
          ]
        },
        {
          "output_type": "stream",
          "name": "stderr",
          "text": [
            "/usr/local/lib/python3.9/dist-packages/sklearn/linear_model/_logistic.py:458: ConvergenceWarning: lbfgs failed to converge (status=1):\n",
            "STOP: TOTAL NO. of ITERATIONS REACHED LIMIT.\n",
            "\n",
            "Increase the number of iterations (max_iter) or scale the data as shown in:\n",
            "    https://scikit-learn.org/stable/modules/preprocessing.html\n",
            "Please also refer to the documentation for alternative solver options:\n",
            "    https://scikit-learn.org/stable/modules/linear_model.html#logistic-regression\n",
            "  n_iter_i = _check_optimize_result(\n",
            "/usr/local/lib/python3.9/dist-packages/sklearn/cluster/_kmeans.py:870: FutureWarning: The default value of `n_init` will change from 10 to 'auto' in 1.4. Set the value of `n_init` explicitly to suppress the warning\n",
            "  warnings.warn(\n"
          ]
        },
        {
          "output_type": "stream",
          "name": "stdout",
          "text": [
            "[CV] END ..............................kmeans__n_clusters=64; total time=   0.7s\n"
          ]
        },
        {
          "output_type": "stream",
          "name": "stderr",
          "text": [
            "/usr/local/lib/python3.9/dist-packages/sklearn/linear_model/_logistic.py:458: ConvergenceWarning: lbfgs failed to converge (status=1):\n",
            "STOP: TOTAL NO. of ITERATIONS REACHED LIMIT.\n",
            "\n",
            "Increase the number of iterations (max_iter) or scale the data as shown in:\n",
            "    https://scikit-learn.org/stable/modules/preprocessing.html\n",
            "Please also refer to the documentation for alternative solver options:\n",
            "    https://scikit-learn.org/stable/modules/linear_model.html#logistic-regression\n",
            "  n_iter_i = _check_optimize_result(\n",
            "/usr/local/lib/python3.9/dist-packages/sklearn/cluster/_kmeans.py:870: FutureWarning: The default value of `n_init` will change from 10 to 'auto' in 1.4. Set the value of `n_init` explicitly to suppress the warning\n",
            "  warnings.warn(\n"
          ]
        },
        {
          "output_type": "stream",
          "name": "stdout",
          "text": [
            "[CV] END ..............................kmeans__n_clusters=64; total time=   0.9s\n"
          ]
        },
        {
          "output_type": "stream",
          "name": "stderr",
          "text": [
            "/usr/local/lib/python3.9/dist-packages/sklearn/linear_model/_logistic.py:458: ConvergenceWarning: lbfgs failed to converge (status=1):\n",
            "STOP: TOTAL NO. of ITERATIONS REACHED LIMIT.\n",
            "\n",
            "Increase the number of iterations (max_iter) or scale the data as shown in:\n",
            "    https://scikit-learn.org/stable/modules/preprocessing.html\n",
            "Please also refer to the documentation for alternative solver options:\n",
            "    https://scikit-learn.org/stable/modules/linear_model.html#logistic-regression\n",
            "  n_iter_i = _check_optimize_result(\n",
            "/usr/local/lib/python3.9/dist-packages/sklearn/cluster/_kmeans.py:870: FutureWarning: The default value of `n_init` will change from 10 to 'auto' in 1.4. Set the value of `n_init` explicitly to suppress the warning\n",
            "  warnings.warn(\n"
          ]
        },
        {
          "output_type": "stream",
          "name": "stdout",
          "text": [
            "[CV] END ..............................kmeans__n_clusters=65; total time=   0.6s\n"
          ]
        },
        {
          "output_type": "stream",
          "name": "stderr",
          "text": [
            "/usr/local/lib/python3.9/dist-packages/sklearn/linear_model/_logistic.py:458: ConvergenceWarning: lbfgs failed to converge (status=1):\n",
            "STOP: TOTAL NO. of ITERATIONS REACHED LIMIT.\n",
            "\n",
            "Increase the number of iterations (max_iter) or scale the data as shown in:\n",
            "    https://scikit-learn.org/stable/modules/preprocessing.html\n",
            "Please also refer to the documentation for alternative solver options:\n",
            "    https://scikit-learn.org/stable/modules/linear_model.html#logistic-regression\n",
            "  n_iter_i = _check_optimize_result(\n",
            "/usr/local/lib/python3.9/dist-packages/sklearn/cluster/_kmeans.py:870: FutureWarning: The default value of `n_init` will change from 10 to 'auto' in 1.4. Set the value of `n_init` explicitly to suppress the warning\n",
            "  warnings.warn(\n"
          ]
        },
        {
          "output_type": "stream",
          "name": "stdout",
          "text": [
            "[CV] END ..............................kmeans__n_clusters=65; total time=   0.7s\n"
          ]
        },
        {
          "output_type": "stream",
          "name": "stderr",
          "text": [
            "/usr/local/lib/python3.9/dist-packages/sklearn/linear_model/_logistic.py:458: ConvergenceWarning: lbfgs failed to converge (status=1):\n",
            "STOP: TOTAL NO. of ITERATIONS REACHED LIMIT.\n",
            "\n",
            "Increase the number of iterations (max_iter) or scale the data as shown in:\n",
            "    https://scikit-learn.org/stable/modules/preprocessing.html\n",
            "Please also refer to the documentation for alternative solver options:\n",
            "    https://scikit-learn.org/stable/modules/linear_model.html#logistic-regression\n",
            "  n_iter_i = _check_optimize_result(\n",
            "/usr/local/lib/python3.9/dist-packages/sklearn/cluster/_kmeans.py:870: FutureWarning: The default value of `n_init` will change from 10 to 'auto' in 1.4. Set the value of `n_init` explicitly to suppress the warning\n",
            "  warnings.warn(\n"
          ]
        },
        {
          "output_type": "stream",
          "name": "stdout",
          "text": [
            "[CV] END ..............................kmeans__n_clusters=65; total time=   0.8s\n"
          ]
        },
        {
          "output_type": "stream",
          "name": "stderr",
          "text": [
            "/usr/local/lib/python3.9/dist-packages/sklearn/linear_model/_logistic.py:458: ConvergenceWarning: lbfgs failed to converge (status=1):\n",
            "STOP: TOTAL NO. of ITERATIONS REACHED LIMIT.\n",
            "\n",
            "Increase the number of iterations (max_iter) or scale the data as shown in:\n",
            "    https://scikit-learn.org/stable/modules/preprocessing.html\n",
            "Please also refer to the documentation for alternative solver options:\n",
            "    https://scikit-learn.org/stable/modules/linear_model.html#logistic-regression\n",
            "  n_iter_i = _check_optimize_result(\n",
            "/usr/local/lib/python3.9/dist-packages/sklearn/cluster/_kmeans.py:870: FutureWarning: The default value of `n_init` will change from 10 to 'auto' in 1.4. Set the value of `n_init` explicitly to suppress the warning\n",
            "  warnings.warn(\n"
          ]
        },
        {
          "output_type": "stream",
          "name": "stdout",
          "text": [
            "[CV] END ..............................kmeans__n_clusters=66; total time=   2.3s\n"
          ]
        },
        {
          "output_type": "stream",
          "name": "stderr",
          "text": [
            "/usr/local/lib/python3.9/dist-packages/sklearn/linear_model/_logistic.py:458: ConvergenceWarning: lbfgs failed to converge (status=1):\n",
            "STOP: TOTAL NO. of ITERATIONS REACHED LIMIT.\n",
            "\n",
            "Increase the number of iterations (max_iter) or scale the data as shown in:\n",
            "    https://scikit-learn.org/stable/modules/preprocessing.html\n",
            "Please also refer to the documentation for alternative solver options:\n",
            "    https://scikit-learn.org/stable/modules/linear_model.html#logistic-regression\n",
            "  n_iter_i = _check_optimize_result(\n",
            "/usr/local/lib/python3.9/dist-packages/sklearn/cluster/_kmeans.py:870: FutureWarning: The default value of `n_init` will change from 10 to 'auto' in 1.4. Set the value of `n_init` explicitly to suppress the warning\n",
            "  warnings.warn(\n"
          ]
        },
        {
          "output_type": "stream",
          "name": "stdout",
          "text": [
            "[CV] END ..............................kmeans__n_clusters=66; total time=   0.7s\n"
          ]
        },
        {
          "output_type": "stream",
          "name": "stderr",
          "text": [
            "/usr/local/lib/python3.9/dist-packages/sklearn/linear_model/_logistic.py:458: ConvergenceWarning: lbfgs failed to converge (status=1):\n",
            "STOP: TOTAL NO. of ITERATIONS REACHED LIMIT.\n",
            "\n",
            "Increase the number of iterations (max_iter) or scale the data as shown in:\n",
            "    https://scikit-learn.org/stable/modules/preprocessing.html\n",
            "Please also refer to the documentation for alternative solver options:\n",
            "    https://scikit-learn.org/stable/modules/linear_model.html#logistic-regression\n",
            "  n_iter_i = _check_optimize_result(\n",
            "/usr/local/lib/python3.9/dist-packages/sklearn/cluster/_kmeans.py:870: FutureWarning: The default value of `n_init` will change from 10 to 'auto' in 1.4. Set the value of `n_init` explicitly to suppress the warning\n",
            "  warnings.warn(\n"
          ]
        },
        {
          "output_type": "stream",
          "name": "stdout",
          "text": [
            "[CV] END ..............................kmeans__n_clusters=66; total time=   0.5s\n"
          ]
        },
        {
          "output_type": "stream",
          "name": "stderr",
          "text": [
            "/usr/local/lib/python3.9/dist-packages/sklearn/linear_model/_logistic.py:458: ConvergenceWarning: lbfgs failed to converge (status=1):\n",
            "STOP: TOTAL NO. of ITERATIONS REACHED LIMIT.\n",
            "\n",
            "Increase the number of iterations (max_iter) or scale the data as shown in:\n",
            "    https://scikit-learn.org/stable/modules/preprocessing.html\n",
            "Please also refer to the documentation for alternative solver options:\n",
            "    https://scikit-learn.org/stable/modules/linear_model.html#logistic-regression\n",
            "  n_iter_i = _check_optimize_result(\n",
            "/usr/local/lib/python3.9/dist-packages/sklearn/cluster/_kmeans.py:870: FutureWarning: The default value of `n_init` will change from 10 to 'auto' in 1.4. Set the value of `n_init` explicitly to suppress the warning\n",
            "  warnings.warn(\n"
          ]
        },
        {
          "output_type": "stream",
          "name": "stdout",
          "text": [
            "[CV] END ..............................kmeans__n_clusters=67; total time=   1.1s\n"
          ]
        },
        {
          "output_type": "stream",
          "name": "stderr",
          "text": [
            "/usr/local/lib/python3.9/dist-packages/sklearn/linear_model/_logistic.py:458: ConvergenceWarning: lbfgs failed to converge (status=1):\n",
            "STOP: TOTAL NO. of ITERATIONS REACHED LIMIT.\n",
            "\n",
            "Increase the number of iterations (max_iter) or scale the data as shown in:\n",
            "    https://scikit-learn.org/stable/modules/preprocessing.html\n",
            "Please also refer to the documentation for alternative solver options:\n",
            "    https://scikit-learn.org/stable/modules/linear_model.html#logistic-regression\n",
            "  n_iter_i = _check_optimize_result(\n",
            "/usr/local/lib/python3.9/dist-packages/sklearn/cluster/_kmeans.py:870: FutureWarning: The default value of `n_init` will change from 10 to 'auto' in 1.4. Set the value of `n_init` explicitly to suppress the warning\n",
            "  warnings.warn(\n"
          ]
        },
        {
          "output_type": "stream",
          "name": "stdout",
          "text": [
            "[CV] END ..............................kmeans__n_clusters=67; total time=   1.1s\n"
          ]
        },
        {
          "output_type": "stream",
          "name": "stderr",
          "text": [
            "/usr/local/lib/python3.9/dist-packages/sklearn/linear_model/_logistic.py:458: ConvergenceWarning: lbfgs failed to converge (status=1):\n",
            "STOP: TOTAL NO. of ITERATIONS REACHED LIMIT.\n",
            "\n",
            "Increase the number of iterations (max_iter) or scale the data as shown in:\n",
            "    https://scikit-learn.org/stable/modules/preprocessing.html\n",
            "Please also refer to the documentation for alternative solver options:\n",
            "    https://scikit-learn.org/stable/modules/linear_model.html#logistic-regression\n",
            "  n_iter_i = _check_optimize_result(\n",
            "/usr/local/lib/python3.9/dist-packages/sklearn/cluster/_kmeans.py:870: FutureWarning: The default value of `n_init` will change from 10 to 'auto' in 1.4. Set the value of `n_init` explicitly to suppress the warning\n",
            "  warnings.warn(\n"
          ]
        },
        {
          "output_type": "stream",
          "name": "stdout",
          "text": [
            "[CV] END ..............................kmeans__n_clusters=67; total time=   0.5s\n"
          ]
        },
        {
          "output_type": "stream",
          "name": "stderr",
          "text": [
            "/usr/local/lib/python3.9/dist-packages/sklearn/linear_model/_logistic.py:458: ConvergenceWarning: lbfgs failed to converge (status=1):\n",
            "STOP: TOTAL NO. of ITERATIONS REACHED LIMIT.\n",
            "\n",
            "Increase the number of iterations (max_iter) or scale the data as shown in:\n",
            "    https://scikit-learn.org/stable/modules/preprocessing.html\n",
            "Please also refer to the documentation for alternative solver options:\n",
            "    https://scikit-learn.org/stable/modules/linear_model.html#logistic-regression\n",
            "  n_iter_i = _check_optimize_result(\n",
            "/usr/local/lib/python3.9/dist-packages/sklearn/cluster/_kmeans.py:870: FutureWarning: The default value of `n_init` will change from 10 to 'auto' in 1.4. Set the value of `n_init` explicitly to suppress the warning\n",
            "  warnings.warn(\n"
          ]
        },
        {
          "output_type": "stream",
          "name": "stdout",
          "text": [
            "[CV] END ..............................kmeans__n_clusters=68; total time=   0.6s\n"
          ]
        },
        {
          "output_type": "stream",
          "name": "stderr",
          "text": [
            "/usr/local/lib/python3.9/dist-packages/sklearn/linear_model/_logistic.py:458: ConvergenceWarning: lbfgs failed to converge (status=1):\n",
            "STOP: TOTAL NO. of ITERATIONS REACHED LIMIT.\n",
            "\n",
            "Increase the number of iterations (max_iter) or scale the data as shown in:\n",
            "    https://scikit-learn.org/stable/modules/preprocessing.html\n",
            "Please also refer to the documentation for alternative solver options:\n",
            "    https://scikit-learn.org/stable/modules/linear_model.html#logistic-regression\n",
            "  n_iter_i = _check_optimize_result(\n",
            "/usr/local/lib/python3.9/dist-packages/sklearn/cluster/_kmeans.py:870: FutureWarning: The default value of `n_init` will change from 10 to 'auto' in 1.4. Set the value of `n_init` explicitly to suppress the warning\n",
            "  warnings.warn(\n"
          ]
        },
        {
          "output_type": "stream",
          "name": "stdout",
          "text": [
            "[CV] END ..............................kmeans__n_clusters=68; total time=   0.6s\n"
          ]
        },
        {
          "output_type": "stream",
          "name": "stderr",
          "text": [
            "/usr/local/lib/python3.9/dist-packages/sklearn/linear_model/_logistic.py:458: ConvergenceWarning: lbfgs failed to converge (status=1):\n",
            "STOP: TOTAL NO. of ITERATIONS REACHED LIMIT.\n",
            "\n",
            "Increase the number of iterations (max_iter) or scale the data as shown in:\n",
            "    https://scikit-learn.org/stable/modules/preprocessing.html\n",
            "Please also refer to the documentation for alternative solver options:\n",
            "    https://scikit-learn.org/stable/modules/linear_model.html#logistic-regression\n",
            "  n_iter_i = _check_optimize_result(\n",
            "/usr/local/lib/python3.9/dist-packages/sklearn/cluster/_kmeans.py:870: FutureWarning: The default value of `n_init` will change from 10 to 'auto' in 1.4. Set the value of `n_init` explicitly to suppress the warning\n",
            "  warnings.warn(\n"
          ]
        },
        {
          "output_type": "stream",
          "name": "stdout",
          "text": [
            "[CV] END ..............................kmeans__n_clusters=68; total time=   0.6s\n"
          ]
        },
        {
          "output_type": "stream",
          "name": "stderr",
          "text": [
            "/usr/local/lib/python3.9/dist-packages/sklearn/linear_model/_logistic.py:458: ConvergenceWarning: lbfgs failed to converge (status=1):\n",
            "STOP: TOTAL NO. of ITERATIONS REACHED LIMIT.\n",
            "\n",
            "Increase the number of iterations (max_iter) or scale the data as shown in:\n",
            "    https://scikit-learn.org/stable/modules/preprocessing.html\n",
            "Please also refer to the documentation for alternative solver options:\n",
            "    https://scikit-learn.org/stable/modules/linear_model.html#logistic-regression\n",
            "  n_iter_i = _check_optimize_result(\n",
            "/usr/local/lib/python3.9/dist-packages/sklearn/cluster/_kmeans.py:870: FutureWarning: The default value of `n_init` will change from 10 to 'auto' in 1.4. Set the value of `n_init` explicitly to suppress the warning\n",
            "  warnings.warn(\n"
          ]
        },
        {
          "output_type": "stream",
          "name": "stdout",
          "text": [
            "[CV] END ..............................kmeans__n_clusters=69; total time=   0.6s\n"
          ]
        },
        {
          "output_type": "stream",
          "name": "stderr",
          "text": [
            "/usr/local/lib/python3.9/dist-packages/sklearn/linear_model/_logistic.py:458: ConvergenceWarning: lbfgs failed to converge (status=1):\n",
            "STOP: TOTAL NO. of ITERATIONS REACHED LIMIT.\n",
            "\n",
            "Increase the number of iterations (max_iter) or scale the data as shown in:\n",
            "    https://scikit-learn.org/stable/modules/preprocessing.html\n",
            "Please also refer to the documentation for alternative solver options:\n",
            "    https://scikit-learn.org/stable/modules/linear_model.html#logistic-regression\n",
            "  n_iter_i = _check_optimize_result(\n",
            "/usr/local/lib/python3.9/dist-packages/sklearn/cluster/_kmeans.py:870: FutureWarning: The default value of `n_init` will change from 10 to 'auto' in 1.4. Set the value of `n_init` explicitly to suppress the warning\n",
            "  warnings.warn(\n"
          ]
        },
        {
          "output_type": "stream",
          "name": "stdout",
          "text": [
            "[CV] END ..............................kmeans__n_clusters=69; total time=   0.6s\n"
          ]
        },
        {
          "output_type": "stream",
          "name": "stderr",
          "text": [
            "/usr/local/lib/python3.9/dist-packages/sklearn/linear_model/_logistic.py:458: ConvergenceWarning: lbfgs failed to converge (status=1):\n",
            "STOP: TOTAL NO. of ITERATIONS REACHED LIMIT.\n",
            "\n",
            "Increase the number of iterations (max_iter) or scale the data as shown in:\n",
            "    https://scikit-learn.org/stable/modules/preprocessing.html\n",
            "Please also refer to the documentation for alternative solver options:\n",
            "    https://scikit-learn.org/stable/modules/linear_model.html#logistic-regression\n",
            "  n_iter_i = _check_optimize_result(\n",
            "/usr/local/lib/python3.9/dist-packages/sklearn/cluster/_kmeans.py:870: FutureWarning: The default value of `n_init` will change from 10 to 'auto' in 1.4. Set the value of `n_init` explicitly to suppress the warning\n",
            "  warnings.warn(\n"
          ]
        },
        {
          "output_type": "stream",
          "name": "stdout",
          "text": [
            "[CV] END ..............................kmeans__n_clusters=69; total time=   0.6s\n"
          ]
        },
        {
          "output_type": "stream",
          "name": "stderr",
          "text": [
            "/usr/local/lib/python3.9/dist-packages/sklearn/linear_model/_logistic.py:458: ConvergenceWarning: lbfgs failed to converge (status=1):\n",
            "STOP: TOTAL NO. of ITERATIONS REACHED LIMIT.\n",
            "\n",
            "Increase the number of iterations (max_iter) or scale the data as shown in:\n",
            "    https://scikit-learn.org/stable/modules/preprocessing.html\n",
            "Please also refer to the documentation for alternative solver options:\n",
            "    https://scikit-learn.org/stable/modules/linear_model.html#logistic-regression\n",
            "  n_iter_i = _check_optimize_result(\n",
            "/usr/local/lib/python3.9/dist-packages/sklearn/cluster/_kmeans.py:870: FutureWarning: The default value of `n_init` will change from 10 to 'auto' in 1.4. Set the value of `n_init` explicitly to suppress the warning\n",
            "  warnings.warn(\n"
          ]
        },
        {
          "output_type": "stream",
          "name": "stdout",
          "text": [
            "[CV] END ..............................kmeans__n_clusters=70; total time=   0.5s\n"
          ]
        },
        {
          "output_type": "stream",
          "name": "stderr",
          "text": [
            "/usr/local/lib/python3.9/dist-packages/sklearn/linear_model/_logistic.py:458: ConvergenceWarning: lbfgs failed to converge (status=1):\n",
            "STOP: TOTAL NO. of ITERATIONS REACHED LIMIT.\n",
            "\n",
            "Increase the number of iterations (max_iter) or scale the data as shown in:\n",
            "    https://scikit-learn.org/stable/modules/preprocessing.html\n",
            "Please also refer to the documentation for alternative solver options:\n",
            "    https://scikit-learn.org/stable/modules/linear_model.html#logistic-regression\n",
            "  n_iter_i = _check_optimize_result(\n",
            "/usr/local/lib/python3.9/dist-packages/sklearn/cluster/_kmeans.py:870: FutureWarning: The default value of `n_init` will change from 10 to 'auto' in 1.4. Set the value of `n_init` explicitly to suppress the warning\n",
            "  warnings.warn(\n"
          ]
        },
        {
          "output_type": "stream",
          "name": "stdout",
          "text": [
            "[CV] END ..............................kmeans__n_clusters=70; total time=   0.6s\n"
          ]
        },
        {
          "output_type": "stream",
          "name": "stderr",
          "text": [
            "/usr/local/lib/python3.9/dist-packages/sklearn/linear_model/_logistic.py:458: ConvergenceWarning: lbfgs failed to converge (status=1):\n",
            "STOP: TOTAL NO. of ITERATIONS REACHED LIMIT.\n",
            "\n",
            "Increase the number of iterations (max_iter) or scale the data as shown in:\n",
            "    https://scikit-learn.org/stable/modules/preprocessing.html\n",
            "Please also refer to the documentation for alternative solver options:\n",
            "    https://scikit-learn.org/stable/modules/linear_model.html#logistic-regression\n",
            "  n_iter_i = _check_optimize_result(\n",
            "/usr/local/lib/python3.9/dist-packages/sklearn/cluster/_kmeans.py:870: FutureWarning: The default value of `n_init` will change from 10 to 'auto' in 1.4. Set the value of `n_init` explicitly to suppress the warning\n",
            "  warnings.warn(\n"
          ]
        },
        {
          "output_type": "stream",
          "name": "stdout",
          "text": [
            "[CV] END ..............................kmeans__n_clusters=70; total time=   0.6s\n"
          ]
        },
        {
          "output_type": "stream",
          "name": "stderr",
          "text": [
            "/usr/local/lib/python3.9/dist-packages/sklearn/linear_model/_logistic.py:458: ConvergenceWarning: lbfgs failed to converge (status=1):\n",
            "STOP: TOTAL NO. of ITERATIONS REACHED LIMIT.\n",
            "\n",
            "Increase the number of iterations (max_iter) or scale the data as shown in:\n",
            "    https://scikit-learn.org/stable/modules/preprocessing.html\n",
            "Please also refer to the documentation for alternative solver options:\n",
            "    https://scikit-learn.org/stable/modules/linear_model.html#logistic-regression\n",
            "  n_iter_i = _check_optimize_result(\n",
            "/usr/local/lib/python3.9/dist-packages/sklearn/cluster/_kmeans.py:870: FutureWarning: The default value of `n_init` will change from 10 to 'auto' in 1.4. Set the value of `n_init` explicitly to suppress the warning\n",
            "  warnings.warn(\n"
          ]
        },
        {
          "output_type": "stream",
          "name": "stdout",
          "text": [
            "[CV] END ..............................kmeans__n_clusters=71; total time=   0.9s\n"
          ]
        },
        {
          "output_type": "stream",
          "name": "stderr",
          "text": [
            "/usr/local/lib/python3.9/dist-packages/sklearn/linear_model/_logistic.py:458: ConvergenceWarning: lbfgs failed to converge (status=1):\n",
            "STOP: TOTAL NO. of ITERATIONS REACHED LIMIT.\n",
            "\n",
            "Increase the number of iterations (max_iter) or scale the data as shown in:\n",
            "    https://scikit-learn.org/stable/modules/preprocessing.html\n",
            "Please also refer to the documentation for alternative solver options:\n",
            "    https://scikit-learn.org/stable/modules/linear_model.html#logistic-regression\n",
            "  n_iter_i = _check_optimize_result(\n",
            "/usr/local/lib/python3.9/dist-packages/sklearn/cluster/_kmeans.py:870: FutureWarning: The default value of `n_init` will change from 10 to 'auto' in 1.4. Set the value of `n_init` explicitly to suppress the warning\n",
            "  warnings.warn(\n"
          ]
        },
        {
          "output_type": "stream",
          "name": "stdout",
          "text": [
            "[CV] END ..............................kmeans__n_clusters=71; total time=   2.1s\n"
          ]
        },
        {
          "output_type": "stream",
          "name": "stderr",
          "text": [
            "/usr/local/lib/python3.9/dist-packages/sklearn/linear_model/_logistic.py:458: ConvergenceWarning: lbfgs failed to converge (status=1):\n",
            "STOP: TOTAL NO. of ITERATIONS REACHED LIMIT.\n",
            "\n",
            "Increase the number of iterations (max_iter) or scale the data as shown in:\n",
            "    https://scikit-learn.org/stable/modules/preprocessing.html\n",
            "Please also refer to the documentation for alternative solver options:\n",
            "    https://scikit-learn.org/stable/modules/linear_model.html#logistic-regression\n",
            "  n_iter_i = _check_optimize_result(\n",
            "/usr/local/lib/python3.9/dist-packages/sklearn/cluster/_kmeans.py:870: FutureWarning: The default value of `n_init` will change from 10 to 'auto' in 1.4. Set the value of `n_init` explicitly to suppress the warning\n",
            "  warnings.warn(\n"
          ]
        },
        {
          "output_type": "stream",
          "name": "stdout",
          "text": [
            "[CV] END ..............................kmeans__n_clusters=71; total time=   0.8s\n"
          ]
        },
        {
          "output_type": "stream",
          "name": "stderr",
          "text": [
            "/usr/local/lib/python3.9/dist-packages/sklearn/linear_model/_logistic.py:458: ConvergenceWarning: lbfgs failed to converge (status=1):\n",
            "STOP: TOTAL NO. of ITERATIONS REACHED LIMIT.\n",
            "\n",
            "Increase the number of iterations (max_iter) or scale the data as shown in:\n",
            "    https://scikit-learn.org/stable/modules/preprocessing.html\n",
            "Please also refer to the documentation for alternative solver options:\n",
            "    https://scikit-learn.org/stable/modules/linear_model.html#logistic-regression\n",
            "  n_iter_i = _check_optimize_result(\n",
            "/usr/local/lib/python3.9/dist-packages/sklearn/cluster/_kmeans.py:870: FutureWarning: The default value of `n_init` will change from 10 to 'auto' in 1.4. Set the value of `n_init` explicitly to suppress the warning\n",
            "  warnings.warn(\n"
          ]
        },
        {
          "output_type": "stream",
          "name": "stdout",
          "text": [
            "[CV] END ..............................kmeans__n_clusters=72; total time=   0.6s\n"
          ]
        },
        {
          "output_type": "stream",
          "name": "stderr",
          "text": [
            "/usr/local/lib/python3.9/dist-packages/sklearn/linear_model/_logistic.py:458: ConvergenceWarning: lbfgs failed to converge (status=1):\n",
            "STOP: TOTAL NO. of ITERATIONS REACHED LIMIT.\n",
            "\n",
            "Increase the number of iterations (max_iter) or scale the data as shown in:\n",
            "    https://scikit-learn.org/stable/modules/preprocessing.html\n",
            "Please also refer to the documentation for alternative solver options:\n",
            "    https://scikit-learn.org/stable/modules/linear_model.html#logistic-regression\n",
            "  n_iter_i = _check_optimize_result(\n",
            "/usr/local/lib/python3.9/dist-packages/sklearn/cluster/_kmeans.py:870: FutureWarning: The default value of `n_init` will change from 10 to 'auto' in 1.4. Set the value of `n_init` explicitly to suppress the warning\n",
            "  warnings.warn(\n"
          ]
        },
        {
          "output_type": "stream",
          "name": "stdout",
          "text": [
            "[CV] END ..............................kmeans__n_clusters=72; total time=   0.6s\n"
          ]
        },
        {
          "output_type": "stream",
          "name": "stderr",
          "text": [
            "/usr/local/lib/python3.9/dist-packages/sklearn/linear_model/_logistic.py:458: ConvergenceWarning: lbfgs failed to converge (status=1):\n",
            "STOP: TOTAL NO. of ITERATIONS REACHED LIMIT.\n",
            "\n",
            "Increase the number of iterations (max_iter) or scale the data as shown in:\n",
            "    https://scikit-learn.org/stable/modules/preprocessing.html\n",
            "Please also refer to the documentation for alternative solver options:\n",
            "    https://scikit-learn.org/stable/modules/linear_model.html#logistic-regression\n",
            "  n_iter_i = _check_optimize_result(\n",
            "/usr/local/lib/python3.9/dist-packages/sklearn/cluster/_kmeans.py:870: FutureWarning: The default value of `n_init` will change from 10 to 'auto' in 1.4. Set the value of `n_init` explicitly to suppress the warning\n",
            "  warnings.warn(\n"
          ]
        },
        {
          "output_type": "stream",
          "name": "stdout",
          "text": [
            "[CV] END ..............................kmeans__n_clusters=72; total time=   0.6s\n"
          ]
        },
        {
          "output_type": "stream",
          "name": "stderr",
          "text": [
            "/usr/local/lib/python3.9/dist-packages/sklearn/linear_model/_logistic.py:458: ConvergenceWarning: lbfgs failed to converge (status=1):\n",
            "STOP: TOTAL NO. of ITERATIONS REACHED LIMIT.\n",
            "\n",
            "Increase the number of iterations (max_iter) or scale the data as shown in:\n",
            "    https://scikit-learn.org/stable/modules/preprocessing.html\n",
            "Please also refer to the documentation for alternative solver options:\n",
            "    https://scikit-learn.org/stable/modules/linear_model.html#logistic-regression\n",
            "  n_iter_i = _check_optimize_result(\n",
            "/usr/local/lib/python3.9/dist-packages/sklearn/cluster/_kmeans.py:870: FutureWarning: The default value of `n_init` will change from 10 to 'auto' in 1.4. Set the value of `n_init` explicitly to suppress the warning\n",
            "  warnings.warn(\n"
          ]
        },
        {
          "output_type": "stream",
          "name": "stdout",
          "text": [
            "[CV] END ..............................kmeans__n_clusters=73; total time=   0.6s\n"
          ]
        },
        {
          "output_type": "stream",
          "name": "stderr",
          "text": [
            "/usr/local/lib/python3.9/dist-packages/sklearn/linear_model/_logistic.py:458: ConvergenceWarning: lbfgs failed to converge (status=1):\n",
            "STOP: TOTAL NO. of ITERATIONS REACHED LIMIT.\n",
            "\n",
            "Increase the number of iterations (max_iter) or scale the data as shown in:\n",
            "    https://scikit-learn.org/stable/modules/preprocessing.html\n",
            "Please also refer to the documentation for alternative solver options:\n",
            "    https://scikit-learn.org/stable/modules/linear_model.html#logistic-regression\n",
            "  n_iter_i = _check_optimize_result(\n",
            "/usr/local/lib/python3.9/dist-packages/sklearn/cluster/_kmeans.py:870: FutureWarning: The default value of `n_init` will change from 10 to 'auto' in 1.4. Set the value of `n_init` explicitly to suppress the warning\n",
            "  warnings.warn(\n"
          ]
        },
        {
          "output_type": "stream",
          "name": "stdout",
          "text": [
            "[CV] END ..............................kmeans__n_clusters=73; total time=   0.6s\n"
          ]
        },
        {
          "output_type": "stream",
          "name": "stderr",
          "text": [
            "/usr/local/lib/python3.9/dist-packages/sklearn/linear_model/_logistic.py:458: ConvergenceWarning: lbfgs failed to converge (status=1):\n",
            "STOP: TOTAL NO. of ITERATIONS REACHED LIMIT.\n",
            "\n",
            "Increase the number of iterations (max_iter) or scale the data as shown in:\n",
            "    https://scikit-learn.org/stable/modules/preprocessing.html\n",
            "Please also refer to the documentation for alternative solver options:\n",
            "    https://scikit-learn.org/stable/modules/linear_model.html#logistic-regression\n",
            "  n_iter_i = _check_optimize_result(\n",
            "/usr/local/lib/python3.9/dist-packages/sklearn/cluster/_kmeans.py:870: FutureWarning: The default value of `n_init` will change from 10 to 'auto' in 1.4. Set the value of `n_init` explicitly to suppress the warning\n",
            "  warnings.warn(\n"
          ]
        },
        {
          "output_type": "stream",
          "name": "stdout",
          "text": [
            "[CV] END ..............................kmeans__n_clusters=73; total time=   0.6s\n"
          ]
        },
        {
          "output_type": "stream",
          "name": "stderr",
          "text": [
            "/usr/local/lib/python3.9/dist-packages/sklearn/linear_model/_logistic.py:458: ConvergenceWarning: lbfgs failed to converge (status=1):\n",
            "STOP: TOTAL NO. of ITERATIONS REACHED LIMIT.\n",
            "\n",
            "Increase the number of iterations (max_iter) or scale the data as shown in:\n",
            "    https://scikit-learn.org/stable/modules/preprocessing.html\n",
            "Please also refer to the documentation for alternative solver options:\n",
            "    https://scikit-learn.org/stable/modules/linear_model.html#logistic-regression\n",
            "  n_iter_i = _check_optimize_result(\n",
            "/usr/local/lib/python3.9/dist-packages/sklearn/cluster/_kmeans.py:870: FutureWarning: The default value of `n_init` will change from 10 to 'auto' in 1.4. Set the value of `n_init` explicitly to suppress the warning\n",
            "  warnings.warn(\n"
          ]
        },
        {
          "output_type": "stream",
          "name": "stdout",
          "text": [
            "[CV] END ..............................kmeans__n_clusters=74; total time=   0.6s\n"
          ]
        },
        {
          "output_type": "stream",
          "name": "stderr",
          "text": [
            "/usr/local/lib/python3.9/dist-packages/sklearn/linear_model/_logistic.py:458: ConvergenceWarning: lbfgs failed to converge (status=1):\n",
            "STOP: TOTAL NO. of ITERATIONS REACHED LIMIT.\n",
            "\n",
            "Increase the number of iterations (max_iter) or scale the data as shown in:\n",
            "    https://scikit-learn.org/stable/modules/preprocessing.html\n",
            "Please also refer to the documentation for alternative solver options:\n",
            "    https://scikit-learn.org/stable/modules/linear_model.html#logistic-regression\n",
            "  n_iter_i = _check_optimize_result(\n",
            "/usr/local/lib/python3.9/dist-packages/sklearn/cluster/_kmeans.py:870: FutureWarning: The default value of `n_init` will change from 10 to 'auto' in 1.4. Set the value of `n_init` explicitly to suppress the warning\n",
            "  warnings.warn(\n"
          ]
        },
        {
          "output_type": "stream",
          "name": "stdout",
          "text": [
            "[CV] END ..............................kmeans__n_clusters=74; total time=   0.6s\n"
          ]
        },
        {
          "output_type": "stream",
          "name": "stderr",
          "text": [
            "/usr/local/lib/python3.9/dist-packages/sklearn/linear_model/_logistic.py:458: ConvergenceWarning: lbfgs failed to converge (status=1):\n",
            "STOP: TOTAL NO. of ITERATIONS REACHED LIMIT.\n",
            "\n",
            "Increase the number of iterations (max_iter) or scale the data as shown in:\n",
            "    https://scikit-learn.org/stable/modules/preprocessing.html\n",
            "Please also refer to the documentation for alternative solver options:\n",
            "    https://scikit-learn.org/stable/modules/linear_model.html#logistic-regression\n",
            "  n_iter_i = _check_optimize_result(\n",
            "/usr/local/lib/python3.9/dist-packages/sklearn/cluster/_kmeans.py:870: FutureWarning: The default value of `n_init` will change from 10 to 'auto' in 1.4. Set the value of `n_init` explicitly to suppress the warning\n",
            "  warnings.warn(\n"
          ]
        },
        {
          "output_type": "stream",
          "name": "stdout",
          "text": [
            "[CV] END ..............................kmeans__n_clusters=74; total time=   0.6s\n"
          ]
        },
        {
          "output_type": "stream",
          "name": "stderr",
          "text": [
            "/usr/local/lib/python3.9/dist-packages/sklearn/linear_model/_logistic.py:458: ConvergenceWarning: lbfgs failed to converge (status=1):\n",
            "STOP: TOTAL NO. of ITERATIONS REACHED LIMIT.\n",
            "\n",
            "Increase the number of iterations (max_iter) or scale the data as shown in:\n",
            "    https://scikit-learn.org/stable/modules/preprocessing.html\n",
            "Please also refer to the documentation for alternative solver options:\n",
            "    https://scikit-learn.org/stable/modules/linear_model.html#logistic-regression\n",
            "  n_iter_i = _check_optimize_result(\n",
            "/usr/local/lib/python3.9/dist-packages/sklearn/cluster/_kmeans.py:870: FutureWarning: The default value of `n_init` will change from 10 to 'auto' in 1.4. Set the value of `n_init` explicitly to suppress the warning\n",
            "  warnings.warn(\n"
          ]
        },
        {
          "output_type": "stream",
          "name": "stdout",
          "text": [
            "[CV] END ..............................kmeans__n_clusters=75; total time=   0.6s\n"
          ]
        },
        {
          "output_type": "stream",
          "name": "stderr",
          "text": [
            "/usr/local/lib/python3.9/dist-packages/sklearn/linear_model/_logistic.py:458: ConvergenceWarning: lbfgs failed to converge (status=1):\n",
            "STOP: TOTAL NO. of ITERATIONS REACHED LIMIT.\n",
            "\n",
            "Increase the number of iterations (max_iter) or scale the data as shown in:\n",
            "    https://scikit-learn.org/stable/modules/preprocessing.html\n",
            "Please also refer to the documentation for alternative solver options:\n",
            "    https://scikit-learn.org/stable/modules/linear_model.html#logistic-regression\n",
            "  n_iter_i = _check_optimize_result(\n",
            "/usr/local/lib/python3.9/dist-packages/sklearn/cluster/_kmeans.py:870: FutureWarning: The default value of `n_init` will change from 10 to 'auto' in 1.4. Set the value of `n_init` explicitly to suppress the warning\n",
            "  warnings.warn(\n"
          ]
        },
        {
          "output_type": "stream",
          "name": "stdout",
          "text": [
            "[CV] END ..............................kmeans__n_clusters=75; total time=   0.6s\n"
          ]
        },
        {
          "output_type": "stream",
          "name": "stderr",
          "text": [
            "/usr/local/lib/python3.9/dist-packages/sklearn/linear_model/_logistic.py:458: ConvergenceWarning: lbfgs failed to converge (status=1):\n",
            "STOP: TOTAL NO. of ITERATIONS REACHED LIMIT.\n",
            "\n",
            "Increase the number of iterations (max_iter) or scale the data as shown in:\n",
            "    https://scikit-learn.org/stable/modules/preprocessing.html\n",
            "Please also refer to the documentation for alternative solver options:\n",
            "    https://scikit-learn.org/stable/modules/linear_model.html#logistic-regression\n",
            "  n_iter_i = _check_optimize_result(\n",
            "/usr/local/lib/python3.9/dist-packages/sklearn/cluster/_kmeans.py:870: FutureWarning: The default value of `n_init` will change from 10 to 'auto' in 1.4. Set the value of `n_init` explicitly to suppress the warning\n",
            "  warnings.warn(\n"
          ]
        },
        {
          "output_type": "stream",
          "name": "stdout",
          "text": [
            "[CV] END ..............................kmeans__n_clusters=75; total time=   0.6s\n"
          ]
        },
        {
          "output_type": "stream",
          "name": "stderr",
          "text": [
            "/usr/local/lib/python3.9/dist-packages/sklearn/linear_model/_logistic.py:458: ConvergenceWarning: lbfgs failed to converge (status=1):\n",
            "STOP: TOTAL NO. of ITERATIONS REACHED LIMIT.\n",
            "\n",
            "Increase the number of iterations (max_iter) or scale the data as shown in:\n",
            "    https://scikit-learn.org/stable/modules/preprocessing.html\n",
            "Please also refer to the documentation for alternative solver options:\n",
            "    https://scikit-learn.org/stable/modules/linear_model.html#logistic-regression\n",
            "  n_iter_i = _check_optimize_result(\n",
            "/usr/local/lib/python3.9/dist-packages/sklearn/cluster/_kmeans.py:870: FutureWarning: The default value of `n_init` will change from 10 to 'auto' in 1.4. Set the value of `n_init` explicitly to suppress the warning\n",
            "  warnings.warn(\n"
          ]
        },
        {
          "output_type": "stream",
          "name": "stdout",
          "text": [
            "[CV] END ..............................kmeans__n_clusters=76; total time=   0.7s\n"
          ]
        },
        {
          "output_type": "stream",
          "name": "stderr",
          "text": [
            "/usr/local/lib/python3.9/dist-packages/sklearn/linear_model/_logistic.py:458: ConvergenceWarning: lbfgs failed to converge (status=1):\n",
            "STOP: TOTAL NO. of ITERATIONS REACHED LIMIT.\n",
            "\n",
            "Increase the number of iterations (max_iter) or scale the data as shown in:\n",
            "    https://scikit-learn.org/stable/modules/preprocessing.html\n",
            "Please also refer to the documentation for alternative solver options:\n",
            "    https://scikit-learn.org/stable/modules/linear_model.html#logistic-regression\n",
            "  n_iter_i = _check_optimize_result(\n",
            "/usr/local/lib/python3.9/dist-packages/sklearn/cluster/_kmeans.py:870: FutureWarning: The default value of `n_init` will change from 10 to 'auto' in 1.4. Set the value of `n_init` explicitly to suppress the warning\n",
            "  warnings.warn(\n"
          ]
        },
        {
          "output_type": "stream",
          "name": "stdout",
          "text": [
            "[CV] END ..............................kmeans__n_clusters=76; total time=   0.7s\n"
          ]
        },
        {
          "output_type": "stream",
          "name": "stderr",
          "text": [
            "/usr/local/lib/python3.9/dist-packages/sklearn/linear_model/_logistic.py:458: ConvergenceWarning: lbfgs failed to converge (status=1):\n",
            "STOP: TOTAL NO. of ITERATIONS REACHED LIMIT.\n",
            "\n",
            "Increase the number of iterations (max_iter) or scale the data as shown in:\n",
            "    https://scikit-learn.org/stable/modules/preprocessing.html\n",
            "Please also refer to the documentation for alternative solver options:\n",
            "    https://scikit-learn.org/stable/modules/linear_model.html#logistic-regression\n",
            "  n_iter_i = _check_optimize_result(\n",
            "/usr/local/lib/python3.9/dist-packages/sklearn/cluster/_kmeans.py:870: FutureWarning: The default value of `n_init` will change from 10 to 'auto' in 1.4. Set the value of `n_init` explicitly to suppress the warning\n",
            "  warnings.warn(\n"
          ]
        },
        {
          "output_type": "stream",
          "name": "stdout",
          "text": [
            "[CV] END ..............................kmeans__n_clusters=76; total time=   0.7s\n"
          ]
        },
        {
          "output_type": "stream",
          "name": "stderr",
          "text": [
            "/usr/local/lib/python3.9/dist-packages/sklearn/linear_model/_logistic.py:458: ConvergenceWarning: lbfgs failed to converge (status=1):\n",
            "STOP: TOTAL NO. of ITERATIONS REACHED LIMIT.\n",
            "\n",
            "Increase the number of iterations (max_iter) or scale the data as shown in:\n",
            "    https://scikit-learn.org/stable/modules/preprocessing.html\n",
            "Please also refer to the documentation for alternative solver options:\n",
            "    https://scikit-learn.org/stable/modules/linear_model.html#logistic-regression\n",
            "  n_iter_i = _check_optimize_result(\n",
            "/usr/local/lib/python3.9/dist-packages/sklearn/cluster/_kmeans.py:870: FutureWarning: The default value of `n_init` will change from 10 to 'auto' in 1.4. Set the value of `n_init` explicitly to suppress the warning\n",
            "  warnings.warn(\n"
          ]
        },
        {
          "output_type": "stream",
          "name": "stdout",
          "text": [
            "[CV] END ..............................kmeans__n_clusters=77; total time=   1.2s\n"
          ]
        },
        {
          "output_type": "stream",
          "name": "stderr",
          "text": [
            "/usr/local/lib/python3.9/dist-packages/sklearn/linear_model/_logistic.py:458: ConvergenceWarning: lbfgs failed to converge (status=1):\n",
            "STOP: TOTAL NO. of ITERATIONS REACHED LIMIT.\n",
            "\n",
            "Increase the number of iterations (max_iter) or scale the data as shown in:\n",
            "    https://scikit-learn.org/stable/modules/preprocessing.html\n",
            "Please also refer to the documentation for alternative solver options:\n",
            "    https://scikit-learn.org/stable/modules/linear_model.html#logistic-regression\n",
            "  n_iter_i = _check_optimize_result(\n",
            "/usr/local/lib/python3.9/dist-packages/sklearn/cluster/_kmeans.py:870: FutureWarning: The default value of `n_init` will change from 10 to 'auto' in 1.4. Set the value of `n_init` explicitly to suppress the warning\n",
            "  warnings.warn(\n"
          ]
        },
        {
          "output_type": "stream",
          "name": "stdout",
          "text": [
            "[CV] END ..............................kmeans__n_clusters=77; total time=   1.9s\n"
          ]
        },
        {
          "output_type": "stream",
          "name": "stderr",
          "text": [
            "/usr/local/lib/python3.9/dist-packages/sklearn/linear_model/_logistic.py:458: ConvergenceWarning: lbfgs failed to converge (status=1):\n",
            "STOP: TOTAL NO. of ITERATIONS REACHED LIMIT.\n",
            "\n",
            "Increase the number of iterations (max_iter) or scale the data as shown in:\n",
            "    https://scikit-learn.org/stable/modules/preprocessing.html\n",
            "Please also refer to the documentation for alternative solver options:\n",
            "    https://scikit-learn.org/stable/modules/linear_model.html#logistic-regression\n",
            "  n_iter_i = _check_optimize_result(\n",
            "/usr/local/lib/python3.9/dist-packages/sklearn/cluster/_kmeans.py:870: FutureWarning: The default value of `n_init` will change from 10 to 'auto' in 1.4. Set the value of `n_init` explicitly to suppress the warning\n",
            "  warnings.warn(\n"
          ]
        },
        {
          "output_type": "stream",
          "name": "stdout",
          "text": [
            "[CV] END ..............................kmeans__n_clusters=77; total time=   0.7s\n"
          ]
        },
        {
          "output_type": "stream",
          "name": "stderr",
          "text": [
            "/usr/local/lib/python3.9/dist-packages/sklearn/linear_model/_logistic.py:458: ConvergenceWarning: lbfgs failed to converge (status=1):\n",
            "STOP: TOTAL NO. of ITERATIONS REACHED LIMIT.\n",
            "\n",
            "Increase the number of iterations (max_iter) or scale the data as shown in:\n",
            "    https://scikit-learn.org/stable/modules/preprocessing.html\n",
            "Please also refer to the documentation for alternative solver options:\n",
            "    https://scikit-learn.org/stable/modules/linear_model.html#logistic-regression\n",
            "  n_iter_i = _check_optimize_result(\n",
            "/usr/local/lib/python3.9/dist-packages/sklearn/cluster/_kmeans.py:870: FutureWarning: The default value of `n_init` will change from 10 to 'auto' in 1.4. Set the value of `n_init` explicitly to suppress the warning\n",
            "  warnings.warn(\n"
          ]
        },
        {
          "output_type": "stream",
          "name": "stdout",
          "text": [
            "[CV] END ..............................kmeans__n_clusters=78; total time=   0.9s\n"
          ]
        },
        {
          "output_type": "stream",
          "name": "stderr",
          "text": [
            "/usr/local/lib/python3.9/dist-packages/sklearn/linear_model/_logistic.py:458: ConvergenceWarning: lbfgs failed to converge (status=1):\n",
            "STOP: TOTAL NO. of ITERATIONS REACHED LIMIT.\n",
            "\n",
            "Increase the number of iterations (max_iter) or scale the data as shown in:\n",
            "    https://scikit-learn.org/stable/modules/preprocessing.html\n",
            "Please also refer to the documentation for alternative solver options:\n",
            "    https://scikit-learn.org/stable/modules/linear_model.html#logistic-regression\n",
            "  n_iter_i = _check_optimize_result(\n",
            "/usr/local/lib/python3.9/dist-packages/sklearn/cluster/_kmeans.py:870: FutureWarning: The default value of `n_init` will change from 10 to 'auto' in 1.4. Set the value of `n_init` explicitly to suppress the warning\n",
            "  warnings.warn(\n"
          ]
        },
        {
          "output_type": "stream",
          "name": "stdout",
          "text": [
            "[CV] END ..............................kmeans__n_clusters=78; total time=   0.7s\n"
          ]
        },
        {
          "output_type": "stream",
          "name": "stderr",
          "text": [
            "/usr/local/lib/python3.9/dist-packages/sklearn/linear_model/_logistic.py:458: ConvergenceWarning: lbfgs failed to converge (status=1):\n",
            "STOP: TOTAL NO. of ITERATIONS REACHED LIMIT.\n",
            "\n",
            "Increase the number of iterations (max_iter) or scale the data as shown in:\n",
            "    https://scikit-learn.org/stable/modules/preprocessing.html\n",
            "Please also refer to the documentation for alternative solver options:\n",
            "    https://scikit-learn.org/stable/modules/linear_model.html#logistic-regression\n",
            "  n_iter_i = _check_optimize_result(\n",
            "/usr/local/lib/python3.9/dist-packages/sklearn/cluster/_kmeans.py:870: FutureWarning: The default value of `n_init` will change from 10 to 'auto' in 1.4. Set the value of `n_init` explicitly to suppress the warning\n",
            "  warnings.warn(\n"
          ]
        },
        {
          "output_type": "stream",
          "name": "stdout",
          "text": [
            "[CV] END ..............................kmeans__n_clusters=78; total time=   0.6s\n"
          ]
        },
        {
          "output_type": "stream",
          "name": "stderr",
          "text": [
            "/usr/local/lib/python3.9/dist-packages/sklearn/linear_model/_logistic.py:458: ConvergenceWarning: lbfgs failed to converge (status=1):\n",
            "STOP: TOTAL NO. of ITERATIONS REACHED LIMIT.\n",
            "\n",
            "Increase the number of iterations (max_iter) or scale the data as shown in:\n",
            "    https://scikit-learn.org/stable/modules/preprocessing.html\n",
            "Please also refer to the documentation for alternative solver options:\n",
            "    https://scikit-learn.org/stable/modules/linear_model.html#logistic-regression\n",
            "  n_iter_i = _check_optimize_result(\n",
            "/usr/local/lib/python3.9/dist-packages/sklearn/cluster/_kmeans.py:870: FutureWarning: The default value of `n_init` will change from 10 to 'auto' in 1.4. Set the value of `n_init` explicitly to suppress the warning\n",
            "  warnings.warn(\n"
          ]
        },
        {
          "output_type": "stream",
          "name": "stdout",
          "text": [
            "[CV] END ..............................kmeans__n_clusters=79; total time=   0.7s\n"
          ]
        },
        {
          "output_type": "stream",
          "name": "stderr",
          "text": [
            "/usr/local/lib/python3.9/dist-packages/sklearn/linear_model/_logistic.py:458: ConvergenceWarning: lbfgs failed to converge (status=1):\n",
            "STOP: TOTAL NO. of ITERATIONS REACHED LIMIT.\n",
            "\n",
            "Increase the number of iterations (max_iter) or scale the data as shown in:\n",
            "    https://scikit-learn.org/stable/modules/preprocessing.html\n",
            "Please also refer to the documentation for alternative solver options:\n",
            "    https://scikit-learn.org/stable/modules/linear_model.html#logistic-regression\n",
            "  n_iter_i = _check_optimize_result(\n",
            "/usr/local/lib/python3.9/dist-packages/sklearn/cluster/_kmeans.py:870: FutureWarning: The default value of `n_init` will change from 10 to 'auto' in 1.4. Set the value of `n_init` explicitly to suppress the warning\n",
            "  warnings.warn(\n"
          ]
        },
        {
          "output_type": "stream",
          "name": "stdout",
          "text": [
            "[CV] END ..............................kmeans__n_clusters=79; total time=   0.9s\n"
          ]
        },
        {
          "output_type": "stream",
          "name": "stderr",
          "text": [
            "/usr/local/lib/python3.9/dist-packages/sklearn/linear_model/_logistic.py:458: ConvergenceWarning: lbfgs failed to converge (status=1):\n",
            "STOP: TOTAL NO. of ITERATIONS REACHED LIMIT.\n",
            "\n",
            "Increase the number of iterations (max_iter) or scale the data as shown in:\n",
            "    https://scikit-learn.org/stable/modules/preprocessing.html\n",
            "Please also refer to the documentation for alternative solver options:\n",
            "    https://scikit-learn.org/stable/modules/linear_model.html#logistic-regression\n",
            "  n_iter_i = _check_optimize_result(\n",
            "/usr/local/lib/python3.9/dist-packages/sklearn/cluster/_kmeans.py:870: FutureWarning: The default value of `n_init` will change from 10 to 'auto' in 1.4. Set the value of `n_init` explicitly to suppress the warning\n",
            "  warnings.warn(\n"
          ]
        },
        {
          "output_type": "stream",
          "name": "stdout",
          "text": [
            "[CV] END ..............................kmeans__n_clusters=79; total time=   0.7s\n"
          ]
        },
        {
          "output_type": "stream",
          "name": "stderr",
          "text": [
            "/usr/local/lib/python3.9/dist-packages/sklearn/linear_model/_logistic.py:458: ConvergenceWarning: lbfgs failed to converge (status=1):\n",
            "STOP: TOTAL NO. of ITERATIONS REACHED LIMIT.\n",
            "\n",
            "Increase the number of iterations (max_iter) or scale the data as shown in:\n",
            "    https://scikit-learn.org/stable/modules/preprocessing.html\n",
            "Please also refer to the documentation for alternative solver options:\n",
            "    https://scikit-learn.org/stable/modules/linear_model.html#logistic-regression\n",
            "  n_iter_i = _check_optimize_result(\n",
            "/usr/local/lib/python3.9/dist-packages/sklearn/cluster/_kmeans.py:870: FutureWarning: The default value of `n_init` will change from 10 to 'auto' in 1.4. Set the value of `n_init` explicitly to suppress the warning\n",
            "  warnings.warn(\n"
          ]
        },
        {
          "output_type": "stream",
          "name": "stdout",
          "text": [
            "[CV] END ..............................kmeans__n_clusters=80; total time=   0.6s\n"
          ]
        },
        {
          "output_type": "stream",
          "name": "stderr",
          "text": [
            "/usr/local/lib/python3.9/dist-packages/sklearn/linear_model/_logistic.py:458: ConvergenceWarning: lbfgs failed to converge (status=1):\n",
            "STOP: TOTAL NO. of ITERATIONS REACHED LIMIT.\n",
            "\n",
            "Increase the number of iterations (max_iter) or scale the data as shown in:\n",
            "    https://scikit-learn.org/stable/modules/preprocessing.html\n",
            "Please also refer to the documentation for alternative solver options:\n",
            "    https://scikit-learn.org/stable/modules/linear_model.html#logistic-regression\n",
            "  n_iter_i = _check_optimize_result(\n",
            "/usr/local/lib/python3.9/dist-packages/sklearn/cluster/_kmeans.py:870: FutureWarning: The default value of `n_init` will change from 10 to 'auto' in 1.4. Set the value of `n_init` explicitly to suppress the warning\n",
            "  warnings.warn(\n"
          ]
        },
        {
          "output_type": "stream",
          "name": "stdout",
          "text": [
            "[CV] END ..............................kmeans__n_clusters=80; total time=   0.8s\n"
          ]
        },
        {
          "output_type": "stream",
          "name": "stderr",
          "text": [
            "/usr/local/lib/python3.9/dist-packages/sklearn/linear_model/_logistic.py:458: ConvergenceWarning: lbfgs failed to converge (status=1):\n",
            "STOP: TOTAL NO. of ITERATIONS REACHED LIMIT.\n",
            "\n",
            "Increase the number of iterations (max_iter) or scale the data as shown in:\n",
            "    https://scikit-learn.org/stable/modules/preprocessing.html\n",
            "Please also refer to the documentation for alternative solver options:\n",
            "    https://scikit-learn.org/stable/modules/linear_model.html#logistic-regression\n",
            "  n_iter_i = _check_optimize_result(\n",
            "/usr/local/lib/python3.9/dist-packages/sklearn/cluster/_kmeans.py:870: FutureWarning: The default value of `n_init` will change from 10 to 'auto' in 1.4. Set the value of `n_init` explicitly to suppress the warning\n",
            "  warnings.warn(\n"
          ]
        },
        {
          "output_type": "stream",
          "name": "stdout",
          "text": [
            "[CV] END ..............................kmeans__n_clusters=80; total time=   0.7s\n"
          ]
        },
        {
          "output_type": "stream",
          "name": "stderr",
          "text": [
            "/usr/local/lib/python3.9/dist-packages/sklearn/linear_model/_logistic.py:458: ConvergenceWarning: lbfgs failed to converge (status=1):\n",
            "STOP: TOTAL NO. of ITERATIONS REACHED LIMIT.\n",
            "\n",
            "Increase the number of iterations (max_iter) or scale the data as shown in:\n",
            "    https://scikit-learn.org/stable/modules/preprocessing.html\n",
            "Please also refer to the documentation for alternative solver options:\n",
            "    https://scikit-learn.org/stable/modules/linear_model.html#logistic-regression\n",
            "  n_iter_i = _check_optimize_result(\n",
            "/usr/local/lib/python3.9/dist-packages/sklearn/cluster/_kmeans.py:870: FutureWarning: The default value of `n_init` will change from 10 to 'auto' in 1.4. Set the value of `n_init` explicitly to suppress the warning\n",
            "  warnings.warn(\n"
          ]
        },
        {
          "output_type": "stream",
          "name": "stdout",
          "text": [
            "[CV] END ..............................kmeans__n_clusters=81; total time=   0.8s\n"
          ]
        },
        {
          "output_type": "stream",
          "name": "stderr",
          "text": [
            "/usr/local/lib/python3.9/dist-packages/sklearn/linear_model/_logistic.py:458: ConvergenceWarning: lbfgs failed to converge (status=1):\n",
            "STOP: TOTAL NO. of ITERATIONS REACHED LIMIT.\n",
            "\n",
            "Increase the number of iterations (max_iter) or scale the data as shown in:\n",
            "    https://scikit-learn.org/stable/modules/preprocessing.html\n",
            "Please also refer to the documentation for alternative solver options:\n",
            "    https://scikit-learn.org/stable/modules/linear_model.html#logistic-regression\n",
            "  n_iter_i = _check_optimize_result(\n",
            "/usr/local/lib/python3.9/dist-packages/sklearn/cluster/_kmeans.py:870: FutureWarning: The default value of `n_init` will change from 10 to 'auto' in 1.4. Set the value of `n_init` explicitly to suppress the warning\n",
            "  warnings.warn(\n"
          ]
        },
        {
          "output_type": "stream",
          "name": "stdout",
          "text": [
            "[CV] END ..............................kmeans__n_clusters=81; total time=   0.6s\n"
          ]
        },
        {
          "output_type": "stream",
          "name": "stderr",
          "text": [
            "/usr/local/lib/python3.9/dist-packages/sklearn/linear_model/_logistic.py:458: ConvergenceWarning: lbfgs failed to converge (status=1):\n",
            "STOP: TOTAL NO. of ITERATIONS REACHED LIMIT.\n",
            "\n",
            "Increase the number of iterations (max_iter) or scale the data as shown in:\n",
            "    https://scikit-learn.org/stable/modules/preprocessing.html\n",
            "Please also refer to the documentation for alternative solver options:\n",
            "    https://scikit-learn.org/stable/modules/linear_model.html#logistic-regression\n",
            "  n_iter_i = _check_optimize_result(\n",
            "/usr/local/lib/python3.9/dist-packages/sklearn/cluster/_kmeans.py:870: FutureWarning: The default value of `n_init` will change from 10 to 'auto' in 1.4. Set the value of `n_init` explicitly to suppress the warning\n",
            "  warnings.warn(\n"
          ]
        },
        {
          "output_type": "stream",
          "name": "stdout",
          "text": [
            "[CV] END ..............................kmeans__n_clusters=81; total time=   0.7s\n"
          ]
        },
        {
          "output_type": "stream",
          "name": "stderr",
          "text": [
            "/usr/local/lib/python3.9/dist-packages/sklearn/linear_model/_logistic.py:458: ConvergenceWarning: lbfgs failed to converge (status=1):\n",
            "STOP: TOTAL NO. of ITERATIONS REACHED LIMIT.\n",
            "\n",
            "Increase the number of iterations (max_iter) or scale the data as shown in:\n",
            "    https://scikit-learn.org/stable/modules/preprocessing.html\n",
            "Please also refer to the documentation for alternative solver options:\n",
            "    https://scikit-learn.org/stable/modules/linear_model.html#logistic-regression\n",
            "  n_iter_i = _check_optimize_result(\n",
            "/usr/local/lib/python3.9/dist-packages/sklearn/cluster/_kmeans.py:870: FutureWarning: The default value of `n_init` will change from 10 to 'auto' in 1.4. Set the value of `n_init` explicitly to suppress the warning\n",
            "  warnings.warn(\n"
          ]
        },
        {
          "output_type": "stream",
          "name": "stdout",
          "text": [
            "[CV] END ..............................kmeans__n_clusters=82; total time=   1.4s\n"
          ]
        },
        {
          "output_type": "stream",
          "name": "stderr",
          "text": [
            "/usr/local/lib/python3.9/dist-packages/sklearn/linear_model/_logistic.py:458: ConvergenceWarning: lbfgs failed to converge (status=1):\n",
            "STOP: TOTAL NO. of ITERATIONS REACHED LIMIT.\n",
            "\n",
            "Increase the number of iterations (max_iter) or scale the data as shown in:\n",
            "    https://scikit-learn.org/stable/modules/preprocessing.html\n",
            "Please also refer to the documentation for alternative solver options:\n",
            "    https://scikit-learn.org/stable/modules/linear_model.html#logistic-regression\n",
            "  n_iter_i = _check_optimize_result(\n",
            "/usr/local/lib/python3.9/dist-packages/sklearn/cluster/_kmeans.py:870: FutureWarning: The default value of `n_init` will change from 10 to 'auto' in 1.4. Set the value of `n_init` explicitly to suppress the warning\n",
            "  warnings.warn(\n"
          ]
        },
        {
          "output_type": "stream",
          "name": "stdout",
          "text": [
            "[CV] END ..............................kmeans__n_clusters=82; total time=   2.0s\n"
          ]
        },
        {
          "output_type": "stream",
          "name": "stderr",
          "text": [
            "/usr/local/lib/python3.9/dist-packages/sklearn/linear_model/_logistic.py:458: ConvergenceWarning: lbfgs failed to converge (status=1):\n",
            "STOP: TOTAL NO. of ITERATIONS REACHED LIMIT.\n",
            "\n",
            "Increase the number of iterations (max_iter) or scale the data as shown in:\n",
            "    https://scikit-learn.org/stable/modules/preprocessing.html\n",
            "Please also refer to the documentation for alternative solver options:\n",
            "    https://scikit-learn.org/stable/modules/linear_model.html#logistic-regression\n",
            "  n_iter_i = _check_optimize_result(\n",
            "/usr/local/lib/python3.9/dist-packages/sklearn/cluster/_kmeans.py:870: FutureWarning: The default value of `n_init` will change from 10 to 'auto' in 1.4. Set the value of `n_init` explicitly to suppress the warning\n",
            "  warnings.warn(\n"
          ]
        },
        {
          "output_type": "stream",
          "name": "stdout",
          "text": [
            "[CV] END ..............................kmeans__n_clusters=82; total time=   0.8s\n"
          ]
        },
        {
          "output_type": "stream",
          "name": "stderr",
          "text": [
            "/usr/local/lib/python3.9/dist-packages/sklearn/linear_model/_logistic.py:458: ConvergenceWarning: lbfgs failed to converge (status=1):\n",
            "STOP: TOTAL NO. of ITERATIONS REACHED LIMIT.\n",
            "\n",
            "Increase the number of iterations (max_iter) or scale the data as shown in:\n",
            "    https://scikit-learn.org/stable/modules/preprocessing.html\n",
            "Please also refer to the documentation for alternative solver options:\n",
            "    https://scikit-learn.org/stable/modules/linear_model.html#logistic-regression\n",
            "  n_iter_i = _check_optimize_result(\n",
            "/usr/local/lib/python3.9/dist-packages/sklearn/cluster/_kmeans.py:870: FutureWarning: The default value of `n_init` will change from 10 to 'auto' in 1.4. Set the value of `n_init` explicitly to suppress the warning\n",
            "  warnings.warn(\n"
          ]
        },
        {
          "output_type": "stream",
          "name": "stdout",
          "text": [
            "[CV] END ..............................kmeans__n_clusters=83; total time=   0.6s\n"
          ]
        },
        {
          "output_type": "stream",
          "name": "stderr",
          "text": [
            "/usr/local/lib/python3.9/dist-packages/sklearn/linear_model/_logistic.py:458: ConvergenceWarning: lbfgs failed to converge (status=1):\n",
            "STOP: TOTAL NO. of ITERATIONS REACHED LIMIT.\n",
            "\n",
            "Increase the number of iterations (max_iter) or scale the data as shown in:\n",
            "    https://scikit-learn.org/stable/modules/preprocessing.html\n",
            "Please also refer to the documentation for alternative solver options:\n",
            "    https://scikit-learn.org/stable/modules/linear_model.html#logistic-regression\n",
            "  n_iter_i = _check_optimize_result(\n",
            "/usr/local/lib/python3.9/dist-packages/sklearn/cluster/_kmeans.py:870: FutureWarning: The default value of `n_init` will change from 10 to 'auto' in 1.4. Set the value of `n_init` explicitly to suppress the warning\n",
            "  warnings.warn(\n"
          ]
        },
        {
          "output_type": "stream",
          "name": "stdout",
          "text": [
            "[CV] END ..............................kmeans__n_clusters=83; total time=   0.6s\n"
          ]
        },
        {
          "output_type": "stream",
          "name": "stderr",
          "text": [
            "/usr/local/lib/python3.9/dist-packages/sklearn/linear_model/_logistic.py:458: ConvergenceWarning: lbfgs failed to converge (status=1):\n",
            "STOP: TOTAL NO. of ITERATIONS REACHED LIMIT.\n",
            "\n",
            "Increase the number of iterations (max_iter) or scale the data as shown in:\n",
            "    https://scikit-learn.org/stable/modules/preprocessing.html\n",
            "Please also refer to the documentation for alternative solver options:\n",
            "    https://scikit-learn.org/stable/modules/linear_model.html#logistic-regression\n",
            "  n_iter_i = _check_optimize_result(\n",
            "/usr/local/lib/python3.9/dist-packages/sklearn/cluster/_kmeans.py:870: FutureWarning: The default value of `n_init` will change from 10 to 'auto' in 1.4. Set the value of `n_init` explicitly to suppress the warning\n",
            "  warnings.warn(\n"
          ]
        },
        {
          "output_type": "stream",
          "name": "stdout",
          "text": [
            "[CV] END ..............................kmeans__n_clusters=83; total time=   0.9s\n"
          ]
        },
        {
          "output_type": "stream",
          "name": "stderr",
          "text": [
            "/usr/local/lib/python3.9/dist-packages/sklearn/linear_model/_logistic.py:458: ConvergenceWarning: lbfgs failed to converge (status=1):\n",
            "STOP: TOTAL NO. of ITERATIONS REACHED LIMIT.\n",
            "\n",
            "Increase the number of iterations (max_iter) or scale the data as shown in:\n",
            "    https://scikit-learn.org/stable/modules/preprocessing.html\n",
            "Please also refer to the documentation for alternative solver options:\n",
            "    https://scikit-learn.org/stable/modules/linear_model.html#logistic-regression\n",
            "  n_iter_i = _check_optimize_result(\n",
            "/usr/local/lib/python3.9/dist-packages/sklearn/cluster/_kmeans.py:870: FutureWarning: The default value of `n_init` will change from 10 to 'auto' in 1.4. Set the value of `n_init` explicitly to suppress the warning\n",
            "  warnings.warn(\n"
          ]
        },
        {
          "output_type": "stream",
          "name": "stdout",
          "text": [
            "[CV] END ..............................kmeans__n_clusters=84; total time=   0.6s\n"
          ]
        },
        {
          "output_type": "stream",
          "name": "stderr",
          "text": [
            "/usr/local/lib/python3.9/dist-packages/sklearn/linear_model/_logistic.py:458: ConvergenceWarning: lbfgs failed to converge (status=1):\n",
            "STOP: TOTAL NO. of ITERATIONS REACHED LIMIT.\n",
            "\n",
            "Increase the number of iterations (max_iter) or scale the data as shown in:\n",
            "    https://scikit-learn.org/stable/modules/preprocessing.html\n",
            "Please also refer to the documentation for alternative solver options:\n",
            "    https://scikit-learn.org/stable/modules/linear_model.html#logistic-regression\n",
            "  n_iter_i = _check_optimize_result(\n",
            "/usr/local/lib/python3.9/dist-packages/sklearn/cluster/_kmeans.py:870: FutureWarning: The default value of `n_init` will change from 10 to 'auto' in 1.4. Set the value of `n_init` explicitly to suppress the warning\n",
            "  warnings.warn(\n"
          ]
        },
        {
          "output_type": "stream",
          "name": "stdout",
          "text": [
            "[CV] END ..............................kmeans__n_clusters=84; total time=   0.7s\n"
          ]
        },
        {
          "output_type": "stream",
          "name": "stderr",
          "text": [
            "/usr/local/lib/python3.9/dist-packages/sklearn/linear_model/_logistic.py:458: ConvergenceWarning: lbfgs failed to converge (status=1):\n",
            "STOP: TOTAL NO. of ITERATIONS REACHED LIMIT.\n",
            "\n",
            "Increase the number of iterations (max_iter) or scale the data as shown in:\n",
            "    https://scikit-learn.org/stable/modules/preprocessing.html\n",
            "Please also refer to the documentation for alternative solver options:\n",
            "    https://scikit-learn.org/stable/modules/linear_model.html#logistic-regression\n",
            "  n_iter_i = _check_optimize_result(\n",
            "/usr/local/lib/python3.9/dist-packages/sklearn/cluster/_kmeans.py:870: FutureWarning: The default value of `n_init` will change from 10 to 'auto' in 1.4. Set the value of `n_init` explicitly to suppress the warning\n",
            "  warnings.warn(\n"
          ]
        },
        {
          "output_type": "stream",
          "name": "stdout",
          "text": [
            "[CV] END ..............................kmeans__n_clusters=84; total time=   0.7s\n"
          ]
        },
        {
          "output_type": "stream",
          "name": "stderr",
          "text": [
            "/usr/local/lib/python3.9/dist-packages/sklearn/linear_model/_logistic.py:458: ConvergenceWarning: lbfgs failed to converge (status=1):\n",
            "STOP: TOTAL NO. of ITERATIONS REACHED LIMIT.\n",
            "\n",
            "Increase the number of iterations (max_iter) or scale the data as shown in:\n",
            "    https://scikit-learn.org/stable/modules/preprocessing.html\n",
            "Please also refer to the documentation for alternative solver options:\n",
            "    https://scikit-learn.org/stable/modules/linear_model.html#logistic-regression\n",
            "  n_iter_i = _check_optimize_result(\n",
            "/usr/local/lib/python3.9/dist-packages/sklearn/cluster/_kmeans.py:870: FutureWarning: The default value of `n_init` will change from 10 to 'auto' in 1.4. Set the value of `n_init` explicitly to suppress the warning\n",
            "  warnings.warn(\n"
          ]
        },
        {
          "output_type": "stream",
          "name": "stdout",
          "text": [
            "[CV] END ..............................kmeans__n_clusters=85; total time=   0.7s\n"
          ]
        },
        {
          "output_type": "stream",
          "name": "stderr",
          "text": [
            "/usr/local/lib/python3.9/dist-packages/sklearn/linear_model/_logistic.py:458: ConvergenceWarning: lbfgs failed to converge (status=1):\n",
            "STOP: TOTAL NO. of ITERATIONS REACHED LIMIT.\n",
            "\n",
            "Increase the number of iterations (max_iter) or scale the data as shown in:\n",
            "    https://scikit-learn.org/stable/modules/preprocessing.html\n",
            "Please also refer to the documentation for alternative solver options:\n",
            "    https://scikit-learn.org/stable/modules/linear_model.html#logistic-regression\n",
            "  n_iter_i = _check_optimize_result(\n",
            "/usr/local/lib/python3.9/dist-packages/sklearn/cluster/_kmeans.py:870: FutureWarning: The default value of `n_init` will change from 10 to 'auto' in 1.4. Set the value of `n_init` explicitly to suppress the warning\n",
            "  warnings.warn(\n"
          ]
        },
        {
          "output_type": "stream",
          "name": "stdout",
          "text": [
            "[CV] END ..............................kmeans__n_clusters=85; total time=   0.6s\n"
          ]
        },
        {
          "output_type": "stream",
          "name": "stderr",
          "text": [
            "/usr/local/lib/python3.9/dist-packages/sklearn/linear_model/_logistic.py:458: ConvergenceWarning: lbfgs failed to converge (status=1):\n",
            "STOP: TOTAL NO. of ITERATIONS REACHED LIMIT.\n",
            "\n",
            "Increase the number of iterations (max_iter) or scale the data as shown in:\n",
            "    https://scikit-learn.org/stable/modules/preprocessing.html\n",
            "Please also refer to the documentation for alternative solver options:\n",
            "    https://scikit-learn.org/stable/modules/linear_model.html#logistic-regression\n",
            "  n_iter_i = _check_optimize_result(\n",
            "/usr/local/lib/python3.9/dist-packages/sklearn/cluster/_kmeans.py:870: FutureWarning: The default value of `n_init` will change from 10 to 'auto' in 1.4. Set the value of `n_init` explicitly to suppress the warning\n",
            "  warnings.warn(\n"
          ]
        },
        {
          "output_type": "stream",
          "name": "stdout",
          "text": [
            "[CV] END ..............................kmeans__n_clusters=85; total time=   0.7s\n"
          ]
        },
        {
          "output_type": "stream",
          "name": "stderr",
          "text": [
            "/usr/local/lib/python3.9/dist-packages/sklearn/linear_model/_logistic.py:458: ConvergenceWarning: lbfgs failed to converge (status=1):\n",
            "STOP: TOTAL NO. of ITERATIONS REACHED LIMIT.\n",
            "\n",
            "Increase the number of iterations (max_iter) or scale the data as shown in:\n",
            "    https://scikit-learn.org/stable/modules/preprocessing.html\n",
            "Please also refer to the documentation for alternative solver options:\n",
            "    https://scikit-learn.org/stable/modules/linear_model.html#logistic-regression\n",
            "  n_iter_i = _check_optimize_result(\n",
            "/usr/local/lib/python3.9/dist-packages/sklearn/cluster/_kmeans.py:870: FutureWarning: The default value of `n_init` will change from 10 to 'auto' in 1.4. Set the value of `n_init` explicitly to suppress the warning\n",
            "  warnings.warn(\n"
          ]
        },
        {
          "output_type": "stream",
          "name": "stdout",
          "text": [
            "[CV] END ..............................kmeans__n_clusters=86; total time=   0.8s\n"
          ]
        },
        {
          "output_type": "stream",
          "name": "stderr",
          "text": [
            "/usr/local/lib/python3.9/dist-packages/sklearn/linear_model/_logistic.py:458: ConvergenceWarning: lbfgs failed to converge (status=1):\n",
            "STOP: TOTAL NO. of ITERATIONS REACHED LIMIT.\n",
            "\n",
            "Increase the number of iterations (max_iter) or scale the data as shown in:\n",
            "    https://scikit-learn.org/stable/modules/preprocessing.html\n",
            "Please also refer to the documentation for alternative solver options:\n",
            "    https://scikit-learn.org/stable/modules/linear_model.html#logistic-regression\n",
            "  n_iter_i = _check_optimize_result(\n",
            "/usr/local/lib/python3.9/dist-packages/sklearn/cluster/_kmeans.py:870: FutureWarning: The default value of `n_init` will change from 10 to 'auto' in 1.4. Set the value of `n_init` explicitly to suppress the warning\n",
            "  warnings.warn(\n"
          ]
        },
        {
          "output_type": "stream",
          "name": "stdout",
          "text": [
            "[CV] END ..............................kmeans__n_clusters=86; total time=   0.7s\n"
          ]
        },
        {
          "output_type": "stream",
          "name": "stderr",
          "text": [
            "/usr/local/lib/python3.9/dist-packages/sklearn/linear_model/_logistic.py:458: ConvergenceWarning: lbfgs failed to converge (status=1):\n",
            "STOP: TOTAL NO. of ITERATIONS REACHED LIMIT.\n",
            "\n",
            "Increase the number of iterations (max_iter) or scale the data as shown in:\n",
            "    https://scikit-learn.org/stable/modules/preprocessing.html\n",
            "Please also refer to the documentation for alternative solver options:\n",
            "    https://scikit-learn.org/stable/modules/linear_model.html#logistic-regression\n",
            "  n_iter_i = _check_optimize_result(\n",
            "/usr/local/lib/python3.9/dist-packages/sklearn/cluster/_kmeans.py:870: FutureWarning: The default value of `n_init` will change from 10 to 'auto' in 1.4. Set the value of `n_init` explicitly to suppress the warning\n",
            "  warnings.warn(\n"
          ]
        },
        {
          "output_type": "stream",
          "name": "stdout",
          "text": [
            "[CV] END ..............................kmeans__n_clusters=86; total time=   0.7s\n"
          ]
        },
        {
          "output_type": "stream",
          "name": "stderr",
          "text": [
            "/usr/local/lib/python3.9/dist-packages/sklearn/linear_model/_logistic.py:458: ConvergenceWarning: lbfgs failed to converge (status=1):\n",
            "STOP: TOTAL NO. of ITERATIONS REACHED LIMIT.\n",
            "\n",
            "Increase the number of iterations (max_iter) or scale the data as shown in:\n",
            "    https://scikit-learn.org/stable/modules/preprocessing.html\n",
            "Please also refer to the documentation for alternative solver options:\n",
            "    https://scikit-learn.org/stable/modules/linear_model.html#logistic-regression\n",
            "  n_iter_i = _check_optimize_result(\n",
            "/usr/local/lib/python3.9/dist-packages/sklearn/cluster/_kmeans.py:870: FutureWarning: The default value of `n_init` will change from 10 to 'auto' in 1.4. Set the value of `n_init` explicitly to suppress the warning\n",
            "  warnings.warn(\n"
          ]
        },
        {
          "output_type": "stream",
          "name": "stdout",
          "text": [
            "[CV] END ..............................kmeans__n_clusters=87; total time=   0.7s\n"
          ]
        },
        {
          "output_type": "stream",
          "name": "stderr",
          "text": [
            "/usr/local/lib/python3.9/dist-packages/sklearn/linear_model/_logistic.py:458: ConvergenceWarning: lbfgs failed to converge (status=1):\n",
            "STOP: TOTAL NO. of ITERATIONS REACHED LIMIT.\n",
            "\n",
            "Increase the number of iterations (max_iter) or scale the data as shown in:\n",
            "    https://scikit-learn.org/stable/modules/preprocessing.html\n",
            "Please also refer to the documentation for alternative solver options:\n",
            "    https://scikit-learn.org/stable/modules/linear_model.html#logistic-regression\n",
            "  n_iter_i = _check_optimize_result(\n",
            "/usr/local/lib/python3.9/dist-packages/sklearn/cluster/_kmeans.py:870: FutureWarning: The default value of `n_init` will change from 10 to 'auto' in 1.4. Set the value of `n_init` explicitly to suppress the warning\n",
            "  warnings.warn(\n"
          ]
        },
        {
          "output_type": "stream",
          "name": "stdout",
          "text": [
            "[CV] END ..............................kmeans__n_clusters=87; total time=   2.0s\n"
          ]
        },
        {
          "output_type": "stream",
          "name": "stderr",
          "text": [
            "/usr/local/lib/python3.9/dist-packages/sklearn/linear_model/_logistic.py:458: ConvergenceWarning: lbfgs failed to converge (status=1):\n",
            "STOP: TOTAL NO. of ITERATIONS REACHED LIMIT.\n",
            "\n",
            "Increase the number of iterations (max_iter) or scale the data as shown in:\n",
            "    https://scikit-learn.org/stable/modules/preprocessing.html\n",
            "Please also refer to the documentation for alternative solver options:\n",
            "    https://scikit-learn.org/stable/modules/linear_model.html#logistic-regression\n",
            "  n_iter_i = _check_optimize_result(\n",
            "/usr/local/lib/python3.9/dist-packages/sklearn/cluster/_kmeans.py:870: FutureWarning: The default value of `n_init` will change from 10 to 'auto' in 1.4. Set the value of `n_init` explicitly to suppress the warning\n",
            "  warnings.warn(\n"
          ]
        },
        {
          "output_type": "stream",
          "name": "stdout",
          "text": [
            "[CV] END ..............................kmeans__n_clusters=87; total time=   1.3s\n"
          ]
        },
        {
          "output_type": "stream",
          "name": "stderr",
          "text": [
            "/usr/local/lib/python3.9/dist-packages/sklearn/linear_model/_logistic.py:458: ConvergenceWarning: lbfgs failed to converge (status=1):\n",
            "STOP: TOTAL NO. of ITERATIONS REACHED LIMIT.\n",
            "\n",
            "Increase the number of iterations (max_iter) or scale the data as shown in:\n",
            "    https://scikit-learn.org/stable/modules/preprocessing.html\n",
            "Please also refer to the documentation for alternative solver options:\n",
            "    https://scikit-learn.org/stable/modules/linear_model.html#logistic-regression\n",
            "  n_iter_i = _check_optimize_result(\n",
            "/usr/local/lib/python3.9/dist-packages/sklearn/cluster/_kmeans.py:870: FutureWarning: The default value of `n_init` will change from 10 to 'auto' in 1.4. Set the value of `n_init` explicitly to suppress the warning\n",
            "  warnings.warn(\n"
          ]
        },
        {
          "output_type": "stream",
          "name": "stdout",
          "text": [
            "[CV] END ..............................kmeans__n_clusters=88; total time=   0.7s\n"
          ]
        },
        {
          "output_type": "stream",
          "name": "stderr",
          "text": [
            "/usr/local/lib/python3.9/dist-packages/sklearn/linear_model/_logistic.py:458: ConvergenceWarning: lbfgs failed to converge (status=1):\n",
            "STOP: TOTAL NO. of ITERATIONS REACHED LIMIT.\n",
            "\n",
            "Increase the number of iterations (max_iter) or scale the data as shown in:\n",
            "    https://scikit-learn.org/stable/modules/preprocessing.html\n",
            "Please also refer to the documentation for alternative solver options:\n",
            "    https://scikit-learn.org/stable/modules/linear_model.html#logistic-regression\n",
            "  n_iter_i = _check_optimize_result(\n",
            "/usr/local/lib/python3.9/dist-packages/sklearn/cluster/_kmeans.py:870: FutureWarning: The default value of `n_init` will change from 10 to 'auto' in 1.4. Set the value of `n_init` explicitly to suppress the warning\n",
            "  warnings.warn(\n"
          ]
        },
        {
          "output_type": "stream",
          "name": "stdout",
          "text": [
            "[CV] END ..............................kmeans__n_clusters=88; total time=   0.7s\n"
          ]
        },
        {
          "output_type": "stream",
          "name": "stderr",
          "text": [
            "/usr/local/lib/python3.9/dist-packages/sklearn/linear_model/_logistic.py:458: ConvergenceWarning: lbfgs failed to converge (status=1):\n",
            "STOP: TOTAL NO. of ITERATIONS REACHED LIMIT.\n",
            "\n",
            "Increase the number of iterations (max_iter) or scale the data as shown in:\n",
            "    https://scikit-learn.org/stable/modules/preprocessing.html\n",
            "Please also refer to the documentation for alternative solver options:\n",
            "    https://scikit-learn.org/stable/modules/linear_model.html#logistic-regression\n",
            "  n_iter_i = _check_optimize_result(\n",
            "/usr/local/lib/python3.9/dist-packages/sklearn/cluster/_kmeans.py:870: FutureWarning: The default value of `n_init` will change from 10 to 'auto' in 1.4. Set the value of `n_init` explicitly to suppress the warning\n",
            "  warnings.warn(\n"
          ]
        },
        {
          "output_type": "stream",
          "name": "stdout",
          "text": [
            "[CV] END ..............................kmeans__n_clusters=88; total time=   0.8s\n"
          ]
        },
        {
          "output_type": "stream",
          "name": "stderr",
          "text": [
            "/usr/local/lib/python3.9/dist-packages/sklearn/linear_model/_logistic.py:458: ConvergenceWarning: lbfgs failed to converge (status=1):\n",
            "STOP: TOTAL NO. of ITERATIONS REACHED LIMIT.\n",
            "\n",
            "Increase the number of iterations (max_iter) or scale the data as shown in:\n",
            "    https://scikit-learn.org/stable/modules/preprocessing.html\n",
            "Please also refer to the documentation for alternative solver options:\n",
            "    https://scikit-learn.org/stable/modules/linear_model.html#logistic-regression\n",
            "  n_iter_i = _check_optimize_result(\n",
            "/usr/local/lib/python3.9/dist-packages/sklearn/cluster/_kmeans.py:870: FutureWarning: The default value of `n_init` will change from 10 to 'auto' in 1.4. Set the value of `n_init` explicitly to suppress the warning\n",
            "  warnings.warn(\n"
          ]
        },
        {
          "output_type": "stream",
          "name": "stdout",
          "text": [
            "[CV] END ..............................kmeans__n_clusters=89; total time=   0.8s\n"
          ]
        },
        {
          "output_type": "stream",
          "name": "stderr",
          "text": [
            "/usr/local/lib/python3.9/dist-packages/sklearn/linear_model/_logistic.py:458: ConvergenceWarning: lbfgs failed to converge (status=1):\n",
            "STOP: TOTAL NO. of ITERATIONS REACHED LIMIT.\n",
            "\n",
            "Increase the number of iterations (max_iter) or scale the data as shown in:\n",
            "    https://scikit-learn.org/stable/modules/preprocessing.html\n",
            "Please also refer to the documentation for alternative solver options:\n",
            "    https://scikit-learn.org/stable/modules/linear_model.html#logistic-regression\n",
            "  n_iter_i = _check_optimize_result(\n",
            "/usr/local/lib/python3.9/dist-packages/sklearn/cluster/_kmeans.py:870: FutureWarning: The default value of `n_init` will change from 10 to 'auto' in 1.4. Set the value of `n_init` explicitly to suppress the warning\n",
            "  warnings.warn(\n"
          ]
        },
        {
          "output_type": "stream",
          "name": "stdout",
          "text": [
            "[CV] END ..............................kmeans__n_clusters=89; total time=   0.8s\n"
          ]
        },
        {
          "output_type": "stream",
          "name": "stderr",
          "text": [
            "/usr/local/lib/python3.9/dist-packages/sklearn/linear_model/_logistic.py:458: ConvergenceWarning: lbfgs failed to converge (status=1):\n",
            "STOP: TOTAL NO. of ITERATIONS REACHED LIMIT.\n",
            "\n",
            "Increase the number of iterations (max_iter) or scale the data as shown in:\n",
            "    https://scikit-learn.org/stable/modules/preprocessing.html\n",
            "Please also refer to the documentation for alternative solver options:\n",
            "    https://scikit-learn.org/stable/modules/linear_model.html#logistic-regression\n",
            "  n_iter_i = _check_optimize_result(\n",
            "/usr/local/lib/python3.9/dist-packages/sklearn/cluster/_kmeans.py:870: FutureWarning: The default value of `n_init` will change from 10 to 'auto' in 1.4. Set the value of `n_init` explicitly to suppress the warning\n",
            "  warnings.warn(\n"
          ]
        },
        {
          "output_type": "stream",
          "name": "stdout",
          "text": [
            "[CV] END ..............................kmeans__n_clusters=89; total time=   0.7s\n"
          ]
        },
        {
          "output_type": "stream",
          "name": "stderr",
          "text": [
            "/usr/local/lib/python3.9/dist-packages/sklearn/linear_model/_logistic.py:458: ConvergenceWarning: lbfgs failed to converge (status=1):\n",
            "STOP: TOTAL NO. of ITERATIONS REACHED LIMIT.\n",
            "\n",
            "Increase the number of iterations (max_iter) or scale the data as shown in:\n",
            "    https://scikit-learn.org/stable/modules/preprocessing.html\n",
            "Please also refer to the documentation for alternative solver options:\n",
            "    https://scikit-learn.org/stable/modules/linear_model.html#logistic-regression\n",
            "  n_iter_i = _check_optimize_result(\n",
            "/usr/local/lib/python3.9/dist-packages/sklearn/cluster/_kmeans.py:870: FutureWarning: The default value of `n_init` will change from 10 to 'auto' in 1.4. Set the value of `n_init` explicitly to suppress the warning\n",
            "  warnings.warn(\n"
          ]
        },
        {
          "output_type": "stream",
          "name": "stdout",
          "text": [
            "[CV] END ..............................kmeans__n_clusters=90; total time=   0.7s\n"
          ]
        },
        {
          "output_type": "stream",
          "name": "stderr",
          "text": [
            "/usr/local/lib/python3.9/dist-packages/sklearn/linear_model/_logistic.py:458: ConvergenceWarning: lbfgs failed to converge (status=1):\n",
            "STOP: TOTAL NO. of ITERATIONS REACHED LIMIT.\n",
            "\n",
            "Increase the number of iterations (max_iter) or scale the data as shown in:\n",
            "    https://scikit-learn.org/stable/modules/preprocessing.html\n",
            "Please also refer to the documentation for alternative solver options:\n",
            "    https://scikit-learn.org/stable/modules/linear_model.html#logistic-regression\n",
            "  n_iter_i = _check_optimize_result(\n",
            "/usr/local/lib/python3.9/dist-packages/sklearn/cluster/_kmeans.py:870: FutureWarning: The default value of `n_init` will change from 10 to 'auto' in 1.4. Set the value of `n_init` explicitly to suppress the warning\n",
            "  warnings.warn(\n"
          ]
        },
        {
          "output_type": "stream",
          "name": "stdout",
          "text": [
            "[CV] END ..............................kmeans__n_clusters=90; total time=   0.6s\n"
          ]
        },
        {
          "output_type": "stream",
          "name": "stderr",
          "text": [
            "/usr/local/lib/python3.9/dist-packages/sklearn/linear_model/_logistic.py:458: ConvergenceWarning: lbfgs failed to converge (status=1):\n",
            "STOP: TOTAL NO. of ITERATIONS REACHED LIMIT.\n",
            "\n",
            "Increase the number of iterations (max_iter) or scale the data as shown in:\n",
            "    https://scikit-learn.org/stable/modules/preprocessing.html\n",
            "Please also refer to the documentation for alternative solver options:\n",
            "    https://scikit-learn.org/stable/modules/linear_model.html#logistic-regression\n",
            "  n_iter_i = _check_optimize_result(\n",
            "/usr/local/lib/python3.9/dist-packages/sklearn/cluster/_kmeans.py:870: FutureWarning: The default value of `n_init` will change from 10 to 'auto' in 1.4. Set the value of `n_init` explicitly to suppress the warning\n",
            "  warnings.warn(\n"
          ]
        },
        {
          "output_type": "stream",
          "name": "stdout",
          "text": [
            "[CV] END ..............................kmeans__n_clusters=90; total time=   0.7s\n"
          ]
        },
        {
          "output_type": "stream",
          "name": "stderr",
          "text": [
            "/usr/local/lib/python3.9/dist-packages/sklearn/linear_model/_logistic.py:458: ConvergenceWarning: lbfgs failed to converge (status=1):\n",
            "STOP: TOTAL NO. of ITERATIONS REACHED LIMIT.\n",
            "\n",
            "Increase the number of iterations (max_iter) or scale the data as shown in:\n",
            "    https://scikit-learn.org/stable/modules/preprocessing.html\n",
            "Please also refer to the documentation for alternative solver options:\n",
            "    https://scikit-learn.org/stable/modules/linear_model.html#logistic-regression\n",
            "  n_iter_i = _check_optimize_result(\n",
            "/usr/local/lib/python3.9/dist-packages/sklearn/cluster/_kmeans.py:870: FutureWarning: The default value of `n_init` will change from 10 to 'auto' in 1.4. Set the value of `n_init` explicitly to suppress the warning\n",
            "  warnings.warn(\n"
          ]
        },
        {
          "output_type": "stream",
          "name": "stdout",
          "text": [
            "[CV] END ..............................kmeans__n_clusters=91; total time=   0.7s\n"
          ]
        },
        {
          "output_type": "stream",
          "name": "stderr",
          "text": [
            "/usr/local/lib/python3.9/dist-packages/sklearn/linear_model/_logistic.py:458: ConvergenceWarning: lbfgs failed to converge (status=1):\n",
            "STOP: TOTAL NO. of ITERATIONS REACHED LIMIT.\n",
            "\n",
            "Increase the number of iterations (max_iter) or scale the data as shown in:\n",
            "    https://scikit-learn.org/stable/modules/preprocessing.html\n",
            "Please also refer to the documentation for alternative solver options:\n",
            "    https://scikit-learn.org/stable/modules/linear_model.html#logistic-regression\n",
            "  n_iter_i = _check_optimize_result(\n",
            "/usr/local/lib/python3.9/dist-packages/sklearn/cluster/_kmeans.py:870: FutureWarning: The default value of `n_init` will change from 10 to 'auto' in 1.4. Set the value of `n_init` explicitly to suppress the warning\n",
            "  warnings.warn(\n"
          ]
        },
        {
          "output_type": "stream",
          "name": "stdout",
          "text": [
            "[CV] END ..............................kmeans__n_clusters=91; total time=   0.8s\n"
          ]
        },
        {
          "output_type": "stream",
          "name": "stderr",
          "text": [
            "/usr/local/lib/python3.9/dist-packages/sklearn/linear_model/_logistic.py:458: ConvergenceWarning: lbfgs failed to converge (status=1):\n",
            "STOP: TOTAL NO. of ITERATIONS REACHED LIMIT.\n",
            "\n",
            "Increase the number of iterations (max_iter) or scale the data as shown in:\n",
            "    https://scikit-learn.org/stable/modules/preprocessing.html\n",
            "Please also refer to the documentation for alternative solver options:\n",
            "    https://scikit-learn.org/stable/modules/linear_model.html#logistic-regression\n",
            "  n_iter_i = _check_optimize_result(\n",
            "/usr/local/lib/python3.9/dist-packages/sklearn/cluster/_kmeans.py:870: FutureWarning: The default value of `n_init` will change from 10 to 'auto' in 1.4. Set the value of `n_init` explicitly to suppress the warning\n",
            "  warnings.warn(\n"
          ]
        },
        {
          "output_type": "stream",
          "name": "stdout",
          "text": [
            "[CV] END ..............................kmeans__n_clusters=91; total time=   0.8s\n"
          ]
        },
        {
          "output_type": "stream",
          "name": "stderr",
          "text": [
            "/usr/local/lib/python3.9/dist-packages/sklearn/linear_model/_logistic.py:458: ConvergenceWarning: lbfgs failed to converge (status=1):\n",
            "STOP: TOTAL NO. of ITERATIONS REACHED LIMIT.\n",
            "\n",
            "Increase the number of iterations (max_iter) or scale the data as shown in:\n",
            "    https://scikit-learn.org/stable/modules/preprocessing.html\n",
            "Please also refer to the documentation for alternative solver options:\n",
            "    https://scikit-learn.org/stable/modules/linear_model.html#logistic-regression\n",
            "  n_iter_i = _check_optimize_result(\n",
            "/usr/local/lib/python3.9/dist-packages/sklearn/cluster/_kmeans.py:870: FutureWarning: The default value of `n_init` will change from 10 to 'auto' in 1.4. Set the value of `n_init` explicitly to suppress the warning\n",
            "  warnings.warn(\n"
          ]
        },
        {
          "output_type": "stream",
          "name": "stdout",
          "text": [
            "[CV] END ..............................kmeans__n_clusters=92; total time=   1.0s\n"
          ]
        },
        {
          "output_type": "stream",
          "name": "stderr",
          "text": [
            "/usr/local/lib/python3.9/dist-packages/sklearn/linear_model/_logistic.py:458: ConvergenceWarning: lbfgs failed to converge (status=1):\n",
            "STOP: TOTAL NO. of ITERATIONS REACHED LIMIT.\n",
            "\n",
            "Increase the number of iterations (max_iter) or scale the data as shown in:\n",
            "    https://scikit-learn.org/stable/modules/preprocessing.html\n",
            "Please also refer to the documentation for alternative solver options:\n",
            "    https://scikit-learn.org/stable/modules/linear_model.html#logistic-regression\n",
            "  n_iter_i = _check_optimize_result(\n",
            "/usr/local/lib/python3.9/dist-packages/sklearn/cluster/_kmeans.py:870: FutureWarning: The default value of `n_init` will change from 10 to 'auto' in 1.4. Set the value of `n_init` explicitly to suppress the warning\n",
            "  warnings.warn(\n"
          ]
        },
        {
          "output_type": "stream",
          "name": "stdout",
          "text": [
            "[CV] END ..............................kmeans__n_clusters=92; total time=   2.4s\n"
          ]
        },
        {
          "output_type": "stream",
          "name": "stderr",
          "text": [
            "/usr/local/lib/python3.9/dist-packages/sklearn/linear_model/_logistic.py:458: ConvergenceWarning: lbfgs failed to converge (status=1):\n",
            "STOP: TOTAL NO. of ITERATIONS REACHED LIMIT.\n",
            "\n",
            "Increase the number of iterations (max_iter) or scale the data as shown in:\n",
            "    https://scikit-learn.org/stable/modules/preprocessing.html\n",
            "Please also refer to the documentation for alternative solver options:\n",
            "    https://scikit-learn.org/stable/modules/linear_model.html#logistic-regression\n",
            "  n_iter_i = _check_optimize_result(\n",
            "/usr/local/lib/python3.9/dist-packages/sklearn/cluster/_kmeans.py:870: FutureWarning: The default value of `n_init` will change from 10 to 'auto' in 1.4. Set the value of `n_init` explicitly to suppress the warning\n",
            "  warnings.warn(\n"
          ]
        },
        {
          "output_type": "stream",
          "name": "stdout",
          "text": [
            "[CV] END ..............................kmeans__n_clusters=92; total time=   0.8s\n"
          ]
        },
        {
          "output_type": "stream",
          "name": "stderr",
          "text": [
            "/usr/local/lib/python3.9/dist-packages/sklearn/linear_model/_logistic.py:458: ConvergenceWarning: lbfgs failed to converge (status=1):\n",
            "STOP: TOTAL NO. of ITERATIONS REACHED LIMIT.\n",
            "\n",
            "Increase the number of iterations (max_iter) or scale the data as shown in:\n",
            "    https://scikit-learn.org/stable/modules/preprocessing.html\n",
            "Please also refer to the documentation for alternative solver options:\n",
            "    https://scikit-learn.org/stable/modules/linear_model.html#logistic-regression\n",
            "  n_iter_i = _check_optimize_result(\n",
            "/usr/local/lib/python3.9/dist-packages/sklearn/cluster/_kmeans.py:870: FutureWarning: The default value of `n_init` will change from 10 to 'auto' in 1.4. Set the value of `n_init` explicitly to suppress the warning\n",
            "  warnings.warn(\n"
          ]
        },
        {
          "output_type": "stream",
          "name": "stdout",
          "text": [
            "[CV] END ..............................kmeans__n_clusters=93; total time=   0.8s\n"
          ]
        },
        {
          "output_type": "stream",
          "name": "stderr",
          "text": [
            "/usr/local/lib/python3.9/dist-packages/sklearn/linear_model/_logistic.py:458: ConvergenceWarning: lbfgs failed to converge (status=1):\n",
            "STOP: TOTAL NO. of ITERATIONS REACHED LIMIT.\n",
            "\n",
            "Increase the number of iterations (max_iter) or scale the data as shown in:\n",
            "    https://scikit-learn.org/stable/modules/preprocessing.html\n",
            "Please also refer to the documentation for alternative solver options:\n",
            "    https://scikit-learn.org/stable/modules/linear_model.html#logistic-regression\n",
            "  n_iter_i = _check_optimize_result(\n",
            "/usr/local/lib/python3.9/dist-packages/sklearn/cluster/_kmeans.py:870: FutureWarning: The default value of `n_init` will change from 10 to 'auto' in 1.4. Set the value of `n_init` explicitly to suppress the warning\n",
            "  warnings.warn(\n"
          ]
        },
        {
          "output_type": "stream",
          "name": "stdout",
          "text": [
            "[CV] END ..............................kmeans__n_clusters=93; total time=   0.8s\n"
          ]
        },
        {
          "output_type": "stream",
          "name": "stderr",
          "text": [
            "/usr/local/lib/python3.9/dist-packages/sklearn/linear_model/_logistic.py:458: ConvergenceWarning: lbfgs failed to converge (status=1):\n",
            "STOP: TOTAL NO. of ITERATIONS REACHED LIMIT.\n",
            "\n",
            "Increase the number of iterations (max_iter) or scale the data as shown in:\n",
            "    https://scikit-learn.org/stable/modules/preprocessing.html\n",
            "Please also refer to the documentation for alternative solver options:\n",
            "    https://scikit-learn.org/stable/modules/linear_model.html#logistic-regression\n",
            "  n_iter_i = _check_optimize_result(\n",
            "/usr/local/lib/python3.9/dist-packages/sklearn/cluster/_kmeans.py:870: FutureWarning: The default value of `n_init` will change from 10 to 'auto' in 1.4. Set the value of `n_init` explicitly to suppress the warning\n",
            "  warnings.warn(\n"
          ]
        },
        {
          "output_type": "stream",
          "name": "stdout",
          "text": [
            "[CV] END ..............................kmeans__n_clusters=93; total time=   0.8s\n"
          ]
        },
        {
          "output_type": "stream",
          "name": "stderr",
          "text": [
            "/usr/local/lib/python3.9/dist-packages/sklearn/linear_model/_logistic.py:458: ConvergenceWarning: lbfgs failed to converge (status=1):\n",
            "STOP: TOTAL NO. of ITERATIONS REACHED LIMIT.\n",
            "\n",
            "Increase the number of iterations (max_iter) or scale the data as shown in:\n",
            "    https://scikit-learn.org/stable/modules/preprocessing.html\n",
            "Please also refer to the documentation for alternative solver options:\n",
            "    https://scikit-learn.org/stable/modules/linear_model.html#logistic-regression\n",
            "  n_iter_i = _check_optimize_result(\n",
            "/usr/local/lib/python3.9/dist-packages/sklearn/cluster/_kmeans.py:870: FutureWarning: The default value of `n_init` will change from 10 to 'auto' in 1.4. Set the value of `n_init` explicitly to suppress the warning\n",
            "  warnings.warn(\n"
          ]
        },
        {
          "output_type": "stream",
          "name": "stdout",
          "text": [
            "[CV] END ..............................kmeans__n_clusters=94; total time=   0.7s\n"
          ]
        },
        {
          "output_type": "stream",
          "name": "stderr",
          "text": [
            "/usr/local/lib/python3.9/dist-packages/sklearn/linear_model/_logistic.py:458: ConvergenceWarning: lbfgs failed to converge (status=1):\n",
            "STOP: TOTAL NO. of ITERATIONS REACHED LIMIT.\n",
            "\n",
            "Increase the number of iterations (max_iter) or scale the data as shown in:\n",
            "    https://scikit-learn.org/stable/modules/preprocessing.html\n",
            "Please also refer to the documentation for alternative solver options:\n",
            "    https://scikit-learn.org/stable/modules/linear_model.html#logistic-regression\n",
            "  n_iter_i = _check_optimize_result(\n",
            "/usr/local/lib/python3.9/dist-packages/sklearn/cluster/_kmeans.py:870: FutureWarning: The default value of `n_init` will change from 10 to 'auto' in 1.4. Set the value of `n_init` explicitly to suppress the warning\n",
            "  warnings.warn(\n"
          ]
        },
        {
          "output_type": "stream",
          "name": "stdout",
          "text": [
            "[CV] END ..............................kmeans__n_clusters=94; total time=   0.8s\n"
          ]
        },
        {
          "output_type": "stream",
          "name": "stderr",
          "text": [
            "/usr/local/lib/python3.9/dist-packages/sklearn/linear_model/_logistic.py:458: ConvergenceWarning: lbfgs failed to converge (status=1):\n",
            "STOP: TOTAL NO. of ITERATIONS REACHED LIMIT.\n",
            "\n",
            "Increase the number of iterations (max_iter) or scale the data as shown in:\n",
            "    https://scikit-learn.org/stable/modules/preprocessing.html\n",
            "Please also refer to the documentation for alternative solver options:\n",
            "    https://scikit-learn.org/stable/modules/linear_model.html#logistic-regression\n",
            "  n_iter_i = _check_optimize_result(\n",
            "/usr/local/lib/python3.9/dist-packages/sklearn/cluster/_kmeans.py:870: FutureWarning: The default value of `n_init` will change from 10 to 'auto' in 1.4. Set the value of `n_init` explicitly to suppress the warning\n",
            "  warnings.warn(\n"
          ]
        },
        {
          "output_type": "stream",
          "name": "stdout",
          "text": [
            "[CV] END ..............................kmeans__n_clusters=94; total time=   0.9s\n"
          ]
        },
        {
          "output_type": "stream",
          "name": "stderr",
          "text": [
            "/usr/local/lib/python3.9/dist-packages/sklearn/linear_model/_logistic.py:458: ConvergenceWarning: lbfgs failed to converge (status=1):\n",
            "STOP: TOTAL NO. of ITERATIONS REACHED LIMIT.\n",
            "\n",
            "Increase the number of iterations (max_iter) or scale the data as shown in:\n",
            "    https://scikit-learn.org/stable/modules/preprocessing.html\n",
            "Please also refer to the documentation for alternative solver options:\n",
            "    https://scikit-learn.org/stable/modules/linear_model.html#logistic-regression\n",
            "  n_iter_i = _check_optimize_result(\n",
            "/usr/local/lib/python3.9/dist-packages/sklearn/cluster/_kmeans.py:870: FutureWarning: The default value of `n_init` will change from 10 to 'auto' in 1.4. Set the value of `n_init` explicitly to suppress the warning\n",
            "  warnings.warn(\n"
          ]
        },
        {
          "output_type": "stream",
          "name": "stdout",
          "text": [
            "[CV] END ..............................kmeans__n_clusters=95; total time=   1.0s\n"
          ]
        },
        {
          "output_type": "stream",
          "name": "stderr",
          "text": [
            "/usr/local/lib/python3.9/dist-packages/sklearn/linear_model/_logistic.py:458: ConvergenceWarning: lbfgs failed to converge (status=1):\n",
            "STOP: TOTAL NO. of ITERATIONS REACHED LIMIT.\n",
            "\n",
            "Increase the number of iterations (max_iter) or scale the data as shown in:\n",
            "    https://scikit-learn.org/stable/modules/preprocessing.html\n",
            "Please also refer to the documentation for alternative solver options:\n",
            "    https://scikit-learn.org/stable/modules/linear_model.html#logistic-regression\n",
            "  n_iter_i = _check_optimize_result(\n",
            "/usr/local/lib/python3.9/dist-packages/sklearn/cluster/_kmeans.py:870: FutureWarning: The default value of `n_init` will change from 10 to 'auto' in 1.4. Set the value of `n_init` explicitly to suppress the warning\n",
            "  warnings.warn(\n"
          ]
        },
        {
          "output_type": "stream",
          "name": "stdout",
          "text": [
            "[CV] END ..............................kmeans__n_clusters=95; total time=   0.7s\n"
          ]
        },
        {
          "output_type": "stream",
          "name": "stderr",
          "text": [
            "/usr/local/lib/python3.9/dist-packages/sklearn/linear_model/_logistic.py:458: ConvergenceWarning: lbfgs failed to converge (status=1):\n",
            "STOP: TOTAL NO. of ITERATIONS REACHED LIMIT.\n",
            "\n",
            "Increase the number of iterations (max_iter) or scale the data as shown in:\n",
            "    https://scikit-learn.org/stable/modules/preprocessing.html\n",
            "Please also refer to the documentation for alternative solver options:\n",
            "    https://scikit-learn.org/stable/modules/linear_model.html#logistic-regression\n",
            "  n_iter_i = _check_optimize_result(\n",
            "/usr/local/lib/python3.9/dist-packages/sklearn/cluster/_kmeans.py:870: FutureWarning: The default value of `n_init` will change from 10 to 'auto' in 1.4. Set the value of `n_init` explicitly to suppress the warning\n",
            "  warnings.warn(\n"
          ]
        },
        {
          "output_type": "stream",
          "name": "stdout",
          "text": [
            "[CV] END ..............................kmeans__n_clusters=95; total time=   0.8s\n"
          ]
        },
        {
          "output_type": "stream",
          "name": "stderr",
          "text": [
            "/usr/local/lib/python3.9/dist-packages/sklearn/linear_model/_logistic.py:458: ConvergenceWarning: lbfgs failed to converge (status=1):\n",
            "STOP: TOTAL NO. of ITERATIONS REACHED LIMIT.\n",
            "\n",
            "Increase the number of iterations (max_iter) or scale the data as shown in:\n",
            "    https://scikit-learn.org/stable/modules/preprocessing.html\n",
            "Please also refer to the documentation for alternative solver options:\n",
            "    https://scikit-learn.org/stable/modules/linear_model.html#logistic-regression\n",
            "  n_iter_i = _check_optimize_result(\n",
            "/usr/local/lib/python3.9/dist-packages/sklearn/cluster/_kmeans.py:870: FutureWarning: The default value of `n_init` will change from 10 to 'auto' in 1.4. Set the value of `n_init` explicitly to suppress the warning\n",
            "  warnings.warn(\n"
          ]
        },
        {
          "output_type": "stream",
          "name": "stdout",
          "text": [
            "[CV] END ..............................kmeans__n_clusters=96; total time=   0.7s\n"
          ]
        },
        {
          "output_type": "stream",
          "name": "stderr",
          "text": [
            "/usr/local/lib/python3.9/dist-packages/sklearn/linear_model/_logistic.py:458: ConvergenceWarning: lbfgs failed to converge (status=1):\n",
            "STOP: TOTAL NO. of ITERATIONS REACHED LIMIT.\n",
            "\n",
            "Increase the number of iterations (max_iter) or scale the data as shown in:\n",
            "    https://scikit-learn.org/stable/modules/preprocessing.html\n",
            "Please also refer to the documentation for alternative solver options:\n",
            "    https://scikit-learn.org/stable/modules/linear_model.html#logistic-regression\n",
            "  n_iter_i = _check_optimize_result(\n",
            "/usr/local/lib/python3.9/dist-packages/sklearn/cluster/_kmeans.py:870: FutureWarning: The default value of `n_init` will change from 10 to 'auto' in 1.4. Set the value of `n_init` explicitly to suppress the warning\n",
            "  warnings.warn(\n"
          ]
        },
        {
          "output_type": "stream",
          "name": "stdout",
          "text": [
            "[CV] END ..............................kmeans__n_clusters=96; total time=   0.8s\n"
          ]
        },
        {
          "output_type": "stream",
          "name": "stderr",
          "text": [
            "/usr/local/lib/python3.9/dist-packages/sklearn/linear_model/_logistic.py:458: ConvergenceWarning: lbfgs failed to converge (status=1):\n",
            "STOP: TOTAL NO. of ITERATIONS REACHED LIMIT.\n",
            "\n",
            "Increase the number of iterations (max_iter) or scale the data as shown in:\n",
            "    https://scikit-learn.org/stable/modules/preprocessing.html\n",
            "Please also refer to the documentation for alternative solver options:\n",
            "    https://scikit-learn.org/stable/modules/linear_model.html#logistic-regression\n",
            "  n_iter_i = _check_optimize_result(\n",
            "/usr/local/lib/python3.9/dist-packages/sklearn/cluster/_kmeans.py:870: FutureWarning: The default value of `n_init` will change from 10 to 'auto' in 1.4. Set the value of `n_init` explicitly to suppress the warning\n",
            "  warnings.warn(\n"
          ]
        },
        {
          "output_type": "stream",
          "name": "stdout",
          "text": [
            "[CV] END ..............................kmeans__n_clusters=96; total time=   1.4s\n"
          ]
        },
        {
          "output_type": "stream",
          "name": "stderr",
          "text": [
            "/usr/local/lib/python3.9/dist-packages/sklearn/linear_model/_logistic.py:458: ConvergenceWarning: lbfgs failed to converge (status=1):\n",
            "STOP: TOTAL NO. of ITERATIONS REACHED LIMIT.\n",
            "\n",
            "Increase the number of iterations (max_iter) or scale the data as shown in:\n",
            "    https://scikit-learn.org/stable/modules/preprocessing.html\n",
            "Please also refer to the documentation for alternative solver options:\n",
            "    https://scikit-learn.org/stable/modules/linear_model.html#logistic-regression\n",
            "  n_iter_i = _check_optimize_result(\n",
            "/usr/local/lib/python3.9/dist-packages/sklearn/cluster/_kmeans.py:870: FutureWarning: The default value of `n_init` will change from 10 to 'auto' in 1.4. Set the value of `n_init` explicitly to suppress the warning\n",
            "  warnings.warn(\n"
          ]
        },
        {
          "output_type": "stream",
          "name": "stdout",
          "text": [
            "[CV] END ..............................kmeans__n_clusters=97; total time=   2.0s\n"
          ]
        },
        {
          "output_type": "stream",
          "name": "stderr",
          "text": [
            "/usr/local/lib/python3.9/dist-packages/sklearn/linear_model/_logistic.py:458: ConvergenceWarning: lbfgs failed to converge (status=1):\n",
            "STOP: TOTAL NO. of ITERATIONS REACHED LIMIT.\n",
            "\n",
            "Increase the number of iterations (max_iter) or scale the data as shown in:\n",
            "    https://scikit-learn.org/stable/modules/preprocessing.html\n",
            "Please also refer to the documentation for alternative solver options:\n",
            "    https://scikit-learn.org/stable/modules/linear_model.html#logistic-regression\n",
            "  n_iter_i = _check_optimize_result(\n",
            "/usr/local/lib/python3.9/dist-packages/sklearn/cluster/_kmeans.py:870: FutureWarning: The default value of `n_init` will change from 10 to 'auto' in 1.4. Set the value of `n_init` explicitly to suppress the warning\n",
            "  warnings.warn(\n"
          ]
        },
        {
          "output_type": "stream",
          "name": "stdout",
          "text": [
            "[CV] END ..............................kmeans__n_clusters=97; total time=   0.7s\n"
          ]
        },
        {
          "output_type": "stream",
          "name": "stderr",
          "text": [
            "/usr/local/lib/python3.9/dist-packages/sklearn/linear_model/_logistic.py:458: ConvergenceWarning: lbfgs failed to converge (status=1):\n",
            "STOP: TOTAL NO. of ITERATIONS REACHED LIMIT.\n",
            "\n",
            "Increase the number of iterations (max_iter) or scale the data as shown in:\n",
            "    https://scikit-learn.org/stable/modules/preprocessing.html\n",
            "Please also refer to the documentation for alternative solver options:\n",
            "    https://scikit-learn.org/stable/modules/linear_model.html#logistic-regression\n",
            "  n_iter_i = _check_optimize_result(\n",
            "/usr/local/lib/python3.9/dist-packages/sklearn/cluster/_kmeans.py:870: FutureWarning: The default value of `n_init` will change from 10 to 'auto' in 1.4. Set the value of `n_init` explicitly to suppress the warning\n",
            "  warnings.warn(\n"
          ]
        },
        {
          "output_type": "stream",
          "name": "stdout",
          "text": [
            "[CV] END ..............................kmeans__n_clusters=97; total time=   0.7s\n"
          ]
        },
        {
          "output_type": "stream",
          "name": "stderr",
          "text": [
            "/usr/local/lib/python3.9/dist-packages/sklearn/linear_model/_logistic.py:458: ConvergenceWarning: lbfgs failed to converge (status=1):\n",
            "STOP: TOTAL NO. of ITERATIONS REACHED LIMIT.\n",
            "\n",
            "Increase the number of iterations (max_iter) or scale the data as shown in:\n",
            "    https://scikit-learn.org/stable/modules/preprocessing.html\n",
            "Please also refer to the documentation for alternative solver options:\n",
            "    https://scikit-learn.org/stable/modules/linear_model.html#logistic-regression\n",
            "  n_iter_i = _check_optimize_result(\n",
            "/usr/local/lib/python3.9/dist-packages/sklearn/cluster/_kmeans.py:870: FutureWarning: The default value of `n_init` will change from 10 to 'auto' in 1.4. Set the value of `n_init` explicitly to suppress the warning\n",
            "  warnings.warn(\n"
          ]
        },
        {
          "output_type": "stream",
          "name": "stdout",
          "text": [
            "[CV] END ..............................kmeans__n_clusters=98; total time=   0.7s\n"
          ]
        },
        {
          "output_type": "stream",
          "name": "stderr",
          "text": [
            "/usr/local/lib/python3.9/dist-packages/sklearn/linear_model/_logistic.py:458: ConvergenceWarning: lbfgs failed to converge (status=1):\n",
            "STOP: TOTAL NO. of ITERATIONS REACHED LIMIT.\n",
            "\n",
            "Increase the number of iterations (max_iter) or scale the data as shown in:\n",
            "    https://scikit-learn.org/stable/modules/preprocessing.html\n",
            "Please also refer to the documentation for alternative solver options:\n",
            "    https://scikit-learn.org/stable/modules/linear_model.html#logistic-regression\n",
            "  n_iter_i = _check_optimize_result(\n",
            "/usr/local/lib/python3.9/dist-packages/sklearn/cluster/_kmeans.py:870: FutureWarning: The default value of `n_init` will change from 10 to 'auto' in 1.4. Set the value of `n_init` explicitly to suppress the warning\n",
            "  warnings.warn(\n"
          ]
        },
        {
          "output_type": "stream",
          "name": "stdout",
          "text": [
            "[CV] END ..............................kmeans__n_clusters=98; total time=   0.7s\n"
          ]
        },
        {
          "output_type": "stream",
          "name": "stderr",
          "text": [
            "/usr/local/lib/python3.9/dist-packages/sklearn/linear_model/_logistic.py:458: ConvergenceWarning: lbfgs failed to converge (status=1):\n",
            "STOP: TOTAL NO. of ITERATIONS REACHED LIMIT.\n",
            "\n",
            "Increase the number of iterations (max_iter) or scale the data as shown in:\n",
            "    https://scikit-learn.org/stable/modules/preprocessing.html\n",
            "Please also refer to the documentation for alternative solver options:\n",
            "    https://scikit-learn.org/stable/modules/linear_model.html#logistic-regression\n",
            "  n_iter_i = _check_optimize_result(\n",
            "/usr/local/lib/python3.9/dist-packages/sklearn/cluster/_kmeans.py:870: FutureWarning: The default value of `n_init` will change from 10 to 'auto' in 1.4. Set the value of `n_init` explicitly to suppress the warning\n",
            "  warnings.warn(\n"
          ]
        },
        {
          "output_type": "stream",
          "name": "stdout",
          "text": [
            "[CV] END ..............................kmeans__n_clusters=98; total time=   0.7s\n"
          ]
        },
        {
          "output_type": "stream",
          "name": "stderr",
          "text": [
            "/usr/local/lib/python3.9/dist-packages/sklearn/linear_model/_logistic.py:458: ConvergenceWarning: lbfgs failed to converge (status=1):\n",
            "STOP: TOTAL NO. of ITERATIONS REACHED LIMIT.\n",
            "\n",
            "Increase the number of iterations (max_iter) or scale the data as shown in:\n",
            "    https://scikit-learn.org/stable/modules/preprocessing.html\n",
            "Please also refer to the documentation for alternative solver options:\n",
            "    https://scikit-learn.org/stable/modules/linear_model.html#logistic-regression\n",
            "  n_iter_i = _check_optimize_result(\n",
            "/usr/local/lib/python3.9/dist-packages/sklearn/cluster/_kmeans.py:870: FutureWarning: The default value of `n_init` will change from 10 to 'auto' in 1.4. Set the value of `n_init` explicitly to suppress the warning\n",
            "  warnings.warn(\n"
          ]
        },
        {
          "output_type": "stream",
          "name": "stdout",
          "text": [
            "[CV] END ..............................kmeans__n_clusters=99; total time=   0.7s\n"
          ]
        },
        {
          "output_type": "stream",
          "name": "stderr",
          "text": [
            "/usr/local/lib/python3.9/dist-packages/sklearn/linear_model/_logistic.py:458: ConvergenceWarning: lbfgs failed to converge (status=1):\n",
            "STOP: TOTAL NO. of ITERATIONS REACHED LIMIT.\n",
            "\n",
            "Increase the number of iterations (max_iter) or scale the data as shown in:\n",
            "    https://scikit-learn.org/stable/modules/preprocessing.html\n",
            "Please also refer to the documentation for alternative solver options:\n",
            "    https://scikit-learn.org/stable/modules/linear_model.html#logistic-regression\n",
            "  n_iter_i = _check_optimize_result(\n",
            "/usr/local/lib/python3.9/dist-packages/sklearn/cluster/_kmeans.py:870: FutureWarning: The default value of `n_init` will change from 10 to 'auto' in 1.4. Set the value of `n_init` explicitly to suppress the warning\n",
            "  warnings.warn(\n"
          ]
        },
        {
          "output_type": "stream",
          "name": "stdout",
          "text": [
            "[CV] END ..............................kmeans__n_clusters=99; total time=   0.9s\n"
          ]
        },
        {
          "output_type": "stream",
          "name": "stderr",
          "text": [
            "/usr/local/lib/python3.9/dist-packages/sklearn/linear_model/_logistic.py:458: ConvergenceWarning: lbfgs failed to converge (status=1):\n",
            "STOP: TOTAL NO. of ITERATIONS REACHED LIMIT.\n",
            "\n",
            "Increase the number of iterations (max_iter) or scale the data as shown in:\n",
            "    https://scikit-learn.org/stable/modules/preprocessing.html\n",
            "Please also refer to the documentation for alternative solver options:\n",
            "    https://scikit-learn.org/stable/modules/linear_model.html#logistic-regression\n",
            "  n_iter_i = _check_optimize_result(\n",
            "/usr/local/lib/python3.9/dist-packages/sklearn/cluster/_kmeans.py:870: FutureWarning: The default value of `n_init` will change from 10 to 'auto' in 1.4. Set the value of `n_init` explicitly to suppress the warning\n",
            "  warnings.warn(\n"
          ]
        },
        {
          "output_type": "stream",
          "name": "stdout",
          "text": [
            "[CV] END ..............................kmeans__n_clusters=99; total time=   0.8s\n"
          ]
        },
        {
          "output_type": "stream",
          "name": "stderr",
          "text": [
            "/usr/local/lib/python3.9/dist-packages/sklearn/linear_model/_logistic.py:458: ConvergenceWarning: lbfgs failed to converge (status=1):\n",
            "STOP: TOTAL NO. of ITERATIONS REACHED LIMIT.\n",
            "\n",
            "Increase the number of iterations (max_iter) or scale the data as shown in:\n",
            "    https://scikit-learn.org/stable/modules/preprocessing.html\n",
            "Please also refer to the documentation for alternative solver options:\n",
            "    https://scikit-learn.org/stable/modules/linear_model.html#logistic-regression\n",
            "  n_iter_i = _check_optimize_result(\n"
          ]
        },
        {
          "output_type": "execute_result",
          "data": {
            "text/plain": [
              "GridSearchCV(cv=3,\n",
              "             estimator=Pipeline(steps=[('kmeans', KMeans(n_clusters=50)),\n",
              "                                       ('log_reg', LogisticRegression())]),\n",
              "             param_grid={'kmeans__n_clusters': range(2, 100)}, verbose=2)"
            ],
            "text/html": [
              "<style>#sk-container-id-4 {color: black;background-color: white;}#sk-container-id-4 pre{padding: 0;}#sk-container-id-4 div.sk-toggleable {background-color: white;}#sk-container-id-4 label.sk-toggleable__label {cursor: pointer;display: block;width: 100%;margin-bottom: 0;padding: 0.3em;box-sizing: border-box;text-align: center;}#sk-container-id-4 label.sk-toggleable__label-arrow:before {content: \"▸\";float: left;margin-right: 0.25em;color: #696969;}#sk-container-id-4 label.sk-toggleable__label-arrow:hover:before {color: black;}#sk-container-id-4 div.sk-estimator:hover label.sk-toggleable__label-arrow:before {color: black;}#sk-container-id-4 div.sk-toggleable__content {max-height: 0;max-width: 0;overflow: hidden;text-align: left;background-color: #f0f8ff;}#sk-container-id-4 div.sk-toggleable__content pre {margin: 0.2em;color: black;border-radius: 0.25em;background-color: #f0f8ff;}#sk-container-id-4 input.sk-toggleable__control:checked~div.sk-toggleable__content {max-height: 200px;max-width: 100%;overflow: auto;}#sk-container-id-4 input.sk-toggleable__control:checked~label.sk-toggleable__label-arrow:before {content: \"▾\";}#sk-container-id-4 div.sk-estimator input.sk-toggleable__control:checked~label.sk-toggleable__label {background-color: #d4ebff;}#sk-container-id-4 div.sk-label input.sk-toggleable__control:checked~label.sk-toggleable__label {background-color: #d4ebff;}#sk-container-id-4 input.sk-hidden--visually {border: 0;clip: rect(1px 1px 1px 1px);clip: rect(1px, 1px, 1px, 1px);height: 1px;margin: -1px;overflow: hidden;padding: 0;position: absolute;width: 1px;}#sk-container-id-4 div.sk-estimator {font-family: monospace;background-color: #f0f8ff;border: 1px dotted black;border-radius: 0.25em;box-sizing: border-box;margin-bottom: 0.5em;}#sk-container-id-4 div.sk-estimator:hover {background-color: #d4ebff;}#sk-container-id-4 div.sk-parallel-item::after {content: \"\";width: 100%;border-bottom: 1px solid gray;flex-grow: 1;}#sk-container-id-4 div.sk-label:hover label.sk-toggleable__label {background-color: #d4ebff;}#sk-container-id-4 div.sk-serial::before {content: \"\";position: absolute;border-left: 1px solid gray;box-sizing: border-box;top: 0;bottom: 0;left: 50%;z-index: 0;}#sk-container-id-4 div.sk-serial {display: flex;flex-direction: column;align-items: center;background-color: white;padding-right: 0.2em;padding-left: 0.2em;position: relative;}#sk-container-id-4 div.sk-item {position: relative;z-index: 1;}#sk-container-id-4 div.sk-parallel {display: flex;align-items: stretch;justify-content: center;background-color: white;position: relative;}#sk-container-id-4 div.sk-item::before, #sk-container-id-4 div.sk-parallel-item::before {content: \"\";position: absolute;border-left: 1px solid gray;box-sizing: border-box;top: 0;bottom: 0;left: 50%;z-index: -1;}#sk-container-id-4 div.sk-parallel-item {display: flex;flex-direction: column;z-index: 1;position: relative;background-color: white;}#sk-container-id-4 div.sk-parallel-item:first-child::after {align-self: flex-end;width: 50%;}#sk-container-id-4 div.sk-parallel-item:last-child::after {align-self: flex-start;width: 50%;}#sk-container-id-4 div.sk-parallel-item:only-child::after {width: 0;}#sk-container-id-4 div.sk-dashed-wrapped {border: 1px dashed gray;margin: 0 0.4em 0.5em 0.4em;box-sizing: border-box;padding-bottom: 0.4em;background-color: white;}#sk-container-id-4 div.sk-label label {font-family: monospace;font-weight: bold;display: inline-block;line-height: 1.2em;}#sk-container-id-4 div.sk-label-container {text-align: center;}#sk-container-id-4 div.sk-container {/* jupyter's `normalize.less` sets `[hidden] { display: none; }` but bootstrap.min.css set `[hidden] { display: none !important; }` so we also need the `!important` here to be able to override the default hidden behavior on the sphinx rendered scikit-learn.org. See: https://github.com/scikit-learn/scikit-learn/issues/21755 */display: inline-block !important;position: relative;}#sk-container-id-4 div.sk-text-repr-fallback {display: none;}</style><div id=\"sk-container-id-4\" class=\"sk-top-container\"><div class=\"sk-text-repr-fallback\"><pre>GridSearchCV(cv=3,\n",
              "             estimator=Pipeline(steps=[(&#x27;kmeans&#x27;, KMeans(n_clusters=50)),\n",
              "                                       (&#x27;log_reg&#x27;, LogisticRegression())]),\n",
              "             param_grid={&#x27;kmeans__n_clusters&#x27;: range(2, 100)}, verbose=2)</pre><b>In a Jupyter environment, please rerun this cell to show the HTML representation or trust the notebook. <br />On GitHub, the HTML representation is unable to render, please try loading this page with nbviewer.org.</b></div><div class=\"sk-container\" hidden><div class=\"sk-item sk-dashed-wrapped\"><div class=\"sk-label-container\"><div class=\"sk-label sk-toggleable\"><input class=\"sk-toggleable__control sk-hidden--visually\" id=\"sk-estimator-id-6\" type=\"checkbox\" ><label for=\"sk-estimator-id-6\" class=\"sk-toggleable__label sk-toggleable__label-arrow\">GridSearchCV</label><div class=\"sk-toggleable__content\"><pre>GridSearchCV(cv=3,\n",
              "             estimator=Pipeline(steps=[(&#x27;kmeans&#x27;, KMeans(n_clusters=50)),\n",
              "                                       (&#x27;log_reg&#x27;, LogisticRegression())]),\n",
              "             param_grid={&#x27;kmeans__n_clusters&#x27;: range(2, 100)}, verbose=2)</pre></div></div></div><div class=\"sk-parallel\"><div class=\"sk-parallel-item\"><div class=\"sk-item\"><div class=\"sk-label-container\"><div class=\"sk-label sk-toggleable\"><input class=\"sk-toggleable__control sk-hidden--visually\" id=\"sk-estimator-id-7\" type=\"checkbox\" ><label for=\"sk-estimator-id-7\" class=\"sk-toggleable__label sk-toggleable__label-arrow\">estimator: Pipeline</label><div class=\"sk-toggleable__content\"><pre>Pipeline(steps=[(&#x27;kmeans&#x27;, KMeans(n_clusters=50)),\n",
              "                (&#x27;log_reg&#x27;, LogisticRegression())])</pre></div></div></div><div class=\"sk-serial\"><div class=\"sk-item\"><div class=\"sk-serial\"><div class=\"sk-item\"><div class=\"sk-estimator sk-toggleable\"><input class=\"sk-toggleable__control sk-hidden--visually\" id=\"sk-estimator-id-8\" type=\"checkbox\" ><label for=\"sk-estimator-id-8\" class=\"sk-toggleable__label sk-toggleable__label-arrow\">KMeans</label><div class=\"sk-toggleable__content\"><pre>KMeans(n_clusters=50)</pre></div></div></div><div class=\"sk-item\"><div class=\"sk-estimator sk-toggleable\"><input class=\"sk-toggleable__control sk-hidden--visually\" id=\"sk-estimator-id-9\" type=\"checkbox\" ><label for=\"sk-estimator-id-9\" class=\"sk-toggleable__label sk-toggleable__label-arrow\">LogisticRegression</label><div class=\"sk-toggleable__content\"><pre>LogisticRegression()</pre></div></div></div></div></div></div></div></div></div></div></div></div>"
            ]
          },
          "metadata": {},
          "execution_count": 20
        }
      ]
    },
    {
      "cell_type": "code",
      "source": [
        "# 최선의 k값과 이때 파이프라인의 성능 확인\n",
        "print(grid_clf.best_params_)\n",
        "print(grid_clf.score(X_test, y_test))"
      ],
      "metadata": {
        "id": "JKqKeRGPXQZW",
        "colab": {
          "base_uri": "https://localhost:8080/"
        },
        "outputId": "e68386bc-0231-4aea-a994-79d5d41c58e8"
      },
      "execution_count": 21,
      "outputs": [
        {
          "output_type": "stream",
          "name": "stdout",
          "text": [
            "{'kmeans__n_clusters': 89}\n",
            "0.9755555555555555\n"
          ]
        }
      ]
    },
    {
      "cell_type": "markdown",
      "source": [
        "=> k=99개의 클러스터 사용할 때 정확도 크게 향상. 테스트 세트에서 98.22% 달성. 99가 탐색 범위에서 가장 큰 값이기 때문에 더 높은 k값 탐색해볼 만해"
      ],
      "metadata": {
        "id": "0csfLWs4XY4e"
      }
    },
    {
      "cell_type": "markdown",
      "source": [
        "### 9.1.5 군집을 사용한 **준지도 학습**\n",
        "\n",
        "**준지도 학습** : 레이블이 없는 데이터가 많고 레이블이 있는 데이터가 적을 때 사용.\n",
        "\n"
      ],
      "metadata": {
        "id": "vbzq12kdXh-w"
      }
    },
    {
      "cell_type": "code",
      "source": [
        "# 숫자 데이터셋에서 레이블된 50개 샘플에 로지스틱 모델 훈련\n",
        "n_labeled = 50\n",
        "log_reg = LogisticRegression()\n",
        "log_reg.fit(X_train[:n_labeled], y_train[:n_labeled])"
      ],
      "metadata": {
        "id": "bSW_TibSX6g-",
        "colab": {
          "base_uri": "https://localhost:8080/",
          "height": 224
        },
        "outputId": "30ec1f61-1475-4f23-fcc8-54a496dc84f7"
      },
      "execution_count": 22,
      "outputs": [
        {
          "output_type": "stream",
          "name": "stderr",
          "text": [
            "/usr/local/lib/python3.9/dist-packages/sklearn/linear_model/_logistic.py:458: ConvergenceWarning: lbfgs failed to converge (status=1):\n",
            "STOP: TOTAL NO. of ITERATIONS REACHED LIMIT.\n",
            "\n",
            "Increase the number of iterations (max_iter) or scale the data as shown in:\n",
            "    https://scikit-learn.org/stable/modules/preprocessing.html\n",
            "Please also refer to the documentation for alternative solver options:\n",
            "    https://scikit-learn.org/stable/modules/linear_model.html#logistic-regression\n",
            "  n_iter_i = _check_optimize_result(\n"
          ]
        },
        {
          "output_type": "execute_result",
          "data": {
            "text/plain": [
              "LogisticRegression()"
            ],
            "text/html": [
              "<style>#sk-container-id-5 {color: black;background-color: white;}#sk-container-id-5 pre{padding: 0;}#sk-container-id-5 div.sk-toggleable {background-color: white;}#sk-container-id-5 label.sk-toggleable__label {cursor: pointer;display: block;width: 100%;margin-bottom: 0;padding: 0.3em;box-sizing: border-box;text-align: center;}#sk-container-id-5 label.sk-toggleable__label-arrow:before {content: \"▸\";float: left;margin-right: 0.25em;color: #696969;}#sk-container-id-5 label.sk-toggleable__label-arrow:hover:before {color: black;}#sk-container-id-5 div.sk-estimator:hover label.sk-toggleable__label-arrow:before {color: black;}#sk-container-id-5 div.sk-toggleable__content {max-height: 0;max-width: 0;overflow: hidden;text-align: left;background-color: #f0f8ff;}#sk-container-id-5 div.sk-toggleable__content pre {margin: 0.2em;color: black;border-radius: 0.25em;background-color: #f0f8ff;}#sk-container-id-5 input.sk-toggleable__control:checked~div.sk-toggleable__content {max-height: 200px;max-width: 100%;overflow: auto;}#sk-container-id-5 input.sk-toggleable__control:checked~label.sk-toggleable__label-arrow:before {content: \"▾\";}#sk-container-id-5 div.sk-estimator input.sk-toggleable__control:checked~label.sk-toggleable__label {background-color: #d4ebff;}#sk-container-id-5 div.sk-label input.sk-toggleable__control:checked~label.sk-toggleable__label {background-color: #d4ebff;}#sk-container-id-5 input.sk-hidden--visually {border: 0;clip: rect(1px 1px 1px 1px);clip: rect(1px, 1px, 1px, 1px);height: 1px;margin: -1px;overflow: hidden;padding: 0;position: absolute;width: 1px;}#sk-container-id-5 div.sk-estimator {font-family: monospace;background-color: #f0f8ff;border: 1px dotted black;border-radius: 0.25em;box-sizing: border-box;margin-bottom: 0.5em;}#sk-container-id-5 div.sk-estimator:hover {background-color: #d4ebff;}#sk-container-id-5 div.sk-parallel-item::after {content: \"\";width: 100%;border-bottom: 1px solid gray;flex-grow: 1;}#sk-container-id-5 div.sk-label:hover label.sk-toggleable__label {background-color: #d4ebff;}#sk-container-id-5 div.sk-serial::before {content: \"\";position: absolute;border-left: 1px solid gray;box-sizing: border-box;top: 0;bottom: 0;left: 50%;z-index: 0;}#sk-container-id-5 div.sk-serial {display: flex;flex-direction: column;align-items: center;background-color: white;padding-right: 0.2em;padding-left: 0.2em;position: relative;}#sk-container-id-5 div.sk-item {position: relative;z-index: 1;}#sk-container-id-5 div.sk-parallel {display: flex;align-items: stretch;justify-content: center;background-color: white;position: relative;}#sk-container-id-5 div.sk-item::before, #sk-container-id-5 div.sk-parallel-item::before {content: \"\";position: absolute;border-left: 1px solid gray;box-sizing: border-box;top: 0;bottom: 0;left: 50%;z-index: -1;}#sk-container-id-5 div.sk-parallel-item {display: flex;flex-direction: column;z-index: 1;position: relative;background-color: white;}#sk-container-id-5 div.sk-parallel-item:first-child::after {align-self: flex-end;width: 50%;}#sk-container-id-5 div.sk-parallel-item:last-child::after {align-self: flex-start;width: 50%;}#sk-container-id-5 div.sk-parallel-item:only-child::after {width: 0;}#sk-container-id-5 div.sk-dashed-wrapped {border: 1px dashed gray;margin: 0 0.4em 0.5em 0.4em;box-sizing: border-box;padding-bottom: 0.4em;background-color: white;}#sk-container-id-5 div.sk-label label {font-family: monospace;font-weight: bold;display: inline-block;line-height: 1.2em;}#sk-container-id-5 div.sk-label-container {text-align: center;}#sk-container-id-5 div.sk-container {/* jupyter's `normalize.less` sets `[hidden] { display: none; }` but bootstrap.min.css set `[hidden] { display: none !important; }` so we also need the `!important` here to be able to override the default hidden behavior on the sphinx rendered scikit-learn.org. See: https://github.com/scikit-learn/scikit-learn/issues/21755 */display: inline-block !important;position: relative;}#sk-container-id-5 div.sk-text-repr-fallback {display: none;}</style><div id=\"sk-container-id-5\" class=\"sk-top-container\"><div class=\"sk-text-repr-fallback\"><pre>LogisticRegression()</pre><b>In a Jupyter environment, please rerun this cell to show the HTML representation or trust the notebook. <br />On GitHub, the HTML representation is unable to render, please try loading this page with nbviewer.org.</b></div><div class=\"sk-container\" hidden><div class=\"sk-item\"><div class=\"sk-estimator sk-toggleable\"><input class=\"sk-toggleable__control sk-hidden--visually\" id=\"sk-estimator-id-10\" type=\"checkbox\" checked><label for=\"sk-estimator-id-10\" class=\"sk-toggleable__label sk-toggleable__label-arrow\">LogisticRegression</label><div class=\"sk-toggleable__content\"><pre>LogisticRegression()</pre></div></div></div></div></div>"
            ]
          },
          "metadata": {},
          "execution_count": 22
        }
      ]
    },
    {
      "cell_type": "code",
      "source": [
        "# 테스트 세트에서 이 모델의 성능 평가\n",
        "log_reg.score(X_test, y_test)"
      ],
      "metadata": {
        "id": "rGdPQ5u5YLwO",
        "colab": {
          "base_uri": "https://localhost:8080/"
        },
        "outputId": "52b0d9aa-5528-475f-9c84-f1e57a198fdd"
      },
      "execution_count": 23,
      "outputs": [
        {
          "output_type": "execute_result",
          "data": {
            "text/plain": [
              "0.8622222222222222"
            ]
          },
          "metadata": {},
          "execution_count": 23
        }
      ]
    },
    {
      "cell_type": "markdown",
      "source": [
        "낮은 정확도 어떻게 개선?\n",
        "\n",
        "훈련세트를 50개의 클러스터로 모아 -> 각 클러스터에서 센트로이드에 가장 가까운 이미지 찾아(=대표 이미지)"
      ],
      "metadata": {
        "id": "3kYEypdMjKIZ"
      }
    },
    {
      "cell_type": "code",
      "source": [
        "k=50\n",
        "kmeans = KMeans(n_clusters=k)\n",
        "X_digits_dist = kmeans.fit_transform(X_train)\n",
        "representative_digit_idx = np.argmin(X_digits_dist, axis=0)\n",
        "X_representative_digits = X_train[representative_digit_idx]"
      ],
      "metadata": {
        "colab": {
          "base_uri": "https://localhost:8080/"
        },
        "id": "nkQH9N9xjTW_",
        "outputId": "3f34086a-f497-4828-e4c7-fe6a412f7616"
      },
      "execution_count": 24,
      "outputs": [
        {
          "output_type": "stream",
          "name": "stderr",
          "text": [
            "/usr/local/lib/python3.9/dist-packages/sklearn/cluster/_kmeans.py:870: FutureWarning: The default value of `n_init` will change from 10 to 'auto' in 1.4. Set the value of `n_init` explicitly to suppress the warning\n",
            "  warnings.warn(\n"
          ]
        }
      ]
    },
    {
      "cell_type": "code",
      "source": [
        "# 이미지 보고 수동으로 레이블 할당\n",
        "y_representative_digits = np.array([5, 8, 3, 0, 6, 7, 4, 1, 5, 5, 2, 7, 4, 2, 9, 8, 2, 0, 5, 1, 3, 1,\n",
        "       8, 2, 9, 7, 1, 7, 6, 1, 8, 0, 2, 6, 4, 4, 3, 0, 7, 9, 4, 1, 7, 9,\n",
        "       5, 8, 1, 8, 2, 6])"
      ],
      "metadata": {
        "id": "oFO7SDaujohl"
      },
      "execution_count": 25,
      "outputs": []
    },
    {
      "cell_type": "code",
      "source": [
        "# 대표 이미지 준비 -> 성능이 조금이라도 높은지 확인\n",
        "log_reg = LogisticRegression()\n",
        "log_reg.fit(X_representative_digits, y_representative_digits)\n",
        "log_reg.score(X_test, y_test)"
      ],
      "metadata": {
        "colab": {
          "base_uri": "https://localhost:8080/"
        },
        "id": "hjqF_PVzj6xJ",
        "outputId": "39f41be2-2411-4c80-bcc1-f5737580ba7b"
      },
      "execution_count": 26,
      "outputs": [
        {
          "output_type": "stream",
          "name": "stderr",
          "text": [
            "/usr/local/lib/python3.9/dist-packages/sklearn/linear_model/_logistic.py:458: ConvergenceWarning: lbfgs failed to converge (status=1):\n",
            "STOP: TOTAL NO. of ITERATIONS REACHED LIMIT.\n",
            "\n",
            "Increase the number of iterations (max_iter) or scale the data as shown in:\n",
            "    https://scikit-learn.org/stable/modules/preprocessing.html\n",
            "Please also refer to the documentation for alternative solver options:\n",
            "    https://scikit-learn.org/stable/modules/linear_model.html#logistic-regression\n",
            "  n_iter_i = _check_optimize_result(\n"
          ]
        },
        {
          "output_type": "execute_result",
          "data": {
            "text/plain": [
              "0.1288888888888889"
            ]
          },
          "metadata": {},
          "execution_count": 26
        }
      ]
    },
    {
      "cell_type": "markdown",
      "source": [
        "=> 샘플에 레이블 부여하는 것 어려워 -> 무작위 샘플 대신 대표 샘플에 레이블 할당하는 것 좋은 방법"
      ],
      "metadata": {
        "id": "5LCrKH2lkal2"
      }
    },
    {
      "cell_type": "markdown",
      "source": [
        "레이블을 동일한 클러스터에 있는 모든 샘플로 전파 = **레이블 전파**"
      ],
      "metadata": {
        "id": "fQVTtXhAkjMU"
      }
    },
    {
      "cell_type": "code",
      "source": [
        "y_train_propagated = np.empty(len(X_train), dtype=np.int32)\n",
        "for i in range(k):\n",
        "  y_train_propagated[kmeans.labels_==i] = y_representative_digits[i]"
      ],
      "metadata": {
        "id": "XM5Sf_pIknfj"
      },
      "execution_count": 27,
      "outputs": []
    },
    {
      "cell_type": "code",
      "source": [
        "# 모델 다시 훈련하고 성능 확인\n",
        "log_reg = LogisticRegression()\n",
        "log_reg.fit(X_train, y_train_propagated)\n",
        "log_reg.score(X_test, y_test)"
      ],
      "metadata": {
        "colab": {
          "base_uri": "https://localhost:8080/"
        },
        "id": "aqbSgxARk0BY",
        "outputId": "16ff7a74-124a-4b22-cf0e-69dc4ac78483"
      },
      "execution_count": 28,
      "outputs": [
        {
          "output_type": "stream",
          "name": "stderr",
          "text": [
            "/usr/local/lib/python3.9/dist-packages/sklearn/linear_model/_logistic.py:458: ConvergenceWarning: lbfgs failed to converge (status=1):\n",
            "STOP: TOTAL NO. of ITERATIONS REACHED LIMIT.\n",
            "\n",
            "Increase the number of iterations (max_iter) or scale the data as shown in:\n",
            "    https://scikit-learn.org/stable/modules/preprocessing.html\n",
            "Please also refer to the documentation for alternative solver options:\n",
            "    https://scikit-learn.org/stable/modules/linear_model.html#logistic-regression\n",
            "  n_iter_i = _check_optimize_result(\n"
          ]
        },
        {
          "output_type": "execute_result",
          "data": {
            "text/plain": [
              "0.1"
            ]
          },
          "metadata": {},
          "execution_count": 28
        }
      ]
    },
    {
      "cell_type": "markdown",
      "source": [
        "=> 성능 어느 정도 올렸지만 놀라운 정도는 아님 \n",
        "\n",
        "-> 문제는 각 대표 샘플의 레이블을 동일한 클러스터의 모든 샘플에 전파한 것. 여기에는 클러스터 경계에 가깝게 위치한 샘플이 포함되어 있고 아마 잘못 레이블이 부여되었을 것."
      ],
      "metadata": {
        "id": "NVqnK67OlAoY"
      }
    },
    {
      "cell_type": "code",
      "source": [
        "# 센트로이드와 가까운 샘플의 20%에만 레이블을 전파해보고 확인\n",
        "percentile_closest = 20\n",
        "\n",
        "X_cluster_dist = X_digits_dist[np.arange(len(X_train)), kmeans.labels_]\n",
        "for i in range(k):\n",
        "  in_cluster = (kmeans.labels_ == i)\n",
        "  cluster_dist = X_cluster_dist[in_cluster]\n",
        "  cutoff_distance = np.percentile(cluster_dist, percentile_closest)\n",
        "  above_cutoff = (X_cluster_dist > cutoff_distance)\n",
        "  X_cluster_dist[in_cluster & above_cutoff] = -1\n",
        "\n",
        "partially_propagated = (X_cluster_dist != -1)\n",
        "X_train_partially_propagated = X_train[partially_propagated]\n",
        "y_train_partially_propagated = y_train_propagated[partially_propagated]"
      ],
      "metadata": {
        "id": "d3jz00nGlMol"
      },
      "execution_count": 29,
      "outputs": []
    },
    {
      "cell_type": "code",
      "source": [
        "# 부분적으로 전파한 이 데이터셋에 모델 다시 훈련\n",
        "log_reg = LogisticRegression()\n",
        "log_reg.fit(X_train_partially_propagated, y_train_partially_propagated)\n",
        "log_reg.score(X_test, y_test)"
      ],
      "metadata": {
        "colab": {
          "base_uri": "https://localhost:8080/"
        },
        "id": "165QYdKgl83p",
        "outputId": "dae03953-31e5-4896-da2e-c4a3f647ceb0"
      },
      "execution_count": 30,
      "outputs": [
        {
          "output_type": "stream",
          "name": "stderr",
          "text": [
            "/usr/local/lib/python3.9/dist-packages/sklearn/linear_model/_logistic.py:458: ConvergenceWarning: lbfgs failed to converge (status=1):\n",
            "STOP: TOTAL NO. of ITERATIONS REACHED LIMIT.\n",
            "\n",
            "Increase the number of iterations (max_iter) or scale the data as shown in:\n",
            "    https://scikit-learn.org/stable/modules/preprocessing.html\n",
            "Please also refer to the documentation for alternative solver options:\n",
            "    https://scikit-learn.org/stable/modules/linear_model.html#logistic-regression\n",
            "  n_iter_i = _check_optimize_result(\n"
          ]
        },
        {
          "output_type": "execute_result",
          "data": {
            "text/plain": [
              "0.08444444444444445"
            ]
          },
          "metadata": {},
          "execution_count": 30
        }
      ]
    },
    {
      "cell_type": "markdown",
      "source": [
        "=> 레이블된 샘플 50개만으로 94.0% 정확도 얻음. 전파된 레이블이 실제로 매우 좋아 성능 좋은 것."
      ],
      "metadata": {
        "id": "ZB53vPaJmPz0"
      }
    },
    {
      "cell_type": "code",
      "source": [
        "np.mean(y_train_partially_propagated == y_train[partially_propagated])"
      ],
      "metadata": {
        "colab": {
          "base_uri": "https://localhost:8080/"
        },
        "id": "6G93ERkwmX2A",
        "outputId": "36e7a258-9181-4eb2-9710-f097457ec9f2"
      },
      "execution_count": 31,
      "outputs": [
        {
          "output_type": "execute_result",
          "data": {
            "text/plain": [
              "0.0821917808219178"
            ]
          },
          "metadata": {},
          "execution_count": 31
        }
      ]
    },
    {
      "cell_type": "markdown",
      "source": [
        "* 능동 학습\n",
        "  + 모델과 훈련 세트를 지속적으로 향상하기 위해 반복\n",
        "  + 전문가가 학습 알고리즘과 상호작용하여 알고리즘이 요청할 때 특정 샘플의 레이블 제공\n",
        "\n",
        "* 가장 널리 사용되는 것은 불확실성 샘플링\n",
        "  + 작동방식\n",
        "    - 1. 지금까지 수집한 레이블된 샘플에서 모델 훈련. 레이블되지 않은 모든 샘플에 대한 예측 만들어\n",
        "    - 2. 모델이 가장 불확실하게 예측한 샘플을 전문가에게 보내 레이블 붙여\n",
        "    - 3. 레이블을 부여하는 노력만큼의 성능이 향상되지 않을 때까지 반복\n",
        "* 다른 전략은 모델을 가장 크게 바꾸는 샘플이나 모델의 검증 점수를 가장 크게 떨어뜨리는 샘플, 여러 개의 모델이 동일한 예측을 내지 않는 샘플에 대해 레이블을 요청하는 것\n"
      ],
      "metadata": {
        "id": "rk6uLItkmdmO"
      }
    },
    {
      "cell_type": "markdown",
      "source": [
        "### 9.1.6 DBSCAN\n",
        "\n",
        "**DBSCAN** : 밀집된 연속적 지역을 클러스터로 정의\n",
        "\n",
        "* 작동 방식\n",
        "  + 알고리즘이 각 샘플에서 작은 거리인 입실론 내에 샘플이 몇 개 놓여 있는지 센다. 이 지역을 샘플의 엡실론-이웃\n",
        "  + 엡실론-이웃 내에 적어도 min_samples개 샘플이 있다면 이를 핵심 샘플로 간주(밀집된 지역에 있는 샘플)\n",
        "  + 핵심 샘플의 이웃에 있는 모든 샘플은 동일한 클러스터에 속해. 이웃에는 다른 핵심 샘플이 포함될 수 있다. -> 계속해서 하나의 클러스터 형성\n",
        "  + 핵심 샘플이 아니고 이웃도 아닌 샘플은 이상치로 판단\n",
        "\n",
        "* 모든 클러스터가 충분히 밀집되어 있고 밀집되지 않은 지역과 잘 구분될 때 좋은 성능"
      ],
      "metadata": {
        "id": "PnBlO2obqCYV"
      }
    },
    {
      "cell_type": "code",
      "source": [
        "from sklearn.cluster import DBSCAN\n",
        "from sklearn.datasets import make_moons\n",
        "\n",
        "X, y = make_moons(n_samples=100, noise=0.05)\n",
        "dbscan = DBSCAN(eps=0.05, min_samples=5)\n",
        "dbscan.fit(X)"
      ],
      "metadata": {
        "colab": {
          "base_uri": "https://localhost:8080/",
          "height": 74
        },
        "id": "NSEzgd6SrYlZ",
        "outputId": "b42c88d8-2a4e-46c7-9ddc-ccd36a15fe87"
      },
      "execution_count": 32,
      "outputs": [
        {
          "output_type": "execute_result",
          "data": {
            "text/plain": [
              "DBSCAN(eps=0.05)"
            ],
            "text/html": [
              "<style>#sk-container-id-6 {color: black;background-color: white;}#sk-container-id-6 pre{padding: 0;}#sk-container-id-6 div.sk-toggleable {background-color: white;}#sk-container-id-6 label.sk-toggleable__label {cursor: pointer;display: block;width: 100%;margin-bottom: 0;padding: 0.3em;box-sizing: border-box;text-align: center;}#sk-container-id-6 label.sk-toggleable__label-arrow:before {content: \"▸\";float: left;margin-right: 0.25em;color: #696969;}#sk-container-id-6 label.sk-toggleable__label-arrow:hover:before {color: black;}#sk-container-id-6 div.sk-estimator:hover label.sk-toggleable__label-arrow:before {color: black;}#sk-container-id-6 div.sk-toggleable__content {max-height: 0;max-width: 0;overflow: hidden;text-align: left;background-color: #f0f8ff;}#sk-container-id-6 div.sk-toggleable__content pre {margin: 0.2em;color: black;border-radius: 0.25em;background-color: #f0f8ff;}#sk-container-id-6 input.sk-toggleable__control:checked~div.sk-toggleable__content {max-height: 200px;max-width: 100%;overflow: auto;}#sk-container-id-6 input.sk-toggleable__control:checked~label.sk-toggleable__label-arrow:before {content: \"▾\";}#sk-container-id-6 div.sk-estimator input.sk-toggleable__control:checked~label.sk-toggleable__label {background-color: #d4ebff;}#sk-container-id-6 div.sk-label input.sk-toggleable__control:checked~label.sk-toggleable__label {background-color: #d4ebff;}#sk-container-id-6 input.sk-hidden--visually {border: 0;clip: rect(1px 1px 1px 1px);clip: rect(1px, 1px, 1px, 1px);height: 1px;margin: -1px;overflow: hidden;padding: 0;position: absolute;width: 1px;}#sk-container-id-6 div.sk-estimator {font-family: monospace;background-color: #f0f8ff;border: 1px dotted black;border-radius: 0.25em;box-sizing: border-box;margin-bottom: 0.5em;}#sk-container-id-6 div.sk-estimator:hover {background-color: #d4ebff;}#sk-container-id-6 div.sk-parallel-item::after {content: \"\";width: 100%;border-bottom: 1px solid gray;flex-grow: 1;}#sk-container-id-6 div.sk-label:hover label.sk-toggleable__label {background-color: #d4ebff;}#sk-container-id-6 div.sk-serial::before {content: \"\";position: absolute;border-left: 1px solid gray;box-sizing: border-box;top: 0;bottom: 0;left: 50%;z-index: 0;}#sk-container-id-6 div.sk-serial {display: flex;flex-direction: column;align-items: center;background-color: white;padding-right: 0.2em;padding-left: 0.2em;position: relative;}#sk-container-id-6 div.sk-item {position: relative;z-index: 1;}#sk-container-id-6 div.sk-parallel {display: flex;align-items: stretch;justify-content: center;background-color: white;position: relative;}#sk-container-id-6 div.sk-item::before, #sk-container-id-6 div.sk-parallel-item::before {content: \"\";position: absolute;border-left: 1px solid gray;box-sizing: border-box;top: 0;bottom: 0;left: 50%;z-index: -1;}#sk-container-id-6 div.sk-parallel-item {display: flex;flex-direction: column;z-index: 1;position: relative;background-color: white;}#sk-container-id-6 div.sk-parallel-item:first-child::after {align-self: flex-end;width: 50%;}#sk-container-id-6 div.sk-parallel-item:last-child::after {align-self: flex-start;width: 50%;}#sk-container-id-6 div.sk-parallel-item:only-child::after {width: 0;}#sk-container-id-6 div.sk-dashed-wrapped {border: 1px dashed gray;margin: 0 0.4em 0.5em 0.4em;box-sizing: border-box;padding-bottom: 0.4em;background-color: white;}#sk-container-id-6 div.sk-label label {font-family: monospace;font-weight: bold;display: inline-block;line-height: 1.2em;}#sk-container-id-6 div.sk-label-container {text-align: center;}#sk-container-id-6 div.sk-container {/* jupyter's `normalize.less` sets `[hidden] { display: none; }` but bootstrap.min.css set `[hidden] { display: none !important; }` so we also need the `!important` here to be able to override the default hidden behavior on the sphinx rendered scikit-learn.org. See: https://github.com/scikit-learn/scikit-learn/issues/21755 */display: inline-block !important;position: relative;}#sk-container-id-6 div.sk-text-repr-fallback {display: none;}</style><div id=\"sk-container-id-6\" class=\"sk-top-container\"><div class=\"sk-text-repr-fallback\"><pre>DBSCAN(eps=0.05)</pre><b>In a Jupyter environment, please rerun this cell to show the HTML representation or trust the notebook. <br />On GitHub, the HTML representation is unable to render, please try loading this page with nbviewer.org.</b></div><div class=\"sk-container\" hidden><div class=\"sk-item\"><div class=\"sk-estimator sk-toggleable\"><input class=\"sk-toggleable__control sk-hidden--visually\" id=\"sk-estimator-id-11\" type=\"checkbox\" checked><label for=\"sk-estimator-id-11\" class=\"sk-toggleable__label sk-toggleable__label-arrow\">DBSCAN</label><div class=\"sk-toggleable__content\"><pre>DBSCAN(eps=0.05)</pre></div></div></div></div></div>"
            ]
          },
          "metadata": {},
          "execution_count": 32
        }
      ]
    },
    {
      "cell_type": "markdown",
      "source": [
        "* 모든 샘플의 레이블은 인스턴스 변수 **labels_**에 저장"
      ],
      "metadata": {
        "id": "WSgnYD0rrlry"
      }
    },
    {
      "cell_type": "code",
      "source": [
        "dbscan.labels_"
      ],
      "metadata": {
        "colab": {
          "base_uri": "https://localhost:8080/"
        },
        "id": "9T05iS_YrrEw",
        "outputId": "5790494f-149f-4845-ca50-d4618c4573be"
      },
      "execution_count": 33,
      "outputs": [
        {
          "output_type": "execute_result",
          "data": {
            "text/plain": [
              "array([-1, -1, -1, -1, -1, -1, -1, -1, -1, -1, -1, -1, -1, -1, -1, -1, -1,\n",
              "       -1, -1, -1, -1, -1, -1, -1, -1, -1, -1, -1, -1, -1, -1, -1, -1, -1,\n",
              "       -1, -1, -1, -1, -1, -1, -1, -1, -1, -1, -1, -1, -1, -1, -1, -1, -1,\n",
              "       -1, -1, -1, -1, -1, -1, -1, -1, -1, -1, -1, -1, -1, -1, -1, -1, -1,\n",
              "       -1, -1, -1, -1, -1, -1, -1, -1, -1, -1, -1, -1, -1, -1, -1, -1, -1,\n",
              "       -1, -1, -1, -1, -1, -1, -1, -1, -1, -1, -1, -1, -1, -1, -1])"
            ]
          },
          "metadata": {},
          "execution_count": 33
        }
      ]
    },
    {
      "cell_type": "markdown",
      "source": [
        "=> 일부 샘플의 클러스터 인덱스는 -1 : 이상치로 판단\n",
        "\n",
        "* 핵심 샘플의 인덱스는 인스턴스 변수 **core_samples_indices_**에서 확인\n",
        "\n",
        "* 핵심 샘플 자체는 인스턴스 변수 **components_**에 저장"
      ],
      "metadata": {
        "id": "j1Ub18cirxfD"
      }
    },
    {
      "cell_type": "code",
      "source": [
        "len(dbscan.core_sample_indices_)"
      ],
      "metadata": {
        "colab": {
          "base_uri": "https://localhost:8080/"
        },
        "id": "PKv1Fx3_r8IN",
        "outputId": "a2b7d368-ae74-450a-e2b6-10eb12d0770d"
      },
      "execution_count": 34,
      "outputs": [
        {
          "output_type": "execute_result",
          "data": {
            "text/plain": [
              "0"
            ]
          },
          "metadata": {},
          "execution_count": 34
        }
      ]
    },
    {
      "cell_type": "code",
      "source": [
        "dbscan.core_sample_indices_"
      ],
      "metadata": {
        "colab": {
          "base_uri": "https://localhost:8080/"
        },
        "id": "TIgSM97msD60",
        "outputId": "b1a4b185-8b17-489c-c7e4-6aa5884566c1"
      },
      "execution_count": 35,
      "outputs": [
        {
          "output_type": "execute_result",
          "data": {
            "text/plain": [
              "array([], dtype=int64)"
            ]
          },
          "metadata": {},
          "execution_count": 35
        }
      ]
    },
    {
      "cell_type": "code",
      "source": [
        "dbscan.components_"
      ],
      "metadata": {
        "colab": {
          "base_uri": "https://localhost:8080/"
        },
        "id": "vd2rglmGsGrK",
        "outputId": "076b221e-a768-4461-cb3b-f39d1b87fe9b"
      },
      "execution_count": 36,
      "outputs": [
        {
          "output_type": "execute_result",
          "data": {
            "text/plain": [
              "array([], shape=(0, 2), dtype=float64)"
            ]
          },
          "metadata": {},
          "execution_count": 36
        }
      ]
    },
    {
      "cell_type": "markdown",
      "source": [
        "=> 군집 결과 그래프 보니 클러스터 7개 만들었고 많은 샘플을 이상치로 판단. eps 0.2로 증가해 샘플의 이웃 범위를 넓히면 완벽한 군집 얻어."
      ],
      "metadata": {
        "id": "K3tiS-VksO4A"
      }
    },
    {
      "cell_type": "markdown",
      "source": [
        "* DBSCAN 클래스는 predict() 메서드를 제공하지 않고 **fit_predict()**메서드 제공\n",
        "  + 새로운 샘플에 대해 클러스터를 예측할 수 없다\n",
        "  + 사용자가 필요한 예측기 선택해야해"
      ],
      "metadata": {
        "id": "aw_yp5yIscBm"
      }
    },
    {
      "cell_type": "code",
      "source": [
        "# KNeighborsClassifier 훈련\n",
        "from sklearn.neighbors import KNeighborsClassifier\n",
        "\n",
        "knn=KNeighborsClassifier(n_neighbors=50)\n",
        "knn.fit(dbscan.components_, dbscan.labels_[dbscan.core_sample_indices_])"
      ],
      "metadata": {
        "colab": {
          "base_uri": "https://localhost:8080/",
          "height": 387
        },
        "id": "T6ti6JZrskzi",
        "outputId": "c9d17e42-26f6-4491-d49f-730fbf140414"
      },
      "execution_count": 41,
      "outputs": [
        {
          "output_type": "error",
          "ename": "ValueError",
          "evalue": "ignored",
          "traceback": [
            "\u001b[0;31m---------------------------------------------------------------------------\u001b[0m",
            "\u001b[0;31mValueError\u001b[0m                                Traceback (most recent call last)",
            "\u001b[0;32m<ipython-input-41-c5120378fe30>\u001b[0m in \u001b[0;36m<cell line: 5>\u001b[0;34m()\u001b[0m\n\u001b[1;32m      3\u001b[0m \u001b[0;34m\u001b[0m\u001b[0m\n\u001b[1;32m      4\u001b[0m \u001b[0mknn\u001b[0m\u001b[0;34m=\u001b[0m\u001b[0mKNeighborsClassifier\u001b[0m\u001b[0;34m(\u001b[0m\u001b[0mn_neighbors\u001b[0m\u001b[0;34m=\u001b[0m\u001b[0;36m50\u001b[0m\u001b[0;34m)\u001b[0m\u001b[0;34m\u001b[0m\u001b[0;34m\u001b[0m\u001b[0m\n\u001b[0;32m----> 5\u001b[0;31m \u001b[0mknn\u001b[0m\u001b[0;34m.\u001b[0m\u001b[0mfit\u001b[0m\u001b[0;34m(\u001b[0m\u001b[0mdbscan\u001b[0m\u001b[0;34m.\u001b[0m\u001b[0mcomponents_\u001b[0m\u001b[0;34m,\u001b[0m \u001b[0mdbscan\u001b[0m\u001b[0;34m.\u001b[0m\u001b[0mlabels_\u001b[0m\u001b[0;34m[\u001b[0m\u001b[0mdbscan\u001b[0m\u001b[0;34m.\u001b[0m\u001b[0mcore_sample_indices_\u001b[0m\u001b[0;34m]\u001b[0m\u001b[0;34m)\u001b[0m\u001b[0;34m\u001b[0m\u001b[0;34m\u001b[0m\u001b[0m\n\u001b[0m",
            "\u001b[0;32m/usr/local/lib/python3.9/dist-packages/sklearn/neighbors/_classification.py\u001b[0m in \u001b[0;36mfit\u001b[0;34m(self, X, y)\u001b[0m\n\u001b[1;32m    213\u001b[0m         \u001b[0mself\u001b[0m\u001b[0;34m.\u001b[0m\u001b[0m_validate_params\u001b[0m\u001b[0;34m(\u001b[0m\u001b[0;34m)\u001b[0m\u001b[0;34m\u001b[0m\u001b[0;34m\u001b[0m\u001b[0m\n\u001b[1;32m    214\u001b[0m \u001b[0;34m\u001b[0m\u001b[0m\n\u001b[0;32m--> 215\u001b[0;31m         \u001b[0;32mreturn\u001b[0m \u001b[0mself\u001b[0m\u001b[0;34m.\u001b[0m\u001b[0m_fit\u001b[0m\u001b[0;34m(\u001b[0m\u001b[0mX\u001b[0m\u001b[0;34m,\u001b[0m \u001b[0my\u001b[0m\u001b[0;34m)\u001b[0m\u001b[0;34m\u001b[0m\u001b[0;34m\u001b[0m\u001b[0m\n\u001b[0m\u001b[1;32m    216\u001b[0m \u001b[0;34m\u001b[0m\u001b[0m\n\u001b[1;32m    217\u001b[0m     \u001b[0;32mdef\u001b[0m \u001b[0mpredict\u001b[0m\u001b[0;34m(\u001b[0m\u001b[0mself\u001b[0m\u001b[0;34m,\u001b[0m \u001b[0mX\u001b[0m\u001b[0;34m)\u001b[0m\u001b[0;34m:\u001b[0m\u001b[0;34m\u001b[0m\u001b[0;34m\u001b[0m\u001b[0m\n",
            "\u001b[0;32m/usr/local/lib/python3.9/dist-packages/sklearn/neighbors/_base.py\u001b[0m in \u001b[0;36m_fit\u001b[0;34m(self, X, y)\u001b[0m\n\u001b[1;32m    452\u001b[0m         \u001b[0;32mif\u001b[0m \u001b[0mself\u001b[0m\u001b[0;34m.\u001b[0m\u001b[0m_get_tags\u001b[0m\u001b[0;34m(\u001b[0m\u001b[0;34m)\u001b[0m\u001b[0;34m[\u001b[0m\u001b[0;34m\"requires_y\"\u001b[0m\u001b[0;34m]\u001b[0m\u001b[0;34m:\u001b[0m\u001b[0;34m\u001b[0m\u001b[0;34m\u001b[0m\u001b[0m\n\u001b[1;32m    453\u001b[0m             \u001b[0;32mif\u001b[0m \u001b[0;32mnot\u001b[0m \u001b[0misinstance\u001b[0m\u001b[0;34m(\u001b[0m\u001b[0mX\u001b[0m\u001b[0;34m,\u001b[0m \u001b[0;34m(\u001b[0m\u001b[0mKDTree\u001b[0m\u001b[0;34m,\u001b[0m \u001b[0mBallTree\u001b[0m\u001b[0;34m,\u001b[0m \u001b[0mNeighborsBase\u001b[0m\u001b[0;34m)\u001b[0m\u001b[0;34m)\u001b[0m\u001b[0;34m:\u001b[0m\u001b[0;34m\u001b[0m\u001b[0;34m\u001b[0m\u001b[0m\n\u001b[0;32m--> 454\u001b[0;31m                 X, y = self._validate_data(\n\u001b[0m\u001b[1;32m    455\u001b[0m                     \u001b[0mX\u001b[0m\u001b[0;34m,\u001b[0m \u001b[0my\u001b[0m\u001b[0;34m,\u001b[0m \u001b[0maccept_sparse\u001b[0m\u001b[0;34m=\u001b[0m\u001b[0;34m\"csr\"\u001b[0m\u001b[0;34m,\u001b[0m \u001b[0mmulti_output\u001b[0m\u001b[0;34m=\u001b[0m\u001b[0;32mTrue\u001b[0m\u001b[0;34m,\u001b[0m \u001b[0morder\u001b[0m\u001b[0;34m=\u001b[0m\u001b[0;34m\"C\"\u001b[0m\u001b[0;34m\u001b[0m\u001b[0;34m\u001b[0m\u001b[0m\n\u001b[1;32m    456\u001b[0m                 )\n",
            "\u001b[0;32m/usr/local/lib/python3.9/dist-packages/sklearn/base.py\u001b[0m in \u001b[0;36m_validate_data\u001b[0;34m(self, X, y, reset, validate_separately, **check_params)\u001b[0m\n\u001b[1;32m    582\u001b[0m                 \u001b[0my\u001b[0m \u001b[0;34m=\u001b[0m \u001b[0mcheck_array\u001b[0m\u001b[0;34m(\u001b[0m\u001b[0my\u001b[0m\u001b[0;34m,\u001b[0m \u001b[0minput_name\u001b[0m\u001b[0;34m=\u001b[0m\u001b[0;34m\"y\"\u001b[0m\u001b[0;34m,\u001b[0m \u001b[0;34m**\u001b[0m\u001b[0mcheck_y_params\u001b[0m\u001b[0;34m)\u001b[0m\u001b[0;34m\u001b[0m\u001b[0;34m\u001b[0m\u001b[0m\n\u001b[1;32m    583\u001b[0m             \u001b[0;32melse\u001b[0m\u001b[0;34m:\u001b[0m\u001b[0;34m\u001b[0m\u001b[0;34m\u001b[0m\u001b[0m\n\u001b[0;32m--> 584\u001b[0;31m                 \u001b[0mX\u001b[0m\u001b[0;34m,\u001b[0m \u001b[0my\u001b[0m \u001b[0;34m=\u001b[0m \u001b[0mcheck_X_y\u001b[0m\u001b[0;34m(\u001b[0m\u001b[0mX\u001b[0m\u001b[0;34m,\u001b[0m \u001b[0my\u001b[0m\u001b[0;34m,\u001b[0m \u001b[0;34m**\u001b[0m\u001b[0mcheck_params\u001b[0m\u001b[0;34m)\u001b[0m\u001b[0;34m\u001b[0m\u001b[0;34m\u001b[0m\u001b[0m\n\u001b[0m\u001b[1;32m    585\u001b[0m             \u001b[0mout\u001b[0m \u001b[0;34m=\u001b[0m \u001b[0mX\u001b[0m\u001b[0;34m,\u001b[0m \u001b[0my\u001b[0m\u001b[0;34m\u001b[0m\u001b[0;34m\u001b[0m\u001b[0m\n\u001b[1;32m    586\u001b[0m \u001b[0;34m\u001b[0m\u001b[0m\n",
            "\u001b[0;32m/usr/local/lib/python3.9/dist-packages/sklearn/utils/validation.py\u001b[0m in \u001b[0;36mcheck_X_y\u001b[0;34m(X, y, accept_sparse, accept_large_sparse, dtype, order, copy, force_all_finite, ensure_2d, allow_nd, multi_output, ensure_min_samples, ensure_min_features, y_numeric, estimator)\u001b[0m\n\u001b[1;32m   1104\u001b[0m         )\n\u001b[1;32m   1105\u001b[0m \u001b[0;34m\u001b[0m\u001b[0m\n\u001b[0;32m-> 1106\u001b[0;31m     X = check_array(\n\u001b[0m\u001b[1;32m   1107\u001b[0m         \u001b[0mX\u001b[0m\u001b[0;34m,\u001b[0m\u001b[0;34m\u001b[0m\u001b[0;34m\u001b[0m\u001b[0m\n\u001b[1;32m   1108\u001b[0m         \u001b[0maccept_sparse\u001b[0m\u001b[0;34m=\u001b[0m\u001b[0maccept_sparse\u001b[0m\u001b[0;34m,\u001b[0m\u001b[0;34m\u001b[0m\u001b[0;34m\u001b[0m\u001b[0m\n",
            "\u001b[0;32m/usr/local/lib/python3.9/dist-packages/sklearn/utils/validation.py\u001b[0m in \u001b[0;36mcheck_array\u001b[0;34m(array, accept_sparse, accept_large_sparse, dtype, order, copy, force_all_finite, ensure_2d, allow_nd, ensure_min_samples, ensure_min_features, estimator, input_name)\u001b[0m\n\u001b[1;32m    929\u001b[0m         \u001b[0mn_samples\u001b[0m \u001b[0;34m=\u001b[0m \u001b[0m_num_samples\u001b[0m\u001b[0;34m(\u001b[0m\u001b[0marray\u001b[0m\u001b[0;34m)\u001b[0m\u001b[0;34m\u001b[0m\u001b[0;34m\u001b[0m\u001b[0m\n\u001b[1;32m    930\u001b[0m         \u001b[0;32mif\u001b[0m \u001b[0mn_samples\u001b[0m \u001b[0;34m<\u001b[0m \u001b[0mensure_min_samples\u001b[0m\u001b[0;34m:\u001b[0m\u001b[0;34m\u001b[0m\u001b[0;34m\u001b[0m\u001b[0m\n\u001b[0;32m--> 931\u001b[0;31m             raise ValueError(\n\u001b[0m\u001b[1;32m    932\u001b[0m                 \u001b[0;34m\"Found array with %d sample(s) (shape=%s) while a\"\u001b[0m\u001b[0;34m\u001b[0m\u001b[0;34m\u001b[0m\u001b[0m\n\u001b[1;32m    933\u001b[0m                 \u001b[0;34m\" minimum of %d is required%s.\"\u001b[0m\u001b[0;34m\u001b[0m\u001b[0;34m\u001b[0m\u001b[0m\n",
            "\u001b[0;31mValueError\u001b[0m: Found array with 0 sample(s) (shape=(0, 2)) while a minimum of 1 is required by KNeighborsClassifier."
          ]
        }
      ]
    },
    {
      "cell_type": "code",
      "source": [
        "# 샘플 몇 개 전달해 어떤 클러스터에 속할 가능성이 높은지 예측하고 각 클러스터에 대한 확률 추정\n",
        "X_new = np.array([[-0.5,0],[0,0.5],[1,-0.1],[2,1]])\n",
        "knn.predict(X_new)"
      ],
      "metadata": {
        "colab": {
          "base_uri": "https://localhost:8080/",
          "height": 368
        },
        "id": "-VrWpFVZs0b9",
        "outputId": "965d8e6e-df73-4fbe-8fc7-975215049968"
      },
      "execution_count": 43,
      "outputs": [
        {
          "output_type": "error",
          "ename": "NotFittedError",
          "evalue": "ignored",
          "traceback": [
            "\u001b[0;31m---------------------------------------------------------------------------\u001b[0m",
            "\u001b[0;31mNotFittedError\u001b[0m                            Traceback (most recent call last)",
            "\u001b[0;32m<ipython-input-43-2c1375be373f>\u001b[0m in \u001b[0;36m<cell line: 3>\u001b[0;34m()\u001b[0m\n\u001b[1;32m      1\u001b[0m \u001b[0;31m# 샘플 몇 개 전달해 어떤 클러스터에 속할 가능성이 높은지 예측하고 각 클러스터에 대한 확률 추정\u001b[0m\u001b[0;34m\u001b[0m\u001b[0;34m\u001b[0m\u001b[0m\n\u001b[1;32m      2\u001b[0m \u001b[0mX_new\u001b[0m \u001b[0;34m=\u001b[0m \u001b[0mnp\u001b[0m\u001b[0;34m.\u001b[0m\u001b[0marray\u001b[0m\u001b[0;34m(\u001b[0m\u001b[0;34m[\u001b[0m\u001b[0;34m[\u001b[0m\u001b[0;34m-\u001b[0m\u001b[0;36m0.5\u001b[0m\u001b[0;34m,\u001b[0m\u001b[0;36m0\u001b[0m\u001b[0;34m]\u001b[0m\u001b[0;34m,\u001b[0m\u001b[0;34m[\u001b[0m\u001b[0;36m0\u001b[0m\u001b[0;34m,\u001b[0m\u001b[0;36m0.5\u001b[0m\u001b[0;34m]\u001b[0m\u001b[0;34m,\u001b[0m\u001b[0;34m[\u001b[0m\u001b[0;36m1\u001b[0m\u001b[0;34m,\u001b[0m\u001b[0;34m-\u001b[0m\u001b[0;36m0.1\u001b[0m\u001b[0;34m]\u001b[0m\u001b[0;34m,\u001b[0m\u001b[0;34m[\u001b[0m\u001b[0;36m2\u001b[0m\u001b[0;34m,\u001b[0m\u001b[0;36m1\u001b[0m\u001b[0;34m]\u001b[0m\u001b[0;34m]\u001b[0m\u001b[0;34m)\u001b[0m\u001b[0;34m\u001b[0m\u001b[0;34m\u001b[0m\u001b[0m\n\u001b[0;32m----> 3\u001b[0;31m \u001b[0mknn\u001b[0m\u001b[0;34m.\u001b[0m\u001b[0mpredict\u001b[0m\u001b[0;34m(\u001b[0m\u001b[0mX_new\u001b[0m\u001b[0;34m)\u001b[0m\u001b[0;34m\u001b[0m\u001b[0;34m\u001b[0m\u001b[0m\n\u001b[0m",
            "\u001b[0;32m/usr/local/lib/python3.9/dist-packages/sklearn/neighbors/_classification.py\u001b[0m in \u001b[0;36mpredict\u001b[0;34m(self, X)\u001b[0m\n\u001b[1;32m    232\u001b[0m             \u001b[0;31m# In that case, we do not need the distances to perform\u001b[0m\u001b[0;34m\u001b[0m\u001b[0;34m\u001b[0m\u001b[0m\n\u001b[1;32m    233\u001b[0m             \u001b[0;31m# the weighting so we do not compute them.\u001b[0m\u001b[0;34m\u001b[0m\u001b[0;34m\u001b[0m\u001b[0m\n\u001b[0;32m--> 234\u001b[0;31m             \u001b[0mneigh_ind\u001b[0m \u001b[0;34m=\u001b[0m \u001b[0mself\u001b[0m\u001b[0;34m.\u001b[0m\u001b[0mkneighbors\u001b[0m\u001b[0;34m(\u001b[0m\u001b[0mX\u001b[0m\u001b[0;34m,\u001b[0m \u001b[0mreturn_distance\u001b[0m\u001b[0;34m=\u001b[0m\u001b[0;32mFalse\u001b[0m\u001b[0;34m)\u001b[0m\u001b[0;34m\u001b[0m\u001b[0;34m\u001b[0m\u001b[0m\n\u001b[0m\u001b[1;32m    235\u001b[0m             \u001b[0mneigh_dist\u001b[0m \u001b[0;34m=\u001b[0m \u001b[0;32mNone\u001b[0m\u001b[0;34m\u001b[0m\u001b[0;34m\u001b[0m\u001b[0m\n\u001b[1;32m    236\u001b[0m         \u001b[0;32melse\u001b[0m\u001b[0;34m:\u001b[0m\u001b[0;34m\u001b[0m\u001b[0;34m\u001b[0m\u001b[0m\n",
            "\u001b[0;32m/usr/local/lib/python3.9/dist-packages/sklearn/neighbors/_base.py\u001b[0m in \u001b[0;36mkneighbors\u001b[0;34m(self, X, n_neighbors, return_distance)\u001b[0m\n\u001b[1;32m    782\u001b[0m                [2]]...)\n\u001b[1;32m    783\u001b[0m         \"\"\"\n\u001b[0;32m--> 784\u001b[0;31m         \u001b[0mcheck_is_fitted\u001b[0m\u001b[0;34m(\u001b[0m\u001b[0mself\u001b[0m\u001b[0;34m)\u001b[0m\u001b[0;34m\u001b[0m\u001b[0;34m\u001b[0m\u001b[0m\n\u001b[0m\u001b[1;32m    785\u001b[0m \u001b[0;34m\u001b[0m\u001b[0m\n\u001b[1;32m    786\u001b[0m         \u001b[0;32mif\u001b[0m \u001b[0mn_neighbors\u001b[0m \u001b[0;32mis\u001b[0m \u001b[0;32mNone\u001b[0m\u001b[0;34m:\u001b[0m\u001b[0;34m\u001b[0m\u001b[0;34m\u001b[0m\u001b[0m\n",
            "\u001b[0;32m/usr/local/lib/python3.9/dist-packages/sklearn/utils/validation.py\u001b[0m in \u001b[0;36mcheck_is_fitted\u001b[0;34m(estimator, attributes, msg, all_or_any)\u001b[0m\n\u001b[1;32m   1388\u001b[0m \u001b[0;34m\u001b[0m\u001b[0m\n\u001b[1;32m   1389\u001b[0m     \u001b[0;32mif\u001b[0m \u001b[0;32mnot\u001b[0m \u001b[0mfitted\u001b[0m\u001b[0;34m:\u001b[0m\u001b[0;34m\u001b[0m\u001b[0;34m\u001b[0m\u001b[0m\n\u001b[0;32m-> 1390\u001b[0;31m         \u001b[0;32mraise\u001b[0m \u001b[0mNotFittedError\u001b[0m\u001b[0;34m(\u001b[0m\u001b[0mmsg\u001b[0m \u001b[0;34m%\u001b[0m \u001b[0;34m{\u001b[0m\u001b[0;34m\"name\"\u001b[0m\u001b[0;34m:\u001b[0m \u001b[0mtype\u001b[0m\u001b[0;34m(\u001b[0m\u001b[0mestimator\u001b[0m\u001b[0;34m)\u001b[0m\u001b[0;34m.\u001b[0m\u001b[0m__name__\u001b[0m\u001b[0;34m}\u001b[0m\u001b[0;34m)\u001b[0m\u001b[0;34m\u001b[0m\u001b[0;34m\u001b[0m\u001b[0m\n\u001b[0m\u001b[1;32m   1391\u001b[0m \u001b[0;34m\u001b[0m\u001b[0m\n\u001b[1;32m   1392\u001b[0m \u001b[0;34m\u001b[0m\u001b[0m\n",
            "\u001b[0;31mNotFittedError\u001b[0m: This KNeighborsClassifier instance is not fitted yet. Call 'fit' with appropriate arguments before using this estimator."
          ]
        }
      ]
    },
    {
      "cell_type": "code",
      "source": [
        "knn.predict_proba(X_new)"
      ],
      "metadata": {
        "id": "n9kMLEvYtCQw"
      },
      "execution_count": null,
      "outputs": []
    },
    {
      "cell_type": "markdown",
      "source": [
        "* 이 분류기를 핵심 샘플에서만 훈련했지만 모든 샘플에서 훈련할 수도 있다 또는 이상치를 제외할 수 있다. 선택은 최종 작업의 성능에 따라 결정\n",
        "\n",
        "* 훈련 세트에 이상치가 없기 때문에 클러스터가 멀리 떨어져 있더라도 분류기는 항상 클러스터 한 개 선택. 최대 거리 사용하면 두 클러스터에서 멀리 떨어진 샘플을 이상치로 간단히 분류 가능.\n",
        "\n",
        "* KNeighborsClassifier의 **kneighbors()** 메서드 사용 : 샘플 전달하면 훈련 세트에서 가장 가까운 k개 이웃의 거리와 인덱스 반환(열을 k개 가진 행렬 두 개 반환)"
      ],
      "metadata": {
        "id": "xliQxZZguNFk"
      }
    },
    {
      "cell_type": "code",
      "source": [
        "y_dist, y_pred_idx = knn.kneighbors(X_new, n_neighbors=1)\n",
        "y_pred = dbscan.labels_[dbscan.core_sample_indices_][y_pred_idx]\n",
        "y_pred[y_dist>0.2] = -1\n",
        "y_pred.ravel()"
      ],
      "metadata": {
        "id": "ul3U-zKWwk8t"
      },
      "execution_count": null,
      "outputs": []
    },
    {
      "cell_type": "markdown",
      "source": [
        "* DBSCAN은 매우 간단하지만 강력한 알고리즘\n",
        "  + 클러스터의 모양과 개수에 상관없이 감지할 수 있는 능력. \n",
        "  + 이상치에 안정적이고 하이퍼 파라미터가 두 개뿐(**eps**와 **min_samples**)\n",
        "  + 클러스터 간의 밀집도가 크게 다르면 모든 클러스터를 올바르게 잡아내는 것 불가능\n",
        "  + 계산 복잡도는 대략 O(mlogm)\n",
        "  + 사이킷런의 구현은 eps가 커지면 O(m^2)만큼 메모리 필요"
      ],
      "metadata": {
        "id": "AVzPpu3uxg3o"
      }
    },
    {
      "cell_type": "markdown",
      "source": [
        "### 9.1.7 다른 군집 알고리즘\n",
        "\n",
        "* **병합 군집**\n",
        "  + 클러스터 계층을 밑바닥부터 위로 쌓아 구성\n",
        "  + 반복마다 인접한 클러스터 쌍 연결\n",
        "  + 병합된 클러스터 쌍을 트리로 모두 그리면 클러스터의 이진 트리 얻을 수 있고, 이 트리의 리프는 개별 샘플\n",
        "  + 대규모 샘플과 클러스터에 잘 확장. 다양한 형태의 클러스터 감지 가능\n",
        "  + 특정 클러스터 개수를 선택하는 데 도움이 되는 유용한 클러스터 트리 만들 수 있다. 어떤 짝 거리와도 사용 가능. 대규모 샘플에도 잘 적용 가능\n",
        "  + 연결 행렬이 없으면 대규모 데이터셋으로 확장하기 어려워.\n",
        "\n",
        "* **BIRCH**\n",
        "  + 특정 개수가 너무 많지 않다면(20개 이하) 배치 k-평균보다 빠르고 비슷한 결과 만들어\n",
        "  + 훈련 과정에서 새로운 샘플을 클러스터에 빠르게 할당할 수 있는 정보 담은 트리 구조 만들어. 모든 샘플 저장x\n",
        "  + 제한된 메모리 사용해 대용량 데이터셋 다룰 수 있다\n",
        "\n",
        "* **평균-이동**\n",
        "  + 각 샘플을 중심으로 하는 원 그린다 -> 원마다 안에 포함된 모든 샘플의 평균 구한다 -> 원의 중심을 평균점으로 이동시킨다 -> 모든 원이 움직이지 않을 때까지 계속\n",
        "  + 지역의 최대 밀도를 찾을 때까지 높은 쪽으로 원을 이동시킨다\n",
        "  + 동일한 지역에 안착한 원에 있는 모든 샘플은 동일한 클러스터가 된다\n",
        "  + 모양이나 개수에 상관없이 클러스터를 찾을 수 있다. 하이퍼파라미터도 매우 적다(**bandwidth**). 국부적인 밀집도 추정에 의존.\n",
        "  + 클러스터 내부 밀집도가 불균형할 때 여러 개로 나누는 경향\n",
        "  + 계산 복잡도 O(m^2) -> 대규모 데이터셋에는 적합하지 x\n",
        "\n",
        "* **유사도 전파**\n",
        "  + 투표 방식 사용. 자신을 대표할 수 있는 비슷한 샘플에 투표.\n",
        "  + 크기가 다른 여러 개의 클러스터 감지 가능\n",
        "  + 계산 복잡도 O(m^2) -> 대규모 데이터셋에는 적합하지 x\n",
        "\n",
        "* **스펙트럼 군집**\n",
        "  + 샘플 사이의 유사도 행렬을 받아 저차원 임베딩 만든다 -> 저차원 공간에서 또 다른 군집 알고리즘 사용\n",
        "  + 복잡한 클러스터 구조를 감지하고 그래프 컷을 찾는 데 사용 가능\n",
        "  + 샘플 개수가 많으면 잘 적용되지 않고 클러스터의 크기가 매우 다르면 잘 동작하지 x"
      ],
      "metadata": {
        "id": "qzIhojppx8Uc"
      }
    },
    {
      "cell_type": "markdown",
      "source": [
        "## 9.2 가우시안 혼합"
      ],
      "metadata": {
        "id": "ffZ9zGwMWbnZ"
      }
    },
    {
      "cell_type": "markdown",
      "source": [
        "**가우시안 혼합 모델(GMM)** : 샘플이 파라미터가 알려지지 않은 여러 개의 혼합된 가우시안 분포에서 생성되었다고 가정하는 확률 모델\n",
        "\n",
        "* 하나의 가우시안 분포에서 생성된 모든 샘플은 하나의 클러스터 형성. 일반적으로 이 클러스터는 타원형.\n",
        "\n",
        "* **GaussianMixture** 클래스에 구현 -> 사전에 가우시안 분포의 개수 k 알아야해"
      ],
      "metadata": {
        "id": "9zQMKql5Wh40"
      }
    },
    {
      "cell_type": "markdown",
      "source": [
        "* 그래프 모형 -> 확률 변수 사이의 조건부 의존성의 구조"
      ],
      "metadata": {
        "id": "oiXV2SyeW7FX"
      }
    },
    {
      "cell_type": "markdown",
      "source": [
        "![KakaoTalk_20230331_141204803.jpg](data:image/jpeg;base64,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)"
      ],
      "metadata": {
        "id": "PU8GV16UXETS"
      }
    },
    {
      "cell_type": "markdown",
      "source": [
        "> * 원 : 확률 변수\n",
        "* 사각형 : 고정값(모델의 파라미터)\n",
        "* 큰 사각형 : 플레이트. 이 사각형 안의 내용이 여러 번 반복된다는 것\n",
        "* 각 플레이트 오른쪽 아래의 숫자 : 얼마나 플레이트 안의 내용이 반복되는지 표시\n",
        "* 각 변수 z(i) : 가중치를 갖는 범주형 분포에서 샘플링\n",
        "* 각 변수 x(i) : 해당하는 클러스터 z(i)로 정의된 평균과 공분산 행렬을 사용해 정규분포에서 샘플링\n",
        "* 실선 화살표 : 조건부 의존성 표현\n",
        "* z(i)에서 x(i)까지 구불구불한 화살표 : 스위치. z(i)의 값에 따라 샘플 x(i)가 다른 가우시안 분포에서 샘플링될 것\n",
        "* 색이 채워진 원 : 알려진 값이라는 의미. 관측변수 / 알려지지 않은 확률 변수 z(i)를 잠재 변수"
      ],
      "metadata": {
        "id": "ZPyOuqQUXHWa"
      }
    },
    {
      "cell_type": "code",
      "source": [
        "from sklearn.mixture import GaussianMixture\n",
        "\n",
        "gm = GaussianMixture(n_components=3, n_init=10)\n",
        "gm.fit(X)"
      ],
      "metadata": {
        "colab": {
          "base_uri": "https://localhost:8080/",
          "height": 74
        },
        "id": "xxh7ZTgHXFpL",
        "outputId": "41353ece-5d7e-470f-e406-ec7ed513b997"
      },
      "execution_count": 44,
      "outputs": [
        {
          "output_type": "execute_result",
          "data": {
            "text/plain": [
              "GaussianMixture(n_components=3, n_init=10)"
            ],
            "text/html": [
              "<style>#sk-container-id-7 {color: black;background-color: white;}#sk-container-id-7 pre{padding: 0;}#sk-container-id-7 div.sk-toggleable {background-color: white;}#sk-container-id-7 label.sk-toggleable__label {cursor: pointer;display: block;width: 100%;margin-bottom: 0;padding: 0.3em;box-sizing: border-box;text-align: center;}#sk-container-id-7 label.sk-toggleable__label-arrow:before {content: \"▸\";float: left;margin-right: 0.25em;color: #696969;}#sk-container-id-7 label.sk-toggleable__label-arrow:hover:before {color: black;}#sk-container-id-7 div.sk-estimator:hover label.sk-toggleable__label-arrow:before {color: black;}#sk-container-id-7 div.sk-toggleable__content {max-height: 0;max-width: 0;overflow: hidden;text-align: left;background-color: #f0f8ff;}#sk-container-id-7 div.sk-toggleable__content pre {margin: 0.2em;color: black;border-radius: 0.25em;background-color: #f0f8ff;}#sk-container-id-7 input.sk-toggleable__control:checked~div.sk-toggleable__content {max-height: 200px;max-width: 100%;overflow: auto;}#sk-container-id-7 input.sk-toggleable__control:checked~label.sk-toggleable__label-arrow:before {content: \"▾\";}#sk-container-id-7 div.sk-estimator input.sk-toggleable__control:checked~label.sk-toggleable__label {background-color: #d4ebff;}#sk-container-id-7 div.sk-label input.sk-toggleable__control:checked~label.sk-toggleable__label {background-color: #d4ebff;}#sk-container-id-7 input.sk-hidden--visually {border: 0;clip: rect(1px 1px 1px 1px);clip: rect(1px, 1px, 1px, 1px);height: 1px;margin: -1px;overflow: hidden;padding: 0;position: absolute;width: 1px;}#sk-container-id-7 div.sk-estimator {font-family: monospace;background-color: #f0f8ff;border: 1px dotted black;border-radius: 0.25em;box-sizing: border-box;margin-bottom: 0.5em;}#sk-container-id-7 div.sk-estimator:hover {background-color: #d4ebff;}#sk-container-id-7 div.sk-parallel-item::after {content: \"\";width: 100%;border-bottom: 1px solid gray;flex-grow: 1;}#sk-container-id-7 div.sk-label:hover label.sk-toggleable__label {background-color: #d4ebff;}#sk-container-id-7 div.sk-serial::before {content: \"\";position: absolute;border-left: 1px solid gray;box-sizing: border-box;top: 0;bottom: 0;left: 50%;z-index: 0;}#sk-container-id-7 div.sk-serial {display: flex;flex-direction: column;align-items: center;background-color: white;padding-right: 0.2em;padding-left: 0.2em;position: relative;}#sk-container-id-7 div.sk-item {position: relative;z-index: 1;}#sk-container-id-7 div.sk-parallel {display: flex;align-items: stretch;justify-content: center;background-color: white;position: relative;}#sk-container-id-7 div.sk-item::before, #sk-container-id-7 div.sk-parallel-item::before {content: \"\";position: absolute;border-left: 1px solid gray;box-sizing: border-box;top: 0;bottom: 0;left: 50%;z-index: -1;}#sk-container-id-7 div.sk-parallel-item {display: flex;flex-direction: column;z-index: 1;position: relative;background-color: white;}#sk-container-id-7 div.sk-parallel-item:first-child::after {align-self: flex-end;width: 50%;}#sk-container-id-7 div.sk-parallel-item:last-child::after {align-self: flex-start;width: 50%;}#sk-container-id-7 div.sk-parallel-item:only-child::after {width: 0;}#sk-container-id-7 div.sk-dashed-wrapped {border: 1px dashed gray;margin: 0 0.4em 0.5em 0.4em;box-sizing: border-box;padding-bottom: 0.4em;background-color: white;}#sk-container-id-7 div.sk-label label {font-family: monospace;font-weight: bold;display: inline-block;line-height: 1.2em;}#sk-container-id-7 div.sk-label-container {text-align: center;}#sk-container-id-7 div.sk-container {/* jupyter's `normalize.less` sets `[hidden] { display: none; }` but bootstrap.min.css set `[hidden] { display: none !important; }` so we also need the `!important` here to be able to override the default hidden behavior on the sphinx rendered scikit-learn.org. See: https://github.com/scikit-learn/scikit-learn/issues/21755 */display: inline-block !important;position: relative;}#sk-container-id-7 div.sk-text-repr-fallback {display: none;}</style><div id=\"sk-container-id-7\" class=\"sk-top-container\"><div class=\"sk-text-repr-fallback\"><pre>GaussianMixture(n_components=3, n_init=10)</pre><b>In a Jupyter environment, please rerun this cell to show the HTML representation or trust the notebook. <br />On GitHub, the HTML representation is unable to render, please try loading this page with nbviewer.org.</b></div><div class=\"sk-container\" hidden><div class=\"sk-item\"><div class=\"sk-estimator sk-toggleable\"><input class=\"sk-toggleable__control sk-hidden--visually\" id=\"sk-estimator-id-12\" type=\"checkbox\" checked><label for=\"sk-estimator-id-12\" class=\"sk-toggleable__label sk-toggleable__label-arrow\">GaussianMixture</label><div class=\"sk-toggleable__content\"><pre>GaussianMixture(n_components=3, n_init=10)</pre></div></div></div></div></div>"
            ]
          },
          "metadata": {},
          "execution_count": 44
        }
      ]
    },
    {
      "cell_type": "code",
      "source": [
        "# 추정한 파라미터 확인\n",
        "gm.weights_"
      ],
      "metadata": {
        "colab": {
          "base_uri": "https://localhost:8080/"
        },
        "id": "Gf7vs4u84Nuz",
        "outputId": "35181aa0-5d50-43e2-edf8-834800f5e25e"
      },
      "execution_count": 45,
      "outputs": [
        {
          "output_type": "execute_result",
          "data": {
            "text/plain": [
              "array([0.2105107 , 0.19287996, 0.59660935])"
            ]
          },
          "metadata": {},
          "execution_count": 45
        }
      ]
    },
    {
      "cell_type": "code",
      "source": [
        "gm.means_"
      ],
      "metadata": {
        "colab": {
          "base_uri": "https://localhost:8080/"
        },
        "id": "HJX4JPbk4Qr5",
        "outputId": "c179a069-c076-4a73-f40d-1985f5ba41a5"
      },
      "execution_count": 46,
      "outputs": [
        {
          "output_type": "execute_result",
          "data": {
            "text/plain": [
              "array([[ 1.72498116, -0.05607776],\n",
              "       [-0.76259888,  0.5389122 ],\n",
              "       [ 0.46099306,  0.27463998]])"
            ]
          },
          "metadata": {},
          "execution_count": 46
        }
      ]
    },
    {
      "cell_type": "code",
      "source": [
        "gm.covariances_"
      ],
      "metadata": {
        "colab": {
          "base_uri": "https://localhost:8080/"
        },
        "id": "wXaZapbA4Rxp",
        "outputId": "880dbaca-4753-4100-ad0d-3e190e20cfc8"
      },
      "execution_count": 47,
      "outputs": [
        {
          "output_type": "execute_result",
          "data": {
            "text/plain": [
              "array([[[ 0.06377353,  0.06684172],\n",
              "        [ 0.06684172,  0.09115502]],\n",
              "\n",
              "       [[ 0.04074395,  0.05141581],\n",
              "        [ 0.05141581,  0.08525001]],\n",
              "\n",
              "       [[ 0.16481399, -0.10294249],\n",
              "        [-0.10294249,  0.28895726]]])"
            ]
          },
          "metadata": {},
          "execution_count": 47
        }
      ]
    },
    {
      "cell_type": "markdown",
      "source": [
        "=> 잘 작동. 평균과 분산 행렬도 알고리즘이 찾은 것과 매우 비슷\n",
        "\n",
        "어떻게 한 것? **기댓값-최대화(EM) 알고리즘** 사용\n",
        "\n",
        "* 클러스터 파라미터를 랜덤하게 초기화하고 수렴할 때까지 두 단계 반복\n",
        "\n",
        "* 샘플을 클러스터에 할당(기댓값 단계) -> 클러스터 업데이트(최대화 단계)\n",
        "\n",
        "* EM을 클러스터 중심뿐만 아니라 크기, 모양, 방향과 클러스터의 상대적 가중치를 찾는 k-평균의 일반화라 생각\n",
        "\n",
        "* EM은 하드 클러스터 할당이 아니라 소프트 클러스터 할당 사용\n",
        "  + 최대화 단계에서 각 클러스터가 데이터셋에 있는 모든 샘플을 사용해 업데이트\n",
        "  + 클러스터에 속할 추정 확률로 샘플에 가중치 적용. 이 확률을 샘플에 대한 클러스터의 책임. 책임이 가장 많은 샘플에 크게 영향받아."
      ],
      "metadata": {
        "id": "EJo5AVe94Zd-"
      }
    },
    {
      "cell_type": "markdown",
      "source": [
        "* 알고리즘이 수렴했는지 여부 **converged_**, 반복 횟수 **n_iter_** 확인"
      ],
      "metadata": {
        "id": "YYRrU29a5NIT"
      }
    },
    {
      "cell_type": "code",
      "source": [
        "gm.converged_"
      ],
      "metadata": {
        "colab": {
          "base_uri": "https://localhost:8080/"
        },
        "id": "YRNOwZD75Sqq",
        "outputId": "2f936328-33bf-4728-878e-0aca7a38ac40"
      },
      "execution_count": 48,
      "outputs": [
        {
          "output_type": "execute_result",
          "data": {
            "text/plain": [
              "True"
            ]
          },
          "metadata": {},
          "execution_count": 48
        }
      ]
    },
    {
      "cell_type": "code",
      "source": [
        "gm.n_iter_"
      ],
      "metadata": {
        "colab": {
          "base_uri": "https://localhost:8080/"
        },
        "id": "qzOo0uNK5T24",
        "outputId": "8507cc59-713b-4bd1-9bd2-8872a4a610ff"
      },
      "execution_count": 49,
      "outputs": [
        {
          "output_type": "execute_result",
          "data": {
            "text/plain": [
              "18"
            ]
          },
          "metadata": {},
          "execution_count": 49
        }
      ]
    },
    {
      "cell_type": "markdown",
      "source": [
        "* 새로운 샘플을 가장 빗스한 클러스터에 손쉽게 할당 가능 (하드 군집) -> predict() 메서드 사용\n",
        "\n",
        "* 특정 클러스터에 속할 확률 예측 가능 (소프트 군집) -> predict_proba() 메서드 사용"
      ],
      "metadata": {
        "id": "kyzf-m7G5VIu"
      }
    },
    {
      "cell_type": "code",
      "source": [
        "# 하드 군집\n",
        "gm.predict(X)"
      ],
      "metadata": {
        "colab": {
          "base_uri": "https://localhost:8080/"
        },
        "id": "LgrPID215jDr",
        "outputId": "43949563-5450-44e7-d659-3a89b4e1a199"
      },
      "execution_count": 50,
      "outputs": [
        {
          "output_type": "execute_result",
          "data": {
            "text/plain": [
              "array([1, 2, 2, 2, 2, 2, 2, 2, 1, 0, 0, 0, 1, 2, 2, 1, 2, 2, 1, 0, 2, 2,\n",
              "       2, 2, 2, 0, 1, 0, 2, 1, 2, 2, 0, 2, 2, 1, 2, 2, 2, 2, 2, 1, 1, 0,\n",
              "       0, 2, 1, 0, 2, 1, 1, 0, 2, 0, 1, 0, 0, 2, 0, 2, 0, 2, 0, 0, 2, 2,\n",
              "       1, 2, 0, 2, 1, 2, 0, 2, 0, 2, 2, 2, 2, 1, 2, 2, 2, 2, 1, 2, 2, 2,\n",
              "       2, 0, 2, 1, 2, 1, 2, 2, 2, 2, 2, 2])"
            ]
          },
          "metadata": {},
          "execution_count": 50
        }
      ]
    },
    {
      "cell_type": "code",
      "source": [
        "# 소프트 군집\n",
        "gm.predict_proba(X)"
      ],
      "metadata": {
        "colab": {
          "base_uri": "https://localhost:8080/"
        },
        "id": "iWn8N0Kd5kXC",
        "outputId": "bbcae591-4b04-4572-8bea-596e15aa8c14"
      },
      "execution_count": 51,
      "outputs": [
        {
          "output_type": "execute_result",
          "data": {
            "text/plain": [
              "array([[2.55250520e-135, 9.85466699e-001, 1.45333011e-002],\n",
              "       [4.48426712e-079, 1.32830885e-011, 1.00000000e+000],\n",
              "       [9.95786685e-008, 1.33276764e-101, 9.99999900e-001],\n",
              "       [5.86797289e-026, 1.21019451e-057, 1.00000000e+000],\n",
              "       [9.89419775e-032, 3.51221602e-043, 1.00000000e+000],\n",
              "       [5.46388859e-059, 1.13743432e-022, 1.00000000e+000],\n",
              "       [2.82144859e-003, 1.86378566e-125, 9.97178551e-001],\n",
              "       [3.15671618e-090, 8.97300662e-007, 9.99999103e-001],\n",
              "       [5.08532716e-128, 9.97686212e-001, 2.31378792e-003],\n",
              "       [9.99473206e-001, 2.73055621e-203, 5.26794238e-004],\n",
              "       [9.98856311e-001, 1.00966683e-179, 1.14368882e-003],\n",
              "       [9.80184148e-001, 2.57156388e-175, 1.98158516e-002],\n",
              "       [4.12546094e-126, 9.98656967e-001, 1.34303253e-003],\n",
              "       [1.72787883e-004, 4.74563500e-117, 9.99827212e-001],\n",
              "       [6.39969481e-047, 1.82168255e-027, 1.00000000e+000],\n",
              "       [1.44052351e-140, 9.94784003e-001, 5.21599703e-003],\n",
              "       [2.93330089e-015, 9.24526266e-079, 1.00000000e+000],\n",
              "       [1.51450666e-001, 1.31037369e-142, 8.48549334e-001],\n",
              "       [1.30217269e-108, 9.99205176e-001, 7.94824207e-004],\n",
              "       [5.34942093e-001, 2.13826798e-150, 4.65057907e-001],\n",
              "       [2.26206801e-014, 8.12316991e-082, 1.00000000e+000],\n",
              "       [1.45190344e-041, 4.70960208e-032, 1.00000000e+000],\n",
              "       [2.96778441e-021, 2.26966787e-066, 1.00000000e+000],\n",
              "       [1.34669299e-007, 1.06062191e-100, 9.99999865e-001],\n",
              "       [5.92327188e-018, 3.68957859e-073, 1.00000000e+000],\n",
              "       [9.99914198e-001, 5.52076293e-188, 8.58023457e-005],\n",
              "       [2.83723063e-127, 8.85161496e-001, 1.14838504e-001],\n",
              "       [9.98246687e-001, 6.12392429e-191, 1.75331325e-003],\n",
              "       [2.28641666e-042, 9.37461454e-031, 1.00000000e+000],\n",
              "       [4.46248925e-118, 9.99294970e-001, 7.05030064e-004],\n",
              "       [2.13750655e-037, 5.37361640e-043, 1.00000000e+000],\n",
              "       [9.67374152e-084, 4.03874217e-010, 1.00000000e+000],\n",
              "       [9.90881086e-001, 1.26676880e-187, 9.11891402e-003],\n",
              "       [7.21682827e-012, 2.32447959e-084, 1.00000000e+000],\n",
              "       [8.60731520e-046, 4.09542201e-033, 1.00000000e+000],\n",
              "       [5.85339135e-124, 9.41119183e-001, 5.88808170e-002],\n",
              "       [6.20851841e-056, 7.17732411e-025, 1.00000000e+000],\n",
              "       [1.27830823e-035, 2.70101340e-038, 1.00000000e+000],\n",
              "       [2.44505750e-056, 1.21523904e-019, 1.00000000e+000],\n",
              "       [3.30113356e-025, 5.60014905e-053, 1.00000000e+000],\n",
              "       [1.28657482e-059, 4.21457175e-018, 1.00000000e+000],\n",
              "       [3.49739324e-129, 9.99839496e-001, 1.60503897e-004],\n",
              "       [8.76492601e-144, 9.77516641e-001, 2.24833586e-002],\n",
              "       [8.40567487e-001, 4.07326261e-163, 1.59432513e-001],\n",
              "       [9.89666020e-001, 8.36693978e-200, 1.03339804e-002],\n",
              "       [2.79252676e-067, 1.93650362e-014, 1.00000000e+000],\n",
              "       [6.23437832e-120, 9.99854438e-001, 1.45562488e-004],\n",
              "       [9.99910867e-001, 1.65725617e-192, 8.91326198e-005],\n",
              "       [4.12642430e-106, 7.33876316e-003, 9.92661237e-001],\n",
              "       [7.70168050e-135, 9.91402906e-001, 8.59709419e-003],\n",
              "       [2.47181823e-137, 9.99261284e-001, 7.38715625e-004],\n",
              "       [9.99352122e-001, 4.33594890e-166, 6.47877887e-004],\n",
              "       [8.36706266e-012, 2.71748359e-084, 1.00000000e+000],\n",
              "       [9.41070666e-001, 4.65159687e-192, 5.89293341e-002],\n",
              "       [1.32421387e-140, 9.83121259e-001, 1.68787410e-002],\n",
              "       [9.96668339e-001, 1.32111954e-202, 3.33166144e-003],\n",
              "       [9.99913631e-001, 1.52019819e-178, 8.63694377e-005],\n",
              "       [7.34756010e-051, 1.62537071e-029, 1.00000000e+000],\n",
              "       [9.74417063e-001, 2.84939433e-177, 2.55829371e-002],\n",
              "       [5.57216974e-021, 8.36892249e-061, 1.00000000e+000],\n",
              "       [9.99791322e-001, 1.69316190e-199, 2.08677817e-004],\n",
              "       [7.24645697e-105, 1.59347852e-003, 9.98406521e-001],\n",
              "       [9.08556360e-001, 2.34120775e-163, 9.14436403e-002],\n",
              "       [9.98068929e-001, 3.05199598e-200, 1.93107091e-003],\n",
              "       [4.00003493e-067, 6.68277468e-014, 1.00000000e+000],\n",
              "       [5.50936062e-014, 3.72835743e-082, 1.00000000e+000],\n",
              "       [2.12077337e-122, 9.24938212e-001, 7.50617880e-002],\n",
              "       [9.59155082e-012, 1.38419352e-084, 1.00000000e+000],\n",
              "       [5.77625737e-001, 3.48301456e-151, 4.22374263e-001],\n",
              "       [2.65504364e-062, 7.67894647e-016, 1.00000000e+000],\n",
              "       [2.22660963e-115, 9.99542704e-001, 4.57295983e-004],\n",
              "       [2.12226957e-110, 1.32902953e-001, 8.67097047e-001],\n",
              "       [9.99543966e-001, 7.70216227e-194, 4.56033750e-004],\n",
              "       [2.58077177e-016, 1.80498172e-071, 1.00000000e+000],\n",
              "       [9.99709851e-001, 1.59787675e-175, 2.90149286e-004],\n",
              "       [1.85064840e-018, 2.83845579e-071, 1.00000000e+000],\n",
              "       [7.22218074e-078, 3.83777712e-012, 1.00000000e+000],\n",
              "       [3.08061197e-069, 2.33502698e-016, 1.00000000e+000],\n",
              "       [2.59331120e-084, 3.81318564e-009, 9.99999996e-001],\n",
              "       [6.59574842e-118, 6.30121746e-001, 3.69878254e-001],\n",
              "       [1.77787901e-006, 4.75657095e-106, 9.99998222e-001],\n",
              "       [4.04322393e-002, 3.96219313e-136, 9.59567761e-001],\n",
              "       [1.61763257e-003, 7.68251064e-124, 9.98382367e-001],\n",
              "       [2.14835380e-108, 2.42941727e-002, 9.75705827e-001],\n",
              "       [3.56335707e-129, 9.99732809e-001, 2.67190528e-004],\n",
              "       [1.76118271e-038, 9.75515602e-041, 1.00000000e+000],\n",
              "       [8.71217001e-088, 1.16312994e-007, 9.99999884e-001],\n",
              "       [1.02314020e-006, 1.47161735e-104, 9.99998977e-001],\n",
              "       [1.87692770e-032, 1.46463487e-048, 1.00000000e+000],\n",
              "       [9.38123677e-001, 8.03671984e-165, 6.18763232e-002],\n",
              "       [9.96733020e-022, 1.06379286e-059, 1.00000000e+000],\n",
              "       [5.15996520e-117, 7.69320903e-001, 2.30679097e-001],\n",
              "       [4.02469003e-062, 6.91011274e-021, 1.00000000e+000],\n",
              "       [1.27093746e-129, 9.98119002e-001, 1.88099811e-003],\n",
              "       [1.19229629e-009, 8.91325057e-095, 9.99999999e-001],\n",
              "       [7.51838868e-028, 1.16346468e-048, 1.00000000e+000],\n",
              "       [2.75859942e-047, 1.86984441e-026, 1.00000000e+000],\n",
              "       [5.80237360e-025, 9.31232284e-060, 1.00000000e+000],\n",
              "       [1.85806320e-042, 2.98583025e-030, 1.00000000e+000],\n",
              "       [1.13342465e-038, 7.66611085e-041, 1.00000000e+000]])"
            ]
          },
          "metadata": {},
          "execution_count": 51
        }
      ]
    },
    {
      "cell_type": "markdown",
      "source": [
        "* 가우시안 혼합 모델은 생성 모델 -> 이 모델에서 새로운 샘플 만들 수 있다"
      ],
      "metadata": {
        "id": "IK4PMxhd5ttn"
      }
    },
    {
      "cell_type": "code",
      "source": [
        "X_new, y_new = gm.sample(6)\n",
        "X_new"
      ],
      "metadata": {
        "colab": {
          "base_uri": "https://localhost:8080/"
        },
        "id": "oBlYXIz95xTo",
        "outputId": "66815d74-218b-42ba-c702-9b4f8216876b"
      },
      "execution_count": 52,
      "outputs": [
        {
          "output_type": "execute_result",
          "data": {
            "text/plain": [
              "array([[ 1.70372084, -0.06547444],\n",
              "       [-0.62260722,  0.89447184],\n",
              "       [-0.25081538,  0.6645115 ],\n",
              "       [ 0.27909388,  0.561381  ],\n",
              "       [ 0.40669802, -0.1138634 ],\n",
              "       [ 0.27555884,  0.34951885]])"
            ]
          },
          "metadata": {},
          "execution_count": 52
        }
      ]
    },
    {
      "cell_type": "code",
      "source": [
        "y_new"
      ],
      "metadata": {
        "colab": {
          "base_uri": "https://localhost:8080/"
        },
        "id": "3lwWf2cL50Cg",
        "outputId": "80ffcd36-ea2e-4c19-d487-7a7550699e0b"
      },
      "execution_count": 53,
      "outputs": [
        {
          "output_type": "execute_result",
          "data": {
            "text/plain": [
              "array([0, 1, 2, 2, 2, 2])"
            ]
          },
          "metadata": {},
          "execution_count": 53
        }
      ]
    },
    {
      "cell_type": "markdown",
      "source": [
        "* 주어진 위치에서 모델의 밀도 추정 가능 **score_samples()** 사용\n",
        "  + 샘플이 주어지면 그 위치의 확률 밀도 함수(PDF)의 로그 예측. 점수가 높을수록 밀도 높아"
      ],
      "metadata": {
        "id": "5mQeex-i55FS"
      }
    },
    {
      "cell_type": "code",
      "source": [
        "gm.score_samples(X)"
      ],
      "metadata": {
        "colab": {
          "base_uri": "https://localhost:8080/"
        },
        "id": "_scbyarJ6Cou",
        "outputId": "a3f17dd0-dfde-443d-a47f-ddad3c9ab978"
      },
      "execution_count": 54,
      "outputs": [
        {
          "output_type": "execute_result",
          "data": {
            "text/plain": [
              "array([-0.41147943, -1.60161025, -1.57797369, -1.39759968, -1.52463394,\n",
              "       -1.43213824, -1.94117319, -1.6503041 ,  0.05970835, -0.93316665,\n",
              "       -0.24200551, -0.34725121,  0.00844616, -1.84451902, -1.23034884,\n",
              "       -0.9530503 , -1.49538104, -2.14057759, -2.49823844, -1.86127681,\n",
              "       -2.04357481, -1.37678281, -1.69865915, -1.57210106, -1.79844749,\n",
              "       -0.87942526, -1.05875373, -0.24763027, -1.63791884, -0.65205291,\n",
              "       -1.92788764, -1.82761879, -0.4046595 , -1.52872389, -1.30090103,\n",
              "       -0.71988637, -1.42737263, -1.493558  , -1.6150114 , -1.59340028,\n",
              "       -1.3796939 , -0.78496332, -1.43992171, -1.20159124, -1.18127771,\n",
              "       -1.26684324, -1.05989391, -0.75395541, -2.09561022, -0.28569165,\n",
              "       -0.99171155, -2.84710739, -1.66508012, -1.44875833, -0.94256699,\n",
              "       -1.09011289, -1.8693531 , -1.77281465, -0.45044252, -1.621299  ,\n",
              "       -0.73212742, -2.07282138, -0.94987693, -0.79847805, -1.48358636,\n",
              "       -1.61490887, -0.86503155, -1.61555588, -1.81165946, -1.74448269,\n",
              "       -1.18800045, -2.26800685, -0.38300998, -1.57566974, -1.34103475,\n",
              "       -1.35513839, -1.59144689, -1.49110688, -1.57594588, -1.8084807 ,\n",
              "       -1.58368288, -2.14290899, -1.98883171, -2.16983237, -0.51438516,\n",
              "       -1.34485837, -1.60209658, -1.78232456, -1.59153436, -0.79210475,\n",
              "       -1.43255054, -1.59146169, -1.5915005 ,  0.01663698, -1.61509655,\n",
              "       -1.60006047, -1.55859153, -1.66186343, -1.88314487, -1.50618967])"
            ]
          },
          "metadata": {},
          "execution_count": 54
        }
      ]
    },
    {
      "cell_type": "markdown",
      "source": [
        "=> 이 점수의 지숫값 계산하면 샘플의 위치에서 PDF 값 얻을 수 있다. \n",
        "\n",
        "이 값은 하나의 확률이 아니라 확률 밀도 -> 0에서 1까지 값이 아니라 어떤 양숫값도 될 수 있다 -> 샘플이 특정 지역 안에 속할 확률 예측하려면 그 지역에 대해 PDF 적분해야해"
      ],
      "metadata": {
        "id": "322zOO0R6Evt"
      }
    },
    {
      "cell_type": "markdown",
      "source": [
        "=> 실제 데이터는 가우시안 분포나 저차원이 아닌 경우 많아 + 특성이나 클러스터가 많거나 샘플이 적을 때는 EM이 최적의 솔루션으로 수렴하기 어려워\n",
        "\n",
        "-> \n",
        "* 알고리즘이 학습할 파라미터 개수 제한해야해 -> 클러스터의 모양과 방향의 범위 제한하는 것 -> 공분산 행렬에 제약 추가 **covariance_type** 매개변수\n",
        "  + \"spherical\" : 모든 클러스터가 원형\n",
        "  + \"diag\" : 크기에 상관없이 어떤 타원형도 가능\n",
        "  + \"tied\" : 모든 클러스터가 동일한 타원 모양, 크기, 방향 가져\n",
        "  + 기본값은 \"full\" : 제약x"
      ],
      "metadata": {
        "id": "NtrVoPK-6g9L"
      }
    },
    {
      "cell_type": "markdown",
      "source": [
        "### 9.2.1 가우시안 혼합을 사용한 이상치 탐지\n",
        "\n",
        "**이상치 탐지** : 보통과 많이 다른 샘플(이상치)을 감지하는 작업\n",
        "\n",
        "* 가우시안 혼합 모델을 이상치 탐지에 사용하는 방법 -> 밀도가 낮은 지역에 있는 모든 샘플을 이상치로 볼 수 있다 -> 밀도 임곗값 정해야해"
      ],
      "metadata": {
        "id": "J4E3LZFr7KNp"
      }
    },
    {
      "cell_type": "code",
      "source": [
        "# 4%를 밀도 임곗값으로 사용하여 이상치 구분\n",
        "densities=gm.score_samples(X)\n",
        "density_threshold=np.percentile(densities, 4)\n",
        "anomalies=X[densities < density_threshold]"
      ],
      "metadata": {
        "id": "qh4iGMc67fLb"
      },
      "execution_count": 55,
      "outputs": []
    },
    {
      "cell_type": "markdown",
      "source": [
        "* 비슷한 작업은 특이치 탐지\n",
        "  + 이상치로 오염되지 않은 '깨끗한' 데이터셋에서 훈련한다는 것이 이상치 탐지와 달라\n",
        "  + 이상치 탐지는 데이터셋을 정제하는 데 자주 사용"
      ],
      "metadata": {
        "id": "UNSPr1HK7pAC"
      }
    },
    {
      "cell_type": "markdown",
      "source": [
        "### 9.2.2 클러스터 개수 선택하기\n",
        "\n",
        "k-평균에서는 이너셔나 실루엣 점수를 사용해 적절한 클러스터 개수 선택\n",
        "\n",
        "-> 가우시안 혼합에서는 이런 지표 사용x => **BIC**나 **AIC**와 같은 이론적 정보 기준을 최소화하는 모델 찾아\n",
        "\n",
        "* BIC와 AIC는 모두 학습할 파라미터가 많은(클러스터가 많은) 모델에게 벌칙을 가하고 데이터에 잘 학습하는 모델에게 보상 더해\n",
        "* 종종 동일한 모델 선택. 둘의 선택이 다를 경우 BIC가 선택한 모델이 AIC가 선택한 모델보다 간단한 경향. 데이터에 아주 잘 맞지 않을 수 있다"
      ],
      "metadata": {
        "id": "oi9VbOkZ73V0"
      }
    },
    {
      "cell_type": "code",
      "source": [
        "gm.bic(X)"
      ],
      "metadata": {
        "colab": {
          "base_uri": "https://localhost:8080/"
        },
        "id": "TIIgHXuK8q-X",
        "outputId": "7bf563f2-c204-4166-8b64-df4c4f2b3404"
      },
      "execution_count": 56,
      "outputs": [
        {
          "output_type": "execute_result",
          "data": {
            "text/plain": [
              "350.6286515929288"
            ]
          },
          "metadata": {},
          "execution_count": 56
        }
      ]
    },
    {
      "cell_type": "code",
      "source": [
        "gm.aic(X)"
      ],
      "metadata": {
        "colab": {
          "base_uri": "https://localhost:8080/"
        },
        "id": "G96nXQZE8sQZ",
        "outputId": "0865a3b2-cc1c-4195-82cd-c8c665ec1518"
      },
      "execution_count": 57,
      "outputs": [
        {
          "output_type": "execute_result",
          "data": {
            "text/plain": [
              "306.34075843113123"
            ]
          },
          "metadata": {},
          "execution_count": 57
        }
      ]
    },
    {
      "cell_type": "markdown",
      "source": [
        "### 9.2.3 베이즈 가우시안 혼합 모델\n",
        "\n",
        "최적의 클러스터 개수를 수동으로 찾지 않고 불필요한 클러스터의 가중치를 0으로 만드는 **BayesianGaussianMixture** 클래스 사용 가능\n",
        "\n",
        "클러스터 개수 n_components를 최적의 클러스터 개수보다 크다고 믿을 만한 값으로 지정"
      ],
      "metadata": {
        "id": "AKb_Fpzt8xPC"
      }
    },
    {
      "cell_type": "code",
      "source": [
        "# 클러스터 개수를 10으로 설정하고 결과 확인\n",
        "from sklearn.mixture import BayesianGaussianMixture\n",
        "bgm=BayesianGaussianMixture(n_components=10, n_init=10)\n",
        "bgm.fit(X)\n",
        "np.round(bgm.weights_, 2)"
      ],
      "metadata": {
        "colab": {
          "base_uri": "https://localhost:8080/"
        },
        "id": "3oU5ZWOD9ABZ",
        "outputId": "1227244b-2dd0-4dea-ba1d-21948bd9c6c0"
      },
      "execution_count": 58,
      "outputs": [
        {
          "output_type": "execute_result",
          "data": {
            "text/plain": [
              "array([0.26, 0.41, 0.33, 0.  , 0.  , 0.  , 0.  , 0.  , 0.  , 0.  ])"
            ]
          },
          "metadata": {},
          "execution_count": 58
        }
      ]
    },
    {
      "cell_type": "markdown",
      "source": [
        "* 이 모델에서 클러스터 파라미터(가중치, 평균, 공분산 행렬 등)는 더는 고정된 모델 파라미터가 아니라 잠재 확률 변수로 취급"
      ],
      "metadata": {
        "id": "2d4h3xxJ9OGA"
      }
    },
    {
      "cell_type": "markdown",
      "source": [
        "### 9.2.4 이상치 탐지와 특이치 탐지를 위한 다른 알고리즘\n",
        "\n",
        "* PCA (inverse_transform() 메서드를 가진 다른 차원 축소 기법)\n",
        "* Fast-MCD\n",
        "  + 데이터셋을 정제할 때 사용. 보통 샘플(정상치)가 하나의 가우시안 분포에서 생성되었다고 가정\n",
        "* 아이솔레이션 포레스트\n",
        "  + 특히 고차원 데이터셋에서 이상치 감지를 위한 효율적인 알고리즘\n",
        "* LOF\n",
        "  + 주어진 샘플 주위의 밀도와 이웃 주위의 밀도 비교. 종종 k개의 최근접 이웃보다 더 격리돼\n",
        "* one-class SVM\n",
        "  + 특이치 탐지에 잘 맞아. 특히 고차원 데이터셋에 잘 작동. 대규모 데이터셋으로의 확장은 어려워."
      ],
      "metadata": {
        "id": "vpHHzrnh9diF"
      }
    }
  ]
}