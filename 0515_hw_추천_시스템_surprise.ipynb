{
  "nbformat": 4,
  "nbformat_minor": 0,
  "metadata": {
    "colab": {
      "provenance": [],
      "mount_file_id": "114dTn3cVL0keVec1S9BrkPL8Du0rvNfC",
      "authorship_tag": "ABX9TyMZ3vUBqKqs/y4UCSUM6GnW",
      "include_colab_link": true
    },
    "kernelspec": {
      "name": "python3",
      "display_name": "Python 3"
    },
    "language_info": {
      "name": "python"
    }
  },
  "cells": [
    {
      "cell_type": "markdown",
      "metadata": {
        "id": "view-in-github",
        "colab_type": "text"
      },
      "source": [
        "<a href=\"https://colab.research.google.com/github/anwishn/ESAA_OB_23-1/blob/main/0515_hw_%EC%B6%94%EC%B2%9C_%EC%8B%9C%EC%8A%A4%ED%85%9C_surprise.ipynb\" target=\"_parent\"><img src=\"https://colab.research.google.com/assets/colab-badge.svg\" alt=\"Open In Colab\"/></a>"
      ]
    },
    {
      "cell_type": "markdown",
      "source": [
        "파이썬 머신러닝 완벽 가이드 ch9. 8 pg.607-624"
      ],
      "metadata": {
        "id": "eeWrr8g5LnuE"
      }
    },
    {
      "cell_type": "markdown",
      "source": [
        "## 08. 파이썬 추천 시스템 패키지 - Surprise\n",
        "\n",
        "\n",
        "\n",
        "---\n",
        "\n"
      ],
      "metadata": {
        "id": "uyRjgWaLLv3Z"
      }
    },
    {
      "cell_type": "markdown",
      "source": [
        "### Surprise 패키지 소개\n",
        "\n",
        "\n",
        "**Surprise** : 파이썬 기반의 추천 시스템 구축을 위한 전용 패키지\n",
        "\n",
        "* 장점\n",
        "  + 다양한 추천 알고리즘 쉽게 적용해 추천 시스템 구축 가능\n",
        "  + Surprise의 핵심 API는 사이킷런의 핵심 API와 유사한 API명으로 작성"
      ],
      "metadata": {
        "id": "8_pMo71VL1ap"
      }
    },
    {
      "cell_type": "code",
      "execution_count": 1,
      "metadata": {
        "colab": {
          "base_uri": "https://localhost:8080/"
        },
        "id": "BZyChvshLgDr",
        "outputId": "f65a89a9-b1a2-49c0-9fb8-8ec71faf55a7"
      },
      "outputs": [
        {
          "output_type": "stream",
          "name": "stdout",
          "text": [
            "Looking in indexes: https://pypi.org/simple, https://us-python.pkg.dev/colab-wheels/public/simple/\n",
            "Collecting scikit-surprise\n",
            "  Downloading scikit-surprise-1.1.3.tar.gz (771 kB)\n",
            "\u001b[?25l     \u001b[90m━━━━━━━━━━━━━━━━━━━━━━━━━━━━━━━━━━━━━━━━\u001b[0m \u001b[32m0.0/772.0 kB\u001b[0m \u001b[31m?\u001b[0m eta \u001b[36m-:--:--\u001b[0m\r\u001b[2K     \u001b[91m━━━━━━━━━━━━━━━━━━━━━━━━━━━━━━━━━━━━━\u001b[0m\u001b[91m╸\u001b[0m \u001b[32m768.0/772.0 kB\u001b[0m \u001b[31m28.8 MB/s\u001b[0m eta \u001b[36m0:00:01\u001b[0m\r\u001b[2K     \u001b[90m━━━━━━━━━━━━━━━━━━━━━━━━━━━━━━━━━━━━━━\u001b[0m \u001b[32m772.0/772.0 kB\u001b[0m \u001b[31m19.3 MB/s\u001b[0m eta \u001b[36m0:00:00\u001b[0m\n",
            "\u001b[?25h  Preparing metadata (setup.py) ... \u001b[?25l\u001b[?25hdone\n",
            "Requirement already satisfied: joblib>=1.0.0 in /usr/local/lib/python3.10/dist-packages (from scikit-surprise) (1.2.0)\n",
            "Requirement already satisfied: numpy>=1.17.3 in /usr/local/lib/python3.10/dist-packages (from scikit-surprise) (1.22.4)\n",
            "Requirement already satisfied: scipy>=1.3.2 in /usr/local/lib/python3.10/dist-packages (from scikit-surprise) (1.10.1)\n",
            "Building wheels for collected packages: scikit-surprise\n",
            "  Building wheel for scikit-surprise (setup.py) ... \u001b[?25l\u001b[?25hdone\n",
            "  Created wheel for scikit-surprise: filename=scikit_surprise-1.1.3-cp310-cp310-linux_x86_64.whl size=3095455 sha256=d862ac5876d274a3aca84751de3c30d4874888d3e354384bdf53a45372bfc49f\n",
            "  Stored in directory: /root/.cache/pip/wheels/a5/ca/a8/4e28def53797fdc4363ca4af740db15a9c2f1595ebc51fb445\n",
            "Successfully built scikit-surprise\n",
            "Installing collected packages: scikit-surprise\n",
            "Successfully installed scikit-surprise-1.1.3\n"
          ]
        }
      ],
      "source": [
        "!pip install scikit-surprise"
      ]
    },
    {
      "cell_type": "markdown",
      "source": [
        "### Surprise를 이용한 추천 시스템 구축\n",
        "\n",
        "* 추천 데이터를 학습용과 테스트용 데이터 세트로 분리 -> SVD 행렬 분해를 통한 잠재 요인 협업 필터링 수행"
      ],
      "metadata": {
        "id": "AMKsiOB1M6ub"
      }
    },
    {
      "cell_type": "code",
      "source": [
        "from surprise import SVD\n",
        "from surprise import Dataset\n",
        "from surprise import accuracy\n",
        "from surprise.model_selection import train_test_split"
      ],
      "metadata": {
        "id": "WA55NCG0NF8g"
      },
      "execution_count": 2,
      "outputs": []
    },
    {
      "cell_type": "markdown",
      "source": [
        "* 데이터 로딩은 Dataset 클래스 이용해서만 가능\n",
        "* 주요 데이터가 로우 레벨 형태로 돼 있는 포맷의 데이터만 처리"
      ],
      "metadata": {
        "id": "ZvnvBxCHNVEs"
      }
    },
    {
      "cell_type": "code",
      "source": [
        "# Surprise는 무비렌즈 사이트에서 제공하는 과거 버전의 데이터 세트 가져오는 API 제공\n",
        "data = Dataset.load_builtin('ml-100k')\n",
        "# 수행 시마다 동일하게 데이터를 분할하기 위해 random_state 값 부여\n",
        "trainset, testset = train_test_split(data, test_size=0.25, random_state=0)"
      ],
      "metadata": {
        "colab": {
          "base_uri": "https://localhost:8080/"
        },
        "id": "av-UHQy2NU4Y",
        "outputId": "d7bfd704-738c-4f1a-ca78-3e6e9d563b4f"
      },
      "execution_count": 3,
      "outputs": [
        {
          "output_type": "stream",
          "name": "stdout",
          "text": [
            "Dataset ml-100k could not be found. Do you want to download it? [Y/n] Y\n",
            "Trying to download dataset from https://files.grouplens.org/datasets/movielens/ml-100k.zip...\n",
            "Done! Dataset ml-100k has been saved to /root/.surprise_data/ml-100k\n"
          ]
        }
      ]
    },
    {
      "cell_type": "markdown",
      "source": [
        "* Surprise에 사용자-아이템 평점 데이터를 적용할 때 주의해야 할 점\n",
        "\n",
        "-> Surprise는 자체적으로 로우 레벨의 데이터를 칼럼 레벨의 데이터로 변경하므로 원본인 로우 레벨의 사용자-아이템 평점 데이터를 데이터 세트로 적용해야 한다"
      ],
      "metadata": {
        "id": "jgk1MvkhN7yU"
      }
    },
    {
      "cell_type": "markdown",
      "source": [
        "* SVD로 잠재 요인 협업 필터링 수행"
      ],
      "metadata": {
        "id": "sfhFJP4MOLNB"
      }
    },
    {
      "cell_type": "code",
      "source": [
        "algo = SVD()\n",
        "algo.fit(trainset)"
      ],
      "metadata": {
        "colab": {
          "base_uri": "https://localhost:8080/"
        },
        "id": "2YIxv9lPNQ_e",
        "outputId": "7cffb6d1-37ad-411f-e679-1efb482f30b7"
      },
      "execution_count": 4,
      "outputs": [
        {
          "output_type": "execute_result",
          "data": {
            "text/plain": [
              "<surprise.prediction_algorithms.matrix_factorization.SVD at 0x7f74246c0220>"
            ]
          },
          "metadata": {},
          "execution_count": 4
        }
      ]
    },
    {
      "cell_type": "markdown",
      "source": [
        "* **test()** : 사용자-아이템 평점 데이터 세트 전체에 대해서 추천을 예측하는 메서드\n",
        "\n",
        "* **predict()** : 개별 사용자와 영화에 대한 추천 평점 반환"
      ],
      "metadata": {
        "id": "EoVKcZ8EOX0c"
      }
    },
    {
      "cell_type": "markdown",
      "source": [
        "#### test()"
      ],
      "metadata": {
        "id": "NT4i96AFSDFS"
      }
    },
    {
      "cell_type": "code",
      "source": [
        "# 테스트 데이터 세트 전체에 대해 추천 영화 평점 데이터를 생성한 뒤에 최초 5개만 추출\n",
        "predictions=algo.test(testset)\n",
        "print('predictions type :', type(predictions), 'size :', len(predictions))\n",
        "print('prediction 결과의 최초 5개 추출')\n",
        "predictions[:5]"
      ],
      "metadata": {
        "colab": {
          "base_uri": "https://localhost:8080/"
        },
        "id": "SJ-OgdY-QoXg",
        "outputId": "f2e6eed5-2e2c-4fb2-8ae2-4a7bf7ce002a"
      },
      "execution_count": 5,
      "outputs": [
        {
          "output_type": "stream",
          "name": "stdout",
          "text": [
            "predictions type : <class 'list'> size : 25000\n",
            "prediction 결과의 최초 5개 추출\n"
          ]
        },
        {
          "output_type": "execute_result",
          "data": {
            "text/plain": [
              "[Prediction(uid='120', iid='282', r_ui=4.0, est=3.6747556773991055, details={'was_impossible': False}),\n",
              " Prediction(uid='882', iid='291', r_ui=4.0, est=3.8133817033948514, details={'was_impossible': False}),\n",
              " Prediction(uid='535', iid='507', r_ui=5.0, est=4.032151656443451, details={'was_impossible': False}),\n",
              " Prediction(uid='697', iid='244', r_ui=5.0, est=3.5736194732416755, details={'was_impossible': False}),\n",
              " Prediction(uid='751', iid='385', r_ui=4.0, est=3.6968155508231475, details={'was_impossible': False})]"
            ]
          },
          "metadata": {},
          "execution_count": 5
        }
      ]
    },
    {
      "cell_type": "markdown",
      "source": [
        "=> Prediction 객체는 Surprise패키지에서 제공하는 데이터 타입. \n",
        "\n",
        "=> 개별 사용자 아이디(uid), 영화 아이디(iid)와 실제 평점(r_ui) 정보에 기반해 Surprise의 추천 예측 평점(est) 데이터를 튜플 형태로 가져.\n",
        "\n",
        "=> details 속성은 내부 처리 시 추천 예측을 할 수 없는 경우에 로그용으로 데이터를 남기는 데 사용. 'was_impossible'이 True면 예측값을 생성할 수 없는 데이터라는 의미\n",
        "\n",
        "=> 속성에 접근하려면 객체명.uid와 같은 형식으로 가능"
      ],
      "metadata": {
        "id": "ZbauzqGuRG51"
      }
    },
    {
      "cell_type": "code",
      "source": [
        "[ (pred.uid, pred.iid, pred.est) for pred in predictions[:3]]"
      ],
      "metadata": {
        "colab": {
          "base_uri": "https://localhost:8080/"
        },
        "id": "R43SOU5xRmrJ",
        "outputId": "b9f03dbe-b3f3-4eb5-908c-f0777ec69cf2"
      },
      "execution_count": 6,
      "outputs": [
        {
          "output_type": "execute_result",
          "data": {
            "text/plain": [
              "[('120', '282', 3.6747556773991055),\n",
              " ('882', '291', 3.8133817033948514),\n",
              " ('535', '507', 4.032151656443451)]"
            ]
          },
          "metadata": {},
          "execution_count": 6
        }
      ]
    },
    {
      "cell_type": "markdown",
      "source": [
        "#### predict()"
      ],
      "metadata": {
        "id": "e1XQCoJUSFlo"
      }
    },
    {
      "cell_type": "code",
      "source": [
        "# 인자로 개별 사용자 아이디, 아이템 아이디 입력하면 추천 예측 평점을 포함한 정보 반환\n",
        "# 사용자 아이디, 아이템 아이디는 문자열로 입력해야함.\n",
        "uid=str(196)\n",
        "iid=str(302)\n",
        "pred=algo.predict(uid, iid)\n",
        "print(pred)"
      ],
      "metadata": {
        "colab": {
          "base_uri": "https://localhost:8080/"
        },
        "id": "_IYq-ZVBR5pj",
        "outputId": "ad91a3cb-7762-4deb-f400-86ef5ceb2462"
      },
      "execution_count": 7,
      "outputs": [
        {
          "output_type": "stream",
          "name": "stdout",
          "text": [
            "user: 196        item: 302        r_ui = None   est = 4.05   {'was_impossible': False}\n"
          ]
        }
      ]
    },
    {
      "cell_type": "markdown",
      "source": [
        "* test()메서드는 입력 데이터 세트의 모든 사용자와 아이템 아이디에 대해서 predict()를 반복적으로 수행한 결과"
      ],
      "metadata": {
        "id": "9pfNytOjSX0I"
      }
    },
    {
      "cell_type": "code",
      "source": [
        "# 테스트 데이터 세트 이용해 추천 예측 평점과 실제 평점과의 차이 평가\n",
        "accuracy.rmse(predictions)"
      ],
      "metadata": {
        "colab": {
          "base_uri": "https://localhost:8080/"
        },
        "id": "X6kV-MV9SeGo",
        "outputId": "30d2cf3f-5793-45c9-8be0-ea6b52a2b330"
      },
      "execution_count": 8,
      "outputs": [
        {
          "output_type": "stream",
          "name": "stdout",
          "text": [
            "RMSE: 0.9478\n"
          ]
        },
        {
          "output_type": "execute_result",
          "data": {
            "text/plain": [
              "0.947777514977195"
            ]
          },
          "metadata": {},
          "execution_count": 8
        }
      ]
    },
    {
      "cell_type": "markdown",
      "source": [
        "### Surprise 주요 모듈 소개"
      ],
      "metadata": {
        "id": "EYYYzoJsSn48"
      }
    },
    {
      "cell_type": "markdown",
      "source": [
        "#### Dataset\n",
        "\n",
        "* Surprise는 데이터 세트의 칼럼 순서가 사용자 아이디, 아이템 아이디, 평점 순으로 된 것만 적용 가능\n",
        "\n",
        ">* Dataset.load_builtin(name='ml-100k') : 무비렌즈 아카이브 FTP 서버에서 무비렌즈 데이터 내려받기\n",
        ">* Dataset.load_from_file(file_path, reader) : OS 파일에서 데이터 로딩할 때 사용\n",
        ">* Dataset.load_from_df(df, reader) : 판다스의 DataFrame에서 데이터 로딩"
      ],
      "metadata": {
        "id": "XVOanJaISqmq"
      }
    },
    {
      "cell_type": "markdown",
      "source": [
        "#### OS 파일 데이터를 Surprise 데이터 세트로 로딩\n",
        "\n",
        "* **Dataset.load_from_file** API 이용해 지정된 디렉터리에 있는 사용자-아이템 평점 데이터 로딩\n",
        "  + 주의할 점 : 로딩되는 데이터 파일에 칼럼명을 가지는 헤더 문자열이 있어서는 안 된다\n",
        "  + to_csv() 함수를 이용해 칼럼 헤더 삭제"
      ],
      "metadata": {
        "id": "EpROrHEZWDMP"
      }
    },
    {
      "cell_type": "code",
      "source": [
        "import pandas as pd\n",
        "\n",
        "ratings=pd.read_csv('/content/drive/MyDrive/data/ml-latest-small/ratings.csv')\n",
        "# ratings_noh.csv 파일로 언로드 시 인덱스와 헤더를 모두 제거한 새로운 파일 생성.\n",
        "ratings.to_csv('/content/drive/MyDrive/data/ml-latest-small/ratings_noh.csv', index=False, header=False)"
      ],
      "metadata": {
        "id": "QDMLkPXNXEwt"
      },
      "execution_count": 9,
      "outputs": []
    },
    {
      "cell_type": "markdown",
      "source": [
        "* **Reader 클래스**를 이용해 데이터 파일의 파싱 포맷을 정의해야 한다\n",
        "  + 이 4개의 칼럼이 사용자 아이디, 아이템 아이디, 평점, 타임스탬프임을 로딩할 때 알려줘야 한다"
      ],
      "metadata": {
        "id": "1n2xFs8-dE_t"
      }
    },
    {
      "cell_type": "markdown",
      "source": [
        "* Reader 클래스의 생성자에 각 필드의 칼럼명과 칼럼 분리문자, 그리고 최소~최대 평점을 입력해 객체 생성 -> load_from_file()로 생성된 Reader 객체를 참조해 데이터 파일을 파싱하면서 로딩"
      ],
      "metadata": {
        "id": "MXqHHODVdcXJ"
      }
    },
    {
      "cell_type": "code",
      "source": [
        "from surprise import Reader\n",
        "\n",
        "reader = Reader(line_format = 'user item rating timestamp', sep=',', rating_scale=(0.5,5))\n",
        "data = Dataset.load_from_file('/content/drive/MyDrive/data/ml-latest-small/ratings_noh.csv', reader=reader)"
      ],
      "metadata": {
        "id": "_-KYVC7Pdnl-"
      },
      "execution_count": 10,
      "outputs": []
    },
    {
      "cell_type": "markdown",
      "source": [
        "* Reader 클래스의 주요 생성 파라미터\n",
        "  + line_format(string) : 칼럼을 순서대로 나열. 입력된 문자열을 공백으로 분리해 칼럼으로 인식\n",
        "  + sep(char) : 칼럼을 분리하는 분리자. 디폴트는 '\\t'. \n",
        "  + rating_scale(tuple, optional) : 평점 값의 최소~최대 평점 설정. 디폴트는 (1,5)."
      ],
      "metadata": {
        "id": "FYnlUYGAd8n9"
      }
    },
    {
      "cell_type": "markdown",
      "source": [
        "* SVD 행렬 분해 기법을 이용해 추천 예측\n",
        "  + 잠재 요인 크기 K값을 나타내는 파라미터 n_factors 설정"
      ],
      "metadata": {
        "id": "MHWBYGeAeTS-"
      }
    },
    {
      "cell_type": "code",
      "source": [
        "trainset, testset=train_test_split(data, test_size=0.25, random_state=0)\n",
        "\n",
        "#수행시마다 동일한 결과를 도출하기 위해 random_state 설정\n",
        "algo=SVD(n_factors=50, random_state=0)\n",
        "\n",
        "#학습 데이터 세트로 학습하고 테스트 데이터 세트로 평점 예측 후 rmse 평가\n",
        "algo.fit(trainset)\n",
        "predictions=algo.test(testset)\n",
        "accuracy.rmse(predictions)"
      ],
      "metadata": {
        "colab": {
          "base_uri": "https://localhost:8080/"
        },
        "id": "0VGH7hivebZq",
        "outputId": "28c7ef19-2548-480e-f3df-4c1a85029404"
      },
      "execution_count": 11,
      "outputs": [
        {
          "output_type": "stream",
          "name": "stdout",
          "text": [
            "RMSE: 0.8682\n"
          ]
        },
        {
          "output_type": "execute_result",
          "data": {
            "text/plain": [
              "0.8681952927143516"
            ]
          },
          "metadata": {},
          "execution_count": 11
        }
      ]
    },
    {
      "cell_type": "markdown",
      "source": [
        "#### 판다스 DataFrame에서 Surprise 데이터 세트로 로딩\n",
        "\n",
        "* **Dataset.load_from_df()** 이용\n",
        "* 주의할 점 : DataFrame 역시 사용자 아이디, 아이템 아이디, 평점 칼럼 순서 지켜야 한다"
      ],
      "metadata": {
        "id": "gB6ytYt4ensO"
      }
    },
    {
      "cell_type": "code",
      "source": [
        "import pandas as pd\n",
        "from surprise import Reader, Dataset\n",
        "\n",
        "ratings=pd.read_csv('/content/drive/MyDrive/data/ml-latest-small/ratings.csv')\n",
        "reader=Reader(rating_scale=(0.5, 5.0))\n",
        "\n",
        "# ratings DataFrame에서 칼럼은 사용자 아이디, 아이템 아이디, 평점 순서 지켜야 한다\n",
        "data=Dataset.load_from_df(ratings[['userId', 'movieId', 'rating']], reader)\n",
        "trainset, testset=train_test_split(data, test_size=0.25, random_state=0)\n",
        "\n",
        "algo=SVD(n_factors=50, random_state=0)\n",
        "algo.fit(trainset)\n",
        "predictions=algo.test(testset)\n",
        "accuracy.rmse(predictions)"
      ],
      "metadata": {
        "colab": {
          "base_uri": "https://localhost:8080/"
        },
        "id": "OXaBBY_2fAJI",
        "outputId": "e465a626-2b5d-4ac2-e998-ae7ce900c7aa"
      },
      "execution_count": 12,
      "outputs": [
        {
          "output_type": "stream",
          "name": "stdout",
          "text": [
            "RMSE: 0.8682\n"
          ]
        },
        {
          "output_type": "execute_result",
          "data": {
            "text/plain": [
              "0.8681952927143516"
            ]
          },
          "metadata": {},
          "execution_count": 12
        }
      ]
    },
    {
      "cell_type": "markdown",
      "source": [
        "### Surprise 추천 알고리즘 클래스\n",
        "\n",
        "1. SVD : 행렬 분해를 통하 잠재 요인 협업 필터링을 위한 SVD 알고리즘\n",
        "2. KNNBasic : 최근접 이웃 협업 필터링을 위한 KNN 알고리즘\n",
        "3. BaselineOnly : 사용자 Bias와 아이템 Bias를 감안한 SGD 베이스라인 알고리즘\n",
        "\n",
        "* Surprise SVD의 비용 함수는 사용자 베이스라인 편향성을 감안한 평점 예측에 Regularization 적용한 것\n",
        "* SVD 클래스의 입력 파라미터\n",
        "  + n_factors : 잠재 요인 K의 개수. 디폴트는 100. 커질수록 정확도가 높아질 수 있으나 과적합 문제 발생할 수도.\n",
        "  + n_epochs : SGD 수행 시 반복 횟수. 디폴트는 20.\n",
        "  + biased(bool) : 베이스라인 사용자 편향 적용 여부. 디폴트는 True\n",
        "\n",
        "\n",
        "* SVD++ 알고리즘 성적 좋지만, 상대적으로 시간 너무 오래 걸려 사용 어려울 것. SVD와 k-NN Baseline 성능 평가 수치 좋아 -> Baseline 결합한 경우 성능 평가 수치 대폭 향상\n",
        "  + Baseline : 각 개인이 평점을 부여하는 성향을 반영해 평점을 계산하는 방식"
      ],
      "metadata": {
        "id": "b4nD3p4ZfPhJ"
      }
    },
    {
      "cell_type": "markdown",
      "source": [
        "### 베이스라인 평점\n",
        "\n",
        "**베이스라인 평점** : 개인의 성향을 반영해 아이템 평가에 편향성 요소를 반영하여 평점을 부과하는 것\n",
        "\n",
        "* 보통 베이스라인 평점은 전체 평균 평점 + 사용자 편향 점수 + 아이템 편향 점수 공식으로 계산\n",
        "  + 전체 평균 평점 = 모든 사용자의 아이템에 대한 평점을 평균한 값\n",
        "  + 사용자 편향 점수 = 사용자별 아이템 평점 평균 값 - 전체 평균 평점\n",
        "  + 아이템 편향 점수 = 아이템별 평점 평균 값 - 전체 평균 평점"
      ],
      "metadata": {
        "id": "l0slQWiuhXeN"
      }
    },
    {
      "cell_type": "markdown",
      "source": [
        "### 교차 검증과 하이퍼 파라미터 튜닝\n",
        "\n",
        "* Surprise는 교차 검증과 하이퍼 파라미터 튜닝을 위해 **cross_validate()**와 **GridSearchCV** 클래스 제공"
      ],
      "metadata": {
        "id": "34L1w4rmh4MU"
      }
    },
    {
      "cell_type": "markdown",
      "source": [
        "* cross_validate() 이용해 데이터를 5개의 학습/검증 폴드 데이터 세트로 분리해 교차 검증 수행하고 RMSE, MAE로 성능 평가 진행\n",
        "  + 인자로 알고리즘 객체, 데이터, 성능 평가 방법(measures), 폴드 데이터 세트 개수(cv) 입력"
      ],
      "metadata": {
        "id": "76UYGFdmiPUY"
      }
    },
    {
      "cell_type": "code",
      "source": [
        "from surprise.model_selection import cross_validate\n",
        "\n",
        "#판다스 df에서 surprise 데이터 세트로 데이터 로딩\n",
        "ratings=pd.read_csv('/content/drive/MyDrive/data/ml-latest-small/ratings.csv')\n",
        "reader=Reader(rating_scale=(0.5, 5.0))\n",
        "data=Dataset.load_from_df(ratings[['userId', 'movieId', 'rating']], reader)\n",
        "\n",
        "algo=SVD(random_state=0)\n",
        "cross_validate(algo, data, measures=['RMSE', 'MAE'], cv=5, verbose=True)"
      ],
      "metadata": {
        "colab": {
          "base_uri": "https://localhost:8080/"
        },
        "id": "pGn85vsKigXw",
        "outputId": "50e1564b-926a-4777-b386-af14e101a5bc"
      },
      "execution_count": 13,
      "outputs": [
        {
          "output_type": "stream",
          "name": "stdout",
          "text": [
            "Evaluating RMSE, MAE of algorithm SVD on 5 split(s).\n",
            "\n",
            "                  Fold 1  Fold 2  Fold 3  Fold 4  Fold 5  Mean    Std     \n",
            "RMSE (testset)    0.8791  0.8747  0.8779  0.8677  0.8692  0.8737  0.0046  \n",
            "MAE (testset)     0.6751  0.6723  0.6728  0.6661  0.6719  0.6717  0.0030  \n",
            "Fit time          3.44    3.02    1.71    2.28    1.75    2.44    0.69    \n",
            "Test time         0.26    0.32    0.19    0.24    0.14    0.23    0.06    \n"
          ]
        },
        {
          "output_type": "execute_result",
          "data": {
            "text/plain": [
              "{'test_rmse': array([0.87906335, 0.87471539, 0.87794309, 0.86769324, 0.86916608]),\n",
              " 'test_mae': array([0.67512686, 0.67234518, 0.6727766 , 0.66613125, 0.67192819]),\n",
              " 'fit_time': (3.4356565475463867,\n",
              "  3.0190515518188477,\n",
              "  1.710524082183838,\n",
              "  2.279862642288208,\n",
              "  1.751800298690796),\n",
              " 'test_time': (0.26446986198425293,\n",
              "  0.3169710636138916,\n",
              "  0.18613457679748535,\n",
              "  0.24051189422607422,\n",
              "  0.13914251327514648)}"
            ]
          },
          "metadata": {},
          "execution_count": 13
        }
      ]
    },
    {
      "cell_type": "markdown",
      "source": [
        "=> 폴드별 성능 평가 수치와 전체 폴드의 평균 성능 평가 수치 함께 보여줘"
      ],
      "metadata": {
        "id": "fenJAwT0ivSl"
      }
    },
    {
      "cell_type": "markdown",
      "source": [
        "* GridSearchCV도 교차 검증을 통한 하이퍼 파라미터 최적화 수행\n",
        "  + SVD의 경우 주로 점진적 하강 방식의 반복횟수를 지정하는 **n_epochs**와 SVD의 잠재 요인 K의 크기를 지정하는 **n_factors** 튜닝"
      ],
      "metadata": {
        "id": "Vea1hJNWi1oR"
      }
    },
    {
      "cell_type": "code",
      "source": [
        "from surprise.model_selection import GridSearchCV\n",
        "\n",
        "#최적화할 파라미터를 딕셔너리 형태로 지정.\n",
        "param_grid={'n_epochs':[20, 40, 60],\n",
        "            'n_factors':[50, 100, 200]}\n",
        "\n",
        "#CV를 3개 폴드 세트로 지정, 성능 평가를 rmse, mse로 수행하도록 GridSearchcv 구성\n",
        "gs=GridSearchCV(SVD, param_grid, measures=['rmse', 'mae'], cv=3)\n",
        "gs.fit(data)\n",
        "\n",
        "#최고 RMSE evaluation 점수와 그때의 하이퍼 파라미터\n",
        "print(gs.best_score['rmse'])\n",
        "print(gs.best_params['rmse'])"
      ],
      "metadata": {
        "colab": {
          "base_uri": "https://localhost:8080/"
        },
        "id": "KMXbh4mkjFQI",
        "outputId": "cbf596fc-4f9b-4c22-f693-cad68a3e6cea"
      },
      "execution_count": 14,
      "outputs": [
        {
          "output_type": "stream",
          "name": "stdout",
          "text": [
            "0.8768700923773505\n",
            "{'n_epochs': 20, 'n_factors': 50}\n"
          ]
        }
      ]
    },
    {
      "cell_type": "markdown",
      "source": [
        "### Surprise를 이용한 개인화 영화 추천 시스템 구축\n",
        "\n",
        "Surprise 패키지로 학습된 추천 알고리즘을 기반으로 특정 사용자가 아직 평점을 매기지 않은 영화 중에서 개인 취향에 가장 적절한 영화 추천\n"
      ],
      "metadata": {
        "id": "10YAhIdLjLZZ"
      }
    },
    {
      "cell_type": "code",
      "source": [
        "# 다음 코드는 train_test_split()으로 분리되지 않는 데이터 세트에 fit()을 호출해 오류 발생\n",
        "\n",
        "#data=Dataset.load_from_df(ratings[['userId', 'movieId', 'rating']], reader)\n",
        "#algo=SVD(n_factors=50, random_state=0)\n",
        "#algo.fit(data)"
      ],
      "metadata": {
        "id": "NUmSqKUjlIXE"
      },
      "execution_count": 15,
      "outputs": []
    },
    {
      "cell_type": "markdown",
      "source": [
        "* 데이터 세트 전체를 학습 데이터로 사용하려면 **DatasetAutoFolds** 클래스 이용해 객체 생성 -> **build_full_trainset()** 메서드 호출"
      ],
      "metadata": {
        "id": "wQ_8p68MlR_-"
      }
    },
    {
      "cell_type": "code",
      "source": [
        "from surprise.dataset import DatasetAutoFolds\n",
        "\n",
        "reader=Reader(line_format='user item rating timestamp', sep=',', rating_scale=(0.5, 5))\n",
        "# DatasetAutoFolds 클래스를 ratings_noh.csv 파일 기반으로 생성\n",
        "data_folds=DatasetAutoFolds(ratings_file='/content/drive/MyDrive/data/ml-latest-small/ratings_noh.csv', reader=reader)\n",
        "\n",
        "# 전체 데이터를 학습 데이터로 생성\n",
        "trainset=data_folds.build_full_trainset()"
      ],
      "metadata": {
        "id": "ez_X6Oq2ldGz"
      },
      "execution_count": 16,
      "outputs": []
    },
    {
      "cell_type": "markdown",
      "source": [
        "* SVD 이용해 학습 수행"
      ],
      "metadata": {
        "id": "btjmvRgdmBm_"
      }
    },
    {
      "cell_type": "code",
      "source": [
        "algo = SVD(n_epochs=20, n_factors=50, random_state=0)\n",
        "algo.fit(trainset)"
      ],
      "metadata": {
        "colab": {
          "base_uri": "https://localhost:8080/"
        },
        "id": "5kkySg-Ol3dZ",
        "outputId": "c6281336-c6c6-4df7-c539-8fb32fd03685"
      },
      "execution_count": 17,
      "outputs": [
        {
          "output_type": "execute_result",
          "data": {
            "text/plain": [
              "<surprise.prediction_algorithms.matrix_factorization.SVD at 0x7f73fe476ec0>"
            ]
          },
          "metadata": {},
          "execution_count": 17
        }
      ]
    },
    {
      "cell_type": "markdown",
      "source": [
        "* userId 9가 아직 평점을 매기지 않은 영화를 movieId 42로 선정한 뒤 예측 평점 계산"
      ],
      "metadata": {
        "id": "RPxCS3SMmZLG"
      }
    },
    {
      "cell_type": "code",
      "source": [
        "# 영화에 대한 상세 속성 정보 DataFrame 로딩\n",
        "movies=pd.read_csv('/content/drive/MyDrive/data/ml-latest-small/movies.csv')\n",
        "\n",
        "# userId=9의 movieId 데이터를 추출해 movieId=42 데이터가 있는지 확인\n",
        "movieIds=ratings[ratings['userId']==9]['movieId']\n",
        "\n",
        "if movieIds[movieIds==42].count()==0:\n",
        "  print('사용자 아이디 9는 영화 아이디 42의 평점 없음')\n",
        "\n",
        "print(movies[movies['movieId']==42])"
      ],
      "metadata": {
        "colab": {
          "base_uri": "https://localhost:8080/"
        },
        "id": "bM8Mq8yxmSKr",
        "outputId": "6383d28c-bc9a-4ad2-eefe-7f348da1d85e"
      },
      "execution_count": 18,
      "outputs": [
        {
          "output_type": "stream",
          "name": "stdout",
          "text": [
            "사용자 아이디 9는 영화 아이디 42의 평점 없음\n",
            "    movieId                   title              genres\n",
            "38       42  Dead Presidents (1995)  Action|Crime|Drama\n"
          ]
        }
      ]
    },
    {
      "cell_type": "markdown",
      "source": [
        "* 추천 예상 평점은 predict() 메서드 이용\n",
        "  + 입력해주는 값은 모두 문자열 값이어야 한다"
      ],
      "metadata": {
        "id": "p_9YSQru9cjP"
      }
    },
    {
      "cell_type": "code",
      "source": [
        "uid=str(9)\n",
        "iid=str(42)\n",
        "\n",
        "pred=algo.predict(uid, iid, verbose=True)"
      ],
      "metadata": {
        "colab": {
          "base_uri": "https://localhost:8080/"
        },
        "id": "GOTcIcHv9oDz",
        "outputId": "d18a5798-6502-4e01-fcc9-13c08c6a9acb"
      },
      "execution_count": 19,
      "outputs": [
        {
          "output_type": "stream",
          "name": "stdout",
          "text": [
            "user: 9          item: 42         r_ui = None   est = 3.13   {'was_impossible': False}\n"
          ]
        }
      ]
    },
    {
      "cell_type": "markdown",
      "source": [
        "* 사용자가 평점을 매기지 않은 전체 영화를 추출한 뒤에 예측 평점 순으로 영화 추천"
      ],
      "metadata": {
        "id": "ga8VHBM99soR"
      }
    },
    {
      "cell_type": "code",
      "source": [
        "# 사용자가 아직 평점을 매기지 않은 영화 정보 반환\n",
        "def get_unseen_surprise(ratings, movies, userId):\n",
        "  #입력값으로 들어온 userId에 해당하는 사용자가 평점을 매긴 모든 영화를 리스트로 생성\n",
        "  seen_movies=ratings[ratings['userId']==userId]['movieId'].tolist()\n",
        "\n",
        "  #모든 영화의 movieId를 리스트로 생성\n",
        "  total_movies=movies['movieId'].tolist()\n",
        "\n",
        "  #모든 영화의 movieId 중 이미 평점을 매긴 영화의 movieId를 제외한 후 리스트로 생성\n",
        "  unseen_movies=[movie for movie in total_movies if movie not in seen_movies]\n",
        "  print('평점 매긴 영화 수:', len(seen_movies), '추천 대상 영화 수:', len(unseen_movies), '전체 영화 수:', len(total_movies))\n",
        "\n",
        "  return unseen_movies\n",
        "\n",
        "unseen_movies=get_unseen_surprise(ratings, movies, 9)"
      ],
      "metadata": {
        "colab": {
          "base_uri": "https://localhost:8080/"
        },
        "id": "QW4FQx5-91zS",
        "outputId": "b9a10bc4-b5e7-4144-8105-ef9a169a7679"
      },
      "execution_count": 20,
      "outputs": [
        {
          "output_type": "stream",
          "name": "stdout",
          "text": [
            "평점 매긴 영화 수: 46 추천 대상 영화 수: 9696 전체 영화 수: 9742\n"
          ]
        }
      ]
    },
    {
      "cell_type": "markdown",
      "source": [
        "* 학습된 추천 알고리즘 클래스의 SVD를 이용해 높은 예측 평점을 가진 순으로 영화 추천\n",
        "  + 함수 생성 - 인자로 학습이 완료된 추천 알고리즘 객체, 추천 대상 사용자 아이디, 추천 대상 영화의 리스트 객체, 추천 상위 N개 개수"
      ],
      "metadata": {
        "id": "3m5x9tdC-D5e"
      }
    },
    {
      "cell_type": "code",
      "source": [
        "def recomm_movie_by_surprise(algo, userId, unseen_movies, top_n=10):\n",
        "  #알고리즘 객체의 predict() 메서드를 평점이 없는 영화에 반복 수행한 후 결과를 list로 저장\n",
        "  predictions=[algo.predict(str(userId), str(movieId)) for movieId in unseen_movies]\n",
        "\n",
        "  #predictions list 객체는 surprise의 predictions 객체를 원소로 갖고 있다.\n",
        "  # [Prediction(uid='9', iid='1', est=3.69), Predictions(uid='9', iid='2', est=2.98),,,]\n",
        "\n",
        "  #이를 est 값으로 정렬하기 위해 아리애 sortkey_est 함수 정의\n",
        "  #sortdey_est 함수는 list 객체의 sort() 함수의 키 값으로 사용되어 정렬 수행\n",
        "  def sortkey_est(pred):\n",
        "    return pred.est\n",
        "\n",
        "  #sortkey_est() 반환값의 내림차순으로 정렬 수행하고 top_n개의 최상위 값 추출\n",
        "  predictions.sort(key=sortkey_est, reverse=True)\n",
        "  top_predictions=predictions[:top_n]\n",
        "\n",
        "  #top_n 으로 추출된 영화의 정보 추출. 영화 아이디, 추천 예상 평점, 제목 추출\n",
        "  top_movie_ids=[int(pred.iid) for pred in top_predictions]\n",
        "  top_movie_rating=[pred.est for pred in top_predictions]\n",
        "  top_movie_titles=movies[movies.movieId.isin(top_movie_ids)]['title']\n",
        "  top_movie_preds=[ (id, title, rating) for id, title, rating in zip(top_movie_ids, top_movie_titles, top_movie_rating)]\n",
        "\n",
        "  return top_movie_preds\n",
        "\n",
        "unseen_movies=get_unseen_surprise(ratings, movies, 9)\n",
        "top_movie_preds=recomm_movie_by_surprise(algo, 9, unseen_movies, top_n=10)\n",
        "\n",
        "print('### top-10 추천 영화 리스트 ###')\n",
        "for top_movie in top_movie_preds:\n",
        "  print(top_movie[1], ':', top_movie[2])"
      ],
      "metadata": {
        "colab": {
          "base_uri": "https://localhost:8080/"
        },
        "id": "KCZxK8Uq-YHI",
        "outputId": "d810df3d-cbda-42a5-c2b8-4c3819c618a2"
      },
      "execution_count": 21,
      "outputs": [
        {
          "output_type": "stream",
          "name": "stdout",
          "text": [
            "평점 매긴 영화 수: 46 추천 대상 영화 수: 9696 전체 영화 수: 9742\n",
            "### top-10 추천 영화 리스트 ###\n",
            "Usual Suspects, The (1995) : 4.306302135700814\n",
            "Star Wars: Episode IV - A New Hope (1977) : 4.281663842987387\n",
            "Pulp Fiction (1994) : 4.278152632122759\n",
            "Silence of the Lambs, The (1991) : 4.226073566460876\n",
            "Godfather, The (1972) : 4.1918097904381995\n",
            "Streetcar Named Desire, A (1951) : 4.154746591122657\n",
            "Star Wars: Episode V - The Empire Strikes Back (1980) : 4.122016128534504\n",
            "Star Wars: Episode VI - Return of the Jedi (1983) : 4.108009609093436\n",
            "Goodfellas (1990) : 4.083464936588478\n",
            "Glory (1989) : 4.07887165526957\n"
          ]
        }
      ]
    },
    {
      "cell_type": "markdown",
      "source": [
        "## 09. 정리\n",
        "\n",
        "\n",
        "---\n",
        "\n",
        "**추천 시스템** : 기업 애플리케이션에서 매우 중요한 위치 차지\n",
        "\n",
        "1. 콘텐츠 기반 필터링 : 아이템을 구성하는 여러 가지 콘텐츠 중 사용자가 좋아하는 콘텐츠를 필터링하여 이에 맞는 아이템을 추천하는 방식\n",
        "\n",
        "2. 협업 필터링\n",
        "  * 최근접 이웃 협업 필터링 - 사용자 기반(사용자-사용자)과 아이템 기반(아이템-아이템)\n",
        "  * 잠재 요인 협업 필터링\n",
        "\n",
        "* Surprise : 파이썬의 추천 시스템 패키지"
      ],
      "metadata": {
        "id": "w9xKblPY-fR7"
      }
    }
  ]
}